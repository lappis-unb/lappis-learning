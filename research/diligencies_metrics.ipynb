{
 "cells": [
  {
   "cell_type": "code",
   "execution_count": 1,
   "metadata": {},
   "outputs": [
    {
     "data": {
      "text/html": [
       "<div>\n",
       "<style scoped>\n",
       "    .dataframe tbody tr th:only-of-type {\n",
       "        vertical-align: middle;\n",
       "    }\n",
       "\n",
       "    .dataframe tbody tr th {\n",
       "        vertical-align: top;\n",
       "    }\n",
       "\n",
       "    .dataframe thead th {\n",
       "        text-align: right;\n",
       "    }\n",
       "</style>\n",
       "<table border=\"1\" class=\"dataframe\">\n",
       "  <thead>\n",
       "    <tr style=\"text-align: right;\">\n",
       "      <th></th>\n",
       "      <th>idDiligencia</th>\n",
       "      <th>idPronac</th>\n",
       "      <th>idTipoDiligencia</th>\n",
       "      <th>DtSolicitacao</th>\n",
       "      <th>idSolicitante</th>\n",
       "      <th>DtResposta</th>\n",
       "      <th>idProponente</th>\n",
       "      <th>stEstado</th>\n",
       "      <th>idPlanoDistribuicao</th>\n",
       "      <th>idArquivo</th>\n",
       "      <th>idCodigoDocumentosExigidos</th>\n",
       "      <th>idProduto</th>\n",
       "      <th>stProrrogacao</th>\n",
       "      <th>stEnviado</th>\n",
       "    </tr>\n",
       "  </thead>\n",
       "  <tbody>\n",
       "    <tr>\n",
       "      <th>0</th>\n",
       "      <td>1</td>\n",
       "      <td>115502</td>\n",
       "      <td>124</td>\n",
       "      <td>2009-09-24 16:52:23</td>\n",
       "      <td>2851</td>\n",
       "      <td>2010-01-18 14:39:07</td>\n",
       "      <td>NaN</td>\n",
       "      <td>0</td>\n",
       "      <td>NaN</td>\n",
       "      <td>NaN</td>\n",
       "      <td>NaN</td>\n",
       "      <td>NaN</td>\n",
       "      <td>NaN</td>\n",
       "      <td>S</td>\n",
       "    </tr>\n",
       "    <tr>\n",
       "      <th>1</th>\n",
       "      <td>2</td>\n",
       "      <td>114250</td>\n",
       "      <td>124</td>\n",
       "      <td>2009-09-24 18:11:00</td>\n",
       "      <td>2825</td>\n",
       "      <td>2009-10-07 19:45:18</td>\n",
       "      <td>6010.0</td>\n",
       "      <td>0</td>\n",
       "      <td>NaN</td>\n",
       "      <td>NaN</td>\n",
       "      <td>NaN</td>\n",
       "      <td>NaN</td>\n",
       "      <td>NaN</td>\n",
       "      <td>S</td>\n",
       "    </tr>\n",
       "    <tr>\n",
       "      <th>2</th>\n",
       "      <td>3</td>\n",
       "      <td>115134</td>\n",
       "      <td>124</td>\n",
       "      <td>2009-09-24 18:13:00</td>\n",
       "      <td>2825</td>\n",
       "      <td>2009-10-07 16:10:21</td>\n",
       "      <td>9553.0</td>\n",
       "      <td>0</td>\n",
       "      <td>NaN</td>\n",
       "      <td>NaN</td>\n",
       "      <td>NaN</td>\n",
       "      <td>NaN</td>\n",
       "      <td>NaN</td>\n",
       "      <td>S</td>\n",
       "    </tr>\n",
       "    <tr>\n",
       "      <th>3</th>\n",
       "      <td>4</td>\n",
       "      <td>114399</td>\n",
       "      <td>124</td>\n",
       "      <td>2009-09-24 18:26:00</td>\n",
       "      <td>2845</td>\n",
       "      <td>2009-10-06 09:30:35</td>\n",
       "      <td>9521.0</td>\n",
       "      <td>1</td>\n",
       "      <td>NaN</td>\n",
       "      <td>NaN</td>\n",
       "      <td>NaN</td>\n",
       "      <td>NaN</td>\n",
       "      <td>NaN</td>\n",
       "      <td>S</td>\n",
       "    </tr>\n",
       "    <tr>\n",
       "      <th>4</th>\n",
       "      <td>5</td>\n",
       "      <td>115059</td>\n",
       "      <td>124</td>\n",
       "      <td>2009-09-24 18:35:00</td>\n",
       "      <td>2915</td>\n",
       "      <td>2009-10-02 18:01:47</td>\n",
       "      <td>11598.0</td>\n",
       "      <td>1</td>\n",
       "      <td>NaN</td>\n",
       "      <td>NaN</td>\n",
       "      <td>NaN</td>\n",
       "      <td>NaN</td>\n",
       "      <td>NaN</td>\n",
       "      <td>S</td>\n",
       "    </tr>\n",
       "  </tbody>\n",
       "</table>\n",
       "</div>"
      ],
      "text/plain": [
       "   idDiligencia  idPronac  idTipoDiligencia        DtSolicitacao  \\\n",
       "0             1    115502               124  2009-09-24 16:52:23   \n",
       "1             2    114250               124  2009-09-24 18:11:00   \n",
       "2             3    115134               124  2009-09-24 18:13:00   \n",
       "3             4    114399               124  2009-09-24 18:26:00   \n",
       "4             5    115059               124  2009-09-24 18:35:00   \n",
       "\n",
       "   idSolicitante           DtResposta  idProponente  stEstado  \\\n",
       "0           2851  2010-01-18 14:39:07           NaN         0   \n",
       "1           2825  2009-10-07 19:45:18        6010.0         0   \n",
       "2           2825  2009-10-07 16:10:21        9553.0         0   \n",
       "3           2845  2009-10-06 09:30:35        9521.0         1   \n",
       "4           2915  2009-10-02 18:01:47       11598.0         1   \n",
       "\n",
       "   idPlanoDistribuicao  idArquivo  idCodigoDocumentosExigidos  idProduto  \\\n",
       "0                  NaN        NaN                         NaN        NaN   \n",
       "1                  NaN        NaN                         NaN        NaN   \n",
       "2                  NaN        NaN                         NaN        NaN   \n",
       "3                  NaN        NaN                         NaN        NaN   \n",
       "4                  NaN        NaN                         NaN        NaN   \n",
       "\n",
       "  stProrrogacao stEnviado  \n",
       "0           NaN         S  \n",
       "1           NaN         S  \n",
       "2           NaN         S  \n",
       "3           NaN         S  \n",
       "4           NaN         S  "
      ]
     },
     "execution_count": 1,
     "metadata": {},
     "output_type": "execute_result"
    }
   ],
   "source": [
    "import pandas as pd\n",
    "from utils.dates import Dates\n",
    "\n",
    "data_folder = 'data/'\n",
    "itens_file_name = 'tbDiligencia.csv'\n",
    "\n",
    "itens_file_path = data_folder + itens_file_name\n",
    "\n",
    "cols = ['idDiligencia', 'idPronac', 'idTipoDiligencia', 'DtSolicitacao', 'idSolicitante', 'DtResposta',\n",
    "        'idProponente', 'stEstado', 'idPlanoDistribuicao', 'idArquivo', 'idCodigoDocumentosExigidos',\n",
    "        'idProduto', 'stProrrogacao', 'stEnviado']\n",
    "\n",
    "dt = pd.read_csv(itens_file_path, usecols = cols, low_memory=False)\n",
    "dt.head()"
   ]
  },
  {
   "cell_type": "markdown",
   "metadata": {},
   "source": [
    "**Números distintos de projetos com pelo menos uma diligência**"
   ]
  },
  {
   "cell_type": "code",
   "execution_count": 2,
   "metadata": {},
   "outputs": [
    {
     "name": "stdout",
     "output_type": "stream",
     "text": [
      "30559\n"
     ]
    }
   ],
   "source": [
    "projects_with_diligencies = len(dt['idPronac'].unique())\n",
    "print(projects_with_diligencies)"
   ]
  },
  {
   "cell_type": "markdown",
   "metadata": {},
   "source": [
    "**Número total de projetos no SALIC**"
   ]
  },
  {
   "cell_type": "code",
   "execution_count": 3,
   "metadata": {
    "scrolled": true
   },
   "outputs": [
    {
     "name": "stdout",
     "output_type": "stream",
     "text": [
      "210684\n"
     ]
    }
   ],
   "source": [
    "projetos_csv_name = 'Projetos.csv'\n",
    "projetos_csv = data_folder + projetos_csv_name\n",
    "date_column = 'DtProtocolo'\n",
    "dt_projetos = pd.read_csv(projetos_csv, usecols = ['IdPRONAC', date_column], low_memory=False)\n",
    "dt_projetos[date_column] = pd.to_datetime(dt_projetos[date_column], format = Dates.DATE_INPUT_FORMAT)\n",
    "dt_projetos.head()\n",
    "\n",
    "total_projects = len(dt_projetos['IdPRONAC'].unique())\n",
    "print(total_projects)"
   ]
  },
  {
   "cell_type": "markdown",
   "metadata": {},
   "source": [
    "**Projetos com pelo menos uma diligência Vs. total de projetos**"
   ]
  },
  {
   "cell_type": "code",
   "execution_count": 10,
   "metadata": {},
   "outputs": [
    {
     "data": {
      "image/png": "[encoded data removed]",
      "text/plain": [
       "<Figure size 432x288 with 1 Axes>"
      ]
     },
     "metadata": {},
     "output_type": "display_data"
    }
   ],
   "source": [
    "import matplotlib.pyplot as plt\n",
    "from utils.plotter import Plotter\n",
    "\n",
    "dd = {'With diligencies':projects_with_diligencies,\n",
    "      'Total projects': total_projects}\n",
    "plt.bar(dd.keys(), dd.values())\n",
    "plt.show()"
   ]
  },
  {
   "cell_type": "markdown",
   "metadata": {},
   "source": [
    "**Tipos distintos de diligência**"
   ]
  },
  {
   "cell_type": "code",
   "execution_count": 5,
   "metadata": {},
   "outputs": [
    {
     "data": {
      "text/plain": [
       "array([124, 126, 181, 183, 171, 563, 564, 172, 180, 179, 174, 627])"
      ]
     },
     "metadata": {},
     "output_type": "display_data"
    }
   ],
   "source": [
    "display(dt['idTipoDiligencia'].unique())"
   ]
  },
  {
   "cell_type": "code",
   "execution_count": null,
   "metadata": {},
   "outputs": [],
   "source": []
  }
 ],
 "metadata": {
  "kernelspec": {
   "display_name": "Python 3",
   "language": "python",
   "name": "python3"
  },
  "language_info": {
   "codemirror_mode": {
    "name": "ipython",
    "version": 3
   },
   "file_extension": ".py",
   "mimetype": "text/x-python",
   "name": "python",
   "nbconvert_exporter": "python",
   "pygments_lexer": "ipython3",
   "version": "3.6.4"
  }
 },
 "nbformat": 4,
 "nbformat_minor": 2
}
