{
 "cells": [
  {
   "cell_type": "code",
   "execution_count": 1,
   "metadata": {},
   "outputs": [
    {
     "data": {
      "text/html": [
       "<div>\n",
       "<style scoped>\n",
       "    .dataframe tbody tr th:only-of-type {\n",
       "        vertical-align: middle;\n",
       "    }\n",
       "\n",
       "    .dataframe tbody tr th {\n",
       "        vertical-align: top;\n",
       "    }\n",
       "\n",
       "    .dataframe thead th {\n",
       "        text-align: right;\n",
       "    }\n",
       "</style>\n",
       "<table border=\"1\" class=\"dataframe\">\n",
       "  <thead>\n",
       "    <tr style=\"text-align: right;\">\n",
       "      <th></th>\n",
       "      <th>Unnamed: 0</th>\n",
       "      <th>Item</th>\n",
       "      <th>ValorUnitarioAprovado</th>\n",
       "      <th>Data</th>\n",
       "      <th>idPRONAC</th>\n",
       "    </tr>\n",
       "  </thead>\n",
       "  <tbody>\n",
       "    <tr>\n",
       "      <th>0</th>\n",
       "      <td>1894129</td>\n",
       "      <td>Material de consumo</td>\n",
       "      <td>7000.00</td>\n",
       "      <td>2014-07-31 07:27:29</td>\n",
       "      <td>179966</td>\n",
       "    </tr>\n",
       "    <tr>\n",
       "      <th>1</th>\n",
       "      <td>2003098</td>\n",
       "      <td>Locação de teatro</td>\n",
       "      <td>465.39</td>\n",
       "      <td>2015-05-05 16:38:24</td>\n",
       "      <td>185736</td>\n",
       "    </tr>\n",
       "    <tr>\n",
       "      <th>2</th>\n",
       "      <td>925488</td>\n",
       "      <td>Banheiro químico</td>\n",
       "      <td>250.00</td>\n",
       "      <td>2012-03-16 00:00:00</td>\n",
       "      <td>143223</td>\n",
       "    </tr>\n",
       "    <tr>\n",
       "      <th>3</th>\n",
       "      <td>1326505</td>\n",
       "      <td>Técnico de som</td>\n",
       "      <td>3500.00</td>\n",
       "      <td>2013-01-07 00:00:00</td>\n",
       "      <td>155368</td>\n",
       "    </tr>\n",
       "    <tr>\n",
       "      <th>4</th>\n",
       "      <td>136947</td>\n",
       "      <td>Cartaz</td>\n",
       "      <td>300.00</td>\n",
       "      <td>2010-01-01 00:00:00</td>\n",
       "      <td>114412</td>\n",
       "    </tr>\n",
       "  </tbody>\n",
       "</table>\n",
       "</div>"
      ],
      "text/plain": [
       "   Unnamed: 0                 Item  ValorUnitarioAprovado  \\\n",
       "0     1894129  Material de consumo                7000.00   \n",
       "1     2003098    Locação de teatro                 465.39   \n",
       "2      925488     Banheiro químico                 250.00   \n",
       "3     1326505       Técnico de som                3500.00   \n",
       "4      136947               Cartaz                 300.00   \n",
       "\n",
       "                  Data  idPRONAC  \n",
       "0  2014-07-31 07:27:29    179966  \n",
       "1  2015-05-05 16:38:24    185736  \n",
       "2  2012-03-16 00:00:00    143223  \n",
       "3  2013-01-07 00:00:00    155368  \n",
       "4  2010-01-01 00:00:00    114412  "
      ]
     },
     "execution_count": 1,
     "metadata": {},
     "output_type": "execute_result"
    }
   ],
   "source": [
    "import pandas as pd\n",
    "\n",
    "data_folder = 'data/'\n",
    "itens_file_name = 'valor_unitario_aprovado_sample.csv'\n",
    "\n",
    "itens_file_path = data_folder + itens_file_name\n",
    "\n",
    "dt = pd.read_csv(itens_file_path)\n",
    "dt.head()"
   ]
  },
  {
   "cell_type": "markdown",
   "metadata": {},
   "source": [
    "### Cleaning data\n",
    "\n",
    "**Eliminating items with approved value equal to zero (0)**\n",
    "\n",
    "There are some items with approved value equal to zero (0), for example the item with index **154** in the above table. For now they have no use, so lets get rid of them."
   ]
  },
  {
   "cell_type": "code",
   "execution_count": 2,
   "metadata": {},
   "outputs": [
    {
     "data": {
      "text/html": [
       "<div>\n",
       "<style scoped>\n",
       "    .dataframe tbody tr th:only-of-type {\n",
       "        vertical-align: middle;\n",
       "    }\n",
       "\n",
       "    .dataframe tbody tr th {\n",
       "        vertical-align: top;\n",
       "    }\n",
       "\n",
       "    .dataframe thead th {\n",
       "        text-align: right;\n",
       "    }\n",
       "</style>\n",
       "<table border=\"1\" class=\"dataframe\">\n",
       "  <thead>\n",
       "    <tr style=\"text-align: right;\">\n",
       "      <th></th>\n",
       "      <th>Unnamed: 0</th>\n",
       "      <th>Item</th>\n",
       "      <th>ValorUnitarioAprovado</th>\n",
       "      <th>Data</th>\n",
       "      <th>idPRONAC</th>\n",
       "    </tr>\n",
       "  </thead>\n",
       "  <tbody>\n",
       "    <tr>\n",
       "      <th>0</th>\n",
       "      <td>1894129</td>\n",
       "      <td>Material de consumo</td>\n",
       "      <td>7000.00</td>\n",
       "      <td>2014-07-31 07:27:29</td>\n",
       "      <td>179966</td>\n",
       "    </tr>\n",
       "    <tr>\n",
       "      <th>1</th>\n",
       "      <td>2003098</td>\n",
       "      <td>Locação de teatro</td>\n",
       "      <td>465.39</td>\n",
       "      <td>2015-05-05 16:38:24</td>\n",
       "      <td>185736</td>\n",
       "    </tr>\n",
       "    <tr>\n",
       "      <th>2</th>\n",
       "      <td>925488</td>\n",
       "      <td>Banheiro químico</td>\n",
       "      <td>250.00</td>\n",
       "      <td>2012-03-16 00:00:00</td>\n",
       "      <td>143223</td>\n",
       "    </tr>\n",
       "    <tr>\n",
       "      <th>3</th>\n",
       "      <td>1326505</td>\n",
       "      <td>Técnico de som</td>\n",
       "      <td>3500.00</td>\n",
       "      <td>2013-01-07 00:00:00</td>\n",
       "      <td>155368</td>\n",
       "    </tr>\n",
       "    <tr>\n",
       "      <th>4</th>\n",
       "      <td>136947</td>\n",
       "      <td>Cartaz</td>\n",
       "      <td>300.00</td>\n",
       "      <td>2010-01-01 00:00:00</td>\n",
       "      <td>114412</td>\n",
       "    </tr>\n",
       "  </tbody>\n",
       "</table>\n",
       "</div>"
      ],
      "text/plain": [
       "   Unnamed: 0                 Item  ValorUnitarioAprovado  \\\n",
       "0     1894129  Material de consumo                7000.00   \n",
       "1     2003098    Locação de teatro                 465.39   \n",
       "2      925488     Banheiro químico                 250.00   \n",
       "3     1326505       Técnico de som                3500.00   \n",
       "4      136947               Cartaz                 300.00   \n",
       "\n",
       "                  Data  idPRONAC  \n",
       "0  2014-07-31 07:27:29    179966  \n",
       "1  2015-05-05 16:38:24    185736  \n",
       "2  2012-03-16 00:00:00    143223  \n",
       "3  2013-01-07 00:00:00    155368  \n",
       "4  2010-01-01 00:00:00    114412  "
      ]
     },
     "execution_count": 2,
     "metadata": {},
     "output_type": "execute_result"
    }
   ],
   "source": [
    "dt = dt[dt.ValorUnitarioAprovado != 0.0]\n",
    "dt.head()"
   ]
  },
  {
   "cell_type": "markdown",
   "metadata": {},
   "source": [
    "### Number of distinct items"
   ]
  },
  {
   "cell_type": "code",
   "execution_count": 3,
   "metadata": {
    "scrolled": true
   },
   "outputs": [
    {
     "name": "stdout",
     "output_type": "stream",
     "text": [
      "1083\n"
     ]
    }
   ],
   "source": [
    "print(len(dt['Item'].unique()))"
   ]
  },
  {
   "cell_type": "markdown",
   "metadata": {},
   "source": [
    "**Lots of distinct items**\n",
    "\n",
    "There **1106** distinct items in that sample. It will be hard to plot them one by one, so it's a good idea to plot some sample of those items (the most frequent ones, for example)."
   ]
  },
  {
   "cell_type": "markdown",
   "metadata": {},
   "source": [
    "**Getting the most frequent items**"
   ]
  },
  {
   "cell_type": "code",
   "execution_count": 4,
   "metadata": {
    "scrolled": false
   },
   "outputs": [
    {
     "name": "stdout",
     "output_type": "stream",
     "text": [
      "Index(['Transporte Local / Locação de Automóvel / Combustível',\n",
      "       'Passagens Aéreas (Descrever os trechos na tela de deslocamentos)',\n",
      "       'Assessor de imprensa', 'Refeição', 'Assistente de produção',\n",
      "       'Produtor Executivo', 'Contador', 'Hospedagem sem Alimentação',\n",
      "       'Cartaz',\n",
      "       'Banner/faixa adesiva/faixa de lona/saia de palco/testeira/pórtico\\r\\n'],\n",
      "      dtype='object')\n"
     ]
    },
    {
     "data": {
      "text/plain": [
       "Transporte Local / Locação de Automóvel / Combustível                    331\n",
       "Passagens Aéreas (Descrever os trechos na tela de deslocamentos)         318\n",
       "Assessor de imprensa                                                     308\n",
       "Refeição                                                                 308\n",
       "Assistente de produção                                                   283\n",
       "Produtor Executivo                                                       267\n",
       "Contador                                                                 249\n",
       "Hospedagem sem Alimentação                                               240\n",
       "Cartaz                                                                   225\n",
       "Banner/faixa adesiva/faixa de lona/saia de palco/testeira/pórtico\\r\\n    220\n",
       "Name: Item, dtype: int64"
      ]
     },
     "metadata": {},
     "output_type": "display_data"
    }
   ],
   "source": [
    "top_frequent = dt['Item'].value_counts().head(10)\n",
    "print(top_frequent.index)\n",
    "display(top_frequent)"
   ]
  },
  {
   "cell_type": "code",
   "execution_count": 5,
   "metadata": {},
   "outputs": [
    {
     "data": {
      "text/plain": [
       "(array(['2014-07-31 07:27:29', '2015-05-05 16:38:24',\n",
       "        '2012-03-16 00:00:00', ..., '2012-02-27 00:00:00',\n",
       "        '2012-05-17 00:00:00', '2013-09-20 00:00:00'], dtype=object),\n",
       " array([7000.  ,  465.39,  250.  , ..., 1000.  ,  100.  , 1500.  ]))"
      ]
     },
     "execution_count": 5,
     "metadata": {},
     "output_type": "execute_result"
    }
   ],
   "source": [
    "from utils.dates import Dates\n",
    "\n",
    "date_column = 'Data'\n",
    "price_column = 'ValorUnitarioAprovado'\n",
    "\n",
    "Dates.get_xy(dt, date_column, price_column)"
   ]
  },
  {
   "cell_type": "code",
   "execution_count": 7,
   "metadata": {
    "scrolled": true
   },
   "outputs": [
    {
     "name": "stdout",
     "output_type": "stream",
     "text": [
      "Transporte Local / Locação de Automóvel / Combustível\n"
     ]
    },
    {
     "data": {
      "text/plain": [
       "array([735445.31075231, 735723.69333333, 734578.        , ...,\n",
       "       734560.        , 734640.        , 735131.        ])"
      ]
     },
     "metadata": {},
     "output_type": "display_data"
    },
    {
     "data": {
      "text/plain": [
       "0          7000.00\n",
       "1           465.39\n",
       "2           250.00\n",
       "3          3500.00\n",
       "4           300.00\n",
       "5          2000.00\n",
       "6          5000.00\n",
       "7           600.00\n",
       "8          3000.00\n",
       "9             1.50\n",
       "10         3000.00\n",
       "11       100000.00\n",
       "12        11800.00\n",
       "15          834.00\n",
       "16         1000.00\n",
       "17         7500.00\n",
       "18         1500.00\n",
       "19          800.00\n",
       "20         6000.00\n",
       "22          600.00\n",
       "23         1191.37\n",
       "24          250.00\n",
       "25        15000.00\n",
       "26          300.00\n",
       "27         2500.00\n",
       "28          250.00\n",
       "29         5000.00\n",
       "30         1500.00\n",
       "31         9100.00\n",
       "32         1100.00\n",
       "           ...    \n",
       "17969         1.00\n",
       "17970      8000.00\n",
       "17971      2000.00\n",
       "17972      1750.00\n",
       "17973     10000.00\n",
       "17974       350.00\n",
       "17975       400.00\n",
       "17976      4200.00\n",
       "17977      8979.00\n",
       "17978       350.00\n",
       "17979       500.00\n",
       "17980         1.80\n",
       "17981      1800.00\n",
       "17982     10840.83\n",
       "17983       500.00\n",
       "17984      3500.00\n",
       "17985        15.00\n",
       "17986      3000.00\n",
       "17987         0.10\n",
       "17988     80000.00\n",
       "17989      3200.00\n",
       "17990      9000.00\n",
       "17991      1067.26\n",
       "17992      4000.00\n",
       "17993      6000.00\n",
       "17994      6000.00\n",
       "17995      1000.00\n",
       "17997      1000.00\n",
       "17998       100.00\n",
       "17999      1500.00\n",
       "Name: ValorUnitarioAprovado, Length: 17059, dtype: float64"
      ]
     },
     "metadata": {},
     "output_type": "display_data"
    }
   ],
   "source": [
    "import matplotlib.pyplot as plt\n",
    "\n",
    "\n",
    "frequent_item = top_frequent.index[0]\n",
    "print(frequent_item)\n",
    "\n",
    "x, y = Dates.get_xy_dates(dt, date_column, price_column)"
   ]
  },
  {
   "cell_type": "code",
   "execution_count": null,
   "metadata": {},
   "outputs": [],
   "source": []
  }
 ],
 "metadata": {
  "kernelspec": {
   "display_name": "Python 3",
   "language": "python",
   "name": "python3"
  },
  "language_info": {
   "codemirror_mode": {
    "name": "ipython",
    "version": 3
   },
   "file_extension": ".py",
   "mimetype": "text/x-python",
   "name": "python",
   "nbconvert_exporter": "python",
   "pygments_lexer": "ipython3",
   "version": "3.6.4"
  }
 },
 "nbformat": 4,
 "nbformat_minor": 2
}
