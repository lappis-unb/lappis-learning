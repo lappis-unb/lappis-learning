{
 "cells": [
  {
   "cell_type": "code",
   "execution_count": 14,
   "metadata": {},
   "outputs": [
    {
     "data": {
      "text/html": [
       "<div>\n",
       "<style scoped>\n",
       "    .dataframe tbody tr th:only-of-type {\n",
       "        vertical-align: middle;\n",
       "    }\n",
       "\n",
       "    .dataframe tbody tr th {\n",
       "        vertical-align: top;\n",
       "    }\n",
       "\n",
       "    .dataframe thead th {\n",
       "        text-align: right;\n",
       "    }\n",
       "</style>\n",
       "<table border=\"1\" class=\"dataframe\">\n",
       "  <thead>\n",
       "    <tr style=\"text-align: right;\">\n",
       "      <th></th>\n",
       "      <th>Unnamed: 0</th>\n",
       "      <th>Item</th>\n",
       "      <th>ValorUnitarioAprovado</th>\n",
       "      <th>Data</th>\n",
       "      <th>idPRONAC</th>\n",
       "    </tr>\n",
       "  </thead>\n",
       "  <tbody>\n",
       "    <tr>\n",
       "      <th>0</th>\n",
       "      <td>1894129</td>\n",
       "      <td>Material de consumo</td>\n",
       "      <td>7000.00</td>\n",
       "      <td>2014-07-31 07:27:29</td>\n",
       "      <td>179966</td>\n",
       "    </tr>\n",
       "    <tr>\n",
       "      <th>1</th>\n",
       "      <td>2003098</td>\n",
       "      <td>Locação de teatro</td>\n",
       "      <td>465.39</td>\n",
       "      <td>2015-05-05 16:38:24</td>\n",
       "      <td>185736</td>\n",
       "    </tr>\n",
       "    <tr>\n",
       "      <th>2</th>\n",
       "      <td>925488</td>\n",
       "      <td>Banheiro químico</td>\n",
       "      <td>250.00</td>\n",
       "      <td>2012-03-16 00:00:00</td>\n",
       "      <td>143223</td>\n",
       "    </tr>\n",
       "    <tr>\n",
       "      <th>3</th>\n",
       "      <td>1326505</td>\n",
       "      <td>Técnico de som</td>\n",
       "      <td>3500.00</td>\n",
       "      <td>2013-01-07 00:00:00</td>\n",
       "      <td>155368</td>\n",
       "    </tr>\n",
       "    <tr>\n",
       "      <th>4</th>\n",
       "      <td>136947</td>\n",
       "      <td>Cartaz</td>\n",
       "      <td>300.00</td>\n",
       "      <td>2010-01-01 00:00:00</td>\n",
       "      <td>114412</td>\n",
       "    </tr>\n",
       "  </tbody>\n",
       "</table>\n",
       "</div>"
      ],
      "text/plain": [
       "   Unnamed: 0                 Item  ValorUnitarioAprovado  \\\n",
       "0     1894129  Material de consumo                7000.00   \n",
       "1     2003098    Locação de teatro                 465.39   \n",
       "2      925488     Banheiro químico                 250.00   \n",
       "3     1326505       Técnico de som                3500.00   \n",
       "4      136947               Cartaz                 300.00   \n",
       "\n",
       "                  Data  idPRONAC  \n",
       "0  2014-07-31 07:27:29    179966  \n",
       "1  2015-05-05 16:38:24    185736  \n",
       "2  2012-03-16 00:00:00    143223  \n",
       "3  2013-01-07 00:00:00    155368  \n",
       "4  2010-01-01 00:00:00    114412  "
      ]
     },
     "execution_count": 14,
     "metadata": {},
     "output_type": "execute_result"
    }
   ],
   "source": [
    "import pandas as pd\n",
    "\n",
    "data_folder = 'data/'\n",
    "itens_file_name = 'valor_unitario_aprovado_sample.csv'\n",
    "\n",
    "itens_file_path = data_folder + itens_file_name\n",
    "\n",
    "dt = pd.read_csv(itens_file_path)\n",
    "dt.head()"
   ]
  },
  {
   "cell_type": "markdown",
   "metadata": {},
   "source": [
    "### Cleaning data\n",
    "\n",
    "**Eliminating items with approved value equal to zero (0)**\n",
    "\n",
    "There are some items with approved value equal to zero (0), for example the item with index **154** in the above table. For now they have no use, so lets get rid of them."
   ]
  },
  {
   "cell_type": "code",
   "execution_count": 15,
   "metadata": {},
   "outputs": [
    {
     "data": {
      "text/html": [
       "<div>\n",
       "<style scoped>\n",
       "    .dataframe tbody tr th:only-of-type {\n",
       "        vertical-align: middle;\n",
       "    }\n",
       "\n",
       "    .dataframe tbody tr th {\n",
       "        vertical-align: top;\n",
       "    }\n",
       "\n",
       "    .dataframe thead th {\n",
       "        text-align: right;\n",
       "    }\n",
       "</style>\n",
       "<table border=\"1\" class=\"dataframe\">\n",
       "  <thead>\n",
       "    <tr style=\"text-align: right;\">\n",
       "      <th></th>\n",
       "      <th>Unnamed: 0</th>\n",
       "      <th>Item</th>\n",
       "      <th>ValorUnitarioAprovado</th>\n",
       "      <th>Data</th>\n",
       "      <th>idPRONAC</th>\n",
       "    </tr>\n",
       "  </thead>\n",
       "  <tbody>\n",
       "    <tr>\n",
       "      <th>0</th>\n",
       "      <td>1894129</td>\n",
       "      <td>Material de consumo</td>\n",
       "      <td>7000.00</td>\n",
       "      <td>2014-07-31 07:27:29</td>\n",
       "      <td>179966</td>\n",
       "    </tr>\n",
       "    <tr>\n",
       "      <th>1</th>\n",
       "      <td>2003098</td>\n",
       "      <td>Locação de teatro</td>\n",
       "      <td>465.39</td>\n",
       "      <td>2015-05-05 16:38:24</td>\n",
       "      <td>185736</td>\n",
       "    </tr>\n",
       "    <tr>\n",
       "      <th>2</th>\n",
       "      <td>925488</td>\n",
       "      <td>Banheiro químico</td>\n",
       "      <td>250.00</td>\n",
       "      <td>2012-03-16 00:00:00</td>\n",
       "      <td>143223</td>\n",
       "    </tr>\n",
       "    <tr>\n",
       "      <th>3</th>\n",
       "      <td>1326505</td>\n",
       "      <td>Técnico de som</td>\n",
       "      <td>3500.00</td>\n",
       "      <td>2013-01-07 00:00:00</td>\n",
       "      <td>155368</td>\n",
       "    </tr>\n",
       "    <tr>\n",
       "      <th>4</th>\n",
       "      <td>136947</td>\n",
       "      <td>Cartaz</td>\n",
       "      <td>300.00</td>\n",
       "      <td>2010-01-01 00:00:00</td>\n",
       "      <td>114412</td>\n",
       "    </tr>\n",
       "  </tbody>\n",
       "</table>\n",
       "</div>"
      ],
      "text/plain": [
       "   Unnamed: 0                 Item  ValorUnitarioAprovado  \\\n",
       "0     1894129  Material de consumo                7000.00   \n",
       "1     2003098    Locação de teatro                 465.39   \n",
       "2      925488     Banheiro químico                 250.00   \n",
       "3     1326505       Técnico de som                3500.00   \n",
       "4      136947               Cartaz                 300.00   \n",
       "\n",
       "                  Data  idPRONAC  \n",
       "0  2014-07-31 07:27:29    179966  \n",
       "1  2015-05-05 16:38:24    185736  \n",
       "2  2012-03-16 00:00:00    143223  \n",
       "3  2013-01-07 00:00:00    155368  \n",
       "4  2010-01-01 00:00:00    114412  "
      ]
     },
     "execution_count": 15,
     "metadata": {},
     "output_type": "execute_result"
    }
   ],
   "source": [
    "dt[dt.ValorUnitarioAprovado != 0.0]\n",
    "dt.head()"
   ]
  },
  {
   "cell_type": "markdown",
   "metadata": {},
   "source": [
    "### Number of distinct items"
   ]
  },
  {
   "cell_type": "code",
   "execution_count": 16,
   "metadata": {
    "scrolled": true
   },
   "outputs": [
    {
     "name": "stdout",
     "output_type": "stream",
     "text": [
      "1106\n"
     ]
    }
   ],
   "source": [
    "print(len(dt['Item'].unique()))"
   ]
  },
  {
   "cell_type": "markdown",
   "metadata": {},
   "source": [
    "**Lots of distinct items**\n",
    "\n",
    "There **1106** distinct items in that sample. It will be hard to plot them one by one, so it's a good idea to plot some sample of those items (the most frequent ones, for example)."
   ]
  },
  {
   "cell_type": "markdown",
   "metadata": {},
   "source": [
    "**Getting the most frequent items**"
   ]
  },
  {
   "cell_type": "code",
   "execution_count": 17,
   "metadata": {
    "scrolled": false
   },
   "outputs": [
    {
     "data": {
      "text/plain": [
       "Transporte Local / Locação de Automóvel / Combustível               354\n",
       "Passagens Aéreas (Descrever os trechos na tela de deslocamentos)    326\n",
       "Refeição                                                            325\n",
       "Assessor de imprensa                                                324\n",
       "Assistente de produção                                              291\n",
       "Produtor Executivo                                                  279\n",
       "Contador                                                            261\n",
       "Hospedagem sem Alimentação                                          243\n",
       "Cartaz                                                              232\n",
       "Remuneração para captação de recursos                               225\n",
       "Name: Item, dtype: int64"
      ]
     },
     "metadata": {},
     "output_type": "display_data"
    }
   ],
   "source": [
    "top_frequent = dt['Item'].value_counts().head(10)\n",
    "display(top_frequent)"
   ]
  },
  {
   "cell_type": "code",
   "execution_count": null,
   "metadata": {},
   "outputs": [],
   "source": []
  }
 ],
 "metadata": {
  "kernelspec": {
   "display_name": "Python 3",
   "language": "python",
   "name": "python3"
  },
  "language_info": {
   "codemirror_mode": {
    "name": "ipython",
    "version": 3
   },
   "file_extension": ".py",
   "mimetype": "text/x-python",
   "name": "python",
   "nbconvert_exporter": "python",
   "pygments_lexer": "ipython3",
   "version": "3.6.4"
  }
 },
 "nbformat": 4,
 "nbformat_minor": 2
}
