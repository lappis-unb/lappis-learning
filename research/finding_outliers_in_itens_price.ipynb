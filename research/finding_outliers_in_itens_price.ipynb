{
 "cells": [
  {
   "cell_type": "markdown",
   "metadata": {},
   "source": [
    "## Loading dataset from .csv"
   ]
  },
  {
   "cell_type": "code",
   "execution_count": 32,
   "metadata": {
    "scrolled": true
   },
   "outputs": [
    {
     "data": {
      "text/html": [
       "<div>\n",
       "<style scoped>\n",
       "    .dataframe tbody tr th:only-of-type {\n",
       "        vertical-align: middle;\n",
       "    }\n",
       "\n",
       "    .dataframe tbody tr th {\n",
       "        vertical-align: top;\n",
       "    }\n",
       "\n",
       "    .dataframe thead th {\n",
       "        text-align: right;\n",
       "    }\n",
       "</style>\n",
       "<table border=\"1\" class=\"dataframe\">\n",
       "  <thead>\n",
       "    <tr style=\"text-align: right;\">\n",
       "      <th></th>\n",
       "      <th>Unnamed: 0</th>\n",
       "      <th>Item</th>\n",
       "      <th>ValorUnitarioAprovado</th>\n",
       "      <th>Data</th>\n",
       "      <th>idPRONAC</th>\n",
       "    </tr>\n",
       "  </thead>\n",
       "  <tbody>\n",
       "    <tr>\n",
       "      <th>0</th>\n",
       "      <td>1894129</td>\n",
       "      <td>Material de consumo</td>\n",
       "      <td>7000.00</td>\n",
       "      <td>2014-07-31 07:27:29</td>\n",
       "      <td>179966</td>\n",
       "    </tr>\n",
       "    <tr>\n",
       "      <th>1</th>\n",
       "      <td>2003098</td>\n",
       "      <td>Locação de teatro</td>\n",
       "      <td>465.39</td>\n",
       "      <td>2015-05-05 16:38:24</td>\n",
       "      <td>185736</td>\n",
       "    </tr>\n",
       "    <tr>\n",
       "      <th>2</th>\n",
       "      <td>925488</td>\n",
       "      <td>Banheiro químico</td>\n",
       "      <td>250.00</td>\n",
       "      <td>2012-03-16 00:00:00</td>\n",
       "      <td>143223</td>\n",
       "    </tr>\n",
       "    <tr>\n",
       "      <th>3</th>\n",
       "      <td>1326505</td>\n",
       "      <td>Técnico de som</td>\n",
       "      <td>3500.00</td>\n",
       "      <td>2013-01-07 00:00:00</td>\n",
       "      <td>155368</td>\n",
       "    </tr>\n",
       "    <tr>\n",
       "      <th>4</th>\n",
       "      <td>136947</td>\n",
       "      <td>Cartaz</td>\n",
       "      <td>300.00</td>\n",
       "      <td>2010-01-01 00:00:00</td>\n",
       "      <td>114412</td>\n",
       "    </tr>\n",
       "  </tbody>\n",
       "</table>\n",
       "</div>"
      ],
      "text/plain": [
       "   Unnamed: 0                 Item  ValorUnitarioAprovado  \\\n",
       "0     1894129  Material de consumo                7000.00   \n",
       "1     2003098    Locação de teatro                 465.39   \n",
       "2      925488     Banheiro químico                 250.00   \n",
       "3     1326505       Técnico de som                3500.00   \n",
       "4      136947               Cartaz                 300.00   \n",
       "\n",
       "                  Data  idPRONAC  \n",
       "0  2014-07-31 07:27:29    179966  \n",
       "1  2015-05-05 16:38:24    185736  \n",
       "2  2012-03-16 00:00:00    143223  \n",
       "3  2013-01-07 00:00:00    155368  \n",
       "4  2010-01-01 00:00:00    114412  "
      ]
     },
     "execution_count": 32,
     "metadata": {},
     "output_type": "execute_result"
    }
   ],
   "source": [
    "import pandas as pd\n",
    "\n",
    "data_folder = '../data/'\n",
    "itens_file_name = 'valor_unitario_aprovado_sample.csv'\n",
    "itens_file_path = data_folder + itens_file_name\n",
    "\n",
    "dt = pd.read_csv(itens_file_path)\n",
    "dt.head()"
   ]
  },
  {
   "cell_type": "markdown",
   "metadata": {},
   "source": [
    "## Selecting a random item\n",
    "\n",
    "When selecting a random item, it's important to make sure that we have enough occurences of that item, for example 100 or more. Let's also make a set (all itens are discinct) of random itens."
   ]
  },
  {
   "cell_type": "code",
   "execution_count": 34,
   "metadata": {
    "scrolled": true
   },
   "outputs": [
    {
     "name": "stdout",
     "output_type": "stream",
     "text": [
      "{'Locação de teatro', 'Produtor', 'Produtor Executivo', 'Material de escritório', 'Assessoria Jurídica (Contratos Inclusive)', 'Projeto Gráfico', 'Assistente de produção', 'Coordenador de produção', 'Transporte Local / Locação de Automóvel / Combustível', 'Hospedagem com Alimentação', 'Folders', 'Diretor de produção', 'Hospedagem sem Alimentação', 'Fotografia Artística (Fotógrafo, Tratamento, Revelação, etc.)', 'Direitos Autorais', 'Refeição', 'Mídia radiofônica', 'Assessor de imprensa', 'Banner/faixa adesiva/faixa de lona/saia de palco/testeira/pórtico\\r\\n', 'Contador'}\n"
     ]
    }
   ],
   "source": [
    "import numpy as np\n",
    "\n",
    "def get_random_item():\n",
    "    while True:\n",
    "        item = np.random.choice(dt['Item'].values)\n",
    "        if len(dt.loc[dt['Item'] == item]) >= 100:\n",
    "            return item\n",
    "\n",
    "def get_set_of_random_itens(n = 20):\n",
    "    itens = set()\n",
    "    while len(itens) < n:\n",
    "        itens.add(get_random_item())\n",
    "    return itens\n",
    "\n",
    "print(get_set_of_random_itens())"
   ]
  },
  {
   "cell_type": "code",
   "execution_count": null,
   "metadata": {},
   "outputs": [],
   "source": []
  },
  {
   "cell_type": "code",
   "execution_count": null,
   "metadata": {},
   "outputs": [],
   "source": []
  }
 ],
 "metadata": {
  "kernelspec": {
   "display_name": "Python 2",
   "language": "python",
   "name": "python2"
  },
  "language_info": {
   "codemirror_mode": {
    "name": "ipython",
    "version": 3
   },
   "file_extension": ".py",
   "mimetype": "text/x-python",
   "name": "python",
   "nbconvert_exporter": "python",
   "pygments_lexer": "ipython3",
   "version": "3.6.4"
  }
 },
 "nbformat": 4,
 "nbformat_minor": 1
}
