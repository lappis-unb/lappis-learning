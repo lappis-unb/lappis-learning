{
 "cells": [
  {
   "cell_type": "markdown",
   "metadata": {},
   "source": [
    "### Importing data"
   ]
  },
  {
   "cell_type": "code",
   "execution_count": 1,
   "metadata": {
    "scrolled": false
   },
   "outputs": [
    {
     "data": {
      "text/html": [
       "<div>\n",
       "<style scoped>\n",
       "    .dataframe tbody tr th:only-of-type {\n",
       "        vertical-align: middle;\n",
       "    }\n",
       "\n",
       "    .dataframe tbody tr th {\n",
       "        vertical-align: top;\n",
       "    }\n",
       "\n",
       "    .dataframe thead th {\n",
       "        text-align: right;\n",
       "    }\n",
       "</style>\n",
       "<table border=\"1\" class=\"dataframe\">\n",
       "  <thead>\n",
       "    <tr style=\"text-align: right;\">\n",
       "      <th></th>\n",
       "      <th>Unnamed: 0</th>\n",
       "      <th>Item</th>\n",
       "      <th>ValorUnitarioAprovado</th>\n",
       "      <th>Data</th>\n",
       "      <th>idPRONAC</th>\n",
       "    </tr>\n",
       "  </thead>\n",
       "  <tbody>\n",
       "    <tr>\n",
       "      <th>0</th>\n",
       "      <td>1894129</td>\n",
       "      <td>Material de consumo</td>\n",
       "      <td>7000.00</td>\n",
       "      <td>2014-07-31 07:27:29</td>\n",
       "      <td>179966</td>\n",
       "    </tr>\n",
       "    <tr>\n",
       "      <th>1</th>\n",
       "      <td>2003098</td>\n",
       "      <td>Locação de teatro</td>\n",
       "      <td>465.39</td>\n",
       "      <td>2015-05-05 16:38:24</td>\n",
       "      <td>185736</td>\n",
       "    </tr>\n",
       "    <tr>\n",
       "      <th>2</th>\n",
       "      <td>925488</td>\n",
       "      <td>Banheiro químico</td>\n",
       "      <td>250.00</td>\n",
       "      <td>2012-03-16 00:00:00</td>\n",
       "      <td>143223</td>\n",
       "    </tr>\n",
       "    <tr>\n",
       "      <th>3</th>\n",
       "      <td>1326505</td>\n",
       "      <td>Técnico de som</td>\n",
       "      <td>3500.00</td>\n",
       "      <td>2013-01-07 00:00:00</td>\n",
       "      <td>155368</td>\n",
       "    </tr>\n",
       "    <tr>\n",
       "      <th>4</th>\n",
       "      <td>136947</td>\n",
       "      <td>Cartaz</td>\n",
       "      <td>300.00</td>\n",
       "      <td>2010-01-01 00:00:00</td>\n",
       "      <td>114412</td>\n",
       "    </tr>\n",
       "  </tbody>\n",
       "</table>\n",
       "</div>"
      ],
      "text/plain": [
       "   Unnamed: 0                 Item  ValorUnitarioAprovado                Data  \\\n",
       "0     1894129  Material de consumo                7000.00 2014-07-31 07:27:29   \n",
       "1     2003098    Locação de teatro                 465.39 2015-05-05 16:38:24   \n",
       "2      925488     Banheiro químico                 250.00 2012-03-16 00:00:00   \n",
       "3     1326505       Técnico de som                3500.00 2013-01-07 00:00:00   \n",
       "4      136947               Cartaz                 300.00 2010-01-01 00:00:00   \n",
       "\n",
       "   idPRONAC  \n",
       "0    179966  \n",
       "1    185736  \n",
       "2    143223  \n",
       "3    155368  \n",
       "4    114412  "
      ]
     },
     "execution_count": 1,
     "metadata": {},
     "output_type": "execute_result"
    }
   ],
   "source": [
    "import pandas as pd\n",
    "from utils.dates import Dates\n",
    "\n",
    "data_folder = 'data/'\n",
    "itens_file_name = 'valor_unitario_aprovado_sample.csv'\n",
    "\n",
    "itens_file_path = data_folder + itens_file_name\n",
    "\n",
    "date_column = 'Data'\n",
    "price_column = 'ValorUnitarioAprovado'\n",
    "\n",
    "dt = pd.read_csv(itens_file_path)\n",
    "dt[date_column] = pd.to_datetime(dt[date_column], format = Dates.DATE_INPUT_FORMAT)\n",
    "dt.head()"
   ]
  },
  {
   "cell_type": "markdown",
   "metadata": {},
   "source": [
    "### Cleaning data\n",
    "\n",
    "**Eliminating items with approved value equal to zero (0)**\n",
    "\n",
    "There are some items with approved value equal to zero (0), for example the item with index **154** in the above table. For now they have no use, so lets get rid of them."
   ]
  },
  {
   "cell_type": "code",
   "execution_count": 2,
   "metadata": {},
   "outputs": [],
   "source": [
    "dt = dt[dt.ValorUnitarioAprovado > 0.0]"
   ]
  },
  {
   "cell_type": "markdown",
   "metadata": {},
   "source": [
    "**Eliminating items dated before year 1992**\n",
    "\n",
    "The Rouanet Law is from late 1991, so it's reasonable to take data only from year 1992 and above."
   ]
  },
  {
   "cell_type": "code",
   "execution_count": 3,
   "metadata": {},
   "outputs": [
    {
     "data": {
      "text/html": [
       "<div>\n",
       "<style scoped>\n",
       "    .dataframe tbody tr th:only-of-type {\n",
       "        vertical-align: middle;\n",
       "    }\n",
       "\n",
       "    .dataframe tbody tr th {\n",
       "        vertical-align: top;\n",
       "    }\n",
       "\n",
       "    .dataframe thead th {\n",
       "        text-align: right;\n",
       "    }\n",
       "</style>\n",
       "<table border=\"1\" class=\"dataframe\">\n",
       "  <thead>\n",
       "    <tr style=\"text-align: right;\">\n",
       "      <th></th>\n",
       "      <th>Unnamed: 0</th>\n",
       "      <th>Item</th>\n",
       "      <th>ValorUnitarioAprovado</th>\n",
       "      <th>Data</th>\n",
       "      <th>idPRONAC</th>\n",
       "    </tr>\n",
       "  </thead>\n",
       "  <tbody>\n",
       "    <tr>\n",
       "      <th>7633</th>\n",
       "      <td>1603805</td>\n",
       "      <td>Secretária</td>\n",
       "      <td>770.0</td>\n",
       "      <td>1969-12-31</td>\n",
       "      <td>162835</td>\n",
       "    </tr>\n",
       "    <tr>\n",
       "      <th>14946</th>\n",
       "      <td>9355</td>\n",
       "      <td>Secretária</td>\n",
       "      <td>625.0</td>\n",
       "      <td>2009-04-13</td>\n",
       "      <td>111157</td>\n",
       "    </tr>\n",
       "    <tr>\n",
       "      <th>15581</th>\n",
       "      <td>9832</td>\n",
       "      <td>Contra-regra</td>\n",
       "      <td>260.0</td>\n",
       "      <td>2009-04-14</td>\n",
       "      <td>111278</td>\n",
       "    </tr>\n",
       "    <tr>\n",
       "      <th>15821</th>\n",
       "      <td>27415</td>\n",
       "      <td>Mídia radiofônica</td>\n",
       "      <td>18000.0</td>\n",
       "      <td>2009-04-17</td>\n",
       "      <td>111191</td>\n",
       "    </tr>\n",
       "    <tr>\n",
       "      <th>10681</th>\n",
       "      <td>38839</td>\n",
       "      <td>Cenotécnico</td>\n",
       "      <td>700.0</td>\n",
       "      <td>2009-04-20</td>\n",
       "      <td>111123</td>\n",
       "    </tr>\n",
       "  </tbody>\n",
       "</table>\n",
       "</div>"
      ],
      "text/plain": [
       "       Unnamed: 0               Item  ValorUnitarioAprovado       Data  \\\n",
       "7633      1603805         Secretária                  770.0 1969-12-31   \n",
       "14946        9355         Secretária                  625.0 2009-04-13   \n",
       "15581        9832       Contra-regra                  260.0 2009-04-14   \n",
       "15821       27415  Mídia radiofônica                18000.0 2009-04-17   \n",
       "10681       38839        Cenotécnico                  700.0 2009-04-20   \n",
       "\n",
       "       idPRONAC  \n",
       "7633     162835  \n",
       "14946    111157  \n",
       "15581    111278  \n",
       "15821    111191  \n",
       "10681    111123  "
      ]
     },
     "metadata": {},
     "output_type": "display_data"
    },
    {
     "data": {
      "text/html": [
       "<div>\n",
       "<style scoped>\n",
       "    .dataframe tbody tr th:only-of-type {\n",
       "        vertical-align: middle;\n",
       "    }\n",
       "\n",
       "    .dataframe tbody tr th {\n",
       "        vertical-align: top;\n",
       "    }\n",
       "\n",
       "    .dataframe thead th {\n",
       "        text-align: right;\n",
       "    }\n",
       "</style>\n",
       "<table border=\"1\" class=\"dataframe\">\n",
       "  <thead>\n",
       "    <tr style=\"text-align: right;\">\n",
       "      <th></th>\n",
       "      <th>Unnamed: 0</th>\n",
       "      <th>Item</th>\n",
       "      <th>ValorUnitarioAprovado</th>\n",
       "      <th>Data</th>\n",
       "      <th>idPRONAC</th>\n",
       "    </tr>\n",
       "  </thead>\n",
       "  <tbody>\n",
       "    <tr>\n",
       "      <th>14946</th>\n",
       "      <td>9355</td>\n",
       "      <td>Secretária</td>\n",
       "      <td>625.0</td>\n",
       "      <td>2009-04-13</td>\n",
       "      <td>111157</td>\n",
       "    </tr>\n",
       "    <tr>\n",
       "      <th>15581</th>\n",
       "      <td>9832</td>\n",
       "      <td>Contra-regra</td>\n",
       "      <td>260.0</td>\n",
       "      <td>2009-04-14</td>\n",
       "      <td>111278</td>\n",
       "    </tr>\n",
       "    <tr>\n",
       "      <th>15821</th>\n",
       "      <td>27415</td>\n",
       "      <td>Mídia radiofônica</td>\n",
       "      <td>18000.0</td>\n",
       "      <td>2009-04-17</td>\n",
       "      <td>111191</td>\n",
       "    </tr>\n",
       "    <tr>\n",
       "      <th>10681</th>\n",
       "      <td>38839</td>\n",
       "      <td>Cenotécnico</td>\n",
       "      <td>700.0</td>\n",
       "      <td>2009-04-20</td>\n",
       "      <td>111123</td>\n",
       "    </tr>\n",
       "    <tr>\n",
       "      <th>16241</th>\n",
       "      <td>38842</td>\n",
       "      <td>Assistente de iluminação</td>\n",
       "      <td>850.0</td>\n",
       "      <td>2009-04-20</td>\n",
       "      <td>111123</td>\n",
       "    </tr>\n",
       "  </tbody>\n",
       "</table>\n",
       "</div>"
      ],
      "text/plain": [
       "       Unnamed: 0                      Item  ValorUnitarioAprovado       Data  \\\n",
       "14946        9355                Secretária                  625.0 2009-04-13   \n",
       "15581        9832              Contra-regra                  260.0 2009-04-14   \n",
       "15821       27415         Mídia radiofônica                18000.0 2009-04-17   \n",
       "10681       38839               Cenotécnico                  700.0 2009-04-20   \n",
       "16241       38842  Assistente de iluminação                  850.0 2009-04-20   \n",
       "\n",
       "       idPRONAC  \n",
       "14946    111157  \n",
       "15581    111278  \n",
       "15821    111191  \n",
       "10681    111123  \n",
       "16241    111123  "
      ]
     },
     "metadata": {},
     "output_type": "display_data"
    }
   ],
   "source": [
    "dt = dt.sort_values(by = ['Data'])\n",
    "display(dt.head())\n",
    "\n",
    "dt = dt[dt.Data >= '1992']\n",
    "display(dt.sort_values(by=['Data']).head())"
   ]
  },
  {
   "cell_type": "code",
   "execution_count": 4,
   "metadata": {},
   "outputs": [
    {
     "data": {
      "text/plain": [
       "5392    2009-07-01\n",
       "15495   2009-07-09\n",
       "3720    2009-07-10\n",
       "2195    2009-07-20\n",
       "13290   2009-08-01\n",
       "Name: Data, dtype: datetime64[ns]"
      ]
     },
     "execution_count": 4,
     "metadata": {},
     "output_type": "execute_result"
    }
   ],
   "source": [
    "dt.sort_values(by=['Data']).head()\n",
    "rows = dt[dt.Item == 'Transporte Local / Locação de Automóvel / Combustível']\n",
    "dates = rows['Data'].copy()\n",
    "dates.sort_values(inplace=True)\n",
    "dates.head()"
   ]
  },
  {
   "cell_type": "markdown",
   "metadata": {},
   "source": [
    "### Number of distinct items"
   ]
  },
  {
   "cell_type": "code",
   "execution_count": 5,
   "metadata": {
    "scrolled": true
   },
   "outputs": [
    {
     "name": "stdout",
     "output_type": "stream",
     "text": [
      "1083\n"
     ]
    }
   ],
   "source": [
    "print(len(dt['Item'].unique()))"
   ]
  },
  {
   "cell_type": "markdown",
   "metadata": {},
   "source": [
    "**Lots of distinct items**\n",
    "\n",
    "There are more than **1000** distinct items in that sample. It will be hard to plot them one by one, so it's a good idea to plot some subset of those items (the most frequent ones, for example)."
   ]
  },
  {
   "cell_type": "markdown",
   "metadata": {},
   "source": [
    "**Getting the most frequent items**"
   ]
  },
  {
   "cell_type": "code",
   "execution_count": 6,
   "metadata": {
    "scrolled": false
   },
   "outputs": [
    {
     "name": "stdout",
     "output_type": "stream",
     "text": [
      "Index(['Transporte Local / Locação de Automóvel / Combustível',\n",
      "       'Passagens Aéreas (Descrever os trechos na tela de deslocamentos)',\n",
      "       'Assessor de imprensa', 'Refeição', 'Assistente de produção',\n",
      "       'Produtor Executivo', 'Contador', 'Hospedagem sem Alimentação',\n",
      "       'Cartaz',\n",
      "       'Banner/faixa adesiva/faixa de lona/saia de palco/testeira/pórtico\\r\\n'],\n",
      "      dtype='object')\n"
     ]
    },
    {
     "data": {
      "text/plain": [
       "Transporte Local / Locação de Automóvel / Combustível                    331\n",
       "Passagens Aéreas (Descrever os trechos na tela de deslocamentos)         318\n",
       "Assessor de imprensa                                                     308\n",
       "Refeição                                                                 308\n",
       "Assistente de produção                                                   283\n",
       "Produtor Executivo                                                       267\n",
       "Contador                                                                 249\n",
       "Hospedagem sem Alimentação                                               240\n",
       "Cartaz                                                                   225\n",
       "Banner/faixa adesiva/faixa de lona/saia de palco/testeira/pórtico\\r\\n    220\n",
       "Name: Item, dtype: int64"
      ]
     },
     "metadata": {},
     "output_type": "display_data"
    }
   ],
   "source": [
    "top_frequent = dt['Item'].value_counts().head(10)\n",
    "print(top_frequent.index)\n",
    "display(top_frequent)"
   ]
  },
  {
   "cell_type": "code",
   "execution_count": 7,
   "metadata": {},
   "outputs": [
    {
     "data": {
      "text/plain": [
       "(array(['2009-04-13T00:00:00.000000000', '2009-04-14T00:00:00.000000000',\n",
       "        '2009-04-17T00:00:00.000000000', ...,\n",
       "        '2018-09-01T00:00:00.000000000', '2019-01-15T21:24:42.000000000',\n",
       "        '2019-01-21T09:07:02.000000000'], dtype='datetime64[ns]'),\n",
       " array([6.250e+02, 2.600e+02, 1.800e+04, ..., 1.039e+01, 9.000e+01,\n",
       "        5.900e+04]))"
      ]
     },
     "execution_count": 7,
     "metadata": {},
     "output_type": "execute_result"
    }
   ],
   "source": [
    "Dates.get_xy(dt, date_column, price_column)"
   ]
  },
  {
   "cell_type": "code",
   "execution_count": 11,
   "metadata": {
    "scrolled": true
   },
   "outputs": [
    {
     "data": {
      "image/png": "[encoded data removed]",
      "text/plain": [
       "<Figure size 432x288 with 2 Axes>"
      ]
     },
     "metadata": {},
     "output_type": "display_data"
    }
   ],
   "source": [
    "from utils.plotter import Plotter\n",
    "import matplotlib.pyplot as plt\n",
    "%matplotlib inline\n",
    "\n",
    "\n",
    "frequent_item = top_frequent.index[0]\n",
    "\n",
    "x, y = Dates.get_xy_dates(dt, date_column, price_column)\n",
    "fig = plt.figure()\n",
    "Plotter.plot_scatter_along_time(x, y, figure = fig, subplot = 121, x_label = date_column, y_label = price_column, title = frequent_item)\n",
    "Plotter.plot_log_along_time(x, y, figure = fig, subplot = 122, x_label = date_column, y_label = price_column, title = frequent_item)\n",
    "plt.show()\n"
   ]
  },
  {
   "cell_type": "code",
   "execution_count": null,
   "metadata": {},
   "outputs": [],
   "source": []
  }
 ],
 "metadata": {
  "kernelspec": {
   "display_name": "Python 3",
   "language": "python",
   "name": "python3"
  },
  "language_info": {
   "codemirror_mode": {
    "name": "ipython",
    "version": 3
   },
   "file_extension": ".py",
   "mimetype": "text/x-python",
   "name": "python",
   "nbconvert_exporter": "python",
   "pygments_lexer": "ipython3",
   "version": "3.6.4"
  }
 },
 "nbformat": 4,
 "nbformat_minor": 2
}
