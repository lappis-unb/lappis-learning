{
 "cells": [
  {
   "cell_type": "markdown",
   "metadata": {},
   "source": [
    "### Importing data"
   ]
  },
  {
   "cell_type": "code",
   "execution_count": 1,
   "metadata": {
    "scrolled": false
   },
   "outputs": [
    {
     "data": {
      "text/html": [
       "<div>\n",
       "<style scoped>\n",
       "    .dataframe tbody tr th:only-of-type {\n",
       "        vertical-align: middle;\n",
       "    }\n",
       "\n",
       "    .dataframe tbody tr th {\n",
       "        vertical-align: top;\n",
       "    }\n",
       "\n",
       "    .dataframe thead th {\n",
       "        text-align: right;\n",
       "    }\n",
       "</style>\n",
       "<table border=\"1\" class=\"dataframe\">\n",
       "  <thead>\n",
       "    <tr style=\"text-align: right;\">\n",
       "      <th></th>\n",
       "      <th>Unnamed: 0</th>\n",
       "      <th>Item</th>\n",
       "      <th>ValorUnitarioAprovado</th>\n",
       "      <th>Data</th>\n",
       "      <th>idPRONAC</th>\n",
       "    </tr>\n",
       "  </thead>\n",
       "  <tbody>\n",
       "    <tr>\n",
       "      <th>0</th>\n",
       "      <td>1894129</td>\n",
       "      <td>Material de consumo</td>\n",
       "      <td>7000.00</td>\n",
       "      <td>2014-07-31 07:27:29</td>\n",
       "      <td>179966</td>\n",
       "    </tr>\n",
       "    <tr>\n",
       "      <th>1</th>\n",
       "      <td>2003098</td>\n",
       "      <td>Locação de teatro</td>\n",
       "      <td>465.39</td>\n",
       "      <td>2015-05-05 16:38:24</td>\n",
       "      <td>185736</td>\n",
       "    </tr>\n",
       "    <tr>\n",
       "      <th>2</th>\n",
       "      <td>925488</td>\n",
       "      <td>Banheiro químico</td>\n",
       "      <td>250.00</td>\n",
       "      <td>2012-03-16 00:00:00</td>\n",
       "      <td>143223</td>\n",
       "    </tr>\n",
       "    <tr>\n",
       "      <th>3</th>\n",
       "      <td>1326505</td>\n",
       "      <td>Técnico de som</td>\n",
       "      <td>3500.00</td>\n",
       "      <td>2013-01-07 00:00:00</td>\n",
       "      <td>155368</td>\n",
       "    </tr>\n",
       "    <tr>\n",
       "      <th>4</th>\n",
       "      <td>136947</td>\n",
       "      <td>Cartaz</td>\n",
       "      <td>300.00</td>\n",
       "      <td>2010-01-01 00:00:00</td>\n",
       "      <td>114412</td>\n",
       "    </tr>\n",
       "  </tbody>\n",
       "</table>\n",
       "</div>"
      ],
      "text/plain": [
       "   Unnamed: 0                 Item  ValorUnitarioAprovado                Data  \\\n",
       "0     1894129  Material de consumo                7000.00 2014-07-31 07:27:29   \n",
       "1     2003098    Locação de teatro                 465.39 2015-05-05 16:38:24   \n",
       "2      925488     Banheiro químico                 250.00 2012-03-16 00:00:00   \n",
       "3     1326505       Técnico de som                3500.00 2013-01-07 00:00:00   \n",
       "4      136947               Cartaz                 300.00 2010-01-01 00:00:00   \n",
       "\n",
       "   idPRONAC  \n",
       "0    179966  \n",
       "1    185736  \n",
       "2    143223  \n",
       "3    155368  \n",
       "4    114412  "
      ]
     },
     "execution_count": 1,
     "metadata": {},
     "output_type": "execute_result"
    }
   ],
   "source": [
    "import pandas as pd\n",
    "from utils.dates import Dates\n",
    "\n",
    "data_folder = 'data/'\n",
    "itens_file_name = 'valor_unitario_aprovado_sample.csv'\n",
    "\n",
    "itens_file_path = data_folder + itens_file_name\n",
    "\n",
    "date_column = 'Data'\n",
    "price_column = 'ValorUnitarioAprovado'\n",
    "\n",
    "dt = pd.read_csv(itens_file_path)\n",
    "dt[date_column] = pd.to_datetime(dt[date_column], format = Dates.DATE_INPUT_FORMAT)\n",
    "dt.head()"
   ]
  },
  {
   "cell_type": "markdown",
   "metadata": {},
   "source": [
    "### Cleaning data\n",
    "\n",
    "**Eliminating items with approved value equal to zero (0)**\n",
    "\n",
    "There are some items with approved value equal to zero (0), for example the item with index **154** in the above table. For now they have no use, so lets get rid of them."
   ]
  },
  {
   "cell_type": "code",
   "execution_count": 2,
   "metadata": {},
   "outputs": [],
   "source": [
    "dt = dt[dt.ValorUnitarioAprovado > 0.0]"
   ]
  },
  {
   "cell_type": "markdown",
   "metadata": {},
   "source": [
    "**Eliminating items dated before year 1992**\n",
    "\n",
    "The Rouanet Law is from late 1991, so it's reasonable to take data only from year 1992 and above."
   ]
  },
  {
   "cell_type": "code",
   "execution_count": 3,
   "metadata": {},
   "outputs": [
    {
     "data": {
      "text/html": [
       "<div>\n",
       "<style scoped>\n",
       "    .dataframe tbody tr th:only-of-type {\n",
       "        vertical-align: middle;\n",
       "    }\n",
       "\n",
       "    .dataframe tbody tr th {\n",
       "        vertical-align: top;\n",
       "    }\n",
       "\n",
       "    .dataframe thead th {\n",
       "        text-align: right;\n",
       "    }\n",
       "</style>\n",
       "<table border=\"1\" class=\"dataframe\">\n",
       "  <thead>\n",
       "    <tr style=\"text-align: right;\">\n",
       "      <th></th>\n",
       "      <th>Unnamed: 0</th>\n",
       "      <th>Item</th>\n",
       "      <th>ValorUnitarioAprovado</th>\n",
       "      <th>Data</th>\n",
       "      <th>idPRONAC</th>\n",
       "    </tr>\n",
       "  </thead>\n",
       "  <tbody>\n",
       "    <tr>\n",
       "      <th>7633</th>\n",
       "      <td>1603805</td>\n",
       "      <td>Secretária</td>\n",
       "      <td>770.0</td>\n",
       "      <td>1969-12-31</td>\n",
       "      <td>162835</td>\n",
       "    </tr>\n",
       "    <tr>\n",
       "      <th>14946</th>\n",
       "      <td>9355</td>\n",
       "      <td>Secretária</td>\n",
       "      <td>625.0</td>\n",
       "      <td>2009-04-13</td>\n",
       "      <td>111157</td>\n",
       "    </tr>\n",
       "    <tr>\n",
       "      <th>15581</th>\n",
       "      <td>9832</td>\n",
       "      <td>Contra-regra</td>\n",
       "      <td>260.0</td>\n",
       "      <td>2009-04-14</td>\n",
       "      <td>111278</td>\n",
       "    </tr>\n",
       "    <tr>\n",
       "      <th>15821</th>\n",
       "      <td>27415</td>\n",
       "      <td>Mídia radiofônica</td>\n",
       "      <td>18000.0</td>\n",
       "      <td>2009-04-17</td>\n",
       "      <td>111191</td>\n",
       "    </tr>\n",
       "    <tr>\n",
       "      <th>10681</th>\n",
       "      <td>38839</td>\n",
       "      <td>Cenotécnico</td>\n",
       "      <td>700.0</td>\n",
       "      <td>2009-04-20</td>\n",
       "      <td>111123</td>\n",
       "    </tr>\n",
       "  </tbody>\n",
       "</table>\n",
       "</div>"
      ],
      "text/plain": [
       "       Unnamed: 0               Item  ValorUnitarioAprovado       Data  \\\n",
       "7633      1603805         Secretária                  770.0 1969-12-31   \n",
       "14946        9355         Secretária                  625.0 2009-04-13   \n",
       "15581        9832       Contra-regra                  260.0 2009-04-14   \n",
       "15821       27415  Mídia radiofônica                18000.0 2009-04-17   \n",
       "10681       38839        Cenotécnico                  700.0 2009-04-20   \n",
       "\n",
       "       idPRONAC  \n",
       "7633     162835  \n",
       "14946    111157  \n",
       "15581    111278  \n",
       "15821    111191  \n",
       "10681    111123  "
      ]
     },
     "metadata": {},
     "output_type": "display_data"
    },
    {
     "data": {
      "text/html": [
       "<div>\n",
       "<style scoped>\n",
       "    .dataframe tbody tr th:only-of-type {\n",
       "        vertical-align: middle;\n",
       "    }\n",
       "\n",
       "    .dataframe tbody tr th {\n",
       "        vertical-align: top;\n",
       "    }\n",
       "\n",
       "    .dataframe thead th {\n",
       "        text-align: right;\n",
       "    }\n",
       "</style>\n",
       "<table border=\"1\" class=\"dataframe\">\n",
       "  <thead>\n",
       "    <tr style=\"text-align: right;\">\n",
       "      <th></th>\n",
       "      <th>Unnamed: 0</th>\n",
       "      <th>Item</th>\n",
       "      <th>ValorUnitarioAprovado</th>\n",
       "      <th>Data</th>\n",
       "      <th>idPRONAC</th>\n",
       "    </tr>\n",
       "  </thead>\n",
       "  <tbody>\n",
       "    <tr>\n",
       "      <th>14946</th>\n",
       "      <td>9355</td>\n",
       "      <td>Secretária</td>\n",
       "      <td>625.0</td>\n",
       "      <td>2009-04-13</td>\n",
       "      <td>111157</td>\n",
       "    </tr>\n",
       "    <tr>\n",
       "      <th>15581</th>\n",
       "      <td>9832</td>\n",
       "      <td>Contra-regra</td>\n",
       "      <td>260.0</td>\n",
       "      <td>2009-04-14</td>\n",
       "      <td>111278</td>\n",
       "    </tr>\n",
       "    <tr>\n",
       "      <th>15821</th>\n",
       "      <td>27415</td>\n",
       "      <td>Mídia radiofônica</td>\n",
       "      <td>18000.0</td>\n",
       "      <td>2009-04-17</td>\n",
       "      <td>111191</td>\n",
       "    </tr>\n",
       "    <tr>\n",
       "      <th>10681</th>\n",
       "      <td>38839</td>\n",
       "      <td>Cenotécnico</td>\n",
       "      <td>700.0</td>\n",
       "      <td>2009-04-20</td>\n",
       "      <td>111123</td>\n",
       "    </tr>\n",
       "    <tr>\n",
       "      <th>16241</th>\n",
       "      <td>38842</td>\n",
       "      <td>Assistente de iluminação</td>\n",
       "      <td>850.0</td>\n",
       "      <td>2009-04-20</td>\n",
       "      <td>111123</td>\n",
       "    </tr>\n",
       "  </tbody>\n",
       "</table>\n",
       "</div>"
      ],
      "text/plain": [
       "       Unnamed: 0                      Item  ValorUnitarioAprovado       Data  \\\n",
       "14946        9355                Secretária                  625.0 2009-04-13   \n",
       "15581        9832              Contra-regra                  260.0 2009-04-14   \n",
       "15821       27415         Mídia radiofônica                18000.0 2009-04-17   \n",
       "10681       38839               Cenotécnico                  700.0 2009-04-20   \n",
       "16241       38842  Assistente de iluminação                  850.0 2009-04-20   \n",
       "\n",
       "       idPRONAC  \n",
       "14946    111157  \n",
       "15581    111278  \n",
       "15821    111191  \n",
       "10681    111123  \n",
       "16241    111123  "
      ]
     },
     "metadata": {},
     "output_type": "display_data"
    }
   ],
   "source": [
    "dt = dt.sort_values(by = ['Data'])\n",
    "display(dt.head())\n",
    "\n",
    "dt = dt[dt.Data >= '1992']\n",
    "display(dt.sort_values(by=['Data']).head())"
   ]
  },
  {
   "cell_type": "code",
   "execution_count": 4,
   "metadata": {},
   "outputs": [
    {
     "data": {
      "text/plain": [
       "5392    2009-07-01\n",
       "15495   2009-07-09\n",
       "3720    2009-07-10\n",
       "2195    2009-07-20\n",
       "13290   2009-08-01\n",
       "Name: Data, dtype: datetime64[ns]"
      ]
     },
     "execution_count": 4,
     "metadata": {},
     "output_type": "execute_result"
    }
   ],
   "source": [
    "dt.sort_values(by=['Data']).head()\n",
    "rows = dt[dt.Item == 'Transporte Local / Locação de Automóvel / Combustível']\n",
    "dates = rows['Data'].copy()\n",
    "dates.sort_values(inplace=True)\n",
    "dates.head()"
   ]
  },
  {
   "cell_type": "markdown",
   "metadata": {},
   "source": [
    "### Number of distinct items"
   ]
  },
  {
   "cell_type": "code",
   "execution_count": 5,
   "metadata": {
    "scrolled": true
   },
   "outputs": [
    {
     "name": "stdout",
     "output_type": "stream",
     "text": [
      "1083\n"
     ]
    }
   ],
   "source": [
    "print(len(dt['Item'].unique()))"
   ]
  },
  {
   "cell_type": "markdown",
   "metadata": {},
   "source": [
    "**Lots of distinct items**\n",
    "\n",
    "There are more than **1000** distinct items in that sample. It will be hard to plot them one by one, so it's a good idea to plot some subset of those items (the most frequent ones, for example)."
   ]
  },
  {
   "cell_type": "markdown",
   "metadata": {},
   "source": [
    "**Getting the most frequent items**"
   ]
  },
  {
   "cell_type": "code",
   "execution_count": 6,
   "metadata": {
    "scrolled": false
   },
   "outputs": [
    {
     "name": "stdout",
     "output_type": "stream",
     "text": [
      "Index(['Transporte Local / Locação de Automóvel / Combustível',\n",
      "       'Passagens Aéreas (Descrever os trechos na tela de deslocamentos)',\n",
      "       'Assessor de imprensa', 'Refeição', 'Assistente de produção',\n",
      "       'Produtor Executivo', 'Contador', 'Hospedagem sem Alimentação',\n",
      "       'Cartaz',\n",
      "       'Banner/faixa adesiva/faixa de lona/saia de palco/testeira/pórtico\\r\\n'],\n",
      "      dtype='object')\n"
     ]
    },
    {
     "data": {
      "text/plain": [
       "Transporte Local / Locação de Automóvel / Combustível                    331\n",
       "Passagens Aéreas (Descrever os trechos na tela de deslocamentos)         318\n",
       "Assessor de imprensa                                                     308\n",
       "Refeição                                                                 308\n",
       "Assistente de produção                                                   283\n",
       "Produtor Executivo                                                       267\n",
       "Contador                                                                 249\n",
       "Hospedagem sem Alimentação                                               240\n",
       "Cartaz                                                                   225\n",
       "Banner/faixa adesiva/faixa de lona/saia de palco/testeira/pórtico\\r\\n    220\n",
       "Name: Item, dtype: int64"
      ]
     },
     "metadata": {},
     "output_type": "display_data"
    }
   ],
   "source": [
    "top_frequent = dt['Item'].value_counts().head(10)\n",
    "print(top_frequent.index)\n",
    "display(top_frequent)"
   ]
  },
  {
   "cell_type": "code",
   "execution_count": 7,
   "metadata": {},
   "outputs": [
    {
     "data": {
      "text/plain": [
       "(array(['2009-04-13T00:00:00.000000000', '2009-04-14T00:00:00.000000000',\n",
       "        '2009-04-17T00:00:00.000000000', ...,\n",
       "        '2018-09-01T00:00:00.000000000', '2019-01-15T21:24:42.000000000',\n",
       "        '2019-01-21T09:07:02.000000000'], dtype='datetime64[ns]'),\n",
       " array([6.250e+02, 2.600e+02, 1.800e+04, ..., 1.039e+01, 9.000e+01,\n",
       "        5.900e+04]))"
      ]
     },
     "execution_count": 7,
     "metadata": {},
     "output_type": "execute_result"
    }
   ],
   "source": [
    "Dates.get_xy(dt, date_column, price_column)"
   ]
  },
  {
   "cell_type": "code",
   "execution_count": 8,
   "metadata": {
    "scrolled": true
   },
   "outputs": [
    {
     "name": "stdout",
     "output_type": "stream",
     "text": [
      "frequent_item = [Transporte Local / Locação de Automóvel / Combustível]\n"
     ]
    },
    {
     "data": {
      "text/plain": [
       "5392    2009-07-01 00:00:00\n",
       "15495   2009-07-09 00:00:00\n",
       "3720    2009-07-10 00:00:00\n",
       "2195    2009-07-20 00:00:00\n",
       "13290   2009-08-01 00:00:00\n",
       "10302   2009-08-20 00:00:00\n",
       "893     2009-09-01 00:00:00\n",
       "2990    2009-09-30 00:00:00\n",
       "1587    2009-10-01 00:00:00\n",
       "6199    2009-10-08 00:00:00\n",
       "14642   2009-10-10 00:00:00\n",
       "4732    2009-10-17 00:00:00\n",
       "1006    2009-10-26 00:00:00\n",
       "11009   2009-11-01 00:00:00\n",
       "6271    2009-12-10 00:00:00\n",
       "14992   2009-12-13 00:00:00\n",
       "194     2009-12-16 00:00:00\n",
       "15734   2009-12-21 00:00:00\n",
       "3815    2010-01-01 00:00:00\n",
       "17029   2010-01-01 00:00:00\n",
       "8555    2010-01-04 00:00:00\n",
       "15755   2010-01-05 00:00:00\n",
       "7276    2010-01-10 00:00:00\n",
       "7214    2010-01-15 00:00:00\n",
       "7278    2010-01-18 00:00:00\n",
       "964     2010-01-29 00:00:00\n",
       "4295    2010-02-01 00:00:00\n",
       "2460    2010-02-02 00:00:00\n",
       "1797    2010-02-10 00:00:00\n",
       "13126   2010-02-14 00:00:00\n",
       "                ...        \n",
       "1484    2017-01-06 16:36:31\n",
       "7359    2017-02-06 08:11:17\n",
       "15664   2017-02-17 12:05:16\n",
       "14451   2017-02-23 14:33:31\n",
       "13128   2017-02-28 09:32:17\n",
       "16869   2017-03-03 09:18:14\n",
       "1050    2017-04-28 00:00:00\n",
       "6945    2017-05-30 15:22:46\n",
       "2226    2017-05-31 10:38:16\n",
       "421     2017-06-05 13:48:32\n",
       "7209    2017-06-16 10:21:05\n",
       "17376   2017-06-20 13:39:36\n",
       "12914   2017-07-01 12:56:53\n",
       "10404   2017-08-03 10:22:10\n",
       "1873    2017-08-03 17:37:13\n",
       "2747    2017-08-07 10:27:42\n",
       "67      2017-08-08 14:21:19\n",
       "15762   2017-09-04 13:45:57\n",
       "1326    2017-09-18 09:52:19\n",
       "9982    2017-09-19 10:44:28\n",
       "8807    2017-09-29 14:03:25\n",
       "4089    2017-10-13 10:30:50\n",
       "13996   2017-11-03 15:40:06\n",
       "13986   2017-11-06 16:49:17\n",
       "15824   2017-11-17 17:45:34\n",
       "8929    2017-11-24 15:51:57\n",
       "783     2018-01-01 09:51:17\n",
       "8596    2018-01-01 10:19:14\n",
       "3096    2018-01-01 10:19:14\n",
       "14210   2018-02-03 11:24:27\n",
       "Name: Data, Length: 331, dtype: datetime64[ns]"
      ]
     },
     "metadata": {},
     "output_type": "display_data"
    },
    {
     "data": {
      "text/plain": [
       "Timestamp('2009-07-01 00:00:00')"
      ]
     },
     "metadata": {},
     "output_type": "display_data"
    }
   ],
   "source": [
    "from utils.plotter import Plotter\n",
    "import matplotlib.pyplot as plt\n",
    "%matplotlib inline\n",
    "\n",
    "\n",
    "frequent_item = top_frequent.index[0]\n",
    "\n",
    "#x, y = Dates.get_xy_dates(dt, date_column, price_column)\n",
    "\n",
    "#Plotter.plot_scatter_along_time(x, y, subplot = 121, x_label = date_column, y_label = price_column, title = frequent_item)\n",
    "#Plotter.plot_log_along_time(x, y, subplot = 121, x_label = date_column, y_label = price_column, title = frequent_item)\n",
    "#plt.show()\n",
    "\n",
    "def debug_dates():\n",
    "    print('frequent_item = [{}]'.format(frequent_item))\n",
    "    rows = dt[dt.Item == frequent_item]\n",
    "    x_dates = rows['Data'].copy()\n",
    "    x_dates.sort_values(inplace=True)\n",
    "    display(x_dates)\n",
    "    display(x_dates.min())\n",
    "    \n",
    "debug_dates()\n"
   ]
  },
  {
   "cell_type": "code",
   "execution_count": null,
   "metadata": {},
   "outputs": [],
   "source": []
  }
 ],
 "metadata": {
  "kernelspec": {
   "display_name": "Python 3",
   "language": "python",
   "name": "python3"
  },
  "language_info": {
   "codemirror_mode": {
    "name": "ipython",
    "version": 3
   },
   "file_extension": ".py",
   "mimetype": "text/x-python",
   "name": "python",
   "nbconvert_exporter": "python",
   "pygments_lexer": "ipython3",
   "version": "3.6.4"
  }
 },
 "nbformat": 4,
 "nbformat_minor": 2
}
