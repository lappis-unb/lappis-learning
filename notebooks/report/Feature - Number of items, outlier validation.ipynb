{
 "cells": [
  {
   "cell_type": "markdown",
   "metadata": {},
   "source": [
    "### Extracting features - Finance analysis"
   ]
  },
  {
   "cell_type": "markdown",
   "metadata": {},
   "source": [
    "### Features Extracted:\n",
    "\n",
    "- https://github.com/lappis-unb/salic-ml/wiki/Brainstorming-de-features-para-estimar-Complexidade-Financeira\n",
    "    \n",
    "Gerar features de um segmento \"ESPECÍFICO\" e \"GLOBAIS\"."
   ]
  },
  {
   "cell_type": "markdown",
   "metadata": {},
   "source": [
    "### Importing data"
   ]
  },
  {
   "cell_type": "code",
   "execution_count": 73,
   "metadata": {},
   "outputs": [],
   "source": [
    "import os\n",
    "import sys\n",
    "import time\n",
    "import numpy as np\n",
    "import pandas as pd\n",
    "import matplotlib.pyplot as plt\n",
    "from scipy import stats\n",
    "\n",
    "\n",
    "from salicml.utils.dates import Dates\n",
    "from salicml.utils.read_csv import read_csv\n",
    "from salicml.utils.utils import debug\n",
    "\n",
    "PROJECT_ROOT = os.path.abspath(os.path.join(os.pardir, os.pardir))\n",
    "DATA_FOLDER = os.path.join(PROJECT_ROOT, 'data', 'raw')"
   ]
  },
  {
   "cell_type": "markdown",
   "metadata": {},
   "source": [
    "#### PLANILHA ORCAMENTARIA\n",
    "\n",
    "QUERY: /data/scripts/planilha_orcamentaria.sql\n"
   ]
  },
  {
   "cell_type": "code",
   "execution_count": 74,
   "metadata": {
    "scrolled": false
   },
   "outputs": [
    {
     "data": {
      "text/html": [
       "<div>\n",
       "<style scoped>\n",
       "    .dataframe tbody tr th:only-of-type {\n",
       "        vertical-align: middle;\n",
       "    }\n",
       "\n",
       "    .dataframe tbody tr th {\n",
       "        vertical-align: top;\n",
       "    }\n",
       "\n",
       "    .dataframe thead th {\n",
       "        text-align: right;\n",
       "    }\n",
       "</style>\n",
       "<table border=\"1\" class=\"dataframe\">\n",
       "  <thead>\n",
       "    <tr style=\"text-align: right;\">\n",
       "      <th></th>\n",
       "      <th>idPronac</th>\n",
       "      <th>PRONAC</th>\n",
       "      <th>idPlanilhaAprovacao</th>\n",
       "      <th>Item</th>\n",
       "      <th>idPlanilhaItens</th>\n",
       "      <th>Unidade</th>\n",
       "      <th>QtDias</th>\n",
       "      <th>QtItem</th>\n",
       "      <th>nrOcorrencia</th>\n",
       "      <th>VlUnitarioSolicitado</th>\n",
       "      <th>...</th>\n",
       "      <th>UfItem</th>\n",
       "      <th>MunicipioItem</th>\n",
       "      <th>Etapa</th>\n",
       "      <th>idArea</th>\n",
       "      <th>Area</th>\n",
       "      <th>idSegmento</th>\n",
       "      <th>Segmento</th>\n",
       "      <th>idProduto</th>\n",
       "      <th>Produto</th>\n",
       "      <th>DataProjeto</th>\n",
       "    </tr>\n",
       "  </thead>\n",
       "  <tbody>\n",
       "    <tr>\n",
       "      <th>0</th>\n",
       "      <td>114166</td>\n",
       "      <td>93004</td>\n",
       "      <td>50109</td>\n",
       "      <td>Montagem e desmontagem</td>\n",
       "      <td>88</td>\n",
       "      <td>Serviço</td>\n",
       "      <td>2</td>\n",
       "      <td>1.0</td>\n",
       "      <td>2</td>\n",
       "      <td>140.00</td>\n",
       "      <td>...</td>\n",
       "      <td>PB</td>\n",
       "      <td>Sumé</td>\n",
       "      <td>2 - Produção / Execução</td>\n",
       "      <td>5</td>\n",
       "      <td>Patrimônio Cultural</td>\n",
       "      <td>51</td>\n",
       "      <td>História</td>\n",
       "      <td>62</td>\n",
       "      <td>Exposição de Artes</td>\n",
       "      <td>2009-06-26 09:46:54</td>\n",
       "    </tr>\n",
       "    <tr>\n",
       "      <th>1</th>\n",
       "      <td>123461</td>\n",
       "      <td>103228</td>\n",
       "      <td>239572</td>\n",
       "      <td>Locação de Piano</td>\n",
       "      <td>3040</td>\n",
       "      <td>Serviço</td>\n",
       "      <td>12</td>\n",
       "      <td>1.0</td>\n",
       "      <td>6</td>\n",
       "      <td>1500.00</td>\n",
       "      <td>...</td>\n",
       "      <td>RJ</td>\n",
       "      <td>Rio de Janeiro</td>\n",
       "      <td>2 - Produção / Execução</td>\n",
       "      <td>3</td>\n",
       "      <td>Música</td>\n",
       "      <td>33</td>\n",
       "      <td>Música Instrumental</td>\n",
       "      <td>51</td>\n",
       "      <td>Apresentação Musical</td>\n",
       "      <td>2010-05-06 10:49:13</td>\n",
       "    </tr>\n",
       "    <tr>\n",
       "      <th>2</th>\n",
       "      <td>123461</td>\n",
       "      <td>103228</td>\n",
       "      <td>239599</td>\n",
       "      <td>Programa</td>\n",
       "      <td>2634</td>\n",
       "      <td>Unidade</td>\n",
       "      <td>6</td>\n",
       "      <td>400.0</td>\n",
       "      <td>6</td>\n",
       "      <td>2.00</td>\n",
       "      <td>...</td>\n",
       "      <td>RJ</td>\n",
       "      <td>Rio de Janeiro</td>\n",
       "      <td>3 - Divulgação / Comercialização</td>\n",
       "      <td>3</td>\n",
       "      <td>Música</td>\n",
       "      <td>33</td>\n",
       "      <td>Música Instrumental</td>\n",
       "      <td>51</td>\n",
       "      <td>Apresentação Musical</td>\n",
       "      <td>2010-05-06 10:49:13</td>\n",
       "    </tr>\n",
       "    <tr>\n",
       "      <th>3</th>\n",
       "      <td>132803</td>\n",
       "      <td>1012471</td>\n",
       "      <td>86608</td>\n",
       "      <td>Transporte Local / Locação de Automóvel / Comb...</td>\n",
       "      <td>134</td>\n",
       "      <td>Metro 3 / Km</td>\n",
       "      <td>4</td>\n",
       "      <td>500.0</td>\n",
       "      <td>4</td>\n",
       "      <td>1.45</td>\n",
       "      <td>...</td>\n",
       "      <td>MG</td>\n",
       "      <td>Viçosa</td>\n",
       "      <td>2 - Produção / Execução</td>\n",
       "      <td>7</td>\n",
       "      <td>Artes Integradas</td>\n",
       "      <td>71</td>\n",
       "      <td>Artes Integradas</td>\n",
       "      <td>51</td>\n",
       "      <td>Apresentação Musical</td>\n",
       "      <td>2010-12-21 17:09:22</td>\n",
       "    </tr>\n",
       "    <tr>\n",
       "      <th>4</th>\n",
       "      <td>115111</td>\n",
       "      <td>93932</td>\n",
       "      <td>11387</td>\n",
       "      <td>Confecção de painéis explicativos</td>\n",
       "      <td>90</td>\n",
       "      <td>Unidade</td>\n",
       "      <td>30</td>\n",
       "      <td>20.0</td>\n",
       "      <td>1</td>\n",
       "      <td>300.00</td>\n",
       "      <td>...</td>\n",
       "      <td>PE</td>\n",
       "      <td>Recife</td>\n",
       "      <td>2 - Produção / Execução</td>\n",
       "      <td>7</td>\n",
       "      <td>Artes Integradas</td>\n",
       "      <td>71</td>\n",
       "      <td>Artes Integradas</td>\n",
       "      <td>62</td>\n",
       "      <td>Exposição de Artes</td>\n",
       "      <td>2009-07-27 08:40:04</td>\n",
       "    </tr>\n",
       "  </tbody>\n",
       "</table>\n",
       "<p>5 rows × 23 columns</p>\n",
       "</div>"
      ],
      "text/plain": [
       "   idPronac   PRONAC  idPlanilhaAprovacao  \\\n",
       "0    114166    93004                50109   \n",
       "1    123461   103228               239572   \n",
       "2    123461   103228               239599   \n",
       "3    132803  1012471                86608   \n",
       "4    115111    93932                11387   \n",
       "\n",
       "                                                Item  idPlanilhaItens  \\\n",
       "0                             Montagem e desmontagem               88   \n",
       "1                                   Locação de Piano             3040   \n",
       "2                                           Programa             2634   \n",
       "3  Transporte Local / Locação de Automóvel / Comb...              134   \n",
       "4                  Confecção de painéis explicativos               90   \n",
       "\n",
       "        Unidade  QtDias  QtItem  nrOcorrencia  VlUnitarioSolicitado  \\\n",
       "0       Serviço       2     1.0             2                140.00   \n",
       "1       Serviço      12     1.0             6               1500.00   \n",
       "2       Unidade       6   400.0             6                  2.00   \n",
       "3  Metro 3 / Km       4   500.0             4                  1.45   \n",
       "4       Unidade      30    20.0             1                300.00   \n",
       "\n",
       "          ...           UfItem   MunicipioItem  \\\n",
       "0         ...               PB            Sumé   \n",
       "1         ...               RJ  Rio de Janeiro   \n",
       "2         ...               RJ  Rio de Janeiro   \n",
       "3         ...               MG          Viçosa   \n",
       "4         ...               PE          Recife   \n",
       "\n",
       "                              Etapa idArea                 Area idSegmento  \\\n",
       "0           2 - Produção / Execução      5  Patrimônio Cultural         51   \n",
       "1           2 - Produção / Execução      3               Música         33   \n",
       "2  3 - Divulgação / Comercialização      3               Música         33   \n",
       "3           2 - Produção / Execução      7     Artes Integradas         71   \n",
       "4           2 - Produção / Execução      7     Artes Integradas         71   \n",
       "\n",
       "              Segmento idProduto               Produto          DataProjeto  \n",
       "0             História        62    Exposição de Artes  2009-06-26 09:46:54  \n",
       "1  Música Instrumental        51  Apresentação Musical  2010-05-06 10:49:13  \n",
       "2  Música Instrumental        51  Apresentação Musical  2010-05-06 10:49:13  \n",
       "3     Artes Integradas        51  Apresentação Musical  2010-12-21 17:09:22  \n",
       "4     Artes Integradas        62    Exposição de Artes  2009-07-27 08:40:04  \n",
       "\n",
       "[5 rows x 23 columns]"
      ]
     },
     "execution_count": 74,
     "metadata": {},
     "output_type": "execute_result"
    }
   ],
   "source": [
    "PlanilhaOrcamentaria = 'planilha_orcamentaria.csv'\n",
    "dt_items = read_csv(PlanilhaOrcamentaria)\n",
    "\n",
    "dt_items.head()"
   ]
  },
  {
   "cell_type": "code",
   "execution_count": 75,
   "metadata": {
    "scrolled": true
   },
   "outputs": [
    {
     "data": {
      "text/html": [
       "<div>\n",
       "<style scoped>\n",
       "    .dataframe tbody tr th:only-of-type {\n",
       "        vertical-align: middle;\n",
       "    }\n",
       "\n",
       "    .dataframe tbody tr th {\n",
       "        vertical-align: top;\n",
       "    }\n",
       "\n",
       "    .dataframe thead th {\n",
       "        text-align: right;\n",
       "    }\n",
       "</style>\n",
       "<table border=\"1\" class=\"dataframe\">\n",
       "  <thead>\n",
       "    <tr style=\"text-align: right;\">\n",
       "      <th></th>\n",
       "      <th>PRONAC</th>\n",
       "      <th>idPlanilhaAprovacao</th>\n",
       "      <th>idSegmento</th>\n",
       "    </tr>\n",
       "  </thead>\n",
       "  <tbody>\n",
       "    <tr>\n",
       "      <th>0</th>\n",
       "      <td>93004</td>\n",
       "      <td>50109</td>\n",
       "      <td>51</td>\n",
       "    </tr>\n",
       "    <tr>\n",
       "      <th>1</th>\n",
       "      <td>103228</td>\n",
       "      <td>239572</td>\n",
       "      <td>33</td>\n",
       "    </tr>\n",
       "    <tr>\n",
       "      <th>2</th>\n",
       "      <td>103228</td>\n",
       "      <td>239599</td>\n",
       "      <td>33</td>\n",
       "    </tr>\n",
       "    <tr>\n",
       "      <th>3</th>\n",
       "      <td>1012471</td>\n",
       "      <td>86608</td>\n",
       "      <td>71</td>\n",
       "    </tr>\n",
       "    <tr>\n",
       "      <th>4</th>\n",
       "      <td>93932</td>\n",
       "      <td>11387</td>\n",
       "      <td>71</td>\n",
       "    </tr>\n",
       "  </tbody>\n",
       "</table>\n",
       "</div>"
      ],
      "text/plain": [
       "    PRONAC  idPlanilhaAprovacao idSegmento\n",
       "0    93004                50109         51\n",
       "1   103228               239572         33\n",
       "2   103228               239599         33\n",
       "3  1012471                86608         71\n",
       "4    93932                11387         71"
      ]
     },
     "execution_count": 75,
     "metadata": {},
     "output_type": "execute_result"
    }
   ],
   "source": [
    "dt_items = dt_items[['PRONAC', 'idPlanilhaAprovacao','idSegmento']]\n",
    "dt_items.head()"
   ]
  },
  {
   "cell_type": "markdown",
   "metadata": {},
   "source": [
    "### FEATURES \n",
    "    - Numero de Itens do projeto."
   ]
  },
  {
   "cell_type": "markdown",
   "metadata": {},
   "source": [
    "# Dividindo pronacs de treino e pronacs de teste\n",
    "\n",
    "50/50"
   ]
  },
  {
   "cell_type": "code",
   "execution_count": 76,
   "metadata": {
    "scrolled": true
   },
   "outputs": [],
   "source": [
    "from sklearn.model_selection import train_test_split\n",
    "\n",
    "\n",
    "all_pronacs = dt_items.PRONAC.unique()\n",
    "pronacs_train, pronacs_test = train_test_split(all_pronacs, test_size=0.5)\n",
    "\n",
    "\n",
    "dt_train = dt_items[dt_items['PRONAC'].isin(pronacs_train)]\n",
    "dt_test = dt_items[dt_items['PRONAC'].isin(pronacs_test)]"
   ]
  },
  {
   "cell_type": "code",
   "execution_count": 77,
   "metadata": {},
   "outputs": [
    {
     "name": "stdout",
     "output_type": "stream",
     "text": [
      "pronacs_train = [ 150350 1210252  128296 ...  163391  132178  132656]\n",
      "pronacs_test = [ 127032  175926  148083 ... 1111307  151885  146938]\n"
     ]
    },
    {
     "data": {
      "text/html": [
       "<div>\n",
       "<style scoped>\n",
       "    .dataframe tbody tr th:only-of-type {\n",
       "        vertical-align: middle;\n",
       "    }\n",
       "\n",
       "    .dataframe tbody tr th {\n",
       "        vertical-align: top;\n",
       "    }\n",
       "\n",
       "    .dataframe thead th {\n",
       "        text-align: right;\n",
       "    }\n",
       "</style>\n",
       "<table border=\"1\" class=\"dataframe\">\n",
       "  <thead>\n",
       "    <tr style=\"text-align: right;\">\n",
       "      <th></th>\n",
       "      <th>PRONAC</th>\n",
       "      <th>idPlanilhaAprovacao</th>\n",
       "      <th>idSegmento</th>\n",
       "    </tr>\n",
       "  </thead>\n",
       "  <tbody>\n",
       "    <tr>\n",
       "      <th>4</th>\n",
       "      <td>93932</td>\n",
       "      <td>11387</td>\n",
       "      <td>71</td>\n",
       "    </tr>\n",
       "    <tr>\n",
       "      <th>6</th>\n",
       "      <td>1012800</td>\n",
       "      <td>141238</td>\n",
       "      <td>71</td>\n",
       "    </tr>\n",
       "    <tr>\n",
       "      <th>9</th>\n",
       "      <td>146032</td>\n",
       "      <td>1224601</td>\n",
       "      <td>12</td>\n",
       "    </tr>\n",
       "    <tr>\n",
       "      <th>10</th>\n",
       "      <td>122413</td>\n",
       "      <td>560343</td>\n",
       "      <td>4B</td>\n",
       "    </tr>\n",
       "    <tr>\n",
       "      <th>16</th>\n",
       "      <td>109325</td>\n",
       "      <td>51766</td>\n",
       "      <td>12</td>\n",
       "    </tr>\n",
       "  </tbody>\n",
       "</table>\n",
       "</div>"
      ],
      "text/plain": [
       "     PRONAC  idPlanilhaAprovacao idSegmento\n",
       "4     93932                11387         71\n",
       "6   1012800               141238         71\n",
       "9    146032              1224601         12\n",
       "10   122413               560343         4B\n",
       "16   109325                51766         12"
      ]
     },
     "metadata": {},
     "output_type": "display_data"
    },
    {
     "data": {
      "text/html": [
       "<div>\n",
       "<style scoped>\n",
       "    .dataframe tbody tr th:only-of-type {\n",
       "        vertical-align: middle;\n",
       "    }\n",
       "\n",
       "    .dataframe tbody tr th {\n",
       "        vertical-align: top;\n",
       "    }\n",
       "\n",
       "    .dataframe thead th {\n",
       "        text-align: right;\n",
       "    }\n",
       "</style>\n",
       "<table border=\"1\" class=\"dataframe\">\n",
       "  <thead>\n",
       "    <tr style=\"text-align: right;\">\n",
       "      <th></th>\n",
       "      <th>PRONAC</th>\n",
       "      <th>idPlanilhaAprovacao</th>\n",
       "      <th>idSegmento</th>\n",
       "    </tr>\n",
       "  </thead>\n",
       "  <tbody>\n",
       "    <tr>\n",
       "      <th>0</th>\n",
       "      <td>93004</td>\n",
       "      <td>50109</td>\n",
       "      <td>51</td>\n",
       "    </tr>\n",
       "    <tr>\n",
       "      <th>1</th>\n",
       "      <td>103228</td>\n",
       "      <td>239572</td>\n",
       "      <td>33</td>\n",
       "    </tr>\n",
       "    <tr>\n",
       "      <th>2</th>\n",
       "      <td>103228</td>\n",
       "      <td>239599</td>\n",
       "      <td>33</td>\n",
       "    </tr>\n",
       "    <tr>\n",
       "      <th>3</th>\n",
       "      <td>1012471</td>\n",
       "      <td>86608</td>\n",
       "      <td>71</td>\n",
       "    </tr>\n",
       "    <tr>\n",
       "      <th>5</th>\n",
       "      <td>93004</td>\n",
       "      <td>50208</td>\n",
       "      <td>51</td>\n",
       "    </tr>\n",
       "  </tbody>\n",
       "</table>\n",
       "</div>"
      ],
      "text/plain": [
       "    PRONAC  idPlanilhaAprovacao idSegmento\n",
       "0    93004                50109         51\n",
       "1   103228               239572         33\n",
       "2   103228               239599         33\n",
       "3  1012471                86608         71\n",
       "5    93004                50208         51"
      ]
     },
     "metadata": {},
     "output_type": "display_data"
    }
   ],
   "source": [
    "print('pronacs_train = {}'.format(pronacs_train))\n",
    "print('pronacs_test = {}'.format(pronacs_test))\n",
    "\n",
    "assert (dt_train.shape[0] + dt_test.shape[0]) == dt_items.shape[0]\n",
    "\n",
    "display(dt_train.head())\n",
    "display(dt_test.head())"
   ]
  },
  {
   "cell_type": "code",
   "execution_count": 78,
   "metadata": {
    "scrolled": true
   },
   "outputs": [
    {
     "data": {
      "text/html": [
       "<div>\n",
       "<style scoped>\n",
       "    .dataframe tbody tr th:only-of-type {\n",
       "        vertical-align: middle;\n",
       "    }\n",
       "\n",
       "    .dataframe tbody tr th {\n",
       "        vertical-align: top;\n",
       "    }\n",
       "\n",
       "    .dataframe thead th {\n",
       "        text-align: right;\n",
       "    }\n",
       "</style>\n",
       "<table border=\"1\" class=\"dataframe\">\n",
       "  <thead>\n",
       "    <tr style=\"text-align: right;\">\n",
       "      <th></th>\n",
       "      <th></th>\n",
       "      <th>idPlanilhaAprovacao</th>\n",
       "    </tr>\n",
       "    <tr>\n",
       "      <th>idSegmento</th>\n",
       "      <th>PRONAC</th>\n",
       "      <th></th>\n",
       "    </tr>\n",
       "  </thead>\n",
       "  <tbody>\n",
       "    <tr>\n",
       "      <th rowspan=\"5\" valign=\"top\">11</th>\n",
       "      <th>98022</th>\n",
       "      <td>17</td>\n",
       "    </tr>\n",
       "    <tr>\n",
       "      <th>100855</th>\n",
       "      <td>96</td>\n",
       "    </tr>\n",
       "    <tr>\n",
       "      <th>104202</th>\n",
       "      <td>57</td>\n",
       "    </tr>\n",
       "    <tr>\n",
       "      <th>106879</th>\n",
       "      <td>27</td>\n",
       "    </tr>\n",
       "    <tr>\n",
       "      <th>107042</th>\n",
       "      <td>71</td>\n",
       "    </tr>\n",
       "  </tbody>\n",
       "</table>\n",
       "</div>"
      ],
      "text/plain": [
       "                   idPlanilhaAprovacao\n",
       "idSegmento PRONAC                     \n",
       "11         98022                    17\n",
       "           100855                   96\n",
       "           104202                   57\n",
       "           106879                   27\n",
       "           107042                   71"
      ]
     },
     "execution_count": 78,
     "metadata": {},
     "output_type": "execute_result"
    }
   ],
   "source": [
    "segment_projects = dt_train.groupby(['idSegmento', 'PRONAC']).count()\n",
    "segment_projects.head()"
   ]
  },
  {
   "cell_type": "markdown",
   "metadata": {},
   "source": [
    "### Plotando as distribuiçoes dos segmentos mais comuns"
   ]
  },
  {
   "cell_type": "code",
   "execution_count": 79,
   "metadata": {
    "scrolled": false
   },
   "outputs": [
    {
     "data": {
      "text/html": [
       "<div>\n",
       "<style scoped>\n",
       "    .dataframe tbody tr th:only-of-type {\n",
       "        vertical-align: middle;\n",
       "    }\n",
       "\n",
       "    .dataframe tbody tr th {\n",
       "        vertical-align: top;\n",
       "    }\n",
       "\n",
       "    .dataframe thead th {\n",
       "        text-align: right;\n",
       "    }\n",
       "</style>\n",
       "<table border=\"1\" class=\"dataframe\">\n",
       "  <thead>\n",
       "    <tr style=\"text-align: right;\">\n",
       "      <th></th>\n",
       "      <th>Número de projetos</th>\n",
       "    </tr>\n",
       "    <tr>\n",
       "      <th>idSegmento</th>\n",
       "      <th></th>\n",
       "    </tr>\n",
       "  </thead>\n",
       "  <tbody>\n",
       "    <tr>\n",
       "      <th>11</th>\n",
       "      <td>4814</td>\n",
       "    </tr>\n",
       "    <tr>\n",
       "      <th>31</th>\n",
       "      <td>2281</td>\n",
       "    </tr>\n",
       "    <tr>\n",
       "      <th>33</th>\n",
       "      <td>2153</td>\n",
       "    </tr>\n",
       "    <tr>\n",
       "      <th>4B</th>\n",
       "      <td>1329</td>\n",
       "    </tr>\n",
       "    <tr>\n",
       "      <th>12</th>\n",
       "      <td>1185</td>\n",
       "    </tr>\n",
       "  </tbody>\n",
       "</table>\n",
       "</div>"
      ],
      "text/plain": [
       "            Número de projetos\n",
       "idSegmento                    \n",
       "11                        4814\n",
       "31                        2281\n",
       "33                        2153\n",
       "4B                        1329\n",
       "12                        1185"
      ]
     },
     "metadata": {},
     "output_type": "display_data"
    }
   ],
   "source": [
    "common_segements = segment_projects.groupby(['idSegmento']).count().sort_values(by='idPlanilhaAprovacao', ascending=False)\n",
    "common_segements.rename(columns={'idPlanilhaAprovacao': 'Número de projetos'}, inplace=True)\n",
    "display(common_segements.head())"
   ]
  },
  {
   "cell_type": "code",
   "execution_count": 80,
   "metadata": {},
   "outputs": [
    {
     "data": {
      "image/png": "[encoded data removed]",
      "text/plain": [
       "<Figure size 432x288 with 1 Axes>"
      ]
     },
     "metadata": {},
     "output_type": "display_data"
    },
    {
     "data": {
      "image/png": "[encoded data removed]",
      "text/plain": [
       "<Figure size 432x288 with 1 Axes>"
      ]
     },
     "metadata": {},
     "output_type": "display_data"
    },
    {
     "data": {
      "image/png": "[encoded data removed]",
      "text/plain": [
       "<Figure size 432x288 with 1 Axes>"
      ]
     },
     "metadata": {},
     "output_type": "display_data"
    },
    {
     "data": {
      "image/png": "[encoded data removed]",
      "text/plain": [
       "<Figure size 432x288 with 1 Axes>"
      ]
     },
     "metadata": {},
     "output_type": "display_data"
    },
    {
     "data": {
      "image/png": "[encoded data removed]",
      "text/plain": [
       "<Figure size 432x288 with 1 Axes>"
      ]
     },
     "metadata": {},
     "output_type": "display_data"
    },
    {
     "data": {
      "image/png": "[encoded data removed]",
      "text/plain": [
       "<Figure size 432x288 with 1 Axes>"
      ]
     },
     "metadata": {},
     "output_type": "display_data"
    },
    {
     "data": {
      "image/png": "[encoded data removed]",
      "text/plain": [
       "<Figure size 432x288 with 1 Axes>"
      ]
     },
     "metadata": {},
     "output_type": "display_data"
    },
    {
     "data": {
      "image/png": "[encoded data removed]",
      "text/plain": [
       "<Figure size 432x288 with 1 Axes>"
      ]
     },
     "metadata": {},
     "output_type": "display_data"
    },
    {
     "data": {
      "image/png": "[encoded data removed]",
      "text/plain": [
       "<Figure size 432x288 with 1 Axes>"
      ]
     },
     "metadata": {},
     "output_type": "display_data"
    },
    {
     "data": {
      "image/png": "[encoded data removed]",
      "text/plain": [
       "<Figure size 432x288 with 1 Axes>"
      ]
     },
     "metadata": {},
     "output_type": "display_data"
    }
   ],
   "source": [
    "from scipy.stats import norm\n",
    "\n",
    "\n",
    "def plot_segment(id, items):\n",
    "    plt.hist(items, bins=100, density=True, alpha=0.6, color='g', edgecolor='black')\n",
    "    plt.title('Segmento \"{}\"'.format(id))\n",
    "    plt.xlabel('Número de itens')\n",
    "    plt.ylabel('Frequência de projetos')\n",
    "\n",
    "    mu, std = np.mean(items), np.std(items)\n",
    "    \n",
    "    xmin, xmax = plt.xlim()\n",
    "    x = np.linspace(xmin, xmax, 1000)\n",
    "    p = norm.pdf(x, mu, std)\n",
    "    plt.plot(x, p, 'k', linewidth=2)\n",
    "    plt.show()\n",
    "\n",
    "for counter, id_segmento in enumerate(common_segements.index.values):    \n",
    "    projects_num_items = segment_projects.loc[id_segmento].values\n",
    "    plot_segment(id_segmento, projects_num_items)\n",
    "    \n",
    "    counter += 1\n",
    "    if counter == 10:\n",
    "        break"
   ]
  },
  {
   "cell_type": "code",
   "execution_count": 81,
   "metadata": {
    "scrolled": true
   },
   "outputs": [
    {
     "data": {
      "text/html": [
       "<div>\n",
       "<style scoped>\n",
       "    .dataframe tbody tr th:only-of-type {\n",
       "        vertical-align: middle;\n",
       "    }\n",
       "\n",
       "    .dataframe tbody tr th {\n",
       "        vertical-align: top;\n",
       "    }\n",
       "\n",
       "    .dataframe thead th {\n",
       "        text-align: right;\n",
       "    }\n",
       "</style>\n",
       "<table border=\"1\" class=\"dataframe\">\n",
       "  <thead>\n",
       "    <tr style=\"text-align: right;\">\n",
       "      <th></th>\n",
       "      <th>count</th>\n",
       "      <th>sum</th>\n",
       "      <th>mean</th>\n",
       "      <th>std</th>\n",
       "    </tr>\n",
       "    <tr>\n",
       "      <th>idSegmento</th>\n",
       "      <th></th>\n",
       "      <th></th>\n",
       "      <th></th>\n",
       "      <th></th>\n",
       "    </tr>\n",
       "  </thead>\n",
       "  <tbody>\n",
       "    <tr>\n",
       "      <th>11</th>\n",
       "      <td>4814</td>\n",
       "      <td>265873</td>\n",
       "      <td>55.229123</td>\n",
       "      <td>41.921345</td>\n",
       "    </tr>\n",
       "    <tr>\n",
       "      <th>12</th>\n",
       "      <td>1185</td>\n",
       "      <td>50095</td>\n",
       "      <td>42.274262</td>\n",
       "      <td>31.785412</td>\n",
       "    </tr>\n",
       "    <tr>\n",
       "      <th>13</th>\n",
       "      <td>190</td>\n",
       "      <td>9817</td>\n",
       "      <td>51.668421</td>\n",
       "      <td>41.764274</td>\n",
       "    </tr>\n",
       "    <tr>\n",
       "      <th>14</th>\n",
       "      <td>59</td>\n",
       "      <td>4110</td>\n",
       "      <td>69.661017</td>\n",
       "      <td>47.516099</td>\n",
       "    </tr>\n",
       "    <tr>\n",
       "      <th>15</th>\n",
       "      <td>1</td>\n",
       "      <td>66</td>\n",
       "      <td>66.000000</td>\n",
       "      <td>NaN</td>\n",
       "    </tr>\n",
       "  </tbody>\n",
       "</table>\n",
       "</div>"
      ],
      "text/plain": [
       "            count     sum       mean        std\n",
       "idSegmento                                     \n",
       "11           4814  265873  55.229123  41.921345\n",
       "12           1185   50095  42.274262  31.785412\n",
       "13            190    9817  51.668421  41.764274\n",
       "14             59    4110  69.661017  47.516099\n",
       "15              1      66  66.000000        NaN"
      ]
     },
     "execution_count": 81,
     "metadata": {},
     "output_type": "execute_result"
    }
   ],
   "source": [
    "segment_items_avg_std = segment_projects.groupby(['idSegmento'])\n",
    "segment_items_avg_std = segment_items_avg_std.agg(['count', 'sum', 'mean', 'std'])\n",
    "\n",
    "segment_items_avg_std.columns = segment_items_avg_std.columns.droplevel(0)\n",
    "\n",
    "segment_items_avg_std.head()"
   ]
  },
  {
   "cell_type": "markdown",
   "metadata": {},
   "source": [
    "# Calculando a porcentagem de outliers no conjunto de teste"
   ]
  },
  {
   "cell_type": "code",
   "execution_count": 82,
   "metadata": {
    "scrolled": true
   },
   "outputs": [
    {
     "data": {
      "text/html": [
       "<div>\n",
       "<style scoped>\n",
       "    .dataframe tbody tr th:only-of-type {\n",
       "        vertical-align: middle;\n",
       "    }\n",
       "\n",
       "    .dataframe tbody tr th {\n",
       "        vertical-align: top;\n",
       "    }\n",
       "\n",
       "    .dataframe thead th {\n",
       "        text-align: right;\n",
       "    }\n",
       "</style>\n",
       "<table border=\"1\" class=\"dataframe\">\n",
       "  <thead>\n",
       "    <tr style=\"text-align: right;\">\n",
       "      <th></th>\n",
       "      <th>count</th>\n",
       "      <th>idSegmento</th>\n",
       "    </tr>\n",
       "    <tr>\n",
       "      <th>PRONAC</th>\n",
       "      <th></th>\n",
       "      <th></th>\n",
       "    </tr>\n",
       "  </thead>\n",
       "  <tbody>\n",
       "    <tr>\n",
       "      <th>90105</th>\n",
       "      <td>61</td>\n",
       "      <td>61</td>\n",
       "    </tr>\n",
       "    <tr>\n",
       "      <th>90226</th>\n",
       "      <td>34</td>\n",
       "      <td>34</td>\n",
       "    </tr>\n",
       "    <tr>\n",
       "      <th>90335</th>\n",
       "      <td>26</td>\n",
       "      <td>26</td>\n",
       "    </tr>\n",
       "    <tr>\n",
       "      <th>90413</th>\n",
       "      <td>58</td>\n",
       "      <td>58</td>\n",
       "    </tr>\n",
       "    <tr>\n",
       "      <th>90722</th>\n",
       "      <td>33</td>\n",
       "      <td>33</td>\n",
       "    </tr>\n",
       "  </tbody>\n",
       "</table>\n",
       "</div>"
      ],
      "text/plain": [
       "        count  idSegmento\n",
       "PRONAC                   \n",
       "90105      61          61\n",
       "90226      34          34\n",
       "90335      26          26\n",
       "90413      58          58\n",
       "90722      33          33"
      ]
     },
     "execution_count": 82,
     "metadata": {},
     "output_type": "execute_result"
    }
   ],
   "source": [
    "project_items_grp = dt_items.groupby(['PRONAC'])\n",
    "project_items = project_items_grp.count().rename(columns={'idPlanilhaAprovacao': 'count'})\n",
    "project_items.head()"
   ]
  },
  {
   "cell_type": "code",
   "execution_count": 83,
   "metadata": {},
   "outputs": [
    {
     "data": {
      "text/plain": [
       "False"
      ]
     },
     "execution_count": 83,
     "metadata": {},
     "output_type": "execute_result"
    }
   ],
   "source": [
    "from salicml.outliers.gaussian_outlier import is_outlier\n",
    "\n",
    "\n",
    "def is_number_of_items_outlier(pronac):\n",
    "    assert isinstance(pronac, int)\n",
    "    num_items = project_items.loc[pronac]['count']\n",
    "    id_segmento = project_items_grp.get_group(90105).iloc[0]['idSegmento']\n",
    "    \n",
    "    mean = segment_items_avg_std.loc[id_segmento]['mean']\n",
    "    std = segment_items_avg_std.loc[id_segmento]['std']\n",
    "    outlier = is_outlier(num_items, mean, std)\n",
    "    return outlier\n",
    "\n",
    "pronac = np.random.choice(dt_test.PRONAC.values)\n",
    "is_number_of_items_outlier(90105)"
   ]
  },
  {
   "cell_type": "code",
   "execution_count": 84,
   "metadata": {},
   "outputs": [
    {
     "name": "stdout",
     "output_type": "stream",
     "text": [
      "0.06680720126885809\n"
     ]
    }
   ],
   "source": [
    "from salicml.outliers.gaussian_outlier import outlier_probability\n",
    "\n",
    "\n",
    "print(1 - outlier_probability(0.0, 1.0, c=1.5))"
   ]
  },
  {
   "cell_type": "code",
   "execution_count": 85,
   "metadata": {
    "scrolled": true
   },
   "outputs": [
    {
     "data": {
      "text/html": [
       "<div>\n",
       "<style scoped>\n",
       "    .dataframe tbody tr th:only-of-type {\n",
       "        vertical-align: middle;\n",
       "    }\n",
       "\n",
       "    .dataframe tbody tr th {\n",
       "        vertical-align: top;\n",
       "    }\n",
       "\n",
       "    .dataframe thead th {\n",
       "        text-align: right;\n",
       "    }\n",
       "</style>\n",
       "<table border=\"1\" class=\"dataframe\">\n",
       "  <thead>\n",
       "    <tr style=\"text-align: right;\">\n",
       "      <th></th>\n",
       "      <th>0</th>\n",
       "    </tr>\n",
       "  </thead>\n",
       "  <tbody>\n",
       "    <tr>\n",
       "      <th>count</th>\n",
       "      <td>20578.000000</td>\n",
       "    </tr>\n",
       "    <tr>\n",
       "      <th>mean</th>\n",
       "      <td>0.040577</td>\n",
       "    </tr>\n",
       "    <tr>\n",
       "      <th>std</th>\n",
       "      <td>0.197314</td>\n",
       "    </tr>\n",
       "    <tr>\n",
       "      <th>min</th>\n",
       "      <td>0.000000</td>\n",
       "    </tr>\n",
       "    <tr>\n",
       "      <th>25%</th>\n",
       "      <td>0.000000</td>\n",
       "    </tr>\n",
       "    <tr>\n",
       "      <th>50%</th>\n",
       "      <td>0.000000</td>\n",
       "    </tr>\n",
       "    <tr>\n",
       "      <th>75%</th>\n",
       "      <td>0.000000</td>\n",
       "    </tr>\n",
       "    <tr>\n",
       "      <th>max</th>\n",
       "      <td>1.000000</td>\n",
       "    </tr>\n",
       "  </tbody>\n",
       "</table>\n",
       "</div>"
      ],
      "text/plain": [
       "                  0\n",
       "count  20578.000000\n",
       "mean       0.040577\n",
       "std        0.197314\n",
       "min        0.000000\n",
       "25%        0.000000\n",
       "50%        0.000000\n",
       "75%        0.000000\n",
       "max        1.000000"
      ]
     },
     "metadata": {},
     "output_type": "display_data"
    }
   ],
   "source": [
    "pronacs_test = dt_test.PRONAC.unique()\n",
    "\n",
    "outlier_arr = np.zeros(pronacs_test.size)\n",
    "\n",
    "for i, pronac in enumerate(pronacs_test):\n",
    "    outlier = is_number_of_items_outlier(int(pronac))\n",
    "    outlier_arr[i] = 1.0 if outlier else 0.0\n",
    "    \n",
    "describe = pd.DataFrame(outlier_arr).describe()\n",
    "display(describe)"
   ]
  },
  {
   "cell_type": "markdown",
   "metadata": {},
   "source": [
    "# Análise dos resultados\n",
    "\n",
    "Para `c = 1.5`, esperava-se que `6.68%` dos projetos fossem considerados outliers em termos dos números de itens por projeto. Para os conjuntos de treino e teste utilizados e `c = 1.5`, `3.71%`dos projetos foram considerados outliers."
   ]
  }
 ],
 "metadata": {
  "kernelspec": {
   "display_name": "Python 3",
   "language": "python",
   "name": "python3"
  },
  "language_info": {
   "codemirror_mode": {
    "name": "ipython",
    "version": 3
   },
   "file_extension": ".py",
   "mimetype": "text/x-python",
   "name": "python",
   "nbconvert_exporter": "python",
   "pygments_lexer": "ipython3",
   "version": "3.6.4"
  }
 },
 "nbformat": 4,
 "nbformat_minor": 2
}
