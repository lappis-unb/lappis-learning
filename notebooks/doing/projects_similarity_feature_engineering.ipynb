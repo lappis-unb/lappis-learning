{
 "cells": [
  {
   "cell_type": "markdown",
   "metadata": {
    "collapsed": true
   },
   "source": [
    "## Similaridade de Projetos Baseado nos itens utilizados"
   ]
  },
  {
   "cell_type": "markdown",
   "metadata": {},
   "source": [
    "Lendo os dados e salvando na matriz X.\n",
    "As features utilizadas neste projeto são: \n",
    "- IdPRONAC\n",
    "- Item\n",
    "- Quantidade(Proposta)\n",
    "- Ocorrencia(Proposta)\n",
    "- QtdeDias(Proposta)\n",
    "- ValorUnitario(Proposta)\n",
    "- Justificativa(Proposta)\n"
   ]
  },
  {
   "cell_type": "code",
   "execution_count": 2,
   "metadata": {
    "collapsed": true
   },
   "outputs": [],
   "source": [
    "import pandas as pd\n",
    "import numpy as np\n",
    "\n",
    "Data = pd.read_csv('Salic_Data.csv')\n",
    "Data.columns = ['IdPRONAC', 'CgcCpf', 'AnoProjeto', 'Sequencial', 'idPlanilhaEtapa', 'UF', 'Municipio', 'Item', 'Unidade', 'Quantidade(Proposta)', 'Ocorrencia(Proposta)', 'QtdeDias(Proposta)', 'ValorUnitario(Proposta)', 'Justificativa(Proposta)', 'Quantidade(Projeto)', 'Ocorrencia(Projeto)', 'QtdeDias(Projeto)', 'ValorUnitario(Projeto)', 'Justificativa(Parecista)', 'Produto']\n",
    "\n",
    "X = Data[['IdPRONAC', 'Item', 'Quantidade(Proposta)', 'Ocorrencia(Proposta)', 'QtdeDias(Proposta)', 'ValorUnitario(Proposta)', 'Justificativa(Proposta)', 'Produto']]"
   ]
  },
  {
   "cell_type": "markdown",
   "metadata": {},
   "source": [
    "Variáveis úteis utilizadas ao longo do projeto\n",
    "\n",
    "- ConjuntoDeItens    = conjunto de itens utilizados em todos os projetos.\n",
    "- ConjuntoDeProjetos = lista do pronac de todos os projetos.\n",
    "- featureNameToIndex = usado para converter o nome da coluna para o índex da matriz associado."
   ]
  },
  {
   "cell_type": "code",
   "execution_count": 3,
   "metadata": {
    "collapsed": true
   },
   "outputs": [],
   "source": [
    "# FEATURE INDICES\n",
    "featureNameToIndex = {featureName: index for index, featureName in enumerate(X)}\n",
    "\n",
    "\n",
    "\n",
    "\n",
    "Indices_Manutencao_de_Museu  = X['Produto'] == 'Exposição de Artes'\n",
    "Indices_Apresentacao_Musical = X['Produto'] == 'Apresentação Musical'\n",
    "\n",
    "X_Selected = X[Indices_Manutencao_de_Museu | Indices_Apresentacao_Musical]\n",
    "\n",
    "\n",
    "ConjuntoDeItens = list(set(X_Selected['Item']))\n",
    "ConjuntoDeProjetos = list(set(X_Selected['IdPRONAC']))\n"
   ]
  },
  {
   "cell_type": "markdown",
   "metadata": {},
   "source": [
    "####  Processamento de dados.\n",
    "\n",
    "Agrupamento dos itens de cada projeto, considerando também a quantidade."
   ]
  },
  {
   "cell_type": "markdown",
   "metadata": {},
   "source": [
    "Criando um dicionário **pronac_itens_dict**\n",
    "\n",
    "- Key   ->   pronac\n",
    "- Value -> [item, quantidade] "
   ]
  },
  {
   "cell_type": "code",
   "execution_count": 4,
   "metadata": {
    "collapsed": true
   },
   "outputs": [],
   "source": [
    "from collections import defaultdict\n",
    "pronac_itens_dict = defaultdict(list)\n",
    "X_values = X.values\n",
    "\n",
    "for index, item  in enumerate(X_values):\n",
    "    pronac_itens_dict[item[featureNameToIndex['IdPRONAC']]].append([item[featureNameToIndex['Item']], item[featureNameToIndex['Quantidade(Proposta)']]*item[featureNameToIndex['Ocorrencia(Proposta)']]*item[featureNameToIndex['QtdeDias(Proposta)']]])"
   ]
  },
  {
   "cell_type": "markdown",
   "metadata": {},
   "source": [
    "#### Une itens similares e soma quantidade.\n",
    "- Key   ->   pronac\n",
    "- Value -> Dicionário{item, quantidade}  "
   ]
  },
  {
   "cell_type": "code",
   "execution_count": 5,
   "metadata": {
    "collapsed": true
   },
   "outputs": [],
   "source": [
    "pronac_itens_compressed_dict = {}\n",
    "for key_pronac, value_itens in pronac_itens_dict.items():\n",
    "    item_value_dict = {}\n",
    "    for value in value_itens:\n",
    "        if value[0] in item_value_dict:\n",
    "            item_value_dict[value[0]] = item_value_dict[value[0]] + value[1]\n",
    "        else:\n",
    "            item_value_dict[value[0]] = value[1]\n",
    "#     print(key_pronac)\n",
    "#     print(item_value_dict)\n",
    "    pronac_itens_compressed_dict[key_pronac] = item_value_dict"
   ]
  },
  {
   "cell_type": "markdown",
   "metadata": {},
   "source": [
    "#### Criando matriz com todos os dados\n",
    "\n",
    "    | Pronac 1 | Pronac 2 | Pronac 3 |\n",
    "        \n",
    "    |  Item 1  |  Item 1  |  Item 1  |\n",
    "    |  Item 2  |  Item 2  |  Item 2  |\n",
    "    |  Item 3  |  Item 3  |  Item 3  |\n",
    "    ...\n",
    "    \n"
   ]
  },
  {
   "cell_type": "markdown",
   "metadata": {},
   "source": [
    "### Generating Labels"
   ]
  },
  {
   "cell_type": "code",
   "execution_count": 6,
   "metadata": {
    "collapsed": true
   },
   "outputs": [],
   "source": [
    "def buildProjetItemsArray(projectItems, allItems):\n",
    "    items_arrays = np.zeros(len(allItems))\n",
    "    for index, item in enumerate(allItems):\n",
    "        if (item in projectItems):\n",
    "            items_arrays[index] = 1\n",
    "    return list(items_arrays)\n",
    "\n",
    "def buildNormalizedProjetItemsArray(projectItems, allItems):\n",
    "    items_arrays = np.zeros(len(allItems))\n",
    "    for index, item in enumerate(allItems):\n",
    "        if (item in projectItems):\n",
    "            items_arrays[index] = 1\n",
    "    #print(items_arrays)\n",
    "    #items_arrays = items_arrays / sum(items_arrays)\n",
    "    items_arrays = items_arrays / (sum( (item**2) for item in items_arrays))**0.5\n",
    "    #print(items_arrays)\n",
    "    return list(items_arrays)\n",
    "            \n",
    "\n",
    "projectsItemsMatrix = []\n",
    "projectKind = []\n",
    "for index, pronacID in enumerate(ConjuntoDeProjetos):  \n",
    "    x = buildNormalizedProjetItemsArray(pronac_itens_compressed_dict[pronacID],ConjuntoDeItens)\n",
    "    projectsItemsMatrix.append(x)\n",
    "    \n",
    "    projectType = X_Selected[X_Selected['IdPRONAC'] == pronacID]['Produto'].values == X_Selected['Produto'].values[0]\n",
    "    projectKind.append(projectType[0])\n",
    "\n",
    "# #     # Using less data to train faster  \n",
    "    if (index == 500):\n",
    "        break;"
   ]
  },
  {
   "cell_type": "markdown",
   "metadata": {},
   "source": [
    "### Plotting Data"
   ]
  },
  {
   "cell_type": "code",
   "execution_count": 7,
   "metadata": {},
   "outputs": [
    {
     "data": {
      "image/png": "[encoded data removed]",
      "text/plain": [
       "<matplotlib.figure.Figure at 0x119ae5f28>"
      ]
     },
     "metadata": {},
     "output_type": "display_data"
    }
   ],
   "source": [
    "X = projectsItemsMatrix\n",
    "\n",
    "import matplotlib.pyplot as plt\n",
    "\n",
    "from sklearn.manifold import TSNE\n",
    "\n",
    "tsne_model = TSNE(perplexity=70, n_components=2, n_iter=1000, random_state=8)\n",
    "y_tsne = tsne_model.fit_transform(X)\n",
    "\n",
    "plt.scatter(y_tsne[:, 0], y_tsne[:, 1], c=projectKind, cmap='viridis')\n",
    "\n",
    "plt.show();"
   ]
  },
  {
   "cell_type": "markdown",
   "metadata": {},
   "source": [
    "## Feature Selection"
   ]
  },
  {
   "cell_type": "markdown",
   "metadata": {},
   "source": [
    "### Classification Algorithm\n",
    "\n",
    "Logistic Regression"
   ]
  },
  {
   "cell_type": "code",
   "execution_count": 8,
   "metadata": {
    "collapsed": true
   },
   "outputs": [],
   "source": [
    "def classifyData(X, Y):\n",
    "\n",
    "    from  sklearn.linear_model import LogisticRegression\n",
    "    from sklearn.model_selection import KFold\n",
    "    from sklearn.metrics import confusion_matrix\n",
    "    import itertools\n",
    "\n",
    "    kf = KFold(n_splits=10, shuffle=True, random_state=5)\n",
    "    kf.get_n_splits(X)\n",
    "\n",
    "    total_confusion_matrix = [[0, 0], [0, 0]]\n",
    "    #    CONFUSION MATRIX \n",
    "    #    ----------------\n",
    "    #         0  1  2   <- Predicted\n",
    "    #      0 [2, 0, 0]  \n",
    "    # TRUE 1 [0, 0, 1]  \n",
    "    #      2 [1, 0, 2] \n",
    "\n",
    "    for train_index, test_index in kf.split(X):\n",
    "\n",
    "        X_train, X_test = X[train_index], X[test_index]\n",
    "        y_train, y_test = Y[train_index], Y[test_index]\n",
    "\n",
    "        classifier = LogisticRegression(class_weight='balanced')\n",
    "        y_pred = classifier.fit(X_train, y_train).predict(X_test)\n",
    "\n",
    "        # Compute confusion matrix\n",
    "        cnf_matrix = confusion_matrix(y_test, y_pred)\n",
    "        total_confusion_matrix = total_confusion_matrix + cnf_matrix\n",
    "\n",
    "    # print(total_confusion_matrix, flush=True)\n",
    "    accuracy = (total_confusion_matrix[0][0] + total_confusion_matrix[1][1]) / sum(sum(total_confusion_matrix))\n",
    "    # print('Accuracy: ', accuracy)\n",
    "    \n",
    "    return accuracy"
   ]
  },
  {
   "cell_type": "code",
   "execution_count": null,
   "metadata": {
    "collapsed": true
   },
   "outputs": [],
   "source": []
  },
  {
   "cell_type": "markdown",
   "metadata": {
    "collapsed": true
   },
   "source": [
    "### Using L1-norm for feature selection"
   ]
  },
  {
   "cell_type": "code",
   "execution_count": 11,
   "metadata": {},
   "outputs": [
    {
     "name": "stdout",
     "output_type": "stream",
     "text": [
      "** Number of original features: 645\n",
      "0.04\n",
      "1  features\n",
      "0.842315369261\n",
      "0.05\n",
      "3  features\n",
      "0.910179640719\n",
      "0.06\n",
      "5  features\n",
      "0.910179640719\n",
      "0.07\n",
      "7  features\n",
      "0.924151696607\n",
      "0.08\n",
      "8  features\n",
      "0.914171656687\n",
      "0.09\n",
      "8  features\n",
      "0.914171656687\n",
      "0.1\n",
      "10  features\n",
      "0.924151696607\n",
      "0.11\n",
      "11  features\n",
      "0.932135728543\n",
      "0.12\n",
      "11  features\n",
      "0.932135728543\n",
      "0.13\n",
      "13  features\n",
      "0.928143712575\n",
      "0.14\n",
      "16  features\n",
      "0.940119760479\n",
      "0.15\n",
      "19  features\n",
      "0.944111776447\n",
      "0.16\n",
      "21  features\n",
      "0.942115768463\n",
      "0.17\n",
      "22  features\n",
      "0.946107784431\n",
      "0.18\n",
      "22  features\n"
     ]
    },
    {
     "name": "stderr",
     "output_type": "stream",
     "text": [
      "/usr/local/lib/python3.6/site-packages/sklearn/feature_selection/base.py:80: UserWarning: No features were selected: either the data is too noisy or the selection test too strict.\n",
      "  UserWarning)\n"
     ]
    },
    {
     "name": "stdout",
     "output_type": "stream",
     "text": [
      "0.946107784431\n",
      "0.19\n",
      "23  features\n",
      "0.946107784431\n",
      "0.2\n",
      "24  features\n",
      "0.952095808383\n",
      "0.21\n",
      "26  features\n",
      "0.956087824351\n",
      "0.22\n",
      "26  features\n",
      "0.956087824351\n",
      "0.23\n",
      "26  features\n",
      "0.956087824351\n",
      "0.24\n",
      "27  features\n",
      "0.956087824351\n",
      "0.25\n",
      "32  features\n",
      "0.958083832335\n",
      "0.26\n",
      "36  features\n",
      "0.958083832335\n",
      "0.27\n",
      "36  features\n",
      "0.958083832335\n",
      "0.28\n",
      "37  features\n",
      "0.956087824351\n",
      "0.29\n",
      "42  features\n",
      "0.962075848303\n",
      "0.3\n",
      "44  features\n",
      "0.960079840319\n",
      "0.31\n",
      "45  features\n",
      "0.958083832335\n",
      "0.32\n",
      "46  features\n",
      "0.960079840319\n",
      "0.33\n",
      "46  features\n",
      "0.960079840319\n",
      "0.34\n",
      "47  features\n",
      "0.964071856287\n",
      "0.35\n",
      "51  features\n",
      "0.97005988024\n",
      "0.36\n",
      "51  features\n",
      "0.97005988024\n",
      "0.37\n",
      "52  features\n",
      "0.972055888224\n",
      "0.38\n",
      "54  features\n",
      "0.97005988024\n",
      "0.39\n",
      "54  features\n",
      "0.97005988024\n",
      "0.4\n",
      "55  features\n",
      "0.97005988024\n",
      "0.41\n",
      "57  features\n",
      "0.974051896208\n",
      "0.42\n",
      "57  features\n",
      "0.974051896208\n",
      "0.43\n",
      "59  features\n",
      "0.976047904192\n",
      "0.44\n",
      "58  features\n",
      "0.978043912176\n",
      "0.45\n",
      "58  features\n",
      "0.978043912176\n",
      "0.46\n",
      "59  features\n",
      "0.978043912176\n",
      "0.47\n",
      "60  features\n",
      "0.976047904192\n",
      "0.48\n",
      "62  features\n",
      "0.978043912176\n",
      "0.49\n",
      "63  features\n",
      "0.982035928144\n",
      "0.5\n",
      "63  features\n",
      "0.982035928144\n",
      "0.51\n",
      "62  features\n",
      "0.982035928144\n",
      "0.52\n",
      "62  features\n",
      "0.984031936128\n",
      "0.53\n",
      "62  features\n",
      "0.984031936128\n",
      "0.54\n",
      "63  features\n",
      "0.984031936128\n",
      "0.55\n",
      "64  features\n",
      "0.984031936128\n",
      "0.56\n",
      "65  features\n",
      "0.982035928144\n",
      "0.57\n",
      "66  features\n",
      "0.984031936128\n",
      "0.58\n",
      "67  features\n",
      "0.984031936128\n",
      "0.59\n",
      "67  features\n",
      "0.984031936128\n",
      "0.6\n",
      "68  features\n",
      "0.984031936128\n",
      "0.61\n",
      "69  features\n",
      "0.982035928144\n",
      "0.62\n",
      "70  features\n",
      "0.982035928144\n",
      "0.63\n",
      "71  features\n",
      "0.982035928144\n",
      "0.64\n",
      "71  features\n",
      "0.982035928144\n",
      "0.65\n",
      "71  features\n",
      "0.982035928144\n",
      "0.66\n",
      "73  features\n",
      "0.98003992016\n",
      "0.67\n",
      "73  features\n",
      "0.98003992016\n",
      "0.68\n",
      "73  features\n",
      "0.98003992016\n",
      "0.69\n",
      "74  features\n",
      "0.98003992016\n",
      "0.7\n",
      "74  features\n",
      "0.98003992016\n",
      "0.71\n",
      "74  features\n",
      "0.98003992016\n",
      "0.72\n",
      "74  features\n",
      "0.98003992016\n",
      "0.73\n",
      "74  features\n",
      "0.98003992016\n",
      "0.74\n",
      "75  features\n",
      "0.98003992016\n",
      "0.75\n",
      "75  features\n",
      "0.98003992016\n",
      "0.76\n",
      "76  features\n",
      "0.98003992016\n",
      "0.77\n",
      "76  features\n",
      "0.98003992016\n",
      "0.78\n",
      "76  features\n",
      "0.98003992016\n",
      "0.79\n",
      "76  features\n",
      "0.98003992016\n",
      "0.8\n",
      "77  features\n",
      "0.98003992016\n",
      "0.81\n",
      "78  features\n",
      "0.98003992016\n",
      "0.82\n",
      "78  features\n",
      "0.98003992016\n",
      "0.83\n",
      "78  features\n",
      "0.98003992016\n",
      "0.84\n",
      "78  features\n",
      "0.98003992016\n",
      "0.85\n",
      "78  features\n",
      "0.98003992016\n",
      "0.86\n",
      "78  features\n",
      "0.976047904192\n",
      "0.87\n",
      "79  features\n",
      "0.976047904192\n",
      "0.88\n",
      "79  features\n",
      "0.976047904192\n",
      "0.89\n",
      "79  features\n",
      "0.976047904192\n",
      "0.9\n",
      "79  features\n",
      "0.976047904192\n",
      "0.91\n",
      "79  features\n",
      "0.976047904192\n",
      "0.92\n",
      "79  features\n",
      "0.976047904192\n",
      "0.93\n",
      "80  features\n",
      "0.976047904192\n",
      "0.94\n",
      "79  features\n",
      "0.974051896208\n",
      "0.95\n",
      "79  features\n",
      "0.974051896208\n",
      "0.96\n",
      "79  features\n",
      "0.974051896208\n",
      "0.97\n",
      "79  features\n",
      "0.974051896208\n",
      "0.98\n",
      "79  features\n",
      "0.974051896208\n",
      "0.99\n",
      "79  features\n",
      "0.974051896208\n"
     ]
    }
   ],
   "source": [
    "X = np.array(projectsItemsMatrix)\n",
    "Y = np.array(projectKind)\n",
    "\n",
    "print('** Number of original features:', X.shape[1])\n",
    "\n",
    "from sklearn.svm import LinearSVC\n",
    "from sklearn.feature_selection import SelectFromModel\n",
    "\n",
    "coeficients_accuracy = []\n",
    "for regCoeficient in range(1, 100):\n",
    "    regCoeficient = regCoeficient/100\n",
    "    lsvc = LinearSVC(C=regCoeficient, penalty=\"l1\", dual=False).fit(X, Y)\n",
    "    model = SelectFromModel(lsvc, prefit=True)\n",
    "    X_new = model.transform(X)\n",
    "    if (X_new.shape[1] > 0):\n",
    "        print(regCoeficient)\n",
    "        num_of_features = X_new.shape[1]\n",
    "        print(num_of_features,' features')\n",
    "        accuracy = classifyData(X_new, Y)\n",
    "        coeficients_accuracy.append([regCoeficient, num_of_features, accuracy])\n",
    "        print(accuracy)\n",
    "#print(coeficients_accuracy)"
   ]
  },
  {
   "cell_type": "code",
   "execution_count": 10,
   "metadata": {
    "scrolled": true
   },
   "outputs": [
    {
     "data": {
      "image/png": "[encoded data removed]",
      "text/plain": [
       "<matplotlib.figure.Figure at 0x10abe5780>"
      ]
     },
     "metadata": {},
     "output_type": "display_data"
    }
   ],
   "source": [
    "import matplotlib.pyplot as plt\n",
    "\n",
    "coeficients_accuracy_np = np.array(coeficients_accuracy)\n",
    "plt.plot(coeficients_accuracy_np[:,1], coeficients_accuracy_np[:,2])\n",
    "plt.xlabel('Number of Features')\n",
    "plt.ylabel('Classification Accuracy')\n",
    "plt.show()"
   ]
  },
  {
   "cell_type": "code",
   "execution_count": 21,
   "metadata": {},
   "outputs": [
    {
     "name": "stdout",
     "output_type": "stream",
     "text": [
      "** Number of original features: 645\n",
      "[ 0.          0.          0.          0.          0.          0.\n",
      "  0.22941573  0.          0.          0.          0.          0.          0.\n",
      "  0.          0.          0.          0.          0.          0.          0.\n",
      "  0.          0.          0.          0.22941573  0.          0.          0.\n",
      "  0.          0.          0.          0.          0.          0.          0.\n",
      "  0.          0.          0.          0.          0.          0.22941573\n",
      "  0.          0.          0.          0.          0.          0.          0.\n",
      "  0.          0.          0.          0.          0.          0.          0.\n",
      "  0.          0.          0.          0.          0.          0.          0.\n",
      "  0.          0.          0.          0.          0.          0.          0.\n",
      "  0.          0.          0.          0.          0.          0.          0.\n",
      "  0.          0.          0.          0.          0.          0.          0.\n",
      "  0.          0.          0.          0.          0.          0.          0.\n",
      "  0.          0.          0.          0.          0.          0.          0.\n",
      "  0.          0.          0.          0.          0.          0.          0.\n",
      "  0.          0.          0.          0.          0.          0.          0.\n",
      "  0.          0.          0.          0.          0.          0.          0.\n",
      "  0.          0.          0.          0.          0.          0.          0.\n",
      "  0.          0.          0.          0.          0.          0.          0.\n",
      "  0.          0.          0.          0.          0.          0.          0.\n",
      "  0.          0.          0.          0.          0.          0.          0.\n",
      "  0.          0.          0.          0.          0.          0.          0.\n",
      "  0.          0.          0.          0.          0.          0.          0.\n",
      "  0.          0.          0.          0.          0.          0.          0.\n",
      "  0.          0.          0.          0.          0.          0.          0.\n",
      "  0.          0.          0.          0.          0.          0.          0.\n",
      "  0.          0.          0.          0.          0.          0.          0.\n",
      "  0.          0.          0.22941573  0.          0.          0.          0.\n",
      "  0.          0.          0.          0.          0.          0.          0.\n",
      "  0.22941573  0.          0.          0.          0.          0.          0.\n",
      "  0.          0.          0.          0.          0.          0.          0.\n",
      "  0.          0.          0.          0.          0.          0.          0.\n",
      "  0.          0.          0.          0.          0.          0.          0.\n",
      "  0.          0.          0.          0.          0.          0.          0.\n",
      "  0.          0.          0.          0.          0.          0.          0.\n",
      "  0.          0.22941573  0.          0.          0.          0.22941573\n",
      "  0.          0.          0.          0.          0.          0.          0.\n",
      "  0.          0.22941573  0.          0.          0.          0.          0.\n",
      "  0.          0.          0.          0.          0.          0.          0.\n",
      "  0.          0.          0.          0.          0.          0.          0.\n",
      "  0.          0.          0.          0.          0.          0.          0.\n",
      "  0.          0.          0.          0.          0.          0.          0.\n",
      "  0.          0.          0.          0.          0.          0.          0.\n",
      "  0.          0.          0.          0.          0.          0.          0.\n",
      "  0.          0.          0.          0.          0.          0.          0.\n",
      "  0.          0.          0.          0.          0.          0.          0.\n",
      "  0.          0.          0.          0.          0.          0.          0.\n",
      "  0.          0.          0.          0.          0.          0.22941573\n",
      "  0.          0.          0.          0.          0.          0.          0.\n",
      "  0.          0.          0.          0.          0.          0.          0.\n",
      "  0.          0.          0.          0.          0.          0.          0.\n",
      "  0.          0.          0.          0.          0.          0.          0.\n",
      "  0.          0.          0.          0.          0.          0.          0.\n",
      "  0.          0.          0.          0.          0.          0.          0.\n",
      "  0.          0.          0.          0.          0.          0.          0.\n",
      "  0.          0.          0.          0.          0.          0.22941573\n",
      "  0.          0.          0.          0.          0.          0.          0.\n",
      "  0.          0.          0.          0.          0.          0.          0.\n",
      "  0.          0.          0.          0.          0.          0.          0.\n",
      "  0.          0.          0.          0.          0.          0.          0.\n",
      "  0.          0.          0.22941573  0.          0.          0.          0.\n",
      "  0.          0.          0.          0.          0.22941573  0.          0.\n",
      "  0.          0.          0.          0.          0.          0.          0.\n",
      "  0.          0.          0.          0.          0.          0.22941573\n",
      "  0.          0.          0.          0.          0.          0.          0.\n",
      "  0.          0.          0.          0.          0.          0.          0.\n",
      "  0.          0.          0.          0.          0.          0.          0.\n",
      "  0.          0.          0.          0.          0.          0.          0.\n",
      "  0.          0.          0.22941573  0.          0.          0.          0.\n",
      "  0.          0.          0.          0.22941573  0.          0.          0.\n",
      "  0.          0.          0.          0.          0.          0.          0.\n",
      "  0.          0.          0.          0.          0.          0.          0.\n",
      "  0.          0.          0.          0.          0.          0.          0.\n",
      "  0.          0.          0.          0.          0.          0.          0.\n",
      "  0.          0.          0.          0.          0.          0.\n",
      "  0.22941573  0.          0.          0.          0.          0.          0.\n",
      "  0.          0.          0.          0.          0.          0.          0.\n",
      "  0.          0.          0.          0.          0.          0.          0.\n",
      "  0.          0.          0.          0.          0.          0.          0.\n",
      "  0.          0.          0.          0.22941573  0.          0.          0.\n",
      "  0.          0.          0.22941573  0.          0.          0.          0.\n",
      "  0.          0.          0.          0.          0.          0.          0.\n",
      "  0.          0.          0.          0.          0.          0.          0.\n",
      "  0.          0.          0.          0.          0.          0.\n",
      "  0.22941573  0.          0.          0.          0.          0.          0.\n",
      "  0.          0.          0.          0.          0.          0.          0.\n",
      "  0.          0.          0.          0.          0.          0.          0.\n",
      "  0.          0.          0.          0.          0.          0.          0.\n",
      "  0.          0.          0.          0.          0.          0.          0.\n",
      "  0.          0.          0.          0.          0.          0.          0.\n",
      "  0.          0.          0.          0.          0.          0.          0.\n",
      "  0.          0.          0.          0.          0.          0.          0.\n",
      "  0.          0.          0.          0.          0.          0.          0.\n",
      "  0.          0.        ]\n",
      "[ 0.          0.          0.          0.          0.          0.\n",
      "  0.22941573  0.          0.          0.          0.          0.          0.\n",
      "  0.          0.          0.          0.          0.          0.          0.\n",
      "  0.          0.          0.          0.          0.          0.          0.\n",
      "  0.          0.          0.          0.          0.          0.          0.\n",
      "  0.          0.          0.          0.          0.          0.          0.\n",
      "  0.          0.          0.          0.          0.          0.          0.\n",
      "  0.          0.          0.          0.          0.          0.          0.\n",
      "  0.          0.          0.          0.          0.          0.          0.\n",
      "  0.          0.          0.          0.          0.          0.          0.\n",
      "  0.          0.          0.          0.          0.          0.          0.\n",
      "  0.          0.          0.          0.          0.          0.          0.\n",
      "  0.          0.          0.          0.          0.          0.          0.\n",
      "  0.          0.          0.          0.          0.          0.          0.\n",
      "  0.          0.          0.          0.          0.          0.          0.\n",
      "  0.          0.          0.          0.          0.          0.          0.\n",
      "  0.          0.          0.          0.          0.          0.          0.\n",
      "  0.          0.          0.          0.          0.          0.          0.\n",
      "  0.          0.          0.          0.          0.          0.          0.\n",
      "  0.          0.          0.          0.          0.          0.          0.\n",
      "  0.          0.          0.          0.          0.          0.          0.\n",
      "  0.          0.          0.          0.          0.          0.          0.\n",
      "  0.          0.          0.          0.          0.          0.          0.\n",
      "  0.          0.          0.          0.          0.          0.          0.\n",
      "  0.          0.          0.          0.          0.          0.          0.\n",
      "  0.          0.          0.          0.          0.          0.          0.\n",
      "  0.          0.          0.          0.          0.          0.          0.\n",
      "  0.          0.          0.          0.          0.          0.          0.\n",
      "  0.          0.          0.          0.          0.          0.          0.\n",
      "  0.          0.          0.          0.          0.          0.          0.\n",
      "  0.          0.          0.          0.          0.          0.          0.\n",
      "  0.          0.          0.          0.          0.          0.          0.\n",
      "  0.          0.          0.          0.          0.          0.          0.\n",
      "  0.          0.          0.          0.          0.          0.          0.\n",
      "  0.          0.          0.          0.          0.          0.          0.\n",
      "  0.          0.          0.          0.          0.          0.          0.\n",
      "  0.          0.          0.          0.          0.          0.          0.\n",
      "  0.          0.          0.          0.          0.          0.          0.\n",
      "  0.          0.          0.          0.          0.          0.          0.\n",
      "  0.          0.          0.          0.          0.          0.          0.\n",
      "  0.          0.          0.          0.          0.          0.          0.\n",
      "  0.          0.          0.          0.          0.          0.          0.\n",
      "  0.          0.          0.          0.          0.          0.          0.\n",
      "  0.          0.          0.          0.          0.          0.          0.\n",
      "  0.          0.          0.          0.          0.          0.          0.\n",
      "  0.          0.          0.          0.          0.          0.          0.\n",
      "  0.          0.          0.          0.          0.          0.          0.\n",
      "  0.          0.          0.          0.          0.          0.          0.\n",
      "  0.          0.          0.          0.          0.          0.          0.\n",
      "  0.          0.          0.          0.          0.          0.          0.\n",
      "  0.          0.          0.          0.          0.          0.          0.\n",
      "  0.          0.          0.          0.          0.          0.          0.\n",
      "  0.          0.          0.          0.          0.          0.          0.\n",
      "  0.          0.          0.          0.          0.          0.          0.\n",
      "  0.          0.          0.          0.          0.          0.          0.\n",
      "  0.          0.          0.          0.          0.          0.          0.\n",
      "  0.          0.          0.          0.          0.          0.          0.\n",
      "  0.          0.          0.          0.          0.          0.          0.\n",
      "  0.          0.          0.          0.          0.          0.          0.\n",
      "  0.          0.          0.          0.          0.          0.          0.\n",
      "  0.          0.          0.          0.          0.          0.          0.\n",
      "  0.22941573  0.          0.          0.          0.          0.          0.\n",
      "  0.          0.          0.          0.          0.          0.          0.\n",
      "  0.          0.          0.          0.          0.          0.          0.\n",
      "  0.          0.          0.          0.          0.          0.          0.\n",
      "  0.          0.          0.          0.          0.          0.          0.\n",
      "  0.          0.          0.          0.          0.          0.          0.\n",
      "  0.          0.          0.          0.          0.          0.          0.\n",
      "  0.          0.          0.          0.          0.          0.          0.\n",
      "  0.          0.          0.          0.          0.          0.          0.\n",
      "  0.          0.          0.          0.          0.          0.          0.\n",
      "  0.          0.          0.          0.          0.          0.          0.\n",
      "  0.          0.          0.          0.          0.          0.          0.\n",
      "  0.          0.          0.          0.          0.          0.          0.\n",
      "  0.          0.          0.          0.          0.          0.          0.\n",
      "  0.          0.          0.          0.          0.          0.          0.\n",
      "  0.          0.          0.          0.          0.          0.          0.\n",
      "  0.          0.          0.          0.          0.          0.          0.\n",
      "  0.          0.          0.          0.          0.          0.          0.\n",
      "  0.          0.          0.          0.          0.          0.          0.\n",
      "  0.          0.          0.          0.          0.          0.          0.\n",
      "  0.          0.          0.          0.          0.          0.          0.\n",
      "  0.          0.          0.          0.          0.          0.          0.\n",
      "  0.          0.          0.          0.          0.          0.          0.\n",
      "  0.          0.          0.          0.          0.          0.          0.\n",
      "  0.          0.          0.          0.          0.          0.          0.\n",
      "  0.          0.          0.          0.          0.          0.          0.\n",
      "  0.          0.          0.          0.          0.          0.          0.\n",
      "  0.          0.          0.          0.          0.          0.          0.\n",
      "  0.          0.          0.          0.          0.          0.          0.\n",
      "  0.          0.          0.          0.          0.          0.          0.\n",
      "  0.          0.          0.          0.          0.          0.          0.\n",
      "  0.          0.        ]\n",
      "** Features:  63\n",
      "** Accuracy: 0.982035928144\n",
      "Programação visual\n",
      "Banner/faixa adesiva/faixa de lona/saia de palco/testeira/pórtico\n",
      "\n",
      "Banda/Grupo local\n",
      "Programa\n",
      "Pinturas\n",
      "Materiais e equipamentos para montagem\n",
      "Curador\n",
      "Diretor Artístico e Musical\n",
      "Locação e montagem de palco\n",
      "Músicos / Intérpretes\n",
      "ECAD (caso de o evento ser aberto e gratuito)\n",
      "Diretor Artístico\n",
      "Locação de Gerador de Energia\n",
      "Convite\n",
      "\n",
      "Marceneiro\n",
      "Revisão de Texto\n",
      "Locação equipamento de som\n",
      "Refeição\n",
      "Hospedagem sem Alimentação\n",
      "Professor\n",
      "Embalagem e acondicionamento para a exposição\n",
      "Apresentador / Maitre\n",
      "Camarim\n",
      "Sítio de internet\n",
      "\n",
      "Segurança\n",
      "Clipping\n",
      "Coordenação geral\n",
      "Registro videográfico\n",
      "Curadoria\n",
      "Tinta\n",
      "Cantor / Solista\n",
      "Técnico de som\n",
      "Projeto Expográfico\n",
      "Locação de equipamentos de luz (torres, mesas, racks, cabos, refletores, máquinas de fumaça, monitor)\n",
      "Regente\n",
      "Músico de Base\n",
      "Afinador\n",
      "Transporte de material\n",
      "Arranjador\n",
      "Passagens Aéreas (Descrever os trechos na tela de deslocamentos)\n",
      "Produtor musical\n",
      "Diretor de produção\n",
      "Restauração / Conservação\n",
      "Banda/Grupo nacional\n",
      "Licença de Software\n",
      "Produtor Executivo\n",
      "Tradução\n",
      "Sinalização\n",
      "Mídia Televisiva\n",
      "Aluguel de ônibus\n",
      "Locação de Espaço para Exposição\n",
      "Palestrante\n",
      "Monitores\n",
      "Camarim (para montagem de estrutura no caso de locais abertos)\n",
      "Confecção de painéis explicativos\n",
      "Museólogo\n",
      "Produtor\n",
      "Produção de Texto\n",
      "Diretor de Palco ou de Cena\n",
      "Sonorização\n",
      "Montador\n",
      "Músico nacional\n",
      "Locação de mesa de som/ equipamentos\n"
     ]
    }
   ],
   "source": [
    "X = np.array(projectsItemsMatrix)\n",
    "Y = np.array(projectKind)\n",
    "\n",
    "print('** Number of original features:', X.shape[1])\n",
    "\n",
    "from sklearn.svm import LinearSVC\n",
    "from sklearn.feature_selection import SelectFromModel\n",
    "\n",
    "lsvc = LinearSVC(C=0.5, penalty=\"l1\", dual=False).fit(X, Y)\n",
    "model = SelectFromModel(lsvc, prefit=True)\n",
    "\n",
    "import numpy as np\n",
    "np.set_printoptions(threshold=np.inf)\n",
    "print(X[6,:])\n",
    "X_new = model.transform(X)\n",
    "\n",
    "X_sparse = model.inverse_transform(X_new)\n",
    "\n",
    "print(X_sparse[6,:])\n",
    "\n",
    "num_of_features = X_new.shape[1]\n",
    "print('** Features: ', num_of_features)\n",
    "accuracy = classifyData(X_new, Y)\n",
    "print('** Accuracy:', accuracy)\n",
    "\n",
    "all_items = sum(X_sparse[:])\n",
    "items_used = (all_items > 0.000001)\n",
    "\n",
    "ConjuntoDeItens_np = np.array(ConjuntoDeItens)\n",
    "filtered_items = ConjuntoDeItens_np[items_used]\n",
    "for item in filtered_items: \n",
    "    print(item)"
   ]
  },
  {
   "cell_type": "markdown",
   "metadata": {},
   "source": [
    "### Using decision Trees for feature selection"
   ]
  },
  {
   "cell_type": "code",
   "execution_count": 11,
   "metadata": {},
   "outputs": [
    {
     "name": "stdout",
     "output_type": "stream",
     "text": [
      "** Number of original features: 645\n",
      "** new number of features: 132\n",
      "0.966067864271\n"
     ]
    }
   ],
   "source": [
    "X = np.array(projectsItemsMatrix)\n",
    "Y = np.array(projectKind)\n",
    "\n",
    "print('** Number of original features:', X.shape[1])\n",
    "\n",
    "from sklearn.ensemble import ExtraTreesClassifier\n",
    "from sklearn.feature_selection import SelectFromModel\n",
    "\n",
    "\n",
    "clf = ExtraTreesClassifier()\n",
    "clf = clf.fit(X, Y)\n",
    "clf.feature_importances_  \n",
    "model = SelectFromModel(clf, prefit=True)\n",
    "X_new = model.transform(X)\n",
    "\n",
    "print('** new number of features:', X_new.shape[1])\n",
    "\n",
    "accuracy = classifyData(X_new, Y)\n",
    "print(accuracy)"
   ]
  },
  {
   "cell_type": "markdown",
   "metadata": {},
   "source": [
    "### Removing Features with low variance"
   ]
  },
  {
   "cell_type": "code",
   "execution_count": 12,
   "metadata": {
    "collapsed": true
   },
   "outputs": [],
   "source": [
    "# X = projectsItemsMatrix\n",
    "# X = np.array(X)\n",
    "\n",
    "# from sklearn.feature_selection import VarianceThreshold\n",
    "\n",
    "# sel = VarianceThreshold(threshold=(0.010))\n",
    "# new_X = sel.fit_transform(X)\n",
    "# print(new_X.shape[1])"
   ]
  },
  {
   "cell_type": "markdown",
   "metadata": {},
   "source": [
    "### Chi-squared test                                       \n",
    "    ?? Pearson's chi-squared test??"
   ]
  },
  {
   "cell_type": "code",
   "execution_count": null,
   "metadata": {
    "collapsed": true
   },
   "outputs": [],
   "source": []
  },
  {
   "cell_type": "code",
   "execution_count": 13,
   "metadata": {
    "collapsed": true
   },
   "outputs": [],
   "source": [
    "X = np.array(projectsItemsMatrix)\n",
    "Y = np.array(projectKind)\n",
    "\n",
    "from sklearn.feature_selection import SelectKBest\n",
    "from sklearn.feature_selection import chi2\n",
    "\n",
    "coeficients_accuracy = []\n",
    "for num_features in range(1,100):\n",
    "    X_new = SelectKBest(chi2, k=num_features).fit_transform(X, Y)\n",
    "    X_new.shape[1]\n",
    "    accuracy = classifyData(X_new, Y)\n",
    "    coeficients_accuracy.append([num_features, accuracy])"
   ]
  },
  {
   "cell_type": "code",
   "execution_count": 14,
   "metadata": {},
   "outputs": [
    {
     "data": {
      "image/png": "[encoded data removed]",
      "text/plain": [
       "<matplotlib.figure.Figure at 0x105374780>"
      ]
     },
     "metadata": {},
     "output_type": "display_data"
    }
   ],
   "source": [
    "import matplotlib.pyplot as plt\n",
    "\n",
    "coeficients_accuracy_np = np.array(coeficients_accuracy)\n",
    "plt.plot(coeficients_accuracy_np[:,0], coeficients_accuracy_np[:,1])\n",
    "plt.xlabel('Number of Features')\n",
    "plt.ylabel('Classification Accuracy')\n",
    "plt.show()"
   ]
  },
  {
   "cell_type": "markdown",
   "metadata": {},
   "source": [
    "### Recursive Feature Elimination"
   ]
  },
  {
   "cell_type": "code",
   "execution_count": 92,
   "metadata": {},
   "outputs": [
    {
     "name": "stdout",
     "output_type": "stream",
     "text": [
      "Optimal number of features : 129\n"
     ]
    },
    {
     "data": {
      "image/png": "[encoded data removed]",
      "text/plain": [
       "<matplotlib.figure.Figure at 0x116c03208>"
      ]
     },
     "metadata": {},
     "output_type": "display_data"
    }
   ],
   "source": [
    "import matplotlib.pyplot as plt\n",
    "#from sklearn.svm import SVC\n",
    "from  sklearn.linear_model import LogisticRegression\n",
    "from sklearn.model_selection import StratifiedKFold\n",
    "from sklearn.feature_selection import RFECV\n",
    "from sklearn.datasets import make_classification\n",
    "\n",
    "X = np.array(projectsItemsMatrix)\n",
    "Y = np.array(projectKind)\n",
    "\n",
    "\n",
    "\n",
    "# Create the RFE object and compute a cross-validated score.\n",
    "#svc = SVC(kernel=\"linear\")\n",
    "log_regression = LogisticRegression(class_weight='balanced')\n",
    "# The \"accuracy\" scoring is proportional to the number of correct\n",
    "# classifications\n",
    "rfecv = RFECV(estimator=log_regression, step=1, cv=StratifiedKFold(2),\n",
    "              scoring='accuracy')\n",
    "rfecv.fit(X, Y)\n",
    "\n",
    "print(\"Optimal number of features : %d\" % rfecv.n_features_)\n",
    "\n",
    "# Plot number of features VS. cross-validation scores\n",
    "plt.figure()\n",
    "plt.xlabel(\"Number of features selected\")\n",
    "plt.ylabel(\"Cross validation score (nb of correct classifications)\")\n",
    "plt.plot(range(1, len(rfecv.grid_scores_) + 1), rfecv.grid_scores_)\n",
    "plt.show()"
   ]
  },
  {
   "cell_type": "markdown",
   "metadata": {},
   "source": [
    "### Supervised Algorithms"
   ]
  },
  {
   "cell_type": "code",
   "execution_count": 95,
   "metadata": {
    "scrolled": false
   },
   "outputs": [
    {
     "name": "stdout",
     "output_type": "stream",
     "text": [
      "[[127   3]\n",
      " [  6 365]]\n",
      "Accuracy:  0.982035928144\n"
     ]
    },
    {
     "data": {
      "image/png": "[encoded data removed]",
      "text/plain": [
       "<matplotlib.figure.Figure at 0x11a2c45c0>"
      ]
     },
     "metadata": {},
     "output_type": "display_data"
    }
   ],
   "source": [
    "X = np.array(projectsItemsMatrix)\n",
    "Y = np.array(projectKind)\n",
    "\n",
    "\n",
    "from sklearn.svm import LinearSVC\n",
    "from  sklearn.linear_model import LogisticRegression\n",
    "from sklearn.pipeline import Pipeline\n",
    "\n",
    "\n",
    "from sklearn.model_selection import KFold\n",
    "from sklearn.metrics import confusion_matrix\n",
    "import itertools\n",
    "\n",
    "kf = KFold(n_splits=10, shuffle=True, random_state=5)\n",
    "kf.get_n_splits(X)\n",
    "\n",
    "total_confusion_matrix = [[0, 0], [0, 0]]\n",
    "#    CONFUSION MATRIX \n",
    "#    ----------------\n",
    "#            0  1  2   <- Predicted\n",
    "#         0 [2, 0, 0]  \n",
    "# TRUE -> 1 [0, 0, 1]  \n",
    "#         2 [1, 0, 2] \n",
    "\n",
    "\n",
    "lsvc = LinearSVC(C=0.5, penalty=\"l1\", dual=False).fit(X, Y)\n",
    "model = SelectFromModel(lsvc, prefit=True)\n",
    "transformed_X = model.transform(X)\n",
    "\n",
    "\n",
    "\n",
    "for train_index, test_index in kf.split(transformed_X):\n",
    "    \n",
    "    X_train, X_test = transformed_X[train_index], transformed_X[test_index]\n",
    "    y_train, y_test = Y[train_index], Y[test_index]\n",
    "\n",
    "    \n",
    "    log_reg_clf = LogisticRegression(class_weight='balanced')\n",
    "    y_pred = log_reg_clf.fit(X_train,y_train).predict(X_test)\n",
    "    \n",
    "    # Compute confusion matrix\n",
    "    cnf_matrix = confusion_matrix(y_test, y_pred)\n",
    "    # print(cnf_matrix)\n",
    "    total_confusion_matrix = total_confusion_matrix + cnf_matrix\n",
    "\n",
    "    #print(cnf_matrix, flush=True)\n",
    "print(total_confusion_matrix, flush=True)\n",
    "print('Accuracy: ', (total_confusion_matrix[0][0] + total_confusion_matrix[1][1]) / sum(sum(total_confusion_matrix)))\n",
    "\n",
    "\n",
    "y_pred = log_reg_clf.predict(transformed_X)\n",
    "\n",
    "import matplotlib.pyplot as plt\n",
    "from sklearn.manifold import TSNE\n",
    "\n",
    "tsne_model = TSNE(perplexity=70, n_components=2, n_iter=1000, random_state=8)\n",
    "y_tsne = tsne_model.fit_transform(transformed_X)\n",
    "\n",
    "plt.scatter(y_tsne[:, 0], y_tsne[:, 1], c=y_pred, cmap='viridis')\n",
    "\n",
    "plt.show();"
   ]
  },
  {
   "cell_type": "markdown",
   "metadata": {},
   "source": [
    "### Comparing clusters with data"
   ]
  },
  {
   "cell_type": "code",
   "execution_count": 82,
   "metadata": {},
   "outputs": [
    {
     "name": "stdout",
     "output_type": "stream",
     "text": [
      "correct predictions:  476\n",
      "wrong predictions:  25\n",
      "\"Accuracy\":  0.950099800399\n"
     ]
    },
    {
     "data": {
      "image/png": "[encoded data removed]",
      "text/plain": [
       "<matplotlib.figure.Figure at 0x11a933320>"
      ]
     },
     "metadata": {},
     "output_type": "display_data"
    }
   ],
   "source": [
    "X = np.array(X_sparse)\n",
    "Y = np.array(projectKind)\n",
    "\n",
    "import matplotlib.pyplot as plt\n",
    "from sklearn.cluster import KMeans\n",
    "\n",
    "kmeans = KMeans(n_clusters=2, init='k-means++', n_init=20, random_state=8)  # random_state: 2, 5, *8*\n",
    "kmeans.fit(X)\n",
    "y_kmeans = kmeans.predict(X)\n",
    "kmeans_centers = kmeans.cluster_centers_\n",
    "\n",
    "from sklearn.decomposition import PCA\n",
    "pca = PCA(n_components=2)\n",
    "pca.fit(X)\n",
    "x_pca = pca.transform(X) \n",
    "\n",
    "\n",
    "# for (x,y) in zip(y_kmeans, Y):\n",
    "#     print(x)\n",
    "#     print(y)\n",
    "\n",
    "kmeans_label_output_1 = np.array([x+y for (x,y) in zip(y_kmeans, Y)])\n",
    "kmeans_label_output_2 = np.array([x-y+1 for (x,y) in zip(y_kmeans, Y)])\n",
    "total_points_in_clusters_1 = len(kmeans_label_output_1[ (kmeans_label_output_1 == 0)+(kmeans_label_output_1 == 2) ])\n",
    "total_points_in_clusters_2 = len(kmeans_label_output_2[ (kmeans_label_output_2 == 0)+(kmeans_label_output_2 == 2) ])\n",
    "if (total_points_in_clusters_1 > total_points_in_clusters_2):\n",
    "    kmeans_label_output = kmeans_label_output_1\n",
    "else:\n",
    "    kmeans_label_output = kmeans_label_output_2\n",
    "\n",
    "#print(kmeans_label_output)\n",
    "\n",
    "predictions_a = sum([x==y for (x,y) in zip(y_kmeans, Y)])\n",
    "predictions_b = sum([not x==y for (x,y) in zip(y_kmeans, Y)])\n",
    "correct_predictions = max(predictions_a, predictions_b)\n",
    "wrong_predictions = min(predictions_a, predictions_b)\n",
    "print('correct predictions: ',correct_predictions)\n",
    "print('wrong predictions: ',wrong_predictions)\n",
    "print('\"Accuracy\": ',correct_predictions / (correct_predictions+wrong_predictions))\n",
    "\n",
    "plt.scatter(x_pca[:, 0], x_pca[:, 1], c=kmeans_label_output, s=50, cmap='viridis')\n",
    "\n",
    "\n",
    "centers_pca = pca.transform(kmeans_centers)\n",
    "\n",
    "\n",
    "plt.scatter(centers_pca[:, 0], centers_pca[:, 1], c='black', s=200, alpha=0.5);\n",
    "\n",
    "plt.show();"
   ]
  },
  {
   "cell_type": "code",
   "execution_count": null,
   "metadata": {
    "collapsed": true
   },
   "outputs": [],
   "source": []
  },
  {
   "cell_type": "code",
   "execution_count": null,
   "metadata": {
    "collapsed": true
   },
   "outputs": [],
   "source": [
    "X = np.array(projectsItemsMatrix)\n",
    "Y = np.array(projectKind)\n",
    "\n",
    "print('** Number of original features:', X.shape[1])\n",
    "\n",
    "from sklearn.svm import LinearSVC\n",
    "from sklearn.feature_selection import SelectFromModel\n",
    "\n",
    "coeficients_accuracy = []\n",
    "for regCoeficient in range(1, 100):\n",
    "    regCoeficient = regCoeficient/100\n",
    "    lsvc = LinearSVC(C=regCoeficient, penalty=\"l1\", dual=False).fit(X, Y)\n",
    "    model = SelectFromModel(lsvc, prefit=True)\n",
    "    X_new = model.transform(X)\n",
    "    if (X_new.shape[1] > 0):\n",
    "        print(regCoeficient)\n",
    "        num_of_features = X_new.shape[1]\n",
    "        print(num_of_features,' features')\n",
    "        accuracy = classifyData(X_new, Y)\n",
    "        coeficients_accuracy.append([regCoeficient, num_of_features, accuracy])\n",
    "        print(accuracy)\n",
    "#print(coeficients_accuracy)"
   ]
  },
  {
   "cell_type": "code",
   "execution_count": null,
   "metadata": {
    "collapsed": true
   },
   "outputs": [],
   "source": []
  },
  {
   "cell_type": "code",
   "execution_count": null,
   "metadata": {
    "collapsed": true
   },
   "outputs": [],
   "source": []
  },
  {
   "cell_type": "code",
   "execution_count": null,
   "metadata": {
    "collapsed": true
   },
   "outputs": [],
   "source": []
  },
  {
   "cell_type": "code",
   "execution_count": null,
   "metadata": {
    "collapsed": true
   },
   "outputs": [],
   "source": []
  },
  {
   "cell_type": "code",
   "execution_count": null,
   "metadata": {
    "collapsed": true
   },
   "outputs": [],
   "source": []
  },
  {
   "cell_type": "code",
   "execution_count": null,
   "metadata": {
    "collapsed": true
   },
   "outputs": [],
   "source": []
  },
  {
   "cell_type": "code",
   "execution_count": null,
   "metadata": {
    "collapsed": true
   },
   "outputs": [],
   "source": []
  },
  {
   "cell_type": "code",
   "execution_count": null,
   "metadata": {
    "collapsed": true
   },
   "outputs": [],
   "source": []
  }
 ],
 "metadata": {
  "kernelspec": {
   "display_name": "Python 3",
   "language": "python",
   "name": "python3"
  },
  "language_info": {
   "codemirror_mode": {
    "name": "ipython",
    "version": 3
   },
   "file_extension": ".py",
   "mimetype": "text/x-python",
   "name": "python",
   "nbconvert_exporter": "python",
   "pygments_lexer": "ipython3",
   "version": "3.6.5"
  }
 },
 "nbformat": 4,
 "nbformat_minor": 2
}
