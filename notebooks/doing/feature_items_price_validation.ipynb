{
 "cells": [
  {
   "cell_type": "markdown",
   "metadata": {},
   "source": [
    "### Validando \"Porcentagem de itens com preços outliers acima do histórico daquele item\""
   ]
  },
  {
   "cell_type": "markdown",
   "metadata": {},
   "source": [
    "**Issue**: [#61](https://github.com/lappis-unb/salic-ml/issues/61)"
   ]
  },
  {
   "cell_type": "markdown",
   "metadata": {},
   "source": [
    "### Features Extracted:\n",
    "\n",
    "- https://github.com/lappis-unb/salic-ml/wiki/Brainstorming-de-features-para-estimar-Complexidade-Financeira"
   ]
  },
  {
   "cell_type": "markdown",
   "metadata": {},
   "source": [
    "#### Recarregar automaticamente os módulos"
   ]
  },
  {
   "cell_type": "markdown",
   "metadata": {},
   "source": [
    "### Planila orçamentária\n",
    "\n",
    "SQL Query: \n"
   ]
  },
  {
   "cell_type": "code",
   "execution_count": null,
   "metadata": {},
   "outputs": [],
   "source": [
    "%load_ext autoreload\n",
    "%autoreload 2"
   ]
  },
  {
   "cell_type": "markdown",
   "metadata": {},
   "source": [
    "### Importing data"
   ]
  },
  {
   "cell_type": "code",
   "execution_count": null,
   "metadata": {
    "scrolled": true
   },
   "outputs": [],
   "source": [
    "import os\n",
    "import sys\n",
    "import time\n",
    "from datetime import datetime\n",
    "\n",
    "import numpy as np\n",
    "import pandas as pd\n",
    "import matplotlib.pyplot as plt\n",
    "from scipy import stats\n",
    "\n",
    "\n",
    "from salicml.utils.dates import Dates\n",
    "from core.utils.read_csv import read_csv_with_different_type\n",
    "from salicml.utils.utils import debug\n",
    "from salicml.outliers import gaussian_outlier\n",
    "\n",
    "PROJECT_ROOT = os.path.abspath(os.path.join(os.pardir, os.pardir))\n",
    "DATA_FOLDER = os.path.join(PROJECT_ROOT, 'data', 'raw')"
   ]
  },
  {
   "cell_type": "markdown",
   "metadata": {},
   "source": [
    "### Dataset de comprovação"
   ]
  },
  {
   "cell_type": "code",
   "execution_count": null,
   "metadata": {
    "scrolled": false
   },
   "outputs": [],
   "source": [
    "dt_orcamentaria_name = 'planilha_orcamentaria.csv'\n",
    "\n",
    "usecols = ['PRONAC', 'idPlanilhaAprovacao', 'Item', 'idPlanilhaItens', 'VlUnitarioAprovado', 'idSegmento', 'DataProjeto']\n",
    "dtype = {\n",
    "    'PRONAC': str,\n",
    "}\n",
    "\n",
    "dt_orcamentaria = read_csv_with_different_type(dt_orcamentaria_name, dtype, usecols=usecols)\n",
    "display(dt_orcamentaria.columns)\n",
    "\n",
    "dt_orcamentaria.head()"
   ]
  },
  {
   "cell_type": "markdown",
   "metadata": {},
   "source": [
    "# Treino"
   ]
  },
  {
   "cell_type": "code",
   "execution_count": null,
   "metadata": {
    "scrolled": true
   },
   "outputs": [],
   "source": [
    "dt_train = dt_orcamentaria.copy()\n",
    "\n",
    "START_DATE = datetime(2013, 1, 1)\n",
    "\n",
    "dt_train['DataProjeto'] = pd.to_datetime(dt_train['DataProjeto'])\n",
    "dt_train = dt_train[dt_train.DataProjeto >= START_DATE]\n",
    "dt_train = dt_train[dt_train.VlUnitarioAprovado > 0.0]\n",
    "\n",
    "dt_train.sort_values(by='DataProjeto', inplace=True)\n",
    "display(dt_train.dtypes)\n",
    "display(dt_train.head())"
   ]
  },
  {
   "cell_type": "code",
   "execution_count": null,
   "metadata": {},
   "outputs": [],
   "source": [
    "PRICE_COLUMNS = ['idSegmento', 'idPlanilhaItens', 'VlUnitarioAprovado']\n",
    "dt_train_agg = dt_train[PRICE_COLUMNS].groupby(by=['idSegmento', 'idPlanilhaItens']).agg([np.mean, lambda x: np.std(x, ddof=0)])\n",
    "dt_train_agg.columns = dt_train_agg.columns.droplevel(0)\n",
    "dt_train_agg.rename(columns={'<lambda>': 'std'}, inplace=True)\n",
    "dt_train_agg.sort_values(by='mean', ascending=False, inplace=True)\n",
    "dt_train_agg.head()"
   ]
  },
  {
   "cell_type": "code",
   "execution_count": null,
   "metadata": {},
   "outputs": [],
   "source": [
    "def is_item_outlier(id_planilha_item, id_segmento, price):\n",
    "    if (id_segmento, id_planilha_item) not in dt_train_agg.index:\n",
    "        return False\n",
    "    \n",
    "    mean = dt_train_agg.loc[(id_segmento, id_planilha_item)]['mean']\n",
    "    std = dt_train_agg.loc[(id_segmento, id_planilha_item)]['std']\n",
    "    outlier = gaussian_outlier.is_outlier(x=price, mean=mean, standard_deviation=std)\n",
    "    maximum_expected = gaussian_outlier.maximum_expected_value(mean=mean, standard_deviation=std)\n",
    "    \n",
    "    print('mean = {}'.format(mean))\n",
    "    print('std = {}'.format(std))\n",
    "    print('outlier = {}'.format(outlier))\n",
    "    print('maximum_expected = {}'.format(maximum_expected))\n",
    "    \n",
    "    return outlier\n",
    "\n",
    "is_item_outlier(1129, '32', 12312123213131.0)"
   ]
  },
  {
   "cell_type": "code",
   "execution_count": null,
   "metadata": {},
   "outputs": [],
   "source": [
    "def get_outliers_percentage(pronac):\n",
    "    items = dt_orcamentaria[dt_orcamentaria.PRONAC == pronac]\n",
    "    print('items.type = {}'.format(type(items)))\n",
    "    print('items.shape = {}'.format(items.shape))\n",
    "    \n",
    "    outliers = 0\n",
    "    for index, item in items.iterrows():\n",
    "        item_id = item['idPlanilhaItens']\n",
    "        unit_value = item['VlUnitarioAprovado']\n",
    "        segment_id = item['idSegmento']\n",
    "        \n",
    "        outliers += 1 if is_item_outlier(id_planilha_item=item_id, id_segmento=segment_id, price=unit_value) else 0\n",
    "    \n",
    "    print('outliers = {}'.format(outliers))\n",
    "    outliers_percentage = outliers / items.shape[0]\n",
    "    return outliers_percentage\n",
    "\n",
    "\n",
    "pronac = np.random.choice(dt_orcamentaria.PRONAC.values)\n",
    "print('pronac = {}'.format(pronac))\n",
    "percentage = get_outliers_percentage(pronac)\n",
    "print('percentage({}) = {}'.format(pronac, percentage))"
   ]
  }
 ],
 "metadata": {
  "kernelspec": {
   "display_name": "Python 3",
   "language": "python",
   "name": "python3"
  },
  "language_info": {
   "codemirror_mode": {
    "name": "ipython",
    "version": 3
   },
   "file_extension": ".py",
   "mimetype": "text/x-python",
   "name": "python",
   "nbconvert_exporter": "python",
   "pygments_lexer": "ipython3",
   "version": "3.6.4"
  }
 },
 "nbformat": 4,
 "nbformat_minor": 2
}
