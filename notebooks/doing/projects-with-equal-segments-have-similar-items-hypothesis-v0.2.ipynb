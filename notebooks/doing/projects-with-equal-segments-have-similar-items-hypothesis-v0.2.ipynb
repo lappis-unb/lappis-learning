{
 "cells": [
  {
   "cell_type": "markdown",
   "metadata": {},
   "source": [
    "# Introduçao"
   ]
  },
  {
   "cell_type": "markdown",
   "metadata": {},
   "source": [
    "## Prepararando os dados"
   ]
  },
  {
   "cell_type": "markdown",
   "metadata": {},
   "source": [
    "**Issue relacionada:** [#35](https://github.com/lappis-unb/salic-ml/issues/35)\n",
    "\n",
    "\n",
    "### Introdução\n",
    "\n",
    "A **hipótese de que projetos de mesma área e segmentos possuem itens similares** foi negada em relação a métrica definida neste [trabalho](link). Naquele notebook a seguinte métrica foi utilizada para negar esta hipótese:\n",
    "\n",
    "`p = #(A & B) / #(A | B)`\n",
    "\n",
    "Onde `A` é o conjunto de itens de um projeto comparado, e `B` é o conjunto de itens do segundo projeto comparado. A hipótese seria verdadeira se e somente se `p >= 0.5`, na média, de um dado subconjunto qualquer da tupla (àrea, segmento).\n",
    "\n",
    "O valor de `p` é muito sensível a ruídos porque nela cada item do projeto é dado o mesmo peso (por exemplo, peso ou 1). Ou seja, itens muito raros possuem um peso igual a itens muito comuns naquela tupla (area, segmento). Este notebook propõe modificar a métrica acima para confirmar ou negar a hipótese investigada considerando um \"peso\" para cada tipo de item. Neste passo é assumido como verdadeiro que itens menos frequentes devem possuir um peso menor do que itens mais frequentes.\n",
    "\n",
    "### Notação\n",
    "\n",
    "\n",
    "| Notação        | Significado           |\n",
    "| ------------- |:-------------:|\n",
    "| `#A` | Número de elementos do conjunto `A` |\n",
    "| <code>A &#124; B </code>| União dos conjuntos `A` e `B` |\n",
    "| `A & B` | Intersecção dos conjuntos `A` e `B` |\n",
    "| `A[i]` | i-ésimo item do conjunto `A`, onde itens são ordenados em ordem crescente |\n",
    "| `w(i)` | Peso do i-ésimo item do banco de dados. A função `w` atribui os pesos | \n",
    "\n",
    "### Hipóteses\n",
    "\n",
    "**Hipótese 1:** Projetos de mesma área e segmento possuem conjunto de itens similares\n",
    "\n",
    "\n",
    "**Métricas para confirmar (negar) a hipótese 1**\n",
    "\n",
    "\n",
    "**Métrica 1**\n",
    "\n",
    "Chamaremos de `score(s)` a soma dos pesos dos itens (sem repetição) do conjunto `s`. Ou seja, `score(s) = somatorio(w[i])` para todo item `i` em `s`. Em seguida definimos `I = (A & B)` e `U = (A | B)`. Seja `p = (score(I) / score(U))`, a Hipótese 1 será verdadeira se `p >= 0.5`.\n",
    "\n",
    "**Hipótese 2:** Projetos de segmentos distintos possuem conjunto de itens não-similares\n",
    "\n",
    "**Métrica 2:**\n",
    "\n",
    "Se projetos de mesma área e segmentos possuem conjuntos de itens similares (Hipótese 1), mas projetos de segmentos distintos também o possuem, a Hipótese 1 seria pouco útil. Portanto também estamos interessados também na \"inversa\" da hipótese 1. Considerando as definições da **Métrica 1**, esperamos que a média dos `p` entre projetos de segmentos distintos, seja pele menos **duas vezes menor na média** dos `p`.\n"
   ]
  },
  {
   "cell_type": "markdown",
   "metadata": {},
   "source": [
    "**Recarregar automaticamente os módulos**"
   ]
  },
  {
   "cell_type": "code",
   "execution_count": 19,
   "metadata": {
    "scrolled": true
   },
   "outputs": [
    {
     "name": "stdout",
     "output_type": "stream",
     "text": [
      "The autoreload extension is already loaded. To reload it, use:\n",
      "  %reload_ext autoreload\n"
     ]
    }
   ],
   "source": [
    "%load_ext autoreload\n",
    "%autoreload 2"
   ]
  },
  {
   "cell_type": "markdown",
   "metadata": {},
   "source": [
    "**Importando módulos python**"
   ]
  },
  {
   "cell_type": "code",
   "execution_count": 20,
   "metadata": {},
   "outputs": [],
   "source": [
    "import os\n",
    "import sys\n",
    "import time\n",
    "import numpy as np\n",
    "import pandas as pd\n",
    "import matplotlib.pyplot as plt\n",
    "from scipy import stats\n",
    "\n",
    "\n",
    "from salicml.utils.dates import Dates\n",
    "\n",
    "PROJECT_ROOT = os.path.abspath(os.path.join(os.pardir, os.pardir))\n",
    "DATA_FOLDER = os.path.join(PROJECT_ROOT, 'data', 'raw')"
   ]
  },
  {
   "cell_type": "markdown",
   "metadata": {},
   "source": [
    "### Carregando os dados da tabela de Projetos"
   ]
  },
  {
   "cell_type": "code",
   "execution_count": 21,
   "metadata": {
    "scrolled": false
   },
   "outputs": [
    {
     "data": {
      "text/html": [
       "<div>\n",
       "<style scoped>\n",
       "    .dataframe tbody tr th:only-of-type {\n",
       "        vertical-align: middle;\n",
       "    }\n",
       "\n",
       "    .dataframe tbody tr th {\n",
       "        vertical-align: top;\n",
       "    }\n",
       "\n",
       "    .dataframe thead th {\n",
       "        text-align: right;\n",
       "    }\n",
       "</style>\n",
       "<table border=\"1\" class=\"dataframe\">\n",
       "  <thead>\n",
       "    <tr style=\"text-align: right;\">\n",
       "      <th></th>\n",
       "      <th>IdPRONAC</th>\n",
       "      <th>AnoProjeto</th>\n",
       "      <th>Sequencial</th>\n",
       "      <th>UfProjeto</th>\n",
       "      <th>Area</th>\n",
       "      <th>Segmento</th>\n",
       "      <th>Mecanismo</th>\n",
       "      <th>NomeProjeto</th>\n",
       "      <th>Processo</th>\n",
       "      <th>CgcCpf</th>\n",
       "      <th>...</th>\n",
       "      <th>DtInicioExecucao</th>\n",
       "      <th>DtFimExecucao</th>\n",
       "      <th>SolicitadoUfir</th>\n",
       "      <th>SolicitadoReal</th>\n",
       "      <th>SolicitadoCusteioUfir</th>\n",
       "      <th>SolicitadoCusteioReal</th>\n",
       "      <th>SolicitadoCapitalUfir</th>\n",
       "      <th>SolicitadoCapitalReal</th>\n",
       "      <th>Logon</th>\n",
       "      <th>idProjeto</th>\n",
       "    </tr>\n",
       "  </thead>\n",
       "  <tbody>\n",
       "    <tr>\n",
       "      <th>158164</th>\n",
       "      <td>159372</td>\n",
       "      <td>13</td>\n",
       "      <td>0001</td>\n",
       "      <td>SP</td>\n",
       "      <td>3</td>\n",
       "      <td>33</td>\n",
       "      <td>1</td>\n",
       "      <td>Brasil-Alemanha &amp;#x2013; Quintetos de Sopros</td>\n",
       "      <td>01400000002201381</td>\n",
       "      <td>03521177000121</td>\n",
       "      <td>...</td>\n",
       "      <td>2013-07-01 00:00:00</td>\n",
       "      <td>2013-09-30 00:00:00</td>\n",
       "      <td>0.0</td>\n",
       "      <td>538140.0</td>\n",
       "      <td>0.0</td>\n",
       "      <td>0.0</td>\n",
       "      <td>0.0</td>\n",
       "      <td>0.0</td>\n",
       "      <td>6077.0</td>\n",
       "      <td>93995.0</td>\n",
       "    </tr>\n",
       "  </tbody>\n",
       "</table>\n",
       "<p>1 rows × 34 columns</p>\n",
       "</div>"
      ],
      "text/plain": [
       "        IdPRONAC AnoProjeto Sequencial UfProjeto  Area Segmento  Mecanismo  \\\n",
       "158164    159372         13       0001        SP     3       33          1   \n",
       "\n",
       "                                         NomeProjeto           Processo  \\\n",
       "158164  Brasil-Alemanha &#x2013; Quintetos de Sopros  01400000002201381   \n",
       "\n",
       "                CgcCpf    ...        DtInicioExecucao        DtFimExecucao  \\\n",
       "158164  03521177000121    ...     2013-07-01 00:00:00  2013-09-30 00:00:00   \n",
       "\n",
       "       SolicitadoUfir SolicitadoReal  SolicitadoCusteioUfir  \\\n",
       "158164            0.0       538140.0                    0.0   \n",
       "\n",
       "        SolicitadoCusteioReal SolicitadoCapitalUfir SolicitadoCapitalReal  \\\n",
       "158164                    0.0                   0.0                   0.0   \n",
       "\n",
       "         Logon idProjeto  \n",
       "158164  6077.0   93995.0  \n",
       "\n",
       "[1 rows x 34 columns]"
      ]
     },
     "execution_count": 21,
     "metadata": {},
     "output_type": "execute_result"
    }
   ],
   "source": [
    "from salicml.models.project_items import Projects\n",
    "\n",
    "projects = Projects()\n",
    "projects.dt.head(1)"
   ]
  },
  {
   "cell_type": "code",
   "execution_count": 25,
   "metadata": {
    "scrolled": true
   },
   "outputs": [
    {
     "name": "stdout",
     "output_type": "stream",
     "text": [
      "2013-01-02T10:59:07.000000000\n"
     ]
    },
    {
     "data": {
      "text/plain": [
       "[(7, 22423), (1, 10112), (3, 8197)]"
      ]
     },
     "metadata": {},
     "output_type": "display_data"
    },
    {
     "data": {
      "text/plain": [
       "[('76', 21617), ('11', 7148), ('33', 3485)]"
      ]
     },
     "metadata": {},
     "output_type": "display_data"
    }
   ],
   "source": [
    "print(min(projects.dt[Projects.DATE].values))\n",
    "areas = projects.most_frequent_areas()\n",
    "display(areas[:3])\n",
    "\n",
    "segments = projects.most_frequent_segments()\n",
    "display(segments[:3])"
   ]
  },
  {
   "cell_type": "markdown",
   "metadata": {},
   "source": [
    "### Filtrando os dados\n",
    "\n",
    "É conhecido que dados muito antigos (de 1992, por exemplo) podem ser inconsistentes, então vamos filtrar os dados a partir de uma data de início."
   ]
  },
  {
   "cell_type": "code",
   "execution_count": null,
   "metadata": {
    "scrolled": true
   },
   "outputs": [],
   "source": [
    "from datetime import datetime\n",
    "\n",
    "START_DATE = datetime(day=1, month=1, year=2013)\n",
    "\n",
    "date_column = 'DataProjeto'\n",
    "dt_items[date_column] = pd.to_datetime(dt_items[date_column], format = Dates.DATE_INPUT_FORMAT)\n",
    "\n",
    "dt_items = dt_items[dt_items.loc[:, date_column] >= START_DATE]\n",
    "print(min(dt_items[date_column]))\n",
    "dt_items.head()"
   ]
  },
  {
   "cell_type": "markdown",
   "metadata": {},
   "source": [
    "# Explorando os dados\n",
    "\n",
    "Explorar rapidamente os dados a fim de obter insights."
   ]
  },
  {
   "cell_type": "markdown",
   "metadata": {},
   "source": [
    "**Dados básicos**"
   ]
  },
  {
   "cell_type": "code",
   "execution_count": null,
   "metadata": {},
   "outputs": [],
   "source": [
    "dt_items.info()"
   ]
  },
  {
   "cell_type": "markdown",
   "metadata": {},
   "source": [
    "**Identificando se um segmento pode estar em mais de uma área**"
   ]
  },
  {
   "cell_type": "code",
   "execution_count": null,
   "metadata": {},
   "outputs": [],
   "source": [
    "from salicml.models.project_items import ProjectItems\n",
    "from salicml.utils.utils import debug\n",
    "\n",
    "project_items = ProjectItems(dt_items)"
   ]
  },
  {
   "cell_type": "code",
   "execution_count": null,
   "metadata": {
    "scrolled": true
   },
   "outputs": [],
   "source": [
    "all_areas = project_items.all_areas()\n",
    "all_segments = project_items.all_segments()\n",
    "\n",
    "for segment in all_segments:\n",
    "    rows = dt_items[dt_items.Segmento == segment]\n",
    "    areas = rows['Area'].unique()\n",
    "    \n",
    "    if areas.size > 1:\n",
    "        print('Segmento: {}'.format(segment))\n",
    "        print('Areas: {}'.format(areas))\n",
    "        print('\\n')\n",
    "    "
   ]
  },
  {
   "cell_type": "markdown",
   "metadata": {},
   "source": [
    "Para o segmento **32** há projetos entre as àreas `(3, 1)`. Portanto não podemos considerar que um segmento pertence a uma única área."
   ]
  },
  {
   "cell_type": "code",
   "execution_count": null,
   "metadata": {},
   "outputs": [],
   "source": [
    "ID_PRONAC = 'idPronac'"
   ]
  },
  {
   "cell_type": "markdown",
   "metadata": {},
   "source": [
    "**Testando a hipótese em cima de uma única tupla**\n",
    "\n",
    "A tupla de (area, segmento) que possui o maior número de projetos é a tupla `(1, '11')`, segundo este [trabalho](link). Vamos testar, inicialmente, a hipótese em cima deste conjunto de projetos.\n",
    "\n"
   ]
  },
  {
   "cell_type": "code",
   "execution_count": null,
   "metadata": {
    "scrolled": true
   },
   "outputs": [],
   "source": [
    "AREA, SEGMENTO = ProjectItems.AREA, ProjectItems.SEGMENTO\n",
    "area_segment = (1, '11')\n",
    "area_and_segment = (dt_items[SEGMENTO] == area_segment[1])\n",
    "area_and_segment &= (dt_items[AREA] == area_segment[0])\n",
    "items_area = dt_items.loc[area_and_segment]\n",
    "display(items_area.head(1))\n",
    "\n",
    "print('(area, segmento) = {}'.format(area_segment))\n",
    "print('items_area.len = {}'.format(len(items_area.index)))"
   ]
  },
  {
   "cell_type": "markdown",
   "metadata": {},
   "source": [
    "# Importando a tabela Projetos"
   ]
  },
  {
   "cell_type": "code",
   "execution_count": null,
   "metadata": {
    "scrolled": false
   },
   "outputs": [],
   "source": [
    "ID_ITEM = 'idPlanilhaItens'\n",
    "counts = np.unique(items_area[ID_ITEM].values, return_counts=True)\n",
    "print('counts[0].size = {}'.format(counts[0].size))\n",
    "print('max(counts[1]) = {}'.format(max(counts[1])))"
   ]
  },
  {
   "cell_type": "markdown",
   "metadata": {},
   "source": [
    "**Estatísticas básicas sobre o eixo-y do histograma**"
   ]
  },
  {
   "cell_type": "code",
   "execution_count": null,
   "metadata": {},
   "outputs": [],
   "source": [
    "def plot_bar(y):\n",
    "    x = np.arange(1, len(y) + 1)\n",
    "    plt.bar(x, y, align='center')\n",
    "    plt.xlabel('Id do item')\n",
    "    plt.ylabel('Número de ocorrências do item')\n",
    "    plt.title('Histograma de ocorrência de itens em projetos aprovados')\n",
    "    plt.show()"
   ]
  },
  {
   "cell_type": "code",
   "execution_count": null,
   "metadata": {
    "scrolled": true
   },
   "outputs": [],
   "source": [
    "from operator import itemgetter\n",
    "\n",
    "ids_count = list(zip(*counts))\n",
    "ids_count.sort(key=itemgetter(1), reverse=True)\n",
    "x, y = zip(*ids_count)\n",
    "y = np.array(y)\n",
    "plot_bar(y)"
   ]
  },
  {
   "cell_type": "markdown",
   "metadata": {},
   "source": [
    "### Sobre o gráfico acima\n",
    "\n",
    "O eixo x representa uma \"normalização\" do id dos itens, pois os ids dos itens não necessariamente formam uma permutação de `[1, n]`. Os valores do eixo y foram ordenados em decrescente já que a ordem dos itens não interessa e o objetivo do notebook é investigar os itens mais frequentes. Também é importante comentar que o histograma acima assume que para uma dada planilha orçamentária há apenas uma linha por tipo (id) do item por projeto (idPronac)."
   ]
  },
  {
   "cell_type": "markdown",
   "metadata": {},
   "source": [
    "### Repetindo o gráfico mas tirando valores de y que estão abaixo do percentile\n"
   ]
  },
  {
   "cell_type": "code",
   "execution_count": null,
   "metadata": {
    "scrolled": false
   },
   "outputs": [],
   "source": [
    "PERCENTILE = 50\n",
    "percentile = np.percentile(y, PERCENTILE)\n",
    "display(pd.DataFrame(y).describe())\n",
    "print('percentile = {}'.format(percentile))\n",
    "\n",
    "y = [val for val in y if val >= percentile]\n",
    "plot_bar(y)"
   ]
  },
  {
   "cell_type": "markdown",
   "metadata": {},
   "source": [
    "**Dando peso aos itens**\n",
    "\n",
    "Neste passo é assumido que itens mais frequentes devem ter um peso maior que itens menos frequentes. Portanto podemos considerar que o peso de um item `x` é o valor `y` no histograma de contagem dos itens. Agora pode-se calcular a **Métrica 1** utilizando estes pesos e enfim confirmar/negar a **Hipótese 1**."
   ]
  },
  {
   "cell_type": "code",
   "execution_count": null,
   "metadata": {},
   "outputs": [],
   "source": [
    "from collections import Counter\n",
    "\n",
    "item_weight = Counter(dt_items[ID_ITEM].values)"
   ]
  },
  {
   "cell_type": "code",
   "execution_count": null,
   "metadata": {},
   "outputs": [],
   "source": [
    "def get_items_score(items):\n",
    "    score = sum(item_weight[id] for id in items)\n",
    "    return score\n",
    "\n",
    "\n",
    "def get_project_score(id_pronac):\n",
    "    items = project_items.items(id_pronac)\n",
    "    score = get_items_score(items)\n",
    "    return score\n",
    "\n",
    "\n",
    "def get_projects_weighted_similarity(itens_a, itens_b):\n",
    "    intersect = np.intersect1d(itens_a, itens_b)\n",
    "    union = np.union1d(itens_a, itens_b)\n",
    "    \n",
    "    numerator = get_items_score(intersect)\n",
    "    denominator = get_items_score(union)\n",
    "    \n",
    "    similarity = numerator / denominator\n",
    "    \n",
    "    assert similarity >= 0.0 and similarity <= 1.0\n",
    "    return similarity\n",
    "\n",
    "\n",
    "def get_projects_weighted_similarity_min(itens_a, itens_b):\n",
    "    if itens_a.size > itens_b.size:\n",
    "        itens_a, itens_b = itens_b, itens_a\n",
    "        \n",
    "    intersect = np.intersect1d(itens_a, itens_b)\n",
    "    numerator = get_items_score(intersect)\n",
    "    \n",
    "    denominator = get_items_score(itens_a)\n",
    "    \n",
    "    similarity = numerator / denominator\n",
    "    \n",
    "    assert similarity >= 0.0 and similarity <= 1.0\n",
    "    return similarity"
   ]
  },
  {
   "cell_type": "markdown",
   "metadata": {},
   "source": [
    "**Calculando a similaridade entre projetos de áreas (1, '6F')**\n",
    "\n",
    "Devido o custo computacional das operações na tabela/dataframe, é inviável calcular a similaridade entre todas as combinações tomadas 2 a 2 de todos os projetos da área acima. Um contorno possível é selecionar um subconjunto aleatório destes projetos e testar todas as combinações tomadas 2 a 2 deste subconjunto."
   ]
  },
  {
   "cell_type": "code",
   "execution_count": null,
   "metadata": {},
   "outputs": [],
   "source": [
    "PERCENT =  0.025\n",
    "pronacs_in_area = items_area[ID_PRONAC].unique()\n",
    "\n",
    "%store -r pronacs_sample\n",
    "\n",
    "pronacs = pronacs_sample\n",
    "print('sample size = {}'.format(pronacs.size))"
   ]
  },
  {
   "cell_type": "code",
   "execution_count": null,
   "metadata": {
    "scrolled": false
   },
   "outputs": [],
   "source": [
    "%%time\n",
    "size = pronacs.size\n",
    "sims = []\n",
    "sims_min = []\n",
    "\n",
    "for i in range(size):\n",
    "    id1 = pronacs[i]\n",
    "    items_a = project_items.items(id1, dt=items_area)\n",
    "\n",
    "    for j in range(i + 1, size):\n",
    "        id2 = pronacs[j]\n",
    "        items_b = project_items.items(id2, items_area)\n",
    "        similarity = get_projects_weighted_similarity(items_a, items_b)\n",
    "        similarity_min = get_projects_weighted_similarity_min(items_a, items_b)\n",
    "        \n",
    "        sims.append(similarity)\n",
    "        sims_min.append(similarity_min)\n",
    "\n",
    "similarities = np.array(sims, float)\n",
    "similarities_min = np.array(sims_min, float)\n"
   ]
  },
  {
   "cell_type": "markdown",
   "metadata": {},
   "source": [
    "**Resultados da similaridade em relação ao tamanho da união dos conjuntos**"
   ]
  },
  {
   "cell_type": "code",
   "execution_count": null,
   "metadata": {
    "scrolled": false
   },
   "outputs": [],
   "source": [
    "weighed_sim_stats = pd.DataFrame(similarities).describe()\n",
    "display(weighed_sim_stats)"
   ]
  },
  {
   "cell_type": "code",
   "execution_count": null,
   "metadata": {
    "scrolled": true
   },
   "outputs": [],
   "source": [
    "plt.hist(similarities)\n",
    "plt.title('Similaridade considerando o conjunto união dos itens')\n",
    "plt.xlabel('Similaridade em [0, 1]')\n",
    "plt.ylabel('Número de combinações, C(n, 2)')\n",
    "plt.show()"
   ]
  },
  {
   "cell_type": "code",
   "execution_count": null,
   "metadata": {},
   "outputs": [],
   "source": [
    "plt.hist(similarities_min)\n",
    "plt.title('Similaridade considerando o menor conjunto de itens da combinação')\n",
    "plt.xlabel('Similaridade em [0, 1]')\n",
    "plt.ylabel('Número de combinações, C(n, 2)')\n",
    "plt.show()"
   ]
  },
  {
   "cell_type": "markdown",
   "metadata": {},
   "source": [
    "# Comparação com os resultados da mesma métrica mas sem pesos\n",
    "\n",
    "**Métrica 1**"
   ]
  },
  {
   "cell_type": "code",
   "execution_count": null,
   "metadata": {
    "scrolled": true
   },
   "outputs": [],
   "source": [
    "%store -r sim_describe\n",
    "\n",
    "\n",
    "dt_comp = pd.DataFrame(sim_describe)\n",
    "dt_comp['comparação ponderada'] = weighed_sim_stats[0].values\n",
    "dt_comp.rename(columns = {0: 'comparação sem ponderar'}, inplace=True)\n",
    "display(dt_comp)"
   ]
  },
  {
   "cell_type": "markdown",
   "metadata": {},
   "source": [
    "### Conclusões\n",
    "\n",
    "Na média, a similaridade dos projetos aumentou, de `0.154977` para `0.285552`. É preciso ainda testar a Hipótese 2 para se comparar estes valores a fim de fato negar ou confirmar a Hipótese 1, pois pode ser que a similaridade entre projetos de segmentos distintos seja muito menor do que a similaridade entre projetos de mesmos segmentos.\n",
    "\n",
    "#### Contribuições futuras\n",
    "\n",
    "- Negar ou confirmar a Hipótese 2\n",
    "- Considerar uma métrica similar ao `tf-idf`, descrita em https://en.wikipedia.org/wiki/Tf%E2%80%93idf"
   ]
  }
 ],
 "metadata": {
  "kernelspec": {
   "display_name": "Python 3",
   "language": "python",
   "name": "python3"
  },
  "language_info": {
   "codemirror_mode": {
    "name": "ipython",
    "version": 3
   },
   "file_extension": ".py",
   "mimetype": "text/x-python",
   "name": "python",
   "nbconvert_exporter": "python",
   "pygments_lexer": "ipython3",
   "version": "3.6.4"
  }
 },
 "nbformat": 4,
 "nbformat_minor": 2
}
