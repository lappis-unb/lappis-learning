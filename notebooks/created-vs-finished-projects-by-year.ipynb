{
 "cells": [
  {
   "cell_type": "markdown",
   "metadata": {},
   "source": [
    "**Inportando dados**"
   ]
  },
  {
   "cell_type": "code",
   "execution_count": 25,
   "metadata": {},
   "outputs": [],
   "source": [
    "import os\n",
    "import sys\n",
    "import numpy as np\n",
    "import pandas as pd\n",
    "import matplotlib.pyplot as plt\n",
    "\n",
    "PROJECT_ROOT = os.path.abspath(os.path.join(os.pardir))\n",
    "DATA_FOLDER = os.path.join(PROJECT_ROOT, 'data', 'raw')\n",
    "sys.path.append(os.path.join(PROJECT_ROOT, 'src'))\n",
    "\n",
    "from utils.dates import Dates"
   ]
  },
  {
   "cell_type": "markdown",
   "metadata": {},
   "source": [
    "**Tabela Projetos**"
   ]
  },
  {
   "cell_type": "code",
   "execution_count": 26,
   "metadata": {},
   "outputs": [
    {
     "data": {
      "text/html": [
       "<div>\n",
       "<style scoped>\n",
       "    .dataframe tbody tr th:only-of-type {\n",
       "        vertical-align: middle;\n",
       "    }\n",
       "\n",
       "    .dataframe tbody tr th {\n",
       "        vertical-align: top;\n",
       "    }\n",
       "\n",
       "    .dataframe thead th {\n",
       "        text-align: right;\n",
       "    }\n",
       "</style>\n",
       "<table border=\"1\" class=\"dataframe\">\n",
       "  <thead>\n",
       "    <tr style=\"text-align: right;\">\n",
       "      <th></th>\n",
       "      <th>IdPRONAC</th>\n",
       "      <th>DtProtocolo</th>\n",
       "      <th>DtFimExecucao</th>\n",
       "    </tr>\n",
       "  </thead>\n",
       "  <tbody>\n",
       "    <tr>\n",
       "      <th>0</th>\n",
       "      <td>1</td>\n",
       "      <td>2008-09-12 00:00:00</td>\n",
       "      <td>2010-12-31 00:00:00</td>\n",
       "    </tr>\n",
       "    <tr>\n",
       "      <th>1</th>\n",
       "      <td>2</td>\n",
       "      <td>2008-09-12 00:00:00</td>\n",
       "      <td>NaN</td>\n",
       "    </tr>\n",
       "    <tr>\n",
       "      <th>2</th>\n",
       "      <td>3</td>\n",
       "      <td>2008-09-12 00:00:00</td>\n",
       "      <td>NaN</td>\n",
       "    </tr>\n",
       "    <tr>\n",
       "      <th>3</th>\n",
       "      <td>4</td>\n",
       "      <td>2008-09-03 00:00:00</td>\n",
       "      <td>NaN</td>\n",
       "    </tr>\n",
       "    <tr>\n",
       "      <th>4</th>\n",
       "      <td>5</td>\n",
       "      <td>2008-09-12 00:00:00</td>\n",
       "      <td>NaN</td>\n",
       "    </tr>\n",
       "  </tbody>\n",
       "</table>\n",
       "</div>"
      ],
      "text/plain": [
       "   IdPRONAC          DtProtocolo        DtFimExecucao\n",
       "0         1  2008-09-12 00:00:00  2010-12-31 00:00:00\n",
       "1         2  2008-09-12 00:00:00                  NaN\n",
       "2         3  2008-09-12 00:00:00                  NaN\n",
       "3         4  2008-09-03 00:00:00                  NaN\n",
       "4         5  2008-09-12 00:00:00                  NaN"
      ]
     },
     "execution_count": 26,
     "metadata": {},
     "output_type": "execute_result"
    }
   ],
   "source": [
    "projetos_csv = os.path.join(DATA_FOLDER, 'projetos.csv')\n",
    "\n",
    "cols = ['IdPRONAC', 'DtProtocolo', 'DtFimExecucao']\n",
    "\n",
    "dt_projetos = pd.read_csv(projetos_csv, usecols = cols, low_memory = False)\n",
    "\n",
    "dt_projetos.head()"
   ]
  },
  {
   "cell_type": "markdown",
   "metadata": {},
   "source": [
    "**Separar projetos criados e projetos finalizados por ano**"
   ]
  },
  {
   "cell_type": "code",
   "execution_count": 50,
   "metadata": {},
   "outputs": [],
   "source": [
    "years = ['2009', '2010', '2011', '2012', '2013', '2014', '2015', '2016', '2017', '2018', '2019', '2020']\n",
    "\n",
    "created_projects = []\n",
    "finished_projects = []\n",
    "\n",
    "for year in years:\n",
    "    created_projects_filter = dt_projetos['DtProtocolo'] < '{}-12-31'.format(year)\n",
    "    finished_projects_filter = dt_projetos['DtFimExecucao'] < '{}-12-31'.format(year)\n",
    "    \n",
    "    created_projects.append(len(dt_projetos[created_projects_filter]))\n",
    "    finished_projects.append(len(dt_projetos[finished_projects_filter]))"
   ]
  },
  {
   "cell_type": "markdown",
   "metadata": {},
   "source": [
    "**Gráfico de projetos criados vs finalizados no decorrer do tempo**"
   ]
  },
  {
   "cell_type": "code",
   "execution_count": 44,
   "metadata": {},
   "outputs": [
    {
     "data": {
      "image/png": "[encoded data removed]",
      "text/plain": [
       "<Figure size 432x288 with 1 Axes>"
      ]
     },
     "metadata": {},
     "output_type": "display_data"
    }
   ],
   "source": [
    "ax = plt.subplot(111)\n",
    "\n",
    "ax.set_xlabel('Ano')\n",
    "ax.set_ylabel('Projetos')\n",
    "\n",
    "created_projects_bar = ax.bar(years, created_projects, color = 'red', align = 'center')\n",
    "finished_projects_bar = ax.bar(years, finished_projects, color = 'blue', align = 'center')\n",
    "\n",
    "ax.legend( (created_projects_bar, finished_projects_bar), ('Projetos Criados', 'Projetos Finalizados') )\n",
    "\n",
    "plt.show()"
   ]
  },
  {
   "cell_type": "code",
   "execution_count": null,
   "metadata": {},
   "outputs": [],
   "source": []
  }
 ],
 "metadata": {
  "kernelspec": {
   "display_name": "Python 3",
   "language": "python",
   "name": "python3"
  },
  "language_info": {
   "codemirror_mode": {
    "name": "ipython",
    "version": 3
   },
   "file_extension": ".py",
   "mimetype": "text/x-python",
   "name": "python",
   "nbconvert_exporter": "python",
   "pygments_lexer": "ipython3",
   "version": "3.6.5"
  }
 },
 "nbformat": 4,
 "nbformat_minor": 2
}
