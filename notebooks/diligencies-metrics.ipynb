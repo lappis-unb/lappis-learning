{
 "cells": [
  {
   "cell_type": "markdown",
   "metadata": {},
   "source": [
    "# Importando os dados"
   ]
  },
  {
   "cell_type": "code",
   "execution_count": 254,
   "metadata": {
    "scrolled": true
   },
   "outputs": [
    {
     "data": {
      "text/html": [
       "<div>\n",
       "<style scoped>\n",
       "    .dataframe tbody tr th:only-of-type {\n",
       "        vertical-align: middle;\n",
       "    }\n",
       "\n",
       "    .dataframe tbody tr th {\n",
       "        vertical-align: top;\n",
       "    }\n",
       "\n",
       "    .dataframe thead th {\n",
       "        text-align: right;\n",
       "    }\n",
       "</style>\n",
       "<table border=\"1\" class=\"dataframe\">\n",
       "  <thead>\n",
       "    <tr style=\"text-align: right;\">\n",
       "      <th></th>\n",
       "      <th>idPronac</th>\n",
       "      <th>idTipoDiligencia</th>\n",
       "      <th>DtSolicitacao</th>\n",
       "      <th>idSolicitante</th>\n",
       "      <th>DtResposta</th>\n",
       "      <th>idProponente</th>\n",
       "      <th>stEnviado</th>\n",
       "    </tr>\n",
       "  </thead>\n",
       "  <tbody>\n",
       "    <tr>\n",
       "      <th>0</th>\n",
       "      <td>115502</td>\n",
       "      <td>124</td>\n",
       "      <td>2009-09-24 16:52:23</td>\n",
       "      <td>2851</td>\n",
       "      <td>2010-01-18 14:39:07</td>\n",
       "      <td>NaN</td>\n",
       "      <td>S</td>\n",
       "    </tr>\n",
       "    <tr>\n",
       "      <th>1</th>\n",
       "      <td>114250</td>\n",
       "      <td>124</td>\n",
       "      <td>2009-09-24 18:11:00</td>\n",
       "      <td>2825</td>\n",
       "      <td>2009-10-07 19:45:18</td>\n",
       "      <td>6010.0</td>\n",
       "      <td>S</td>\n",
       "    </tr>\n",
       "    <tr>\n",
       "      <th>2</th>\n",
       "      <td>115134</td>\n",
       "      <td>124</td>\n",
       "      <td>2009-09-24 18:13:00</td>\n",
       "      <td>2825</td>\n",
       "      <td>2009-10-07 16:10:21</td>\n",
       "      <td>9553.0</td>\n",
       "      <td>S</td>\n",
       "    </tr>\n",
       "    <tr>\n",
       "      <th>3</th>\n",
       "      <td>114399</td>\n",
       "      <td>124</td>\n",
       "      <td>2009-09-24 18:26:00</td>\n",
       "      <td>2845</td>\n",
       "      <td>2009-10-06 09:30:35</td>\n",
       "      <td>9521.0</td>\n",
       "      <td>S</td>\n",
       "    </tr>\n",
       "    <tr>\n",
       "      <th>4</th>\n",
       "      <td>115059</td>\n",
       "      <td>124</td>\n",
       "      <td>2009-09-24 18:35:00</td>\n",
       "      <td>2915</td>\n",
       "      <td>2009-10-02 18:01:47</td>\n",
       "      <td>11598.0</td>\n",
       "      <td>S</td>\n",
       "    </tr>\n",
       "  </tbody>\n",
       "</table>\n",
       "</div>"
      ],
      "text/plain": [
       "   idPronac  idTipoDiligencia        DtSolicitacao  idSolicitante  \\\n",
       "0    115502               124  2009-09-24 16:52:23           2851   \n",
       "1    114250               124  2009-09-24 18:11:00           2825   \n",
       "2    115134               124  2009-09-24 18:13:00           2825   \n",
       "3    114399               124  2009-09-24 18:26:00           2845   \n",
       "4    115059               124  2009-09-24 18:35:00           2915   \n",
       "\n",
       "            DtResposta  idProponente stEnviado  \n",
       "0  2010-01-18 14:39:07           NaN         S  \n",
       "1  2009-10-07 19:45:18        6010.0         S  \n",
       "2  2009-10-07 16:10:21        9553.0         S  \n",
       "3  2009-10-06 09:30:35        9521.0         S  \n",
       "4  2009-10-02 18:01:47       11598.0         S  "
      ]
     },
     "execution_count": 254,
     "metadata": {},
     "output_type": "execute_result"
    }
   ],
   "source": [
    "import os\n",
    "import pandas as pd\n",
    "import sys\n",
    "PROJECT_ROOT = os.path.abspath(os.path.join(os.pardir))\n",
    "sys.path.append(os.path.join(PROJECT_ROOT, 'src'))\n",
    "from utils.dates import Dates\n",
    "\n",
    "\n",
    "data_folder = os.path.join(PROJECT_ROOT, 'data', 'raw')\n",
    "itens_file_name = 'tb_diligencia.csv'\n",
    "itens_file_path = os.path.join(data_folder, itens_file_name)\n",
    "\n",
    "#cols = ['idDiligencia', 'idPronac', 'idTipoDiligencia', 'DtSolicitacao', 'idSolicitante', 'DtResposta',\n",
    "#        'idProponente', 'stEstado', 'idPlanoDistribuicao', 'idArquivo', 'idCodigoDocumentosExigidos',\n",
    "#        'idProduto', 'stProrrogacao', 'stEnviado']\n",
    "\n",
    "cols = ['idPronac', 'idTipoDiligencia', 'DtSolicitacao', 'idSolicitante', 'DtResposta', 'idProponente', 'stEnviado']\n",
    "\n",
    "dt_diligencias = pd.read_csv(itens_file_path, usecols = cols, low_memory=False)\n",
    "dt_diligencias.head()"
   ]
  },
  {
   "cell_type": "markdown",
   "metadata": {},
   "source": [
    "**Tabela Projetos**"
   ]
  },
  {
   "cell_type": "code",
   "execution_count": 255,
   "metadata": {},
   "outputs": [
    {
     "data": {
      "text/html": [
       "<div>\n",
       "<style scoped>\n",
       "    .dataframe tbody tr th:only-of-type {\n",
       "        vertical-align: middle;\n",
       "    }\n",
       "\n",
       "    .dataframe tbody tr th {\n",
       "        vertical-align: top;\n",
       "    }\n",
       "\n",
       "    .dataframe thead th {\n",
       "        text-align: right;\n",
       "    }\n",
       "</style>\n",
       "<table border=\"1\" class=\"dataframe\">\n",
       "  <thead>\n",
       "    <tr style=\"text-align: right;\">\n",
       "      <th></th>\n",
       "      <th>IdPRONAC</th>\n",
       "      <th>DtProtocolo</th>\n",
       "    </tr>\n",
       "  </thead>\n",
       "  <tbody>\n",
       "    <tr>\n",
       "      <th>0</th>\n",
       "      <td>1</td>\n",
       "      <td>2008-09-12</td>\n",
       "    </tr>\n",
       "    <tr>\n",
       "      <th>1</th>\n",
       "      <td>2</td>\n",
       "      <td>2008-09-12</td>\n",
       "    </tr>\n",
       "    <tr>\n",
       "      <th>2</th>\n",
       "      <td>3</td>\n",
       "      <td>2008-09-12</td>\n",
       "    </tr>\n",
       "    <tr>\n",
       "      <th>3</th>\n",
       "      <td>4</td>\n",
       "      <td>2008-09-03</td>\n",
       "    </tr>\n",
       "    <tr>\n",
       "      <th>4</th>\n",
       "      <td>5</td>\n",
       "      <td>2008-09-12</td>\n",
       "    </tr>\n",
       "  </tbody>\n",
       "</table>\n",
       "</div>"
      ],
      "text/plain": [
       "   IdPRONAC DtProtocolo\n",
       "0         1  2008-09-12\n",
       "1         2  2008-09-12\n",
       "2         3  2008-09-12\n",
       "3         4  2008-09-03\n",
       "4         5  2008-09-12"
      ]
     },
     "execution_count": 255,
     "metadata": {},
     "output_type": "execute_result"
    }
   ],
   "source": [
    "projetos_csv_name = 'projetos.csv'\n",
    "projetos_csv = os.path.join(data_folder, projetos_csv_name)\n",
    "date_column = 'DtProtocolo'\n",
    "dt_projetos = pd.read_csv(projetos_csv, usecols = ['IdPRONAC', date_column], low_memory=False)\n",
    "dt_projetos[date_column] = pd.to_datetime(dt_projetos[date_column], format = Dates.DATE_INPUT_FORMAT)\n",
    "dt_projetos.head()"
   ]
  },
  {
   "cell_type": "markdown",
   "metadata": {},
   "source": [
    "**Números distintos de projetos com pelo menos uma diligência**"
   ]
  },
  {
   "cell_type": "code",
   "execution_count": 256,
   "metadata": {},
   "outputs": [
    {
     "name": "stdout",
     "output_type": "stream",
     "text": [
      "30559\n"
     ]
    }
   ],
   "source": [
    "projects_with_diligencies = len(dt_diligencias['idPronac'].unique())\n",
    "print(projects_with_diligencies)"
   ]
  },
  {
   "cell_type": "markdown",
   "metadata": {},
   "source": [
    "**Número total de projetos no SALIC**"
   ]
  },
  {
   "cell_type": "code",
   "execution_count": 257,
   "metadata": {
    "scrolled": true
   },
   "outputs": [
    {
     "name": "stdout",
     "output_type": "stream",
     "text": [
      "210684\n"
     ]
    }
   ],
   "source": [
    "total_projects = len(dt_projetos['IdPRONAC'].unique())\n",
    "print(total_projects)"
   ]
  },
  {
   "cell_type": "markdown",
   "metadata": {},
   "source": [
    "**Projetos com pelo menos uma diligência Vs. total de projetos**"
   ]
  },
  {
   "cell_type": "code",
   "execution_count": 258,
   "metadata": {},
   "outputs": [
    {
     "data": {
      "image/png": "[encoded data removed]",
      "text/plain": [
       "<Figure size 432x288 with 1 Axes>"
      ]
     },
     "metadata": {},
     "output_type": "display_data"
    }
   ],
   "source": [
    "import matplotlib.pyplot as plt\n",
    "from utils.plotter import Plotter\n",
    "\n",
    "dd = {'With diligencies':projects_with_diligencies,\n",
    "      'Total projects': total_projects}\n",
    "plt.bar(dd.keys(), dd.values())\n",
    "plt.show()"
   ]
  },
  {
   "cell_type": "markdown",
   "metadata": {},
   "source": [
    "**Tipos distintos de diligência**"
   ]
  },
  {
   "cell_type": "code",
   "execution_count": 259,
   "metadata": {
    "scrolled": true
   },
   "outputs": [
    {
     "data": {
      "text/plain": [
       "array([124, 126, 181, 183, 171, 563, 564, 172, 180, 179, 174, 627])"
      ]
     },
     "metadata": {},
     "output_type": "display_data"
    }
   ],
   "source": [
    "display(dt_diligencias['idTipoDiligencia'].unique())"
   ]
  },
  {
   "cell_type": "markdown",
   "metadata": {},
   "source": [
    "### Adicionando data do projeto na tabela de diligências"
   ]
  },
  {
   "cell_type": "code",
   "execution_count": 260,
   "metadata": {},
   "outputs": [
    {
     "data": {
      "text/html": [
       "<div>\n",
       "<style scoped>\n",
       "    .dataframe tbody tr th:only-of-type {\n",
       "        vertical-align: middle;\n",
       "    }\n",
       "\n",
       "    .dataframe tbody tr th {\n",
       "        vertical-align: top;\n",
       "    }\n",
       "\n",
       "    .dataframe thead th {\n",
       "        text-align: right;\n",
       "    }\n",
       "</style>\n",
       "<table border=\"1\" class=\"dataframe\">\n",
       "  <thead>\n",
       "    <tr style=\"text-align: right;\">\n",
       "      <th></th>\n",
       "      <th>idPronac</th>\n",
       "      <th>idTipoDiligencia</th>\n",
       "      <th>DtSolicitacao</th>\n",
       "      <th>idSolicitante</th>\n",
       "      <th>DtResposta</th>\n",
       "      <th>idProponente</th>\n",
       "      <th>stEnviado</th>\n",
       "      <th>DtProtocolo</th>\n",
       "    </tr>\n",
       "  </thead>\n",
       "  <tbody>\n",
       "    <tr>\n",
       "      <th>0</th>\n",
       "      <td>115502</td>\n",
       "      <td>124</td>\n",
       "      <td>2009-09-24 16:52:23</td>\n",
       "      <td>2851</td>\n",
       "      <td>2010-01-18 14:39:07</td>\n",
       "      <td>NaN</td>\n",
       "      <td>S</td>\n",
       "      <td>2009-08-06 16:27:50</td>\n",
       "    </tr>\n",
       "    <tr>\n",
       "      <th>1</th>\n",
       "      <td>114250</td>\n",
       "      <td>124</td>\n",
       "      <td>2009-09-24 18:11:00</td>\n",
       "      <td>2825</td>\n",
       "      <td>2009-10-07 19:45:18</td>\n",
       "      <td>6010.0</td>\n",
       "      <td>S</td>\n",
       "      <td>2009-06-29 15:22:16</td>\n",
       "    </tr>\n",
       "    <tr>\n",
       "      <th>2</th>\n",
       "      <td>115134</td>\n",
       "      <td>124</td>\n",
       "      <td>2009-09-24 18:13:00</td>\n",
       "      <td>2825</td>\n",
       "      <td>2009-10-07 16:10:21</td>\n",
       "      <td>9553.0</td>\n",
       "      <td>S</td>\n",
       "      <td>2009-07-27 15:44:16</td>\n",
       "    </tr>\n",
       "    <tr>\n",
       "      <th>3</th>\n",
       "      <td>114399</td>\n",
       "      <td>124</td>\n",
       "      <td>2009-09-24 18:26:00</td>\n",
       "      <td>2845</td>\n",
       "      <td>2009-10-06 09:30:35</td>\n",
       "      <td>9521.0</td>\n",
       "      <td>S</td>\n",
       "      <td>2009-07-02 15:15:34</td>\n",
       "    </tr>\n",
       "    <tr>\n",
       "      <th>4</th>\n",
       "      <td>115059</td>\n",
       "      <td>124</td>\n",
       "      <td>2009-09-24 18:35:00</td>\n",
       "      <td>2915</td>\n",
       "      <td>2009-10-02 18:01:47</td>\n",
       "      <td>11598.0</td>\n",
       "      <td>S</td>\n",
       "      <td>2009-07-23 11:43:45</td>\n",
       "    </tr>\n",
       "  </tbody>\n",
       "</table>\n",
       "</div>"
      ],
      "text/plain": [
       "   idPronac  idTipoDiligencia        DtSolicitacao  idSolicitante  \\\n",
       "0    115502               124  2009-09-24 16:52:23           2851   \n",
       "1    114250               124  2009-09-24 18:11:00           2825   \n",
       "2    115134               124  2009-09-24 18:13:00           2825   \n",
       "3    114399               124  2009-09-24 18:26:00           2845   \n",
       "4    115059               124  2009-09-24 18:35:00           2915   \n",
       "\n",
       "            DtResposta  idProponente stEnviado         DtProtocolo  \n",
       "0  2010-01-18 14:39:07           NaN         S 2009-08-06 16:27:50  \n",
       "1  2009-10-07 19:45:18        6010.0         S 2009-06-29 15:22:16  \n",
       "2  2009-10-07 16:10:21        9553.0         S 2009-07-27 15:44:16  \n",
       "3  2009-10-06 09:30:35        9521.0         S 2009-07-02 15:15:34  \n",
       "4  2009-10-02 18:01:47       11598.0         S 2009-07-23 11:43:45  "
      ]
     },
     "execution_count": 260,
     "metadata": {},
     "output_type": "execute_result"
    }
   ],
   "source": [
    "dt_projetos = dt_projetos.set_index('IdPRONAC')\n",
    "dt_diligencias = dt_diligencias.join(dt_projetos, on = ['idPronac'])\n",
    "dt_diligencias.head()"
   ]
  },
  {
   "cell_type": "markdown",
   "metadata": {},
   "source": [
    "# Limpando os dados\n",
    "\n",
    "É conhecido que dados muito antigos (de 1992, por exemplo) podem ser inconsistentes, então vamos filtrar os dados a partir de uma data de início (2009)."
   ]
  },
  {
   "cell_type": "code",
   "execution_count": 261,
   "metadata": {},
   "outputs": [],
   "source": [
    "from datetime import datetime\n",
    "\n",
    "START_DATE = datetime(day=1, month=1, year=2013)\n",
    "\n",
    "dt_projetos = dt_projetos[dt_projetos.loc[:, date_column] >= START_DATE]\n",
    "dt_diligencias = dt_diligencias[dt_diligencias.loc[:, date_column] >= START_DATE]"
   ]
  },
  {
   "cell_type": "markdown",
   "metadata": {},
   "source": [
    "## Repetindo o histograma de projetos com pelo menos uma diligência, a partir de 2013"
   ]
  },
  {
   "cell_type": "code",
   "execution_count": 262,
   "metadata": {},
   "outputs": [
    {
     "name": "stdout",
     "output_type": "stream",
     "text": [
      "52495\n"
     ]
    },
    {
     "data": {
      "image/png": "[encoded data removed]",
      "text/plain": [
       "<Figure size 432x288 with 1 Axes>"
      ]
     },
     "metadata": {},
     "output_type": "display_data"
    }
   ],
   "source": [
    "total_projects = len(dt_projetos)\n",
    "projects_with_diligencies = len(dt_diligencias['idPronac'].unique())\n",
    "print(total_projects)\n",
    "\n",
    "dd = {'With diligencies':projects_with_diligencies,\n",
    "      'Total projects': total_projects}\n",
    "plt.bar(dd.keys(), dd.values())\n",
    "plt.show()"
   ]
  },
  {
   "cell_type": "markdown",
   "metadata": {},
   "source": [
    "## Quantidade média de diligências por projetos entre projetos com pelo menos uma diligência"
   ]
  },
  {
   "cell_type": "code",
   "execution_count": 274,
   "metadata": {
    "scrolled": true
   },
   "outputs": [
    {
     "data": {
      "text/html": [
       "<div>\n",
       "<style scoped>\n",
       "    .dataframe tbody tr th:only-of-type {\n",
       "        vertical-align: middle;\n",
       "    }\n",
       "\n",
       "    .dataframe tbody tr th {\n",
       "        vertical-align: top;\n",
       "    }\n",
       "\n",
       "    .dataframe thead th {\n",
       "        text-align: right;\n",
       "    }\n",
       "</style>\n",
       "<table border=\"1\" class=\"dataframe\">\n",
       "  <thead>\n",
       "    <tr style=\"text-align: right;\">\n",
       "      <th></th>\n",
       "      <th>0</th>\n",
       "    </tr>\n",
       "  </thead>\n",
       "  <tbody>\n",
       "    <tr>\n",
       "      <th>count</th>\n",
       "      <td>18642.000000</td>\n",
       "    </tr>\n",
       "    <tr>\n",
       "      <th>mean</th>\n",
       "      <td>2.160873</td>\n",
       "    </tr>\n",
       "    <tr>\n",
       "      <th>std</th>\n",
       "      <td>1.815752</td>\n",
       "    </tr>\n",
       "    <tr>\n",
       "      <th>min</th>\n",
       "      <td>1.000000</td>\n",
       "    </tr>\n",
       "    <tr>\n",
       "      <th>25%</th>\n",
       "      <td>1.000000</td>\n",
       "    </tr>\n",
       "    <tr>\n",
       "      <th>50%</th>\n",
       "      <td>2.000000</td>\n",
       "    </tr>\n",
       "    <tr>\n",
       "      <th>75%</th>\n",
       "      <td>3.000000</td>\n",
       "    </tr>\n",
       "    <tr>\n",
       "      <th>max</th>\n",
       "      <td>40.000000</td>\n",
       "    </tr>\n",
       "  </tbody>\n",
       "</table>\n",
       "</div>"
      ],
      "text/plain": [
       "                  0\n",
       "count  18642.000000\n",
       "mean       2.160873\n",
       "std        1.815752\n",
       "min        1.000000\n",
       "25%        1.000000\n",
       "50%        2.000000\n",
       "75%        3.000000\n",
       "max       40.000000"
      ]
     },
     "execution_count": 274,
     "metadata": {},
     "output_type": "execute_result"
    }
   ],
   "source": [
    "from scipy import stats\n",
    "\n",
    "unique, counts = np.unique(dt_diligencias.idPronac.values, return_counts=True)\n",
    "pd.DataFrame(counts).describe()"
   ]
  },
  {
   "cell_type": "markdown",
   "metadata": {},
   "source": [
    "## Quantidade média de diligências por projetos entre todos os projetos"
   ]
  },
  {
   "cell_type": "code",
   "execution_count": 300,
   "metadata": {
    "scrolled": true
   },
   "outputs": [
    {
     "data": {
      "text/html": [
       "<div>\n",
       "<style scoped>\n",
       "    .dataframe tbody tr th:only-of-type {\n",
       "        vertical-align: middle;\n",
       "    }\n",
       "\n",
       "    .dataframe tbody tr th {\n",
       "        vertical-align: top;\n",
       "    }\n",
       "\n",
       "    .dataframe thead th {\n",
       "        text-align: right;\n",
       "    }\n",
       "</style>\n",
       "<table border=\"1\" class=\"dataframe\">\n",
       "  <thead>\n",
       "    <tr style=\"text-align: right;\">\n",
       "      <th></th>\n",
       "      <th>0</th>\n",
       "    </tr>\n",
       "  </thead>\n",
       "  <tbody>\n",
       "    <tr>\n",
       "      <th>count</th>\n",
       "      <td>52495.000000</td>\n",
       "    </tr>\n",
       "    <tr>\n",
       "      <th>mean</th>\n",
       "      <td>0.767368</td>\n",
       "    </tr>\n",
       "    <tr>\n",
       "      <th>std</th>\n",
       "      <td>1.496705</td>\n",
       "    </tr>\n",
       "    <tr>\n",
       "      <th>min</th>\n",
       "      <td>0.000000</td>\n",
       "    </tr>\n",
       "    <tr>\n",
       "      <th>25%</th>\n",
       "      <td>0.000000</td>\n",
       "    </tr>\n",
       "    <tr>\n",
       "      <th>50%</th>\n",
       "      <td>0.000000</td>\n",
       "    </tr>\n",
       "    <tr>\n",
       "      <th>75%</th>\n",
       "      <td>1.000000</td>\n",
       "    </tr>\n",
       "    <tr>\n",
       "      <th>max</th>\n",
       "      <td>40.000000</td>\n",
       "    </tr>\n",
       "  </tbody>\n",
       "</table>\n",
       "</div>"
      ],
      "text/plain": [
       "                  0\n",
       "count  52495.000000\n",
       "mean       0.767368\n",
       "std        1.496705\n",
       "min        0.000000\n",
       "25%        0.000000\n",
       "50%        0.000000\n",
       "75%        1.000000\n",
       "max       40.000000"
      ]
     },
     "execution_count": 300,
     "metadata": {},
     "output_type": "execute_result"
    }
   ],
   "source": [
    "pronacs, diligencies = np.unique(dt_diligencias.idPronac.values, return_counts=True)\n",
    "diligencies_per_project = np.append(diligencies, np.zeros(len(dt_projetos) - len(pronacs), dtype=np.int64))\n",
    "\n",
    "pd.DataFrame(diligencies_per_project).describe()"
   ]
  },
  {
   "cell_type": "code",
   "execution_count": 265,
   "metadata": {},
   "outputs": [],
   "source": [
    "#number_of_diligencies_per_project_diligencies = [len(dt_diligencias[dt_diligencias.idPronac == idPronac]) for idPronac in dt_diligencias.idPronac]\n",
    "\n",
    "#all_projects_diligencies_mean = np.mean(number_of_diligencies_per_project_diligencies)\n",
    "#print(all_projects_diligencies_mean)"
   ]
  }
 ],
 "metadata": {
  "kernelspec": {
   "display_name": "Python 3",
   "language": "python",
   "name": "python3"
  },
  "language_info": {
   "codemirror_mode": {
    "name": "ipython",
    "version": 3
   },
   "file_extension": ".py",
   "mimetype": "text/x-python",
   "name": "python",
   "nbconvert_exporter": "python",
   "pygments_lexer": "ipython3",
   "version": "3.6.4"
  }
 },
 "nbformat": 4,
 "nbformat_minor": 2
}
