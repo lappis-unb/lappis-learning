{
 "cells": [
  {
   "cell_type": "markdown",
   "metadata": {},
   "source": [
    "# Importando os dados"
   ]
  },
  {
   "cell_type": "code",
   "execution_count": 763,
   "metadata": {
    "scrolled": true
   },
   "outputs": [],
   "source": [
    "import os\n",
    "import numpy as np\n",
    "import pandas as pd\n",
    "import sys\n",
    "PROJECT_ROOT = os.path.abspath(os.path.join(os.pardir))\n",
    "sys.path.append(os.path.join(PROJECT_ROOT, 'src'))\n",
    "from utils.dates import Dates"
   ]
  },
  {
   "cell_type": "markdown",
   "metadata": {},
   "source": [
    "**Tabela Diligências**"
   ]
  },
  {
   "cell_type": "code",
   "execution_count": 764,
   "metadata": {
    "scrolled": true
   },
   "outputs": [
    {
     "data": {
      "text/html": [
       "<div>\n",
       "<style scoped>\n",
       "    .dataframe tbody tr th:only-of-type {\n",
       "        vertical-align: middle;\n",
       "    }\n",
       "\n",
       "    .dataframe tbody tr th {\n",
       "        vertical-align: top;\n",
       "    }\n",
       "\n",
       "    .dataframe thead th {\n",
       "        text-align: right;\n",
       "    }\n",
       "</style>\n",
       "<table border=\"1\" class=\"dataframe\">\n",
       "  <thead>\n",
       "    <tr style=\"text-align: right;\">\n",
       "      <th></th>\n",
       "      <th>idDiligencia</th>\n",
       "      <th>idPronac</th>\n",
       "      <th>idTipoDiligencia</th>\n",
       "      <th>DtSolicitacao</th>\n",
       "      <th>idSolicitante</th>\n",
       "      <th>DtResposta</th>\n",
       "      <th>idProponente</th>\n",
       "      <th>stEnviado</th>\n",
       "    </tr>\n",
       "  </thead>\n",
       "  <tbody>\n",
       "    <tr>\n",
       "      <th>0</th>\n",
       "      <td>1</td>\n",
       "      <td>115502</td>\n",
       "      <td>124</td>\n",
       "      <td>2009-09-24 16:52:23</td>\n",
       "      <td>2851</td>\n",
       "      <td>2010-01-18 14:39:07</td>\n",
       "      <td>NaN</td>\n",
       "      <td>S</td>\n",
       "    </tr>\n",
       "    <tr>\n",
       "      <th>1</th>\n",
       "      <td>2</td>\n",
       "      <td>114250</td>\n",
       "      <td>124</td>\n",
       "      <td>2009-09-24 18:11:00</td>\n",
       "      <td>2825</td>\n",
       "      <td>2009-10-07 19:45:18</td>\n",
       "      <td>6010.0</td>\n",
       "      <td>S</td>\n",
       "    </tr>\n",
       "    <tr>\n",
       "      <th>2</th>\n",
       "      <td>3</td>\n",
       "      <td>115134</td>\n",
       "      <td>124</td>\n",
       "      <td>2009-09-24 18:13:00</td>\n",
       "      <td>2825</td>\n",
       "      <td>2009-10-07 16:10:21</td>\n",
       "      <td>9553.0</td>\n",
       "      <td>S</td>\n",
       "    </tr>\n",
       "    <tr>\n",
       "      <th>3</th>\n",
       "      <td>4</td>\n",
       "      <td>114399</td>\n",
       "      <td>124</td>\n",
       "      <td>2009-09-24 18:26:00</td>\n",
       "      <td>2845</td>\n",
       "      <td>2009-10-06 09:30:35</td>\n",
       "      <td>9521.0</td>\n",
       "      <td>S</td>\n",
       "    </tr>\n",
       "    <tr>\n",
       "      <th>4</th>\n",
       "      <td>5</td>\n",
       "      <td>115059</td>\n",
       "      <td>124</td>\n",
       "      <td>2009-09-24 18:35:00</td>\n",
       "      <td>2915</td>\n",
       "      <td>2009-10-02 18:01:47</td>\n",
       "      <td>11598.0</td>\n",
       "      <td>S</td>\n",
       "    </tr>\n",
       "  </tbody>\n",
       "</table>\n",
       "</div>"
      ],
      "text/plain": [
       "   idDiligencia  idPronac  idTipoDiligencia        DtSolicitacao  \\\n",
       "0             1    115502               124  2009-09-24 16:52:23   \n",
       "1             2    114250               124  2009-09-24 18:11:00   \n",
       "2             3    115134               124  2009-09-24 18:13:00   \n",
       "3             4    114399               124  2009-09-24 18:26:00   \n",
       "4             5    115059               124  2009-09-24 18:35:00   \n",
       "\n",
       "   idSolicitante           DtResposta  idProponente stEnviado  \n",
       "0           2851  2010-01-18 14:39:07           NaN         S  \n",
       "1           2825  2009-10-07 19:45:18        6010.0         S  \n",
       "2           2825  2009-10-07 16:10:21        9553.0         S  \n",
       "3           2845  2009-10-06 09:30:35        9521.0         S  \n",
       "4           2915  2009-10-02 18:01:47       11598.0         S  "
      ]
     },
     "execution_count": 764,
     "metadata": {},
     "output_type": "execute_result"
    }
   ],
   "source": [
    "data_folder = os.path.join(PROJECT_ROOT, 'data', 'raw')\n",
    "itens_file_name = 'tb_diligencia.csv'\n",
    "itens_file_path = os.path.join(data_folder, itens_file_name)\n",
    "\n",
    "#cols = ['idDiligencia', 'idPronac', 'idTipoDiligencia', 'DtSolicitacao', 'idSolicitante', 'DtResposta',\n",
    "#        'idProponente', 'stEstado', 'idPlanoDistribuicao', 'idArquivo', 'idCodigoDocumentosExigidos',\n",
    "#        'idProduto', 'stProrrogacao', 'stEnviado']\n",
    "\n",
    "cols = ['idDiligencia', 'idPronac', 'idTipoDiligencia', 'idSolicitante', 'DtSolicitacao', 'DtResposta', 'idProponente', 'stEnviado']\n",
    "\n",
    "dt_diligencias = pd.read_csv(itens_file_path, usecols = cols, low_memory=False)\n",
    "dt_diligencias.head()"
   ]
  },
  {
   "cell_type": "markdown",
   "metadata": {},
   "source": [
    "### Removendo dados com idPronac = 0\n",
    "\n",
    "Ha algumas diligências com idPronac = 0, mesmo que não haja linhas na tabela Projetos com idPronac = 0. Isso certamente é uma inconsistência/ruído, portanto vamos tirá-la da análise."
   ]
  },
  {
   "cell_type": "code",
   "execution_count": 765,
   "metadata": {},
   "outputs": [
    {
     "data": {
      "text/html": [
       "<div>\n",
       "<style scoped>\n",
       "    .dataframe tbody tr th:only-of-type {\n",
       "        vertical-align: middle;\n",
       "    }\n",
       "\n",
       "    .dataframe tbody tr th {\n",
       "        vertical-align: top;\n",
       "    }\n",
       "\n",
       "    .dataframe thead th {\n",
       "        text-align: right;\n",
       "    }\n",
       "</style>\n",
       "<table border=\"1\" class=\"dataframe\">\n",
       "  <thead>\n",
       "    <tr style=\"text-align: right;\">\n",
       "      <th></th>\n",
       "      <th>idDiligencia</th>\n",
       "      <th>idPronac</th>\n",
       "      <th>idTipoDiligencia</th>\n",
       "      <th>DtSolicitacao</th>\n",
       "      <th>idSolicitante</th>\n",
       "      <th>DtResposta</th>\n",
       "      <th>idProponente</th>\n",
       "      <th>stEnviado</th>\n",
       "    </tr>\n",
       "  </thead>\n",
       "  <tbody>\n",
       "  </tbody>\n",
       "</table>\n",
       "</div>"
      ],
      "text/plain": [
       "Empty DataFrame\n",
       "Columns: [idDiligencia, idPronac, idTipoDiligencia, DtSolicitacao, idSolicitante, DtResposta, idProponente, stEnviado]\n",
       "Index: []"
      ]
     },
     "metadata": {},
     "output_type": "display_data"
    }
   ],
   "source": [
    "dt_diligencias = dt_diligencias[dt_diligencias.loc[:, 'idPronac'] != 0]\n",
    "display(dt_diligencias[dt_diligencias.loc[:, 'idPronac'] == 0])"
   ]
  },
  {
   "cell_type": "markdown",
   "metadata": {},
   "source": [
    "**Tabela Projetos**"
   ]
  },
  {
   "cell_type": "code",
   "execution_count": 766,
   "metadata": {},
   "outputs": [
    {
     "data": {
      "text/html": [
       "<div>\n",
       "<style scoped>\n",
       "    .dataframe tbody tr th:only-of-type {\n",
       "        vertical-align: middle;\n",
       "    }\n",
       "\n",
       "    .dataframe tbody tr th {\n",
       "        vertical-align: top;\n",
       "    }\n",
       "\n",
       "    .dataframe thead th {\n",
       "        text-align: right;\n",
       "    }\n",
       "</style>\n",
       "<table border=\"1\" class=\"dataframe\">\n",
       "  <thead>\n",
       "    <tr style=\"text-align: right;\">\n",
       "      <th></th>\n",
       "      <th>IdPRONAC</th>\n",
       "      <th>Area</th>\n",
       "      <th>Segmento</th>\n",
       "      <th>DtProtocolo</th>\n",
       "    </tr>\n",
       "  </thead>\n",
       "  <tbody>\n",
       "    <tr>\n",
       "      <th>0</th>\n",
       "      <td>1</td>\n",
       "      <td>7</td>\n",
       "      <td>71</td>\n",
       "      <td>2008-09-12</td>\n",
       "    </tr>\n",
       "    <tr>\n",
       "      <th>1</th>\n",
       "      <td>2</td>\n",
       "      <td>3</td>\n",
       "      <td>31</td>\n",
       "      <td>2008-09-12</td>\n",
       "    </tr>\n",
       "    <tr>\n",
       "      <th>2</th>\n",
       "      <td>3</td>\n",
       "      <td>3</td>\n",
       "      <td>31</td>\n",
       "      <td>2008-09-12</td>\n",
       "    </tr>\n",
       "    <tr>\n",
       "      <th>3</th>\n",
       "      <td>4</td>\n",
       "      <td>4</td>\n",
       "      <td>47</td>\n",
       "      <td>2008-09-03</td>\n",
       "    </tr>\n",
       "    <tr>\n",
       "      <th>4</th>\n",
       "      <td>5</td>\n",
       "      <td>1</td>\n",
       "      <td>11</td>\n",
       "      <td>2008-09-12</td>\n",
       "    </tr>\n",
       "  </tbody>\n",
       "</table>\n",
       "</div>"
      ],
      "text/plain": [
       "   IdPRONAC  Area Segmento DtProtocolo\n",
       "0         1     7       71  2008-09-12\n",
       "1         2     3       31  2008-09-12\n",
       "2         3     3       31  2008-09-12\n",
       "3         4     4       47  2008-09-03\n",
       "4         5     1       11  2008-09-12"
      ]
     },
     "execution_count": 766,
     "metadata": {},
     "output_type": "execute_result"
    }
   ],
   "source": [
    "projetos_csv_name = 'projetos.csv'\n",
    "projetos_csv = os.path.join(data_folder, projetos_csv_name)\n",
    "date_column = 'DtProtocolo'\n",
    "dt_projetos = pd.read_csv(projetos_csv, usecols = ['IdPRONAC', date_column, 'Area', 'Segmento'], low_memory=False)\n",
    "dt_projetos[date_column] = pd.to_datetime(dt_projetos[date_column], format = Dates.DATE_INPUT_FORMAT)\n",
    "dt_projetos.head()"
   ]
  },
  {
   "cell_type": "markdown",
   "metadata": {},
   "source": [
    "**Números distintos de projetos com pelo menos uma diligência**"
   ]
  },
  {
   "cell_type": "code",
   "execution_count": 767,
   "metadata": {},
   "outputs": [
    {
     "name": "stdout",
     "output_type": "stream",
     "text": [
      "30558\n"
     ]
    }
   ],
   "source": [
    "projects_with_diligencies = len(dt_diligencias['idPronac'].unique())\n",
    "print(projects_with_diligencies)"
   ]
  },
  {
   "cell_type": "markdown",
   "metadata": {},
   "source": [
    "**Número total de projetos no SALIC**"
   ]
  },
  {
   "cell_type": "code",
   "execution_count": 768,
   "metadata": {
    "scrolled": true
   },
   "outputs": [
    {
     "name": "stdout",
     "output_type": "stream",
     "text": [
      "210684\n"
     ]
    }
   ],
   "source": [
    "total_projects = len(dt_projetos['IdPRONAC'].unique())\n",
    "print(total_projects)"
   ]
  },
  {
   "cell_type": "markdown",
   "metadata": {},
   "source": [
    "**Projetos com pelo menos uma diligência Vs. total de projetos**"
   ]
  },
  {
   "cell_type": "code",
   "execution_count": 769,
   "metadata": {},
   "outputs": [
    {
     "data": {
      "image/png": "[encoded data removed]",
      "text/plain": [
       "<Figure size 432x288 with 1 Axes>"
      ]
     },
     "metadata": {},
     "output_type": "display_data"
    }
   ],
   "source": [
    "import matplotlib.pyplot as plt\n",
    "from utils.plotter import Plotter\n",
    "\n",
    "dd = {'With diligencies':projects_with_diligencies,\n",
    "      'Total projects': total_projects}\n",
    "plt.bar(dd.keys(), dd.values())\n",
    "plt.title('Todos os projetos x Projetos com diligências', size=17)\n",
    "plt.show()"
   ]
  },
  {
   "cell_type": "markdown",
   "metadata": {},
   "source": [
    "**Tipos distintos de diligência**"
   ]
  },
  {
   "cell_type": "code",
   "execution_count": 770,
   "metadata": {
    "scrolled": true
   },
   "outputs": [
    {
     "data": {
      "text/plain": [
       "array([124, 126, 181, 183, 171, 563, 564, 172, 180, 179, 174, 627])"
      ]
     },
     "metadata": {},
     "output_type": "display_data"
    }
   ],
   "source": [
    "display(dt_diligencias['idTipoDiligencia'].unique())"
   ]
  },
  {
   "cell_type": "markdown",
   "metadata": {},
   "source": [
    "### Adicionando data do projeto na tabela de diligências"
   ]
  },
  {
   "cell_type": "code",
   "execution_count": 771,
   "metadata": {},
   "outputs": [
    {
     "data": {
      "text/html": [
       "<div>\n",
       "<style scoped>\n",
       "    .dataframe tbody tr th:only-of-type {\n",
       "        vertical-align: middle;\n",
       "    }\n",
       "\n",
       "    .dataframe tbody tr th {\n",
       "        vertical-align: top;\n",
       "    }\n",
       "\n",
       "    .dataframe thead th {\n",
       "        text-align: right;\n",
       "    }\n",
       "</style>\n",
       "<table border=\"1\" class=\"dataframe\">\n",
       "  <thead>\n",
       "    <tr style=\"text-align: right;\">\n",
       "      <th></th>\n",
       "      <th>idDiligencia</th>\n",
       "      <th>idPronac</th>\n",
       "      <th>idTipoDiligencia</th>\n",
       "      <th>DtSolicitacao</th>\n",
       "      <th>idSolicitante</th>\n",
       "      <th>DtResposta</th>\n",
       "      <th>idProponente</th>\n",
       "      <th>stEnviado</th>\n",
       "      <th>Area</th>\n",
       "      <th>Segmento</th>\n",
       "      <th>DtProtocolo</th>\n",
       "    </tr>\n",
       "  </thead>\n",
       "  <tbody>\n",
       "    <tr>\n",
       "      <th>0</th>\n",
       "      <td>1</td>\n",
       "      <td>115502</td>\n",
       "      <td>124</td>\n",
       "      <td>2009-09-24 16:52:23</td>\n",
       "      <td>2851</td>\n",
       "      <td>2010-01-18 14:39:07</td>\n",
       "      <td>NaN</td>\n",
       "      <td>S</td>\n",
       "      <td>1</td>\n",
       "      <td>11</td>\n",
       "      <td>2009-08-06 16:27:50</td>\n",
       "    </tr>\n",
       "    <tr>\n",
       "      <th>1</th>\n",
       "      <td>2</td>\n",
       "      <td>114250</td>\n",
       "      <td>124</td>\n",
       "      <td>2009-09-24 18:11:00</td>\n",
       "      <td>2825</td>\n",
       "      <td>2009-10-07 19:45:18</td>\n",
       "      <td>6010.0</td>\n",
       "      <td>S</td>\n",
       "      <td>3</td>\n",
       "      <td>31</td>\n",
       "      <td>2009-06-29 15:22:16</td>\n",
       "    </tr>\n",
       "    <tr>\n",
       "      <th>2</th>\n",
       "      <td>3</td>\n",
       "      <td>115134</td>\n",
       "      <td>124</td>\n",
       "      <td>2009-09-24 18:13:00</td>\n",
       "      <td>2825</td>\n",
       "      <td>2009-10-07 16:10:21</td>\n",
       "      <td>9553.0</td>\n",
       "      <td>S</td>\n",
       "      <td>1</td>\n",
       "      <td>11</td>\n",
       "      <td>2009-07-27 15:44:16</td>\n",
       "    </tr>\n",
       "    <tr>\n",
       "      <th>3</th>\n",
       "      <td>4</td>\n",
       "      <td>114399</td>\n",
       "      <td>124</td>\n",
       "      <td>2009-09-24 18:26:00</td>\n",
       "      <td>2845</td>\n",
       "      <td>2009-10-06 09:30:35</td>\n",
       "      <td>9521.0</td>\n",
       "      <td>S</td>\n",
       "      <td>3</td>\n",
       "      <td>32</td>\n",
       "      <td>2009-07-02 15:15:34</td>\n",
       "    </tr>\n",
       "    <tr>\n",
       "      <th>4</th>\n",
       "      <td>5</td>\n",
       "      <td>115059</td>\n",
       "      <td>124</td>\n",
       "      <td>2009-09-24 18:35:00</td>\n",
       "      <td>2915</td>\n",
       "      <td>2009-10-02 18:01:47</td>\n",
       "      <td>11598.0</td>\n",
       "      <td>S</td>\n",
       "      <td>3</td>\n",
       "      <td>33</td>\n",
       "      <td>2009-07-23 11:43:45</td>\n",
       "    </tr>\n",
       "  </tbody>\n",
       "</table>\n",
       "</div>"
      ],
      "text/plain": [
       "   idDiligencia  idPronac  idTipoDiligencia        DtSolicitacao  \\\n",
       "0             1    115502               124  2009-09-24 16:52:23   \n",
       "1             2    114250               124  2009-09-24 18:11:00   \n",
       "2             3    115134               124  2009-09-24 18:13:00   \n",
       "3             4    114399               124  2009-09-24 18:26:00   \n",
       "4             5    115059               124  2009-09-24 18:35:00   \n",
       "\n",
       "   idSolicitante           DtResposta  idProponente stEnviado  Area Segmento  \\\n",
       "0           2851  2010-01-18 14:39:07           NaN         S     1       11   \n",
       "1           2825  2009-10-07 19:45:18        6010.0         S     3       31   \n",
       "2           2825  2009-10-07 16:10:21        9553.0         S     1       11   \n",
       "3           2845  2009-10-06 09:30:35        9521.0         S     3       32   \n",
       "4           2915  2009-10-02 18:01:47       11598.0         S     3       33   \n",
       "\n",
       "          DtProtocolo  \n",
       "0 2009-08-06 16:27:50  \n",
       "1 2009-06-29 15:22:16  \n",
       "2 2009-07-27 15:44:16  \n",
       "3 2009-07-02 15:15:34  \n",
       "4 2009-07-23 11:43:45  "
      ]
     },
     "execution_count": 771,
     "metadata": {},
     "output_type": "execute_result"
    }
   ],
   "source": [
    "dt_projetos = dt_projetos.set_index('IdPRONAC')\n",
    "dt_diligencias = dt_diligencias.join(dt_projetos, on = ['idPronac'])\n",
    "dt_diligencias.head()"
   ]
  },
  {
   "cell_type": "markdown",
   "metadata": {},
   "source": [
    "# Limpando os dados\n",
    "\n",
    "É conhecido que dados muito antigos (de 1992, por exemplo) podem ser inconsistentes, então vamos filtrar os dados a partir de uma data de início (2013)."
   ]
  },
  {
   "cell_type": "code",
   "execution_count": 772,
   "metadata": {},
   "outputs": [],
   "source": [
    "from datetime import datetime\n",
    "\n",
    "START_DATE = datetime(day=1, month=1, year=2013)\n",
    "\n",
    "dt_projetos = dt_projetos[dt_projetos.loc[:, date_column] >= START_DATE]\n",
    "dt_diligencias = dt_diligencias[dt_diligencias.loc[:, date_column] >= START_DATE]"
   ]
  },
  {
   "cell_type": "markdown",
   "metadata": {},
   "source": [
    "## Repetindo o histograma de projetos com pelo menos uma diligência, a partir de 2013"
   ]
  },
  {
   "cell_type": "code",
   "execution_count": 773,
   "metadata": {},
   "outputs": [
    {
     "name": "stdout",
     "output_type": "stream",
     "text": [
      "52495\n"
     ]
    },
    {
     "data": {
      "image/png": "[encoded data removed]",
      "text/plain": [
       "<Figure size 432x288 with 1 Axes>"
      ]
     },
     "metadata": {},
     "output_type": "display_data"
    }
   ],
   "source": [
    "total_projects = len(dt_projetos)\n",
    "projects_with_diligencies = len(dt_diligencias['idPronac'].unique())\n",
    "print(total_projects)\n",
    "\n",
    "dd = {'With diligencies':projects_with_diligencies,\n",
    "      'Total projects': total_projects}\n",
    "plt.bar(dd.keys(), dd.values())\n",
    "plt.title('Todos os projetos x Projetos com diligências', size=17)\n",
    "plt.show()"
   ]
  },
  {
   "cell_type": "markdown",
   "metadata": {},
   "source": [
    "## Quantidade média de diligências por projetos entre projetos com pelo menos uma diligência"
   ]
  },
  {
   "cell_type": "code",
   "execution_count": 774,
   "metadata": {
    "scrolled": true
   },
   "outputs": [
    {
     "data": {
      "text/html": [
       "<div>\n",
       "<style scoped>\n",
       "    .dataframe tbody tr th:only-of-type {\n",
       "        vertical-align: middle;\n",
       "    }\n",
       "\n",
       "    .dataframe tbody tr th {\n",
       "        vertical-align: top;\n",
       "    }\n",
       "\n",
       "    .dataframe thead th {\n",
       "        text-align: right;\n",
       "    }\n",
       "</style>\n",
       "<table border=\"1\" class=\"dataframe\">\n",
       "  <thead>\n",
       "    <tr style=\"text-align: right;\">\n",
       "      <th></th>\n",
       "      <th>0</th>\n",
       "    </tr>\n",
       "  </thead>\n",
       "  <tbody>\n",
       "    <tr>\n",
       "      <th>count</th>\n",
       "      <td>18642.000000</td>\n",
       "    </tr>\n",
       "    <tr>\n",
       "      <th>mean</th>\n",
       "      <td>2.160873</td>\n",
       "    </tr>\n",
       "    <tr>\n",
       "      <th>std</th>\n",
       "      <td>1.815752</td>\n",
       "    </tr>\n",
       "    <tr>\n",
       "      <th>min</th>\n",
       "      <td>1.000000</td>\n",
       "    </tr>\n",
       "    <tr>\n",
       "      <th>25%</th>\n",
       "      <td>1.000000</td>\n",
       "    </tr>\n",
       "    <tr>\n",
       "      <th>50%</th>\n",
       "      <td>2.000000</td>\n",
       "    </tr>\n",
       "    <tr>\n",
       "      <th>75%</th>\n",
       "      <td>3.000000</td>\n",
       "    </tr>\n",
       "    <tr>\n",
       "      <th>max</th>\n",
       "      <td>40.000000</td>\n",
       "    </tr>\n",
       "  </tbody>\n",
       "</table>\n",
       "</div>"
      ],
      "text/plain": [
       "                  0\n",
       "count  18642.000000\n",
       "mean       2.160873\n",
       "std        1.815752\n",
       "min        1.000000\n",
       "25%        1.000000\n",
       "50%        2.000000\n",
       "75%        3.000000\n",
       "max       40.000000"
      ]
     },
     "execution_count": 774,
     "metadata": {},
     "output_type": "execute_result"
    }
   ],
   "source": [
    "from scipy import stats\n",
    "\n",
    "unique, counts = np.unique(dt_diligencias.idPronac.values, return_counts=True)\n",
    "pd.DataFrame(counts).describe()"
   ]
  },
  {
   "cell_type": "markdown",
   "metadata": {},
   "source": [
    "## Quantidade média de diligências por projetos entre todos os projetos"
   ]
  },
  {
   "cell_type": "code",
   "execution_count": 775,
   "metadata": {
    "scrolled": true
   },
   "outputs": [
    {
     "data": {
      "text/html": [
       "<div>\n",
       "<style scoped>\n",
       "    .dataframe tbody tr th:only-of-type {\n",
       "        vertical-align: middle;\n",
       "    }\n",
       "\n",
       "    .dataframe tbody tr th {\n",
       "        vertical-align: top;\n",
       "    }\n",
       "\n",
       "    .dataframe thead th {\n",
       "        text-align: right;\n",
       "    }\n",
       "</style>\n",
       "<table border=\"1\" class=\"dataframe\">\n",
       "  <thead>\n",
       "    <tr style=\"text-align: right;\">\n",
       "      <th></th>\n",
       "      <th>0</th>\n",
       "    </tr>\n",
       "  </thead>\n",
       "  <tbody>\n",
       "    <tr>\n",
       "      <th>count</th>\n",
       "      <td>52495.000000</td>\n",
       "    </tr>\n",
       "    <tr>\n",
       "      <th>mean</th>\n",
       "      <td>0.767368</td>\n",
       "    </tr>\n",
       "    <tr>\n",
       "      <th>std</th>\n",
       "      <td>1.496705</td>\n",
       "    </tr>\n",
       "    <tr>\n",
       "      <th>min</th>\n",
       "      <td>0.000000</td>\n",
       "    </tr>\n",
       "    <tr>\n",
       "      <th>25%</th>\n",
       "      <td>0.000000</td>\n",
       "    </tr>\n",
       "    <tr>\n",
       "      <th>50%</th>\n",
       "      <td>0.000000</td>\n",
       "    </tr>\n",
       "    <tr>\n",
       "      <th>75%</th>\n",
       "      <td>1.000000</td>\n",
       "    </tr>\n",
       "    <tr>\n",
       "      <th>max</th>\n",
       "      <td>40.000000</td>\n",
       "    </tr>\n",
       "  </tbody>\n",
       "</table>\n",
       "</div>"
      ],
      "text/plain": [
       "                  0\n",
       "count  52495.000000\n",
       "mean       0.767368\n",
       "std        1.496705\n",
       "min        0.000000\n",
       "25%        0.000000\n",
       "50%        0.000000\n",
       "75%        1.000000\n",
       "max       40.000000"
      ]
     },
     "execution_count": 775,
     "metadata": {},
     "output_type": "execute_result"
    }
   ],
   "source": [
    "pronacs, diligencies = np.unique(dt_diligencias.idPronac.values, return_counts=True)\n",
    "diligencies_per_project = np.append(diligencies, np.zeros(len(dt_projetos) - len(pronacs), dtype=np.int64))\n",
    "\n",
    "pd.DataFrame(diligencies_per_project).describe()"
   ]
  },
  {
   "cell_type": "markdown",
   "metadata": {},
   "source": [
    "### Histograma de quantidade de diligência por projetos entre todos os projetos"
   ]
  },
  {
   "cell_type": "code",
   "execution_count": 776,
   "metadata": {
    "scrolled": true
   },
   "outputs": [
    {
     "data": {
      "image/png": "[encoded data removed]",
      "text/plain": [
       "<Figure size 432x288 with 1 Axes>"
      ]
     },
     "metadata": {},
     "output_type": "display_data"
    }
   ],
   "source": [
    "def autolabel(rects, dtype):\n",
    "    \"\"\"\n",
    "    Attach a text label above each bar displaying its height\n",
    "    \"\"\"\n",
    "    for rect in rects:\n",
    "        height = rect.get_height()\n",
    "        if dtype == 'int':\n",
    "            text = '%d' % int(height)\n",
    "        else:\n",
    "            text = '%.2f' % float(height)\n",
    "            \n",
    "        plt.text(rect.get_x() + rect.get_width()/2., 1.01 * height,\n",
    "                text,\n",
    "                ha='center', va='bottom')\n",
    "        \n",
    "\n",
    "diligencies_projects_histogram = plt.hist(diligencies_per_project, edgecolor = 'black', alpha = 0.75,\n",
    "                                          bins = list(set(diligencies_per_project)))\n",
    "\n",
    "plt.xlabel('Número de diligências', size=16)\n",
    "plt.ylabel('Quantidade de projetos', size=16)\n",
    "plt.title('Quantidade de diligências entre projetos', size=17)\n",
    "plt.show()"
   ]
  },
  {
   "cell_type": "markdown",
   "metadata": {},
   "source": [
    "### Histograma de quantidade de diligência por projetos entre projetos com pelo menos uma diligência"
   ]
  },
  {
   "cell_type": "code",
   "execution_count": 777,
   "metadata": {},
   "outputs": [
    {
     "data": {
      "image/png": "[encoded data removed]",
      "text/plain": [
       "<Figure size 432x288 with 1 Axes>"
      ]
     },
     "metadata": {},
     "output_type": "display_data"
    }
   ],
   "source": [
    "plt.hist(diligencies, edgecolor = 'black', alpha = 0.75, bins = list(set(diligencies)))\n",
    "plt.xlabel('Número de diligências', size=16)\n",
    "plt.ylabel('Quantidade de projetos', size=16)\n",
    "plt.title('Quantidade de diligências entre projetos com diligências', size=14)\n",
    "plt.show()"
   ]
  },
  {
   "cell_type": "markdown",
   "metadata": {},
   "source": [
    "## Tempo médio de resposta de uma diligência"
   ]
  },
  {
   "cell_type": "markdown",
   "metadata": {},
   "source": [
    "**Convertendo datas para datetime**"
   ]
  },
  {
   "cell_type": "code",
   "execution_count": 778,
   "metadata": {
    "scrolled": true
   },
   "outputs": [
    {
     "data": {
      "text/html": [
       "<div>\n",
       "<style scoped>\n",
       "    .dataframe tbody tr th:only-of-type {\n",
       "        vertical-align: middle;\n",
       "    }\n",
       "\n",
       "    .dataframe tbody tr th {\n",
       "        vertical-align: top;\n",
       "    }\n",
       "\n",
       "    .dataframe thead th {\n",
       "        text-align: right;\n",
       "    }\n",
       "</style>\n",
       "<table border=\"1\" class=\"dataframe\">\n",
       "  <thead>\n",
       "    <tr style=\"text-align: right;\">\n",
       "      <th></th>\n",
       "      <th>idDiligencia</th>\n",
       "      <th>idPronac</th>\n",
       "      <th>idTipoDiligencia</th>\n",
       "      <th>DtSolicitacao</th>\n",
       "      <th>idSolicitante</th>\n",
       "      <th>DtResposta</th>\n",
       "      <th>idProponente</th>\n",
       "      <th>stEnviado</th>\n",
       "      <th>Area</th>\n",
       "      <th>Segmento</th>\n",
       "      <th>DtProtocolo</th>\n",
       "    </tr>\n",
       "  </thead>\n",
       "  <tbody>\n",
       "    <tr>\n",
       "      <th>14899</th>\n",
       "      <td>15189</td>\n",
       "      <td>159395</td>\n",
       "      <td>124</td>\n",
       "      <td>2013-01-08 10:17:00</td>\n",
       "      <td>2150</td>\n",
       "      <td>2013-01-18 09:34:14</td>\n",
       "      <td>81288.0</td>\n",
       "      <td>S</td>\n",
       "      <td>6</td>\n",
       "      <td>6C</td>\n",
       "      <td>2013-01-07 14:58:42</td>\n",
       "    </tr>\n",
       "    <tr>\n",
       "      <th>14900</th>\n",
       "      <td>15190</td>\n",
       "      <td>159405</td>\n",
       "      <td>124</td>\n",
       "      <td>2013-01-08 11:23:00</td>\n",
       "      <td>2151</td>\n",
       "      <td>2013-01-22 14:57:29</td>\n",
       "      <td>1025.0</td>\n",
       "      <td>S</td>\n",
       "      <td>6</td>\n",
       "      <td>6E</td>\n",
       "      <td>2013-01-07 15:34:44</td>\n",
       "    </tr>\n",
       "    <tr>\n",
       "      <th>14904</th>\n",
       "      <td>15194</td>\n",
       "      <td>159375</td>\n",
       "      <td>124</td>\n",
       "      <td>2013-01-08 22:03:00</td>\n",
       "      <td>3979</td>\n",
       "      <td>2013-01-15 18:20:04</td>\n",
       "      <td>22139.0</td>\n",
       "      <td>S</td>\n",
       "      <td>3</td>\n",
       "      <td>32</td>\n",
       "      <td>2013-01-03 14:17:59</td>\n",
       "    </tr>\n",
       "    <tr>\n",
       "      <th>14916</th>\n",
       "      <td>15206</td>\n",
       "      <td>159482</td>\n",
       "      <td>124</td>\n",
       "      <td>2013-01-10 13:34:00</td>\n",
       "      <td>3888</td>\n",
       "      <td>2013-01-10 16:22:40</td>\n",
       "      <td>716.0</td>\n",
       "      <td>S</td>\n",
       "      <td>6</td>\n",
       "      <td>6E</td>\n",
       "      <td>2013-01-09 15:23:31</td>\n",
       "    </tr>\n",
       "    <tr>\n",
       "      <th>14918</th>\n",
       "      <td>15208</td>\n",
       "      <td>159375</td>\n",
       "      <td>124</td>\n",
       "      <td>2013-01-10 15:35:00</td>\n",
       "      <td>3979</td>\n",
       "      <td>2013-01-15 18:20:29</td>\n",
       "      <td>22139.0</td>\n",
       "      <td>S</td>\n",
       "      <td>3</td>\n",
       "      <td>32</td>\n",
       "      <td>2013-01-03 14:17:59</td>\n",
       "    </tr>\n",
       "  </tbody>\n",
       "</table>\n",
       "</div>"
      ],
      "text/plain": [
       "       idDiligencia  idPronac  idTipoDiligencia       DtSolicitacao  \\\n",
       "14899         15189    159395               124 2013-01-08 10:17:00   \n",
       "14900         15190    159405               124 2013-01-08 11:23:00   \n",
       "14904         15194    159375               124 2013-01-08 22:03:00   \n",
       "14916         15206    159482               124 2013-01-10 13:34:00   \n",
       "14918         15208    159375               124 2013-01-10 15:35:00   \n",
       "\n",
       "       idSolicitante          DtResposta  idProponente stEnviado  Area  \\\n",
       "14899           2150 2013-01-18 09:34:14       81288.0         S     6   \n",
       "14900           2151 2013-01-22 14:57:29        1025.0         S     6   \n",
       "14904           3979 2013-01-15 18:20:04       22139.0         S     3   \n",
       "14916           3888 2013-01-10 16:22:40         716.0         S     6   \n",
       "14918           3979 2013-01-15 18:20:29       22139.0         S     3   \n",
       "\n",
       "      Segmento         DtProtocolo  \n",
       "14899       6C 2013-01-07 14:58:42  \n",
       "14900       6E 2013-01-07 15:34:44  \n",
       "14904       32 2013-01-03 14:17:59  \n",
       "14916       6E 2013-01-09 15:23:31  \n",
       "14918       32 2013-01-03 14:17:59  "
      ]
     },
     "execution_count": 778,
     "metadata": {},
     "output_type": "execute_result"
    }
   ],
   "source": [
    "dt_diligencias['DtSolicitacao'] = pd.to_datetime(dt_diligencias['DtSolicitacao'], format = Dates.DATE_INPUT_FORMAT)\n",
    "dt_diligencias['DtResposta'] = pd.to_datetime(dt_diligencias['DtResposta'], format = Dates.DATE_INPUT_FORMAT)\n",
    "\n",
    "dt_diligencias.head()"
   ]
  },
  {
   "cell_type": "markdown",
   "metadata": {},
   "source": [
    "### Tempo médio de resposta de uma diligencia, considerando todas as diligências do banco"
   ]
  },
  {
   "cell_type": "code",
   "execution_count": 779,
   "metadata": {
    "scrolled": true
   },
   "outputs": [
    {
     "data": {
      "text/html": [
       "<div>\n",
       "<style scoped>\n",
       "    .dataframe tbody tr th:only-of-type {\n",
       "        vertical-align: middle;\n",
       "    }\n",
       "\n",
       "    .dataframe tbody tr th {\n",
       "        vertical-align: top;\n",
       "    }\n",
       "\n",
       "    .dataframe thead th {\n",
       "        text-align: right;\n",
       "    }\n",
       "</style>\n",
       "<table border=\"1\" class=\"dataframe\">\n",
       "  <thead>\n",
       "    <tr style=\"text-align: right;\">\n",
       "      <th></th>\n",
       "      <th>0</th>\n",
       "    </tr>\n",
       "  </thead>\n",
       "  <tbody>\n",
       "    <tr>\n",
       "      <th>count</th>\n",
       "      <td>39992</td>\n",
       "    </tr>\n",
       "    <tr>\n",
       "      <th>mean</th>\n",
       "      <td>9 days 14:10:16.443288</td>\n",
       "    </tr>\n",
       "    <tr>\n",
       "      <th>std</th>\n",
       "      <td>13 days 03:51:35.851692</td>\n",
       "    </tr>\n",
       "    <tr>\n",
       "      <th>min</th>\n",
       "      <td>-73 days +00:00:00</td>\n",
       "    </tr>\n",
       "    <tr>\n",
       "      <th>25%</th>\n",
       "      <td>0 days 00:00:00</td>\n",
       "    </tr>\n",
       "    <tr>\n",
       "      <th>50%</th>\n",
       "      <td>4 days 00:00:00</td>\n",
       "    </tr>\n",
       "    <tr>\n",
       "      <th>75%</th>\n",
       "      <td>14 days 00:00:00</td>\n",
       "    </tr>\n",
       "    <tr>\n",
       "      <th>max</th>\n",
       "      <td>490 days 00:00:00</td>\n",
       "    </tr>\n",
       "  </tbody>\n",
       "</table>\n",
       "</div>"
      ],
      "text/plain": [
       "                             0\n",
       "count                    39992\n",
       "mean    9 days 14:10:16.443288\n",
       "std    13 days 03:51:35.851692\n",
       "min         -73 days +00:00:00\n",
       "25%            0 days 00:00:00\n",
       "50%            4 days 00:00:00\n",
       "75%           14 days 00:00:00\n",
       "max          490 days 00:00:00"
      ]
     },
     "execution_count": 779,
     "metadata": {},
     "output_type": "execute_result"
    }
   ],
   "source": [
    "solicitation_date = dt_diligencias.DtSolicitacao.values\n",
    "reply_date = dt_diligencias.DtResposta.values\n",
    "\n",
    "answer_time = reply_date - solicitation_date\n",
    "diff_time = [diff.astype('timedelta64[D]') for diff in answer_time]\n",
    "pd.DataFrame(diff_time).describe()"
   ]
  },
  {
   "cell_type": "markdown",
   "metadata": {},
   "source": [
    "### Tempo médio de resposta de uma diligencia, considerando apenas diligencias com data de resposta maior que data de solicitação"
   ]
  },
  {
   "cell_type": "code",
   "execution_count": 780,
   "metadata": {},
   "outputs": [
    {
     "data": {
      "text/html": [
       "<div>\n",
       "<style scoped>\n",
       "    .dataframe tbody tr th:only-of-type {\n",
       "        vertical-align: middle;\n",
       "    }\n",
       "\n",
       "    .dataframe tbody tr th {\n",
       "        vertical-align: top;\n",
       "    }\n",
       "\n",
       "    .dataframe thead th {\n",
       "        text-align: right;\n",
       "    }\n",
       "</style>\n",
       "<table border=\"1\" class=\"dataframe\">\n",
       "  <thead>\n",
       "    <tr style=\"text-align: right;\">\n",
       "      <th></th>\n",
       "      <th>0</th>\n",
       "    </tr>\n",
       "  </thead>\n",
       "  <tbody>\n",
       "    <tr>\n",
       "      <th>count</th>\n",
       "      <td>39911</td>\n",
       "    </tr>\n",
       "    <tr>\n",
       "      <th>mean</th>\n",
       "      <td>9 days 15:08:51.733106</td>\n",
       "    </tr>\n",
       "    <tr>\n",
       "      <th>std</th>\n",
       "      <td>13 days 02:49:34.705979</td>\n",
       "    </tr>\n",
       "    <tr>\n",
       "      <th>min</th>\n",
       "      <td>0 days 00:00:00</td>\n",
       "    </tr>\n",
       "    <tr>\n",
       "      <th>25%</th>\n",
       "      <td>0 days 00:00:00</td>\n",
       "    </tr>\n",
       "    <tr>\n",
       "      <th>50%</th>\n",
       "      <td>4 days 00:00:00</td>\n",
       "    </tr>\n",
       "    <tr>\n",
       "      <th>75%</th>\n",
       "      <td>14 days 00:00:00</td>\n",
       "    </tr>\n",
       "    <tr>\n",
       "      <th>max</th>\n",
       "      <td>490 days 00:00:00</td>\n",
       "    </tr>\n",
       "  </tbody>\n",
       "</table>\n",
       "</div>"
      ],
      "text/plain": [
       "                             0\n",
       "count                    39911\n",
       "mean    9 days 15:08:51.733106\n",
       "std    13 days 02:49:34.705979\n",
       "min            0 days 00:00:00\n",
       "25%            0 days 00:00:00\n",
       "50%            4 days 00:00:00\n",
       "75%           14 days 00:00:00\n",
       "max          490 days 00:00:00"
      ]
     },
     "execution_count": 780,
     "metadata": {},
     "output_type": "execute_result"
    }
   ],
   "source": [
    "solicitation_bigger_then_reply = dt_diligencias['DtSolicitacao'] < dt_diligencias['DtResposta']\n",
    "\n",
    "solicitation_date = dt_diligencias[solicitation_bigger_then_reply].DtSolicitacao.values\n",
    "reply_date = dt_diligencias[solicitation_bigger_then_reply].DtResposta.values\n",
    "\n",
    "answer_time = reply_date - solicitation_date\n",
    "diff_time = [diff.astype('timedelta64[D]') for diff in answer_time]\n",
    "pd.DataFrame(diff_time).describe()"
   ]
  },
  {
   "cell_type": "markdown",
   "metadata": {},
   "source": [
    "## Importando os dados de Segmento e Area dos projetos"
   ]
  },
  {
   "cell_type": "markdown",
   "metadata": {},
   "source": [
    "### Area"
   ]
  },
  {
   "cell_type": "code",
   "execution_count": 781,
   "metadata": {
    "scrolled": true
   },
   "outputs": [
    {
     "data": {
      "text/html": [
       "<div>\n",
       "<style scoped>\n",
       "    .dataframe tbody tr th:only-of-type {\n",
       "        vertical-align: middle;\n",
       "    }\n",
       "\n",
       "    .dataframe tbody tr th {\n",
       "        vertical-align: top;\n",
       "    }\n",
       "\n",
       "    .dataframe thead th {\n",
       "        text-align: right;\n",
       "    }\n",
       "</style>\n",
       "<table border=\"1\" class=\"dataframe\">\n",
       "  <thead>\n",
       "    <tr style=\"text-align: right;\">\n",
       "      <th></th>\n",
       "      <th>Codigo</th>\n",
       "      <th>Descricao</th>\n",
       "      <th>stEstado</th>\n",
       "    </tr>\n",
       "  </thead>\n",
       "  <tbody>\n",
       "    <tr>\n",
       "      <th>0</th>\n",
       "      <td>1</td>\n",
       "      <td>Artes Cênicas</td>\n",
       "      <td>1</td>\n",
       "    </tr>\n",
       "    <tr>\n",
       "      <th>1</th>\n",
       "      <td>2</td>\n",
       "      <td>Audiovisual</td>\n",
       "      <td>1</td>\n",
       "    </tr>\n",
       "    <tr>\n",
       "      <th>2</th>\n",
       "      <td>3</td>\n",
       "      <td>Música</td>\n",
       "      <td>1</td>\n",
       "    </tr>\n",
       "    <tr>\n",
       "      <th>3</th>\n",
       "      <td>4</td>\n",
       "      <td>Artes Visuais</td>\n",
       "      <td>1</td>\n",
       "    </tr>\n",
       "    <tr>\n",
       "      <th>4</th>\n",
       "      <td>5</td>\n",
       "      <td>Patrimônio Cultural</td>\n",
       "      <td>1</td>\n",
       "    </tr>\n",
       "    <tr>\n",
       "      <th>5</th>\n",
       "      <td>6</td>\n",
       "      <td>Humanidades</td>\n",
       "      <td>1</td>\n",
       "    </tr>\n",
       "    <tr>\n",
       "      <th>6</th>\n",
       "      <td>7</td>\n",
       "      <td>Artes Integradas</td>\n",
       "      <td>0</td>\n",
       "    </tr>\n",
       "    <tr>\n",
       "      <th>7</th>\n",
       "      <td>9</td>\n",
       "      <td>Museus e Memória</td>\n",
       "      <td>1</td>\n",
       "    </tr>\n",
       "  </tbody>\n",
       "</table>\n",
       "</div>"
      ],
      "text/plain": [
       "   Codigo            Descricao  stEstado\n",
       "0       1        Artes Cênicas         1\n",
       "1       2          Audiovisual         1\n",
       "2       3               Música         1\n",
       "3       4        Artes Visuais         1\n",
       "4       5  Patrimônio Cultural         1\n",
       "5       6          Humanidades         1\n",
       "6       7     Artes Integradas         0\n",
       "7       9     Museus e Memória         1"
      ]
     },
     "metadata": {},
     "output_type": "display_data"
    }
   ],
   "source": [
    "area_file_name = 'area.csv'\n",
    "area_file_path = os.path.join(data_folder, area_file_name)\n",
    "dt_area = pd.read_csv(area_file_path, low_memory=False)\n",
    "display(dt_area)"
   ]
  },
  {
   "cell_type": "markdown",
   "metadata": {},
   "source": [
    "### Segmento"
   ]
  },
  {
   "cell_type": "code",
   "execution_count": 782,
   "metadata": {
    "scrolled": false
   },
   "outputs": [
    {
     "data": {
      "text/html": [
       "<div>\n",
       "<style scoped>\n",
       "    .dataframe tbody tr th:only-of-type {\n",
       "        vertical-align: middle;\n",
       "    }\n",
       "\n",
       "    .dataframe tbody tr th {\n",
       "        vertical-align: top;\n",
       "    }\n",
       "\n",
       "    .dataframe thead th {\n",
       "        text-align: right;\n",
       "    }\n",
       "</style>\n",
       "<table border=\"1\" class=\"dataframe\">\n",
       "  <thead>\n",
       "    <tr style=\"text-align: right;\">\n",
       "      <th></th>\n",
       "      <th>Codigo</th>\n",
       "      <th>Descricao</th>\n",
       "    </tr>\n",
       "  </thead>\n",
       "  <tbody>\n",
       "    <tr>\n",
       "      <th>0</th>\n",
       "      <td>11</td>\n",
       "      <td>Teatro</td>\n",
       "    </tr>\n",
       "    <tr>\n",
       "      <th>1</th>\n",
       "      <td>12</td>\n",
       "      <td>Dança</td>\n",
       "    </tr>\n",
       "    <tr>\n",
       "      <th>2</th>\n",
       "      <td>13</td>\n",
       "      <td>Circo</td>\n",
       "    </tr>\n",
       "    <tr>\n",
       "      <th>3</th>\n",
       "      <td>14</td>\n",
       "      <td>Ópera</td>\n",
       "    </tr>\n",
       "    <tr>\n",
       "      <th>4</th>\n",
       "      <td>15</td>\n",
       "      <td>Mímica</td>\n",
       "    </tr>\n",
       "  </tbody>\n",
       "</table>\n",
       "</div>"
      ],
      "text/plain": [
       "  Codigo Descricao\n",
       "0     11    Teatro\n",
       "1     12     Dança\n",
       "2     13     Circo\n",
       "3     14     Ópera\n",
       "4     15    Mímica"
      ]
     },
     "execution_count": 782,
     "metadata": {},
     "output_type": "execute_result"
    }
   ],
   "source": [
    "segmento_file_name = 'segmento.csv'\n",
    "segmento_file_path = os.path.join(data_folder, segmento_file_name)\n",
    "dt_segmento = pd.read_csv(segmento_file_path, usecols = ['Codigo', 'Descricao'], low_memory=False)\n",
    "dt_segmento.head()"
   ]
  },
  {
   "cell_type": "markdown",
   "metadata": {},
   "source": [
    "# Quantidade de diligencias por area de projetos"
   ]
  },
  {
   "cell_type": "code",
   "execution_count": 783,
   "metadata": {
    "scrolled": false
   },
   "outputs": [
    {
     "data": {
      "text/plain": [
       "{1: 13898, 2: 2629, 3: 11895, 4: 4335, 5: 1807, 6: 5697, 9: 22}"
      ]
     },
     "metadata": {},
     "output_type": "display_data"
    },
    {
     "data": {
      "text/plain": [
       "{1: 'Artes Cênicas',\n",
       " 2: 'Audiovisual',\n",
       " 3: 'Música',\n",
       " 4: 'Artes Visuais',\n",
       " 5: 'Patrimônio Cultural',\n",
       " 6: 'Humanidades',\n",
       " 7: 'Artes Integradas',\n",
       " 9: 'Museus e Memória'}"
      ]
     },
     "metadata": {},
     "output_type": "display_data"
    },
    {
     "data": {
      "text/plain": [
       "[('Museus e Memória', 22),\n",
       " ('Patrimônio Cultural', 1807),\n",
       " ('Audiovisual', 2629),\n",
       " ('Artes Visuais', 4335),\n",
       " ('Humanidades', 5697),\n",
       " ('Música', 11895),\n",
       " ('Artes Cênicas', 13898)]"
      ]
     },
     "metadata": {},
     "output_type": "display_data"
    }
   ],
   "source": [
    "areas_diligencies_dict = dict(zip(*np.unique(dt_diligencias.Area.values, return_counts=True)))\n",
    "display(areas_diligencies_dict)\n",
    "\n",
    "areas_diligencies_list = list(areas_diligencies_dict.items())\n",
    "areas_diligencies_list = sorted(areas_diligencies_list, key = lambda x: x[1])\n",
    "\n",
    "dt_area = dt_area.set_index('Codigo')\n",
    "area_name_map = dt_area.Descricao.to_dict()\n",
    "display(area_name_map)\n",
    "\n",
    "areas_hist = [(area_name_map[x], y) for x, y in areas_diligencies_list]\n",
    "display(areas_hist)"
   ]
  },
  {
   "cell_type": "code",
   "execution_count": 784,
   "metadata": {
    "scrolled": false
   },
   "outputs": [
    {
     "data": {
      "image/png": "[encoded data removed]",
      "text/plain": [
       "<Figure size 1008x432 with 1 Axes>"
      ]
     },
     "metadata": {},
     "output_type": "display_data"
    }
   ],
   "source": [
    "plt.figure(figsize=(14, 6))\n",
    "\n",
    "plt.xlabel('Áreas', fontsize = 16, labelpad = 22)\n",
    "plt.ylabel('Nº de Diligências', fontsize = 16, labelpad = 22)\n",
    "a = plt.bar([x[0] for x in areas_hist], [x[1] for x in areas_hist], align='center', width=0.3)\n",
    "autolabel(a, 'int')\n",
    "\n",
    "plt.show()"
   ]
  },
  {
   "cell_type": "markdown",
   "metadata": {},
   "source": [
    "### Calculando a média de diligencies por area de projeto, entre todos os projetos"
   ]
  },
  {
   "cell_type": "code",
   "execution_count": 785,
   "metadata": {
    "scrolled": false
   },
   "outputs": [
    {
     "name": "stdout",
     "output_type": "stream",
     "text": [
      "projects_dict\n"
     ]
    },
    {
     "data": {
      "text/plain": [
       "{1: 10112, 2: 2880, 3: 8197, 4: 2895, 5: 947, 6: 4992, 7: 22423, 9: 49}"
      ]
     },
     "metadata": {},
     "output_type": "display_data"
    },
    {
     "name": "stdout",
     "output_type": "stream",
     "text": [
      "diligencies_dict\n"
     ]
    },
    {
     "data": {
      "text/plain": [
       "{1: 13898, 2: 2629, 3: 11895, 4: 4335, 5: 1807, 6: 5697, 9: 22}"
      ]
     },
     "metadata": {},
     "output_type": "display_data"
    },
    {
     "data": {
      "text/plain": [
       "[('Artes Integradas', 0.0),\n",
       " ('Museus e Memória', 0.4489795918367347),\n",
       " ('Audiovisual', 0.9128472222222223),\n",
       " ('Humanidades', 1.1412259615384615),\n",
       " ('Artes Cênicas', 1.3744066455696202),\n",
       " ('Música', 1.4511406612175186),\n",
       " ('Artes Visuais', 1.4974093264248705),\n",
       " ('Patrimônio Cultural', 1.908130939809926)]"
      ]
     },
     "metadata": {},
     "output_type": "display_data"
    }
   ],
   "source": [
    "print('projects_dict')\n",
    "projects_dict = dict(zip(*np.unique(dt_projetos.Area.values, return_counts=True)))\n",
    "display(projects_dict)\n",
    "\n",
    "print('diligencies_dict')\n",
    "diligencies_dict = dict(zip(*np.unique(dt_diligencias.Area.values, return_counts=True)))\n",
    "display(diligencies_dict)\n",
    "\n",
    "diligencies_per_area_mean = list()\n",
    "\n",
    "for area in projects_dict.keys():\n",
    "    if area not in diligencies_dict.keys():\n",
    "        diligencies_dict[area] = 0\n",
    "        \n",
    "    mean = diligencies_dict[area] / projects_dict[area]\n",
    "    diligencies_per_area_mean.append((area_name_map[area], mean))\n",
    "\n",
    "diligencies_per_area_mean = sorted(diligencies_per_area_mean, key=lambda x: x[1])\n",
    "display(diligencies_per_area_mean)"
   ]
  },
  {
   "cell_type": "markdown",
   "metadata": {},
   "source": [
    "### Média de diligencies por area de projeto, entre todos os projetos"
   ]
  },
  {
   "cell_type": "code",
   "execution_count": 787,
   "metadata": {
    "scrolled": true
   },
   "outputs": [
    {
     "data": {
      "image/png": "[encoded data removed]",
      "text/plain": [
       "<Figure size 1008x360 with 1 Axes>"
      ]
     },
     "metadata": {},
     "output_type": "display_data"
    }
   ],
   "source": [
    "plt.figure(figsize=(14, 6))\n",
    "\n",
    "plt.xlabel('Áreas', fontsize = 16, labelpad = 22)\n",
    "plt.ylabel('Média do Nº de Diligências', fontsize = 14, labelpad = 22)\n",
    "\n",
    "a = plt.bar([x[0] for x in diligencies_per_area_mean], [x[1] for x in diligencies_per_area_mean],\n",
    "            align='center', width=0.3)\n",
    "autolabel(a, 'float')"
   ]
  },
  {
   "cell_type": "code",
   "execution_count": null,
   "metadata": {},
   "outputs": [],
   "source": []
  }
 ],
 "metadata": {
  "kernelspec": {
   "display_name": "Python 3",
   "language": "python",
   "name": "python3"
  },
  "language_info": {
   "codemirror_mode": {
    "name": "ipython",
    "version": 3
   },
   "file_extension": ".py",
   "mimetype": "text/x-python",
   "name": "python",
   "nbconvert_exporter": "python",
   "pygments_lexer": "ipython3",
   "version": "3.6.4"
  }
 },
 "nbformat": 4,
 "nbformat_minor": 2
}
