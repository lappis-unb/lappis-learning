{
 "cells": [
  {
   "cell_type": "markdown",
   "metadata": {},
   "source": [
    "# Análise comparativa entre os itens de projetos culturais\n",
    "---\n",
    "\n",
    "**Objetivo:** realizar uma análise comparativa entre os itens de um projeto específico com os itens dos outros projetos culturais de um mesmo segmento. Nesta análise, será investigada a porcentagem de itens de um projeto que estão entre os itens mais frequentes de seu segmento."
   ]
  },
  {
   "cell_type": "markdown",
   "metadata": {},
   "source": [
    "#### Importando módulos necessários"
   ]
  },
  {
   "cell_type": "code",
   "execution_count": 1,
   "metadata": {},
   "outputs": [
    {
     "name": "stdout",
     "output_type": "stream",
     "text": [
      "Populating the interactive namespace from numpy and matplotlib\n"
     ]
    }
   ],
   "source": [
    "%pylab inline\n",
    "import pandas as pd"
   ]
  },
  {
   "cell_type": "markdown",
   "metadata": {},
   "source": [
    "#### Carregando e mostrando dataset a ser utilizado ao longo do estudo"
   ]
  },
  {
   "cell_type": "code",
   "execution_count": 2,
   "metadata": {},
   "outputs": [
    {
     "name": "stdout",
     "output_type": "stream",
     "text": [
      "Index(['idPronac', 'PRONAC', 'idPlanilhaAprovacao', 'Item', 'idPlanilhaItens',\n",
      "       'Unidade', 'QtDias', 'QtItem', 'nrOcorrencia', 'VlUnitarioSolicitado',\n",
      "       'VlTotalSolicitado', 'VlUnitarioAprovado', 'VlTotalAprovado', 'UfItem',\n",
      "       'MunicipioItem', 'Etapa', 'idArea', 'Area', 'idSegmento', 'Segmento',\n",
      "       'idProduto', 'Produto', 'DataProjeto'],\n",
      "      dtype='object')\n"
     ]
    },
    {
     "data": {
      "text/html": [
       "<div>\n",
       "<style scoped>\n",
       "    .dataframe tbody tr th:only-of-type {\n",
       "        vertical-align: middle;\n",
       "    }\n",
       "\n",
       "    .dataframe tbody tr th {\n",
       "        vertical-align: top;\n",
       "    }\n",
       "\n",
       "    .dataframe thead th {\n",
       "        text-align: right;\n",
       "    }\n",
       "</style>\n",
       "<table border=\"1\" class=\"dataframe\">\n",
       "  <thead>\n",
       "    <tr style=\"text-align: right;\">\n",
       "      <th></th>\n",
       "      <th>idPronac</th>\n",
       "      <th>PRONAC</th>\n",
       "      <th>idPlanilhaAprovacao</th>\n",
       "      <th>Item</th>\n",
       "      <th>idPlanilhaItens</th>\n",
       "      <th>Unidade</th>\n",
       "      <th>QtDias</th>\n",
       "      <th>QtItem</th>\n",
       "      <th>nrOcorrencia</th>\n",
       "      <th>VlUnitarioSolicitado</th>\n",
       "      <th>...</th>\n",
       "      <th>UfItem</th>\n",
       "      <th>MunicipioItem</th>\n",
       "      <th>Etapa</th>\n",
       "      <th>idArea</th>\n",
       "      <th>Area</th>\n",
       "      <th>idSegmento</th>\n",
       "      <th>Segmento</th>\n",
       "      <th>idProduto</th>\n",
       "      <th>Produto</th>\n",
       "      <th>DataProjeto</th>\n",
       "    </tr>\n",
       "  </thead>\n",
       "  <tbody>\n",
       "    <tr>\n",
       "      <th>0</th>\n",
       "      <td>114166</td>\n",
       "      <td>93004</td>\n",
       "      <td>50109</td>\n",
       "      <td>Montagem e desmontagem</td>\n",
       "      <td>88</td>\n",
       "      <td>Serviço</td>\n",
       "      <td>2</td>\n",
       "      <td>1.0</td>\n",
       "      <td>2</td>\n",
       "      <td>140.00</td>\n",
       "      <td>...</td>\n",
       "      <td>PB</td>\n",
       "      <td>Sumé</td>\n",
       "      <td>2 - Produção / Execução</td>\n",
       "      <td>5</td>\n",
       "      <td>Patrimônio Cultural</td>\n",
       "      <td>51</td>\n",
       "      <td>História</td>\n",
       "      <td>62</td>\n",
       "      <td>Exposição de Artes</td>\n",
       "      <td>2009-06-26 09:46:54</td>\n",
       "    </tr>\n",
       "    <tr>\n",
       "      <th>1</th>\n",
       "      <td>123461</td>\n",
       "      <td>103228</td>\n",
       "      <td>239572</td>\n",
       "      <td>Locação de Piano</td>\n",
       "      <td>3040</td>\n",
       "      <td>Serviço</td>\n",
       "      <td>12</td>\n",
       "      <td>1.0</td>\n",
       "      <td>6</td>\n",
       "      <td>1500.00</td>\n",
       "      <td>...</td>\n",
       "      <td>RJ</td>\n",
       "      <td>Rio de Janeiro</td>\n",
       "      <td>2 - Produção / Execução</td>\n",
       "      <td>3</td>\n",
       "      <td>Música</td>\n",
       "      <td>33</td>\n",
       "      <td>Música Instrumental</td>\n",
       "      <td>51</td>\n",
       "      <td>Apresentação Musical</td>\n",
       "      <td>2010-05-06 10:49:13</td>\n",
       "    </tr>\n",
       "    <tr>\n",
       "      <th>2</th>\n",
       "      <td>123461</td>\n",
       "      <td>103228</td>\n",
       "      <td>239599</td>\n",
       "      <td>Programa</td>\n",
       "      <td>2634</td>\n",
       "      <td>Unidade</td>\n",
       "      <td>6</td>\n",
       "      <td>400.0</td>\n",
       "      <td>6</td>\n",
       "      <td>2.00</td>\n",
       "      <td>...</td>\n",
       "      <td>RJ</td>\n",
       "      <td>Rio de Janeiro</td>\n",
       "      <td>3 - Divulgação / Comercialização</td>\n",
       "      <td>3</td>\n",
       "      <td>Música</td>\n",
       "      <td>33</td>\n",
       "      <td>Música Instrumental</td>\n",
       "      <td>51</td>\n",
       "      <td>Apresentação Musical</td>\n",
       "      <td>2010-05-06 10:49:13</td>\n",
       "    </tr>\n",
       "    <tr>\n",
       "      <th>3</th>\n",
       "      <td>132803</td>\n",
       "      <td>1012471</td>\n",
       "      <td>86608</td>\n",
       "      <td>Transporte Local / Locação de Automóvel / Comb...</td>\n",
       "      <td>134</td>\n",
       "      <td>Metro 3 / Km</td>\n",
       "      <td>4</td>\n",
       "      <td>500.0</td>\n",
       "      <td>4</td>\n",
       "      <td>1.45</td>\n",
       "      <td>...</td>\n",
       "      <td>MG</td>\n",
       "      <td>Viçosa</td>\n",
       "      <td>2 - Produção / Execução</td>\n",
       "      <td>7</td>\n",
       "      <td>Artes Integradas</td>\n",
       "      <td>71</td>\n",
       "      <td>Artes Integradas</td>\n",
       "      <td>51</td>\n",
       "      <td>Apresentação Musical</td>\n",
       "      <td>2010-12-21 17:09:22</td>\n",
       "    </tr>\n",
       "    <tr>\n",
       "      <th>4</th>\n",
       "      <td>115111</td>\n",
       "      <td>93932</td>\n",
       "      <td>11387</td>\n",
       "      <td>Confecção de painéis explicativos</td>\n",
       "      <td>90</td>\n",
       "      <td>Unidade</td>\n",
       "      <td>30</td>\n",
       "      <td>20.0</td>\n",
       "      <td>1</td>\n",
       "      <td>300.00</td>\n",
       "      <td>...</td>\n",
       "      <td>PE</td>\n",
       "      <td>Recife</td>\n",
       "      <td>2 - Produção / Execução</td>\n",
       "      <td>7</td>\n",
       "      <td>Artes Integradas</td>\n",
       "      <td>71</td>\n",
       "      <td>Artes Integradas</td>\n",
       "      <td>62</td>\n",
       "      <td>Exposição de Artes</td>\n",
       "      <td>2009-07-27 08:40:04</td>\n",
       "    </tr>\n",
       "  </tbody>\n",
       "</table>\n",
       "<p>5 rows × 23 columns</p>\n",
       "</div>"
      ],
      "text/plain": [
       "   idPronac   PRONAC  idPlanilhaAprovacao  \\\n",
       "0    114166    93004                50109   \n",
       "1    123461   103228               239572   \n",
       "2    123461   103228               239599   \n",
       "3    132803  1012471                86608   \n",
       "4    115111    93932                11387   \n",
       "\n",
       "                                                Item  idPlanilhaItens  \\\n",
       "0                             Montagem e desmontagem               88   \n",
       "1                                   Locação de Piano             3040   \n",
       "2                                           Programa             2634   \n",
       "3  Transporte Local / Locação de Automóvel / Comb...              134   \n",
       "4                  Confecção de painéis explicativos               90   \n",
       "\n",
       "        Unidade  QtDias  QtItem  nrOcorrencia  VlUnitarioSolicitado  \\\n",
       "0       Serviço       2     1.0             2                140.00   \n",
       "1       Serviço      12     1.0             6               1500.00   \n",
       "2       Unidade       6   400.0             6                  2.00   \n",
       "3  Metro 3 / Km       4   500.0             4                  1.45   \n",
       "4       Unidade      30    20.0             1                300.00   \n",
       "\n",
       "          ...           UfItem   MunicipioItem  \\\n",
       "0         ...               PB            Sumé   \n",
       "1         ...               RJ  Rio de Janeiro   \n",
       "2         ...               RJ  Rio de Janeiro   \n",
       "3         ...               MG          Viçosa   \n",
       "4         ...               PE          Recife   \n",
       "\n",
       "                              Etapa idArea                 Area idSegmento  \\\n",
       "0           2 - Produção / Execução      5  Patrimônio Cultural         51   \n",
       "1           2 - Produção / Execução      3               Música         33   \n",
       "2  3 - Divulgação / Comercialização      3               Música         33   \n",
       "3           2 - Produção / Execução      7     Artes Integradas         71   \n",
       "4           2 - Produção / Execução      7     Artes Integradas         71   \n",
       "\n",
       "              Segmento idProduto               Produto          DataProjeto  \n",
       "0             História        62    Exposição de Artes  2009-06-26 09:46:54  \n",
       "1  Música Instrumental        51  Apresentação Musical  2010-05-06 10:49:13  \n",
       "2  Música Instrumental        51  Apresentação Musical  2010-05-06 10:49:13  \n",
       "3     Artes Integradas        51  Apresentação Musical  2010-12-21 17:09:22  \n",
       "4     Artes Integradas        62    Exposição de Artes  2009-07-27 08:40:04  \n",
       "\n",
       "[5 rows x 23 columns]"
      ]
     },
     "execution_count": 2,
     "metadata": {},
     "output_type": "execute_result"
    }
   ],
   "source": [
    "df = pd.read_csv('data/raw/planilha_orcamentaria.csv')\n",
    "print(df.columns)\n",
    "df.head()"
   ]
  },
  {
   "cell_type": "markdown",
   "metadata": {},
   "source": [
    "#### Gerando tabela com o número de ocorrências de itens por segmento"
   ]
  },
  {
   "cell_type": "code",
   "execution_count": 3,
   "metadata": {},
   "outputs": [
    {
     "data": {
      "text/html": [
       "<div>\n",
       "<style scoped>\n",
       "    .dataframe tbody tr th:only-of-type {\n",
       "        vertical-align: middle;\n",
       "    }\n",
       "\n",
       "    .dataframe tbody tr th {\n",
       "        vertical-align: top;\n",
       "    }\n",
       "\n",
       "    .dataframe thead th {\n",
       "        text-align: right;\n",
       "    }\n",
       "</style>\n",
       "<table border=\"1\" class=\"dataframe\">\n",
       "  <thead>\n",
       "    <tr style=\"text-align: right;\">\n",
       "      <th></th>\n",
       "      <th></th>\n",
       "      <th>itemOccurrences</th>\n",
       "    </tr>\n",
       "    <tr>\n",
       "      <th>idSegmento</th>\n",
       "      <th>idPlanilhaItens</th>\n",
       "      <th></th>\n",
       "    </tr>\n",
       "  </thead>\n",
       "  <tbody>\n",
       "    <tr>\n",
       "      <th rowspan=\"5\" valign=\"top\">11</th>\n",
       "      <th>10</th>\n",
       "      <td>517</td>\n",
       "    </tr>\n",
       "    <tr>\n",
       "      <th>12</th>\n",
       "      <td>591</td>\n",
       "    </tr>\n",
       "    <tr>\n",
       "      <th>13</th>\n",
       "      <td>757</td>\n",
       "    </tr>\n",
       "    <tr>\n",
       "      <th>14</th>\n",
       "      <td>12</td>\n",
       "    </tr>\n",
       "    <tr>\n",
       "      <th>15</th>\n",
       "      <td>511</td>\n",
       "    </tr>\n",
       "  </tbody>\n",
       "</table>\n",
       "</div>"
      ],
      "text/plain": [
       "                            itemOccurrences\n",
       "idSegmento idPlanilhaItens                 \n",
       "11         10                           517\n",
       "           12                           591\n",
       "           13                           757\n",
       "           14                            12\n",
       "           15                           511"
      ]
     },
     "execution_count": 3,
     "metadata": {},
     "output_type": "execute_result"
    }
   ],
   "source": [
    "items = df[['PRONAC', 'idSegmento', 'idPlanilhaItens']].drop_duplicates()\n",
    "items_occurrences = items.groupby(['idSegmento', 'idPlanilhaItens']).count()\n",
    "items_occurrences = items_occurrences.rename(columns={'PRONAC': 'itemOccurrences'})\n",
    "items_occurrences.head()"
   ]
  },
  {
   "cell_type": "markdown",
   "metadata": {},
   "source": [
    "#### Gerando tabela com o número de projetos por segmento"
   ]
  },
  {
   "cell_type": "code",
   "execution_count": 4,
   "metadata": {},
   "outputs": [
    {
     "data": {
      "text/html": [
       "<div>\n",
       "<style scoped>\n",
       "    .dataframe tbody tr th:only-of-type {\n",
       "        vertical-align: middle;\n",
       "    }\n",
       "\n",
       "    .dataframe tbody tr th {\n",
       "        vertical-align: top;\n",
       "    }\n",
       "\n",
       "    .dataframe thead th {\n",
       "        text-align: right;\n",
       "    }\n",
       "</style>\n",
       "<table border=\"1\" class=\"dataframe\">\n",
       "  <thead>\n",
       "    <tr style=\"text-align: right;\">\n",
       "      <th></th>\n",
       "      <th>numProjects</th>\n",
       "    </tr>\n",
       "    <tr>\n",
       "      <th>idSegmento</th>\n",
       "      <th></th>\n",
       "    </tr>\n",
       "  </thead>\n",
       "  <tbody>\n",
       "    <tr>\n",
       "      <th>11</th>\n",
       "      <td>9715</td>\n",
       "    </tr>\n",
       "    <tr>\n",
       "      <th>12</th>\n",
       "      <td>2370</td>\n",
       "    </tr>\n",
       "    <tr>\n",
       "      <th>13</th>\n",
       "      <td>411</td>\n",
       "    </tr>\n",
       "    <tr>\n",
       "      <th>14</th>\n",
       "      <td>126</td>\n",
       "    </tr>\n",
       "    <tr>\n",
       "      <th>15</th>\n",
       "      <td>4</td>\n",
       "    </tr>\n",
       "  </tbody>\n",
       "</table>\n",
       "</div>"
      ],
      "text/plain": [
       "            numProjects\n",
       "idSegmento             \n",
       "11                 9715\n",
       "12                 2370\n",
       "13                  411\n",
       "14                  126\n",
       "15                    4"
      ]
     },
     "execution_count": 4,
     "metadata": {},
     "output_type": "execute_result"
    }
   ],
   "source": [
    "num_projects = items.drop('idPlanilhaItens', axis=1).set_index('idSegmento').drop_duplicates()\n",
    "num_projects = num_projects.groupby('idSegmento').count()\n",
    "num_projects = num_projects.rename(columns={'PRONAC': 'numProjects'})\n",
    "num_projects.head()"
   ]
  },
  {
   "cell_type": "markdown",
   "metadata": {},
   "source": [
    "## Estudo de caso: análise de um projeto específico\n",
    "---\n",
    "\n",
    "Escolheu-se aleatoriamente um projeto cultural para analisar seus itens com relação aos itens mais comuns de seu segmento."
   ]
  },
  {
   "cell_type": "markdown",
   "metadata": {},
   "source": [
    "#### Escolhendo um projeto e gerando sua lista de itens"
   ]
  },
  {
   "cell_type": "code",
   "execution_count": 5,
   "metadata": {},
   "outputs": [
    {
     "data": {
      "text/plain": [
       "array([  12,   72,   81, 1219,   24,   66, 1120,  118,   49,   73,  201,\n",
       "       2692,  206,  150,  142,   62,   27,   71,   23,   63, 2632,   57,\n",
       "       1002,   75,   53, 2634,   68, 2667,  179,   83, 1037, 2715, 1050,\n",
       "       2611, 2631, 2695,   22,   40,  191,  144, 2633,  189,  117, 2639,\n",
       "         74,  143,   67,   85, 2620,  192,  134,  178,   61, 2605])"
      ]
     },
     "execution_count": 5,
     "metadata": {},
     "output_type": "execute_result"
    }
   ],
   "source": [
    "pronac = 90105\n",
    "project_items = items[items['PRONAC'] == pronac]\n",
    "project = project_items.iloc[0]\n",
    "project_items = project_items.drop(columns=['PRONAC', 'idSegmento'])\n",
    "project_items = project_items.values[:,0]\n",
    "project_items"
   ]
  },
  {
   "cell_type": "markdown",
   "metadata": {},
   "source": [
    "#### Obtendo a lista dos itens do segmento do projeto escolhido e ordenando-os por seus números de ocorrências"
   ]
  },
  {
   "cell_type": "code",
   "execution_count": 6,
   "metadata": {},
   "outputs": [
    {
     "name": "stdout",
     "output_type": "stream",
     "text": [
      "(1355, 1)\n"
     ]
    },
    {
     "data": {
      "image/png": "[encoded data removed]",
      "text/plain": [
       "<matplotlib.figure.Figure at 0x7f1f17d32be0>"
      ]
     },
     "metadata": {},
     "output_type": "display_data"
    }
   ],
   "source": [
    "segment = project['idSegmento']\n",
    "items_segment = items_occurrences.reset_index('idPlanilhaItens').loc[segment]\n",
    "items_segment = items_segment.reset_index('idSegmento', drop=True)\n",
    "items_segment = items_segment.set_index('idPlanilhaItens')\n",
    "items_segment = items_segment.sort_values(by=['itemOccurrences'], ascending=False)\n",
    "print(items_segment.shape)\n",
    "\n",
    "plt.plot(items_segment['itemOccurrences'].values, '.')\n",
    "plt.title('Relação de itens e suas ocorrências')\n",
    "plt.ylabel('Número de ocorrências')\n",
    "plt.xlabel('Posição do item no ranking')\n",
    "plt.grid(True)"
   ]
  },
  {
   "cell_type": "markdown",
   "metadata": {},
   "source": [
    "#### Obtendo a lista dos itens mais comuns do segmento"
   ]
  },
  {
   "cell_type": "code",
   "execution_count": 7,
   "metadata": {},
   "outputs": [
    {
     "name": "stdout",
     "output_type": "stream",
     "text": [
      "(135, 1)\n"
     ]
    },
    {
     "data": {
      "text/html": [
       "<div>\n",
       "<style scoped>\n",
       "    .dataframe tbody tr th:only-of-type {\n",
       "        vertical-align: middle;\n",
       "    }\n",
       "\n",
       "    .dataframe tbody tr th {\n",
       "        vertical-align: top;\n",
       "    }\n",
       "\n",
       "    .dataframe thead th {\n",
       "        text-align: right;\n",
       "    }\n",
       "</style>\n",
       "<table border=\"1\" class=\"dataframe\">\n",
       "  <thead>\n",
       "    <tr style=\"text-align: right;\">\n",
       "      <th></th>\n",
       "      <th>idPlanilhaItens</th>\n",
       "    </tr>\n",
       "  </thead>\n",
       "  <tbody>\n",
       "    <tr>\n",
       "      <th>0</th>\n",
       "      <td>142</td>\n",
       "    </tr>\n",
       "    <tr>\n",
       "      <th>1</th>\n",
       "      <td>5249</td>\n",
       "    </tr>\n",
       "    <tr>\n",
       "      <th>2</th>\n",
       "      <td>191</td>\n",
       "    </tr>\n",
       "    <tr>\n",
       "      <th>3</th>\n",
       "      <td>2743</td>\n",
       "    </tr>\n",
       "    <tr>\n",
       "      <th>4</th>\n",
       "      <td>53</td>\n",
       "    </tr>\n",
       "  </tbody>\n",
       "</table>\n",
       "</div>"
      ],
      "text/plain": [
       "   idPlanilhaItens\n",
       "0              142\n",
       "1             5249\n",
       "2              191\n",
       "3             2743\n",
       "4               53"
      ]
     },
     "execution_count": 7,
     "metadata": {},
     "output_type": "execute_result"
    }
   ],
   "source": [
    "top_items_segment = items_segment.iloc[:len(items_segment)//10]\n",
    "top_items_segment = top_items_segment.drop(columns=['itemOccurrences'])\n",
    "top_items_segment = top_items_segment.reset_index('idPlanilhaItens')\n",
    "print(top_items_segment.shape)\n",
    "top_items_segment.head()"
   ]
  },
  {
   "cell_type": "markdown",
   "metadata": {},
   "source": [
    "#### Calculando a porcentagem de itens do projeto escolhido que estão entre os itens mais comuns"
   ]
  },
  {
   "cell_type": "code",
   "execution_count": 8,
   "metadata": {},
   "outputs": [
    {
     "name": "stdout",
     "output_type": "stream",
     "text": [
      "Itens entre os mais ocorridos: 44\n",
      "Número de itens do projeto: 54\n",
      "Razão: 0.81\n"
     ]
    }
   ],
   "source": [
    "found_in_top = sum(top_items_segment.isin(project_items))[0]\n",
    "total_items = len(project_items)\n",
    "print('Itens entre os mais ocorridos: {}'.format(found_in_top))\n",
    "print('Número de itens do projeto: {}'.format(total_items))\n",
    "print('Razão: %.2f' % (found_in_top / total_items))"
   ]
  },
  {
   "cell_type": "markdown",
   "metadata": {},
   "source": [
    "## Análise por segmento\n",
    "---\n",
    "\n",
    "Escolheu-se aleatoriamente um segmento para analisar a relação entre os itens de cada projeto com os mais comuns do segmento."
   ]
  },
  {
   "cell_type": "markdown",
   "metadata": {},
   "source": [
    "#### Definindo funções para encontrar os itens mais comuns de um segmento e calcular as métricas definidas acima"
   ]
  },
  {
   "cell_type": "code",
   "execution_count": 9,
   "metadata": {},
   "outputs": [],
   "source": [
    "def top_items_segment(segment, percentage=0.1):\n",
    "    items_segment = items_occurrences.reset_index('idPlanilhaItens').loc[segment]\n",
    "    items_segment = items_segment.reset_index('idSegmento', drop=True)\n",
    "    items_segment = items_segment.set_index('idPlanilhaItens')\n",
    "    items_segment = items_segment.sort_values(by=['itemOccurrences'], ascending=False)\n",
    "    \n",
    "    top_items_segment = items_segment.iloc[:int(len(items_segment)*percentage)]\n",
    "    top_items_segment = top_items_segment.drop(columns=['itemOccurrences'])\n",
    "    top_items_segment = top_items_segment.reset_index('idPlanilhaItens')\n",
    "\n",
    "    return top_items_segment\n",
    "\n",
    "def perc_items_in_top(pronac, top_items_segment):\n",
    "    project_items = items[items['PRONAC'] == pronac]\n",
    "    project = project_items.iloc[0]\n",
    "    project_items = project_items.drop(columns=['PRONAC', 'idSegmento'])\n",
    "    project_items = project_items.values[:,0]\n",
    "    \n",
    "    found_in_top = sum(top_items_segment.isin(project_items))[0]\n",
    "    total_items = len(project_items)\n",
    "    \n",
    "    return found_in_top / total_items"
   ]
  },
  {
   "cell_type": "markdown",
   "metadata": {},
   "source": [
    "#### Calculando as métricas de porcentagem de itens para todos os projetos do segmento escolhido"
   ]
  },
  {
   "cell_type": "code",
   "execution_count": 10,
   "metadata": {},
   "outputs": [
    {
     "name": "stdout",
     "output_type": "stream",
     "text": [
      "9715 [ 90105 106516 106667 ... 161772 149328 126912]\n",
      "CPU times: user 20 ms, sys: 0 ns, total: 20 ms\n",
      "Wall time: 19.6 ms\n",
      "CPU times: user 1min 37s, sys: 120 ms, total: 1min 37s\n",
      "Wall time: 1min 38s\n"
     ]
    }
   ],
   "source": [
    "segment = '11'\n",
    "segment_projects = items[items['idSegmento'] == segment]\n",
    "segment_projects = segment_projects.drop_duplicates(['PRONAC'])\n",
    "segment_projects = segment_projects['PRONAC'].values\n",
    "print(len(segment_projects), segment_projects)\n",
    "\n",
    "percs = []\n",
    "%time top_items = top_items_segment(segment)\n",
    "%time percs = [perc_items_in_top(project, top_items) for project in segment_projects]"
   ]
  },
  {
   "cell_type": "markdown",
   "metadata": {},
   "source": [
    "#### Gerando gráficos dos resultados encontrados"
   ]
  },
  {
   "cell_type": "code",
   "execution_count": 11,
   "metadata": {
    "scrolled": true
   },
   "outputs": [
    {
     "data": {
      "image/png": "[encoded data removed]",
      "text/plain": [
       "<matplotlib.figure.Figure at 0x7f1f17ce8470>"
      ]
     },
     "metadata": {},
     "output_type": "display_data"
    }
   ],
   "source": [
    "plt.hist(np.array(percs), 100)\n",
    "plt.title('Histograma de projetos de acordo com a\\nporcentagem de seus itens entre os mais comuns')\n",
    "plt.ylabel('Número de projetos')\n",
    "plt.xlabel('Porcentagem de itens de um projeto entre os mais comuns')\n",
    "plt.grid(True)"
   ]
  },
  {
   "cell_type": "markdown",
   "metadata": {},
   "source": [
    "#### Características da distribuição acima"
   ]
  },
  {
   "cell_type": "code",
   "execution_count": 12,
   "metadata": {},
   "outputs": [
    {
     "name": "stdout",
     "output_type": "stream",
     "text": [
      "Média: 0.790463010824482\n",
      "Desvio padrão: 0.1393999900600478\n"
     ]
    }
   ],
   "source": [
    "print('Média: {}'.format(mean(percs)))\n",
    "print('Desvio padrão: {}'.format(std(percs)))"
   ]
  }
 ],
 "metadata": {
  "kernelspec": {
   "display_name": "Python 3",
   "language": "python",
   "name": "python3"
  },
  "language_info": {
   "codemirror_mode": {
    "name": "ipython",
    "version": 3
   },
   "file_extension": ".py",
   "mimetype": "text/x-python",
   "name": "python",
   "nbconvert_exporter": "python",
   "pygments_lexer": "ipython3",
   "version": "3.5.2"
  }
 },
 "nbformat": 4,
 "nbformat_minor": 2
}
