{
 "cells": [
  {
   "cell_type": "markdown",
   "metadata": {},
   "source": [
    "# Etapa dos Projetos no pipeline do Salic"
   ]
  },
  {
   "cell_type": "markdown",
   "metadata": {},
   "source": [
    "**ISSUE:** [#28](https://github.com/lappis-unb/salic-ml/issues/28)\n",
    "\n",
    "**Etapas de Projeto:** No Salic um projeto por estar em uma das seguintes etapas:\n",
    "\n",
    "- Admissibilidade\n",
    "- Capitação e Execução\n",
    "- Prestação de Contas\n",
    "  - Análise do Objeto\n",
    "  - Análise Financeira\n",
    "\n",
    "\n",
    "**Objetivo:** Identificar quantos projetos tem em cada etapa no Salic"
   ]
  },
  {
   "cell_type": "markdown",
   "metadata": {},
   "source": [
    "## Prepararando os dados"
   ]
  },
  {
   "cell_type": "markdown",
   "metadata": {},
   "source": [
    "**Recarregar automaticamente os módulos**"
   ]
  },
  {
   "cell_type": "code",
   "execution_count": 1,
   "metadata": {},
   "outputs": [],
   "source": [
    "%load_ext autoreload\n",
    "%autoreload 2"
   ]
  },
  {
   "cell_type": "markdown",
   "metadata": {},
   "source": [
    "**Importando módulos python**"
   ]
  },
  {
   "cell_type": "code",
   "execution_count": 2,
   "metadata": {},
   "outputs": [],
   "source": [
    "import os\n",
    "import sys\n",
    "import time\n",
    "import numpy as np\n",
    "import pandas as pd\n",
    "import matplotlib.pyplot as plt\n",
    "\n",
    "from salicml.utils.dates import Dates\n",
    "from salicml.models.projects import Projects\n",
    "\n",
    "PROJECT_ROOT = os.path.abspath(os.path.join(os.pardir, os.pardir))\n",
    "DATA_FOLDER = os.path.join(PROJECT_ROOT, 'data', 'raw')"
   ]
  },
  {
   "cell_type": "markdown",
   "metadata": {},
   "source": [
    "**Carregando os dados da tabela de Projetos**"
   ]
  },
  {
   "cell_type": "code",
   "execution_count": 28,
   "metadata": {
    "scrolled": true
   },
   "outputs": [
    {
     "data": {
      "text/html": [
       "<div>\n",
       "<style scoped>\n",
       "    .dataframe tbody tr th:only-of-type {\n",
       "        vertical-align: middle;\n",
       "    }\n",
       "\n",
       "    .dataframe tbody tr th {\n",
       "        vertical-align: top;\n",
       "    }\n",
       "\n",
       "    .dataframe thead th {\n",
       "        text-align: right;\n",
       "    }\n",
       "</style>\n",
       "<table border=\"1\" class=\"dataframe\">\n",
       "  <thead>\n",
       "    <tr style=\"text-align: right;\">\n",
       "      <th></th>\n",
       "      <th>IdPRONAC</th>\n",
       "      <th>DtProtocolo</th>\n",
       "      <th>DtInicioExecucao</th>\n",
       "      <th>DtFimExecucao</th>\n",
       "      <th>Situacao</th>\n",
       "    </tr>\n",
       "  </thead>\n",
       "  <tbody>\n",
       "    <tr>\n",
       "      <th>0</th>\n",
       "      <td>1</td>\n",
       "      <td>2008-09-12 00:00:00</td>\n",
       "      <td>2010-01-01 00:00:00</td>\n",
       "      <td>2010-12-31 00:00:00</td>\n",
       "      <td>E63</td>\n",
       "    </tr>\n",
       "    <tr>\n",
       "      <th>1</th>\n",
       "      <td>2</td>\n",
       "      <td>2008-09-12 00:00:00</td>\n",
       "      <td>NaN</td>\n",
       "      <td>NaN</td>\n",
       "      <td>G43</td>\n",
       "    </tr>\n",
       "    <tr>\n",
       "      <th>2</th>\n",
       "      <td>3</td>\n",
       "      <td>2008-09-12 00:00:00</td>\n",
       "      <td>NaN</td>\n",
       "      <td>NaN</td>\n",
       "      <td>K00</td>\n",
       "    </tr>\n",
       "    <tr>\n",
       "      <th>3</th>\n",
       "      <td>4</td>\n",
       "      <td>2008-09-03 00:00:00</td>\n",
       "      <td>NaN</td>\n",
       "      <td>NaN</td>\n",
       "      <td>E25</td>\n",
       "    </tr>\n",
       "    <tr>\n",
       "      <th>4</th>\n",
       "      <td>5</td>\n",
       "      <td>2008-09-12 00:00:00</td>\n",
       "      <td>NaN</td>\n",
       "      <td>NaN</td>\n",
       "      <td>E36</td>\n",
       "    </tr>\n",
       "  </tbody>\n",
       "</table>\n",
       "</div>"
      ],
      "text/plain": [
       "   IdPRONAC          DtProtocolo     DtInicioExecucao        DtFimExecucao  \\\n",
       "0         1  2008-09-12 00:00:00  2010-01-01 00:00:00  2010-12-31 00:00:00   \n",
       "1         2  2008-09-12 00:00:00                  NaN                  NaN   \n",
       "2         3  2008-09-12 00:00:00                  NaN                  NaN   \n",
       "3         4  2008-09-03 00:00:00                  NaN                  NaN   \n",
       "4         5  2008-09-12 00:00:00                  NaN                  NaN   \n",
       "\n",
       "  Situacao  \n",
       "0      E63  \n",
       "1      G43  \n",
       "2      K00  \n",
       "3      E25  \n",
       "4      E36  "
      ]
     },
     "metadata": {},
     "output_type": "display_data"
    }
   ],
   "source": [
    "cols = ['IdPRONAC', 'DtProtocolo', 'DtInicioExecucao', 'DtFimExecucao', 'Situacao']\n",
    "projects_csv = os.path.join(DATA_FOLDER, 'projetos.csv')\n",
    "\n",
    "projects = Projects(projects_csv)\n",
    "\n",
    "df_projects = projects.data_frame.filter(items = cols)\n",
    "display(df_projects.head())"
   ]
  },
  {
   "cell_type": "markdown",
   "metadata": {},
   "source": [
    "## Data na qual esse notebook foi executado"
   ]
  },
  {
   "cell_type": "code",
   "execution_count": 4,
   "metadata": {},
   "outputs": [
    {
     "data": {
      "text/plain": [
       "'25-05-2018 10:34:29'"
      ]
     },
     "metadata": {},
     "output_type": "display_data"
    }
   ],
   "source": [
    "current_date = time.strftime(\"%Y-%m-%d %H:%M:%S\")\n",
    "\n",
    "display(time.strftime(\"%d-%m-%Y %H:%M:%S\"))"
   ]
  },
  {
   "cell_type": "markdown",
   "metadata": {},
   "source": [
    "## Período da análise"
   ]
  },
  {
   "cell_type": "markdown",
   "metadata": {},
   "source": [
    "Serão analizados os projetos criados apartir de 2009"
   ]
  },
  {
   "cell_type": "code",
   "execution_count": 30,
   "metadata": {},
   "outputs": [],
   "source": [
    "year = 2009\n",
    "\n",
    "df_projects = df_projects[df_projects['DtProtocolo'] >= '{}-01-01'.format(year)]"
   ]
  },
  {
   "cell_type": "markdown",
   "metadata": {},
   "source": [
    "## Situações que indicam que um projeto foi encerrado"
   ]
  },
  {
   "cell_type": "code",
   "execution_count": 45,
   "metadata": {},
   "outputs": [],
   "source": [
    "end_situations = ['A09', 'A13', 'A14', 'A16', 'A17', 'A18', 'A20', 'A23', 'A24', 'A26', 'A40', 'A41',\n",
    "                  'A42', 'C09', 'D18', 'E04', 'E09', 'E36', 'E47', 'E49', 'E63', 'E64', 'E65', 'G16', 'G25',\n",
    "                  'G26', 'G29', 'G30', 'G56', 'K00', 'K01', 'K02', 'L01', 'L02', 'L03', 'L04', 'L05', \n",
    "                  'L06', 'L08', 'L09', 'L10', 'L11']"
   ]
  },
  {
   "cell_type": "markdown",
   "metadata": {},
   "source": [
    "## Identificando projetos na etapa de Admissibilidade"
   ]
  },
  {
   "cell_type": "markdown",
   "metadata": {},
   "source": [
    "### Preparando filtros\n",
    "\n",
    "Para identificar se um projeto está na etapa de admissibilidade será verificado as seguintes informações\n",
    "\n",
    "1. A data de inicio de execução de um projeto deve ser posterior a data atual.\n",
    "2. O projeto não pode ter uma situação que indica que ele já foi finalizado."
   ]
  },
  {
   "cell_type": "markdown",
   "metadata": {},
   "source": [
    "**Filtro 1:** A data de inicio de execução de um projeto deve ser posterior a data atual."
   ]
  },
  {
   "cell_type": "code",
   "execution_count": 32,
   "metadata": {},
   "outputs": [],
   "source": [
    "filter_start_execution_bigger_than_currentdate = df_projects['DtInicioExecucao'] > current_date"
   ]
  },
  {
   "cell_type": "markdown",
   "metadata": {},
   "source": [
    "**Filtro 2:** O projeto não pode ter uma situação que indica que ele já foi finalizado."
   ]
  },
  {
   "cell_type": "code",
   "execution_count": 33,
   "metadata": {},
   "outputs": [],
   "source": [
    "filter_not_have_end_situation = ~df_projects['Situacao'].isin(end_situations)"
   ]
  },
  {
   "cell_type": "markdown",
   "metadata": {},
   "source": [
    "O filtro de projetos na etapa de admissibilidade é a junção dos filtros anteriores"
   ]
  },
  {
   "cell_type": "code",
   "execution_count": 34,
   "metadata": {},
   "outputs": [],
   "source": [
    "filter_admissibility = (filter_start_execution_bigger_than_currentdate &\n",
    "                        filter_not_have_end_situation)"
   ]
  },
  {
   "cell_type": "markdown",
   "metadata": {},
   "source": [
    "**Quantidade de projetos na fase de Admissibilidade**"
   ]
  },
  {
   "cell_type": "code",
   "execution_count": 35,
   "metadata": {},
   "outputs": [
    {
     "data": {
      "text/plain": [
       "'Nº de projetos: 457'"
      ]
     },
     "metadata": {},
     "output_type": "display_data"
    }
   ],
   "source": [
    "df_projects_admissibility = df_projects[filter_admissibility]\n",
    "\n",
    "display(\"Nº de projetos: {}\".format(len(df_projects_admissibility)))"
   ]
  },
  {
   "cell_type": "markdown",
   "metadata": {},
   "source": [
    "## Identificando projetos na etapa de Execução/Captação"
   ]
  },
  {
   "cell_type": "markdown",
   "metadata": {},
   "source": [
    "Segundo as informações passadas pelo pessoal do Ministério, a etapa de execução e captação ocorrem juntas, logo será apenas utilizado o nome \"fase de execução\""
   ]
  },
  {
   "cell_type": "markdown",
   "metadata": {},
   "source": [
    "### Preparando filtros\n",
    "\n",
    "Para identificar se um projeto está na etapa de execução será verificado as seguintes informações\n",
    "\n",
    "1. A data de inicio de execução de um projeto deve ser anterior a data atual.\n",
    "2. A data de fim de execução de um projeto deve ser posterior a data atual.\n",
    "3. O projeto não pode ter uma situação que indica que ele já foi finalizado."
   ]
  },
  {
   "cell_type": "markdown",
   "metadata": {},
   "source": [
    "**Filtro 1:** A data de inicio de execução de um projeto deve ser anterior a data atual."
   ]
  },
  {
   "cell_type": "code",
   "execution_count": 36,
   "metadata": {},
   "outputs": [],
   "source": [
    "filter_start_execution_before_than_currentdate = df_projects['DtInicioExecucao'] < current_date"
   ]
  },
  {
   "cell_type": "markdown",
   "metadata": {},
   "source": [
    "**Filtro 2:** A data de fim de execução de um projeto deve ser posterior a data atual."
   ]
  },
  {
   "cell_type": "code",
   "execution_count": 37,
   "metadata": {},
   "outputs": [],
   "source": [
    "filter_end_execution_after_than_currentdate = df_projects['DtFimExecucao'] > current_date"
   ]
  },
  {
   "cell_type": "markdown",
   "metadata": {},
   "source": [
    "**Filtro 3:** O projeto não pode ter uma situação que indica que ele já foi finalizado."
   ]
  },
  {
   "cell_type": "code",
   "execution_count": 38,
   "metadata": {},
   "outputs": [],
   "source": [
    "filter_not_have_end_situation = ~df_projects['Situacao'].isin(end_situations)"
   ]
  },
  {
   "cell_type": "markdown",
   "metadata": {},
   "source": [
    "O filtro de projetos na etapa de execução é a junção dos filtros anteriores"
   ]
  },
  {
   "cell_type": "code",
   "execution_count": 39,
   "metadata": {},
   "outputs": [],
   "source": [
    "filter_execution = (filter_start_execution_before_than_currentdate &\n",
    "                    filter_end_execution_after_than_currentdate &\n",
    "                    filter_not_have_end_situation)"
   ]
  },
  {
   "cell_type": "markdown",
   "metadata": {},
   "source": [
    "**Quantidade de projetos na fase de Execução**"
   ]
  },
  {
   "cell_type": "code",
   "execution_count": 40,
   "metadata": {
    "scrolled": true
   },
   "outputs": [
    {
     "data": {
      "text/plain": [
       "'Nº de projetos: 7472'"
      ]
     },
     "metadata": {},
     "output_type": "display_data"
    }
   ],
   "source": [
    "df_projects_execution = df_projects[filter_execution]\n",
    "\n",
    "display(\"Nº de projetos: {}\".format(len(df_projects_execution)))\n",
    "\n",
    "# display(df_projects_execution.sort_values('DtFimExecucao'))"
   ]
  },
  {
   "cell_type": "markdown",
   "metadata": {},
   "source": [
    "## Identificando projetos na etapa de Prestação de Contas"
   ]
  },
  {
   "cell_type": "markdown",
   "metadata": {},
   "source": [
    "### Preparando filtros\n",
    "\n",
    "Para identificar se um projeto está na etapa de prestação de contas será verificado as seguintes informações\n",
    "\n",
    "1. A data de fim de execução de um projeto deve ser anterior a data atual.\n",
    "2. O projeto não pode ter uma situação que indica que ele já foi finalizado."
   ]
  },
  {
   "cell_type": "markdown",
   "metadata": {},
   "source": [
    "**Filtro 1:** A data de fim de execução de um projeto deve ser anterior a data atual."
   ]
  },
  {
   "cell_type": "code",
   "execution_count": 41,
   "metadata": {},
   "outputs": [],
   "source": [
    "filter_end_execution_before_than_currentdate = df_projects['DtFimExecucao'] < current_date"
   ]
  },
  {
   "cell_type": "markdown",
   "metadata": {},
   "source": [
    "**Filtro 3:** O projeto não pode ter uma situação que indica que ele já foi finalizado."
   ]
  },
  {
   "cell_type": "code",
   "execution_count": 46,
   "metadata": {},
   "outputs": [],
   "source": [
    "filter_not_have_end_situation = ~df_projects['Situacao'].isin(end_situations)"
   ]
  },
  {
   "cell_type": "markdown",
   "metadata": {},
   "source": [
    "O filtro de projetos na etapa de execução é a junção dos filtros anteriores"
   ]
  },
  {
   "cell_type": "code",
   "execution_count": 47,
   "metadata": {},
   "outputs": [],
   "source": [
    "filter_accountability = (filter_end_execution_before_than_currentdate &\n",
    "                         filter_not_have_end_situation)"
   ]
  },
  {
   "cell_type": "markdown",
   "metadata": {},
   "source": [
    "**Quantidade de projetos na fase de Prestação de Contas**"
   ]
  },
  {
   "cell_type": "code",
   "execution_count": 48,
   "metadata": {},
   "outputs": [
    {
     "data": {
      "text/plain": [
       "'Nº de projetos: 17091'"
      ]
     },
     "metadata": {},
     "output_type": "display_data"
    },
    {
     "data": {
      "text/html": [
       "<div>\n",
       "<style scoped>\n",
       "    .dataframe tbody tr th:only-of-type {\n",
       "        vertical-align: middle;\n",
       "    }\n",
       "\n",
       "    .dataframe tbody tr th {\n",
       "        vertical-align: top;\n",
       "    }\n",
       "\n",
       "    .dataframe thead th {\n",
       "        text-align: right;\n",
       "    }\n",
       "</style>\n",
       "<table border=\"1\" class=\"dataframe\">\n",
       "  <thead>\n",
       "    <tr style=\"text-align: right;\">\n",
       "      <th></th>\n",
       "      <th>IdPRONAC</th>\n",
       "      <th>DtProtocolo</th>\n",
       "      <th>DtInicioExecucao</th>\n",
       "      <th>DtFimExecucao</th>\n",
       "      <th>Situacao</th>\n",
       "    </tr>\n",
       "  </thead>\n",
       "  <tbody>\n",
       "    <tr>\n",
       "      <th>112310</th>\n",
       "      <td>112356</td>\n",
       "      <td>2009-05-08 12:20:33</td>\n",
       "      <td>2009-07-08 00:00:00</td>\n",
       "      <td>2009-01-31 00:00:00</td>\n",
       "      <td>E24</td>\n",
       "    </tr>\n",
       "    <tr>\n",
       "      <th>111413</th>\n",
       "      <td>111438</td>\n",
       "      <td>2009-03-26 10:02:15</td>\n",
       "      <td>2009-05-01 00:00:00</td>\n",
       "      <td>2009-02-28 00:00:00</td>\n",
       "      <td>E68</td>\n",
       "    </tr>\n",
       "    <tr>\n",
       "      <th>114181</th>\n",
       "      <td>114255</td>\n",
       "      <td>2009-06-29 15:39:07</td>\n",
       "      <td>2009-09-01 00:00:00</td>\n",
       "      <td>2009-03-01 00:00:00</td>\n",
       "      <td>E19</td>\n",
       "    </tr>\n",
       "    <tr>\n",
       "      <th>111313</th>\n",
       "      <td>111338</td>\n",
       "      <td>2009-03-13 11:02:38</td>\n",
       "      <td>2009-04-30 00:00:00</td>\n",
       "      <td>2009-04-30 00:00:00</td>\n",
       "      <td>G17</td>\n",
       "    </tr>\n",
       "    <tr>\n",
       "      <th>111240</th>\n",
       "      <td>111265</td>\n",
       "      <td>2009-02-27 11:43:42</td>\n",
       "      <td>2009-05-19 00:00:00</td>\n",
       "      <td>2009-06-15 00:00:00</td>\n",
       "      <td>E19</td>\n",
       "    </tr>\n",
       "    <tr>\n",
       "      <th>111397</th>\n",
       "      <td>111422</td>\n",
       "      <td>2009-03-24 17:14:17</td>\n",
       "      <td>2009-06-05 00:00:00</td>\n",
       "      <td>2009-06-29 00:00:00</td>\n",
       "      <td>E19</td>\n",
       "    </tr>\n",
       "    <tr>\n",
       "      <th>111298</th>\n",
       "      <td>111323</td>\n",
       "      <td>2009-03-10 14:57:38</td>\n",
       "      <td>2009-05-04 00:00:00</td>\n",
       "      <td>2009-06-30 00:00:00</td>\n",
       "      <td>D36</td>\n",
       "    </tr>\n",
       "    <tr>\n",
       "      <th>111544</th>\n",
       "      <td>111569</td>\n",
       "      <td>2009-04-06 11:59:25</td>\n",
       "      <td>2009-07-08 00:00:00</td>\n",
       "      <td>2009-07-19 00:00:00</td>\n",
       "      <td>E24</td>\n",
       "    </tr>\n",
       "    <tr>\n",
       "      <th>111670</th>\n",
       "      <td>111695</td>\n",
       "      <td>2009-04-14 15:32:36</td>\n",
       "      <td>2009-07-22 00:00:00</td>\n",
       "      <td>2009-07-26 00:00:00</td>\n",
       "      <td>E19</td>\n",
       "    </tr>\n",
       "    <tr>\n",
       "      <th>111169</th>\n",
       "      <td>111194</td>\n",
       "      <td>2009-02-11 09:27:46</td>\n",
       "      <td>2009-05-01 00:00:00</td>\n",
       "      <td>2009-07-30 00:00:00</td>\n",
       "      <td>D36</td>\n",
       "    </tr>\n",
       "    <tr>\n",
       "      <th>112430</th>\n",
       "      <td>112479</td>\n",
       "      <td>2009-05-13 09:05:52</td>\n",
       "      <td>2009-07-28 00:00:00</td>\n",
       "      <td>2009-07-31 00:00:00</td>\n",
       "      <td>E19</td>\n",
       "    </tr>\n",
       "    <tr>\n",
       "      <th>111318</th>\n",
       "      <td>111343</td>\n",
       "      <td>2009-03-13 15:00:25</td>\n",
       "      <td>2009-07-03 00:00:00</td>\n",
       "      <td>2009-08-02 00:00:00</td>\n",
       "      <td>E19</td>\n",
       "    </tr>\n",
       "    <tr>\n",
       "      <th>111336</th>\n",
       "      <td>111361</td>\n",
       "      <td>2009-03-18 09:53:40</td>\n",
       "      <td>2009-05-27 00:00:00</td>\n",
       "      <td>2009-08-02 00:00:00</td>\n",
       "      <td>E27</td>\n",
       "    </tr>\n",
       "    <tr>\n",
       "      <th>111221</th>\n",
       "      <td>111246</td>\n",
       "      <td>2009-02-26 17:42:50</td>\n",
       "      <td>2009-05-20 00:00:00</td>\n",
       "      <td>2009-08-05 00:00:00</td>\n",
       "      <td>G17</td>\n",
       "    </tr>\n",
       "    <tr>\n",
       "      <th>111146</th>\n",
       "      <td>111171</td>\n",
       "      <td>2009-02-09 11:35:54</td>\n",
       "      <td>2009-04-09 00:00:00</td>\n",
       "      <td>2009-08-09 00:00:00</td>\n",
       "      <td>E24</td>\n",
       "    </tr>\n",
       "    <tr>\n",
       "      <th>111361</th>\n",
       "      <td>111386</td>\n",
       "      <td>2009-03-19 10:21:07</td>\n",
       "      <td>2009-08-01 00:00:00</td>\n",
       "      <td>2009-08-15 00:00:00</td>\n",
       "      <td>E19</td>\n",
       "    </tr>\n",
       "    <tr>\n",
       "      <th>112963</th>\n",
       "      <td>113016</td>\n",
       "      <td>2009-05-26 16:00:10</td>\n",
       "      <td>2009-08-03 00:00:00</td>\n",
       "      <td>2009-08-15 00:00:00</td>\n",
       "      <td>G17</td>\n",
       "    </tr>\n",
       "    <tr>\n",
       "      <th>112669</th>\n",
       "      <td>112722</td>\n",
       "      <td>2009-05-19 10:20:33</td>\n",
       "      <td>2009-08-13 00:00:00</td>\n",
       "      <td>2009-08-17 00:00:00</td>\n",
       "      <td>G17</td>\n",
       "    </tr>\n",
       "    <tr>\n",
       "      <th>112066</th>\n",
       "      <td>112110</td>\n",
       "      <td>2009-04-30 15:44:51</td>\n",
       "      <td>2009-07-15 00:00:00</td>\n",
       "      <td>2009-08-21 00:00:00</td>\n",
       "      <td>G17</td>\n",
       "    </tr>\n",
       "    <tr>\n",
       "      <th>113221</th>\n",
       "      <td>113285</td>\n",
       "      <td>2009-06-02 16:35:08</td>\n",
       "      <td>2009-08-17 00:00:00</td>\n",
       "      <td>2009-08-21 00:00:00</td>\n",
       "      <td>G17</td>\n",
       "    </tr>\n",
       "    <tr>\n",
       "      <th>111645</th>\n",
       "      <td>111670</td>\n",
       "      <td>2009-04-13 16:52:58</td>\n",
       "      <td>2009-08-06 00:00:00</td>\n",
       "      <td>2009-08-23 00:00:00</td>\n",
       "      <td>E27</td>\n",
       "    </tr>\n",
       "    <tr>\n",
       "      <th>111296</th>\n",
       "      <td>111321</td>\n",
       "      <td>2009-03-10 14:07:15</td>\n",
       "      <td>2009-08-22 00:00:00</td>\n",
       "      <td>2009-08-29 00:00:00</td>\n",
       "      <td>E19</td>\n",
       "    </tr>\n",
       "    <tr>\n",
       "      <th>111156</th>\n",
       "      <td>111181</td>\n",
       "      <td>2009-02-10 10:21:47</td>\n",
       "      <td>2009-05-30 00:00:00</td>\n",
       "      <td>2009-08-30 00:00:00</td>\n",
       "      <td>E24</td>\n",
       "    </tr>\n",
       "    <tr>\n",
       "      <th>112687</th>\n",
       "      <td>112740</td>\n",
       "      <td>2009-05-19 11:53:46</td>\n",
       "      <td>2009-08-10 00:00:00</td>\n",
       "      <td>2009-08-30 00:00:00</td>\n",
       "      <td>E19</td>\n",
       "    </tr>\n",
       "    <tr>\n",
       "      <th>112861</th>\n",
       "      <td>112914</td>\n",
       "      <td>2009-05-25 10:40:37</td>\n",
       "      <td>2010-03-06 00:00:00</td>\n",
       "      <td>2009-09-06 00:00:00</td>\n",
       "      <td>G17</td>\n",
       "    </tr>\n",
       "    <tr>\n",
       "      <th>113229</th>\n",
       "      <td>113293</td>\n",
       "      <td>2009-06-02 17:04:46</td>\n",
       "      <td>2009-09-03 00:00:00</td>\n",
       "      <td>2009-09-07 00:00:00</td>\n",
       "      <td>G17</td>\n",
       "    </tr>\n",
       "    <tr>\n",
       "      <th>112518</th>\n",
       "      <td>112567</td>\n",
       "      <td>2009-05-14 10:19:42</td>\n",
       "      <td>2009-08-21 00:00:00</td>\n",
       "      <td>2009-09-08 00:00:00</td>\n",
       "      <td>G17</td>\n",
       "    </tr>\n",
       "    <tr>\n",
       "      <th>112175</th>\n",
       "      <td>112219</td>\n",
       "      <td>2009-05-06 09:40:59</td>\n",
       "      <td>2009-09-04 00:00:00</td>\n",
       "      <td>2009-09-12 00:00:00</td>\n",
       "      <td>E19</td>\n",
       "    </tr>\n",
       "    <tr>\n",
       "      <th>113252</th>\n",
       "      <td>113316</td>\n",
       "      <td>2009-06-03 10:12:33</td>\n",
       "      <td>2009-09-06 00:00:00</td>\n",
       "      <td>2009-09-12 00:00:00</td>\n",
       "      <td>E24</td>\n",
       "    </tr>\n",
       "    <tr>\n",
       "      <th>115110</th>\n",
       "      <td>115201</td>\n",
       "      <td>2009-07-29 16:52:23</td>\n",
       "      <td>2009-09-03 00:00:00</td>\n",
       "      <td>2009-09-13 00:00:00</td>\n",
       "      <td>G17</td>\n",
       "    </tr>\n",
       "    <tr>\n",
       "      <th>...</th>\n",
       "      <td>...</td>\n",
       "      <td>...</td>\n",
       "      <td>...</td>\n",
       "      <td>...</td>\n",
       "      <td>...</td>\n",
       "    </tr>\n",
       "    <tr>\n",
       "      <th>196111</th>\n",
       "      <td>202285</td>\n",
       "      <td>2016-03-10 11:17:03</td>\n",
       "      <td>2017-05-01 00:00:00</td>\n",
       "      <td>2018-05-01 00:00:00</td>\n",
       "      <td>E16</td>\n",
       "    </tr>\n",
       "    <tr>\n",
       "      <th>200116</th>\n",
       "      <td>207562</td>\n",
       "      <td>2016-11-22 20:30:35</td>\n",
       "      <td>2017-03-01 10:59:20</td>\n",
       "      <td>2018-05-01 00:00:00</td>\n",
       "      <td>E13</td>\n",
       "    </tr>\n",
       "    <tr>\n",
       "      <th>195862</th>\n",
       "      <td>202025</td>\n",
       "      <td>2016-02-19 17:07:36</td>\n",
       "      <td>2016-12-14 16:43:36</td>\n",
       "      <td>2018-05-01 13:57:31</td>\n",
       "      <td>E12</td>\n",
       "    </tr>\n",
       "    <tr>\n",
       "      <th>194950</th>\n",
       "      <td>201065</td>\n",
       "      <td>2015-12-16 12:38:41</td>\n",
       "      <td>2016-05-01 19:37:18</td>\n",
       "      <td>2018-05-01 19:37:18</td>\n",
       "      <td>D14</td>\n",
       "    </tr>\n",
       "    <tr>\n",
       "      <th>193666</th>\n",
       "      <td>199717</td>\n",
       "      <td>2015-10-29 13:54:53</td>\n",
       "      <td>2015-11-25 16:02:56</td>\n",
       "      <td>2018-05-02 00:00:00</td>\n",
       "      <td>E13</td>\n",
       "    </tr>\n",
       "    <tr>\n",
       "      <th>207940</th>\n",
       "      <td>215699</td>\n",
       "      <td>2017-11-23 09:28:52</td>\n",
       "      <td>2017-12-08 16:06:43</td>\n",
       "      <td>2018-05-03 00:00:00</td>\n",
       "      <td>E12</td>\n",
       "    </tr>\n",
       "    <tr>\n",
       "      <th>200322</th>\n",
       "      <td>207798</td>\n",
       "      <td>2016-12-02 18:27:58</td>\n",
       "      <td>2017-02-20 13:38:02</td>\n",
       "      <td>2018-05-04 00:00:00</td>\n",
       "      <td>E13</td>\n",
       "    </tr>\n",
       "    <tr>\n",
       "      <th>194928</th>\n",
       "      <td>201043</td>\n",
       "      <td>2015-12-11 08:24:05</td>\n",
       "      <td>2016-04-14 13:17:17</td>\n",
       "      <td>2018-05-05 00:00:00</td>\n",
       "      <td>E10</td>\n",
       "    </tr>\n",
       "    <tr>\n",
       "      <th>200985</th>\n",
       "      <td>208552</td>\n",
       "      <td>2017-02-09 19:04:25</td>\n",
       "      <td>2017-05-05 23:23:52</td>\n",
       "      <td>2018-05-05 23:23:52</td>\n",
       "      <td>D14</td>\n",
       "    </tr>\n",
       "    <tr>\n",
       "      <th>195073</th>\n",
       "      <td>201190</td>\n",
       "      <td>2015-12-19 16:43:05</td>\n",
       "      <td>2016-05-06 12:42:39</td>\n",
       "      <td>2018-05-06 00:00:00</td>\n",
       "      <td>E10</td>\n",
       "    </tr>\n",
       "    <tr>\n",
       "      <th>196735</th>\n",
       "      <td>202956</td>\n",
       "      <td>2016-04-14 10:44:00</td>\n",
       "      <td>2016-05-23 00:00:00</td>\n",
       "      <td>2018-05-07 00:00:00</td>\n",
       "      <td>E16</td>\n",
       "    </tr>\n",
       "    <tr>\n",
       "      <th>201688</th>\n",
       "      <td>209364</td>\n",
       "      <td>2017-03-28 16:24:32</td>\n",
       "      <td>2017-05-31 10:38:16</td>\n",
       "      <td>2018-05-07 11:44:10</td>\n",
       "      <td>E10</td>\n",
       "    </tr>\n",
       "    <tr>\n",
       "      <th>210204</th>\n",
       "      <td>217964</td>\n",
       "      <td>2018-02-15 13:21:15</td>\n",
       "      <td>2018-05-05 15:21:18</td>\n",
       "      <td>2018-05-07 15:21:18</td>\n",
       "      <td>E10</td>\n",
       "    </tr>\n",
       "    <tr>\n",
       "      <th>195010</th>\n",
       "      <td>201126</td>\n",
       "      <td>2015-12-19 15:56:54</td>\n",
       "      <td>2016-04-20 14:01:13</td>\n",
       "      <td>2018-05-08 00:00:00</td>\n",
       "      <td>E10</td>\n",
       "    </tr>\n",
       "    <tr>\n",
       "      <th>201818</th>\n",
       "      <td>209544</td>\n",
       "      <td>2017-04-06 10:48:33</td>\n",
       "      <td>2017-08-01 11:47:04</td>\n",
       "      <td>2018-05-08 11:47:04</td>\n",
       "      <td>D14</td>\n",
       "    </tr>\n",
       "    <tr>\n",
       "      <th>169476</th>\n",
       "      <td>171357</td>\n",
       "      <td>2013-12-04 17:12:02</td>\n",
       "      <td>2014-06-18 00:00:00</td>\n",
       "      <td>2018-05-09 00:00:00</td>\n",
       "      <td>E13</td>\n",
       "    </tr>\n",
       "    <tr>\n",
       "      <th>203286</th>\n",
       "      <td>211043</td>\n",
       "      <td>2017-09-06 08:01:06</td>\n",
       "      <td>2017-12-11 16:58:10</td>\n",
       "      <td>2018-05-11 16:58:10</td>\n",
       "      <td>E12</td>\n",
       "    </tr>\n",
       "    <tr>\n",
       "      <th>199924</th>\n",
       "      <td>207346</td>\n",
       "      <td>2016-11-14 21:30:51</td>\n",
       "      <td>2017-02-12 10:23:59</td>\n",
       "      <td>2018-05-12 10:23:59</td>\n",
       "      <td>E16</td>\n",
       "    </tr>\n",
       "    <tr>\n",
       "      <th>184174</th>\n",
       "      <td>189658</td>\n",
       "      <td>2015-01-06 14:16:15</td>\n",
       "      <td>2015-03-12 00:00:00</td>\n",
       "      <td>2018-05-13 00:00:00</td>\n",
       "      <td>E12</td>\n",
       "    </tr>\n",
       "    <tr>\n",
       "      <th>201025</th>\n",
       "      <td>208593</td>\n",
       "      <td>2017-02-13 14:42:44</td>\n",
       "      <td>2017-05-14 19:06:20</td>\n",
       "      <td>2018-05-13 19:06:20</td>\n",
       "      <td>D14</td>\n",
       "    </tr>\n",
       "    <tr>\n",
       "      <th>201188</th>\n",
       "      <td>208773</td>\n",
       "      <td>2017-02-22 15:36:21</td>\n",
       "      <td>2017-06-01 13:10:31</td>\n",
       "      <td>2018-05-14 09:23:58</td>\n",
       "      <td>E12</td>\n",
       "    </tr>\n",
       "    <tr>\n",
       "      <th>208921</th>\n",
       "      <td>216680</td>\n",
       "      <td>2017-12-12 11:56:33</td>\n",
       "      <td>2018-01-01 09:41:10</td>\n",
       "      <td>2018-05-14 09:41:10</td>\n",
       "      <td>E12</td>\n",
       "    </tr>\n",
       "    <tr>\n",
       "      <th>210199</th>\n",
       "      <td>217959</td>\n",
       "      <td>2018-02-14 18:04:13</td>\n",
       "      <td>2018-04-24 18:12:17</td>\n",
       "      <td>2018-05-14 18:12:17</td>\n",
       "      <td>D03</td>\n",
       "    </tr>\n",
       "    <tr>\n",
       "      <th>201154</th>\n",
       "      <td>208737</td>\n",
       "      <td>2017-02-21 16:39:28</td>\n",
       "      <td>2017-05-15 18:43:55</td>\n",
       "      <td>2018-05-16 18:43:55</td>\n",
       "      <td>D14</td>\n",
       "    </tr>\n",
       "    <tr>\n",
       "      <th>200678</th>\n",
       "      <td>208209</td>\n",
       "      <td>2017-01-18 18:47:43</td>\n",
       "      <td>2017-04-17 18:11:21</td>\n",
       "      <td>2018-05-17 18:11:21</td>\n",
       "      <td>B14</td>\n",
       "    </tr>\n",
       "    <tr>\n",
       "      <th>196525</th>\n",
       "      <td>202732</td>\n",
       "      <td>2016-03-30 15:38:02</td>\n",
       "      <td>2016-05-18 16:22:20</td>\n",
       "      <td>2018-05-18 00:00:00</td>\n",
       "      <td>E10</td>\n",
       "    </tr>\n",
       "    <tr>\n",
       "      <th>199506</th>\n",
       "      <td>206883</td>\n",
       "      <td>2016-10-21 10:33:33</td>\n",
       "      <td>2017-01-21 19:10:36</td>\n",
       "      <td>2018-05-18 19:10:36</td>\n",
       "      <td>E16</td>\n",
       "    </tr>\n",
       "    <tr>\n",
       "      <th>204341</th>\n",
       "      <td>212098</td>\n",
       "      <td>2017-09-08 11:22:10</td>\n",
       "      <td>2018-01-26 15:40:08</td>\n",
       "      <td>2018-05-19 15:40:08</td>\n",
       "      <td>E10</td>\n",
       "    </tr>\n",
       "    <tr>\n",
       "      <th>189148</th>\n",
       "      <td>195093</td>\n",
       "      <td>2015-09-16 08:55:35</td>\n",
       "      <td>2015-12-02 00:00:00</td>\n",
       "      <td>2018-05-20 00:00:00</td>\n",
       "      <td>E13</td>\n",
       "    </tr>\n",
       "    <tr>\n",
       "      <th>196097</th>\n",
       "      <td>202269</td>\n",
       "      <td>2016-03-09 17:14:27</td>\n",
       "      <td>2016-04-27 15:03:22</td>\n",
       "      <td>2018-05-25 00:00:00</td>\n",
       "      <td>E10</td>\n",
       "    </tr>\n",
       "  </tbody>\n",
       "</table>\n",
       "<p>17091 rows × 5 columns</p>\n",
       "</div>"
      ],
      "text/plain": [
       "        IdPRONAC          DtProtocolo     DtInicioExecucao  \\\n",
       "112310    112356  2009-05-08 12:20:33  2009-07-08 00:00:00   \n",
       "111413    111438  2009-03-26 10:02:15  2009-05-01 00:00:00   \n",
       "114181    114255  2009-06-29 15:39:07  2009-09-01 00:00:00   \n",
       "111313    111338  2009-03-13 11:02:38  2009-04-30 00:00:00   \n",
       "111240    111265  2009-02-27 11:43:42  2009-05-19 00:00:00   \n",
       "111397    111422  2009-03-24 17:14:17  2009-06-05 00:00:00   \n",
       "111298    111323  2009-03-10 14:57:38  2009-05-04 00:00:00   \n",
       "111544    111569  2009-04-06 11:59:25  2009-07-08 00:00:00   \n",
       "111670    111695  2009-04-14 15:32:36  2009-07-22 00:00:00   \n",
       "111169    111194  2009-02-11 09:27:46  2009-05-01 00:00:00   \n",
       "112430    112479  2009-05-13 09:05:52  2009-07-28 00:00:00   \n",
       "111318    111343  2009-03-13 15:00:25  2009-07-03 00:00:00   \n",
       "111336    111361  2009-03-18 09:53:40  2009-05-27 00:00:00   \n",
       "111221    111246  2009-02-26 17:42:50  2009-05-20 00:00:00   \n",
       "111146    111171  2009-02-09 11:35:54  2009-04-09 00:00:00   \n",
       "111361    111386  2009-03-19 10:21:07  2009-08-01 00:00:00   \n",
       "112963    113016  2009-05-26 16:00:10  2009-08-03 00:00:00   \n",
       "112669    112722  2009-05-19 10:20:33  2009-08-13 00:00:00   \n",
       "112066    112110  2009-04-30 15:44:51  2009-07-15 00:00:00   \n",
       "113221    113285  2009-06-02 16:35:08  2009-08-17 00:00:00   \n",
       "111645    111670  2009-04-13 16:52:58  2009-08-06 00:00:00   \n",
       "111296    111321  2009-03-10 14:07:15  2009-08-22 00:00:00   \n",
       "111156    111181  2009-02-10 10:21:47  2009-05-30 00:00:00   \n",
       "112687    112740  2009-05-19 11:53:46  2009-08-10 00:00:00   \n",
       "112861    112914  2009-05-25 10:40:37  2010-03-06 00:00:00   \n",
       "113229    113293  2009-06-02 17:04:46  2009-09-03 00:00:00   \n",
       "112518    112567  2009-05-14 10:19:42  2009-08-21 00:00:00   \n",
       "112175    112219  2009-05-06 09:40:59  2009-09-04 00:00:00   \n",
       "113252    113316  2009-06-03 10:12:33  2009-09-06 00:00:00   \n",
       "115110    115201  2009-07-29 16:52:23  2009-09-03 00:00:00   \n",
       "...          ...                  ...                  ...   \n",
       "196111    202285  2016-03-10 11:17:03  2017-05-01 00:00:00   \n",
       "200116    207562  2016-11-22 20:30:35  2017-03-01 10:59:20   \n",
       "195862    202025  2016-02-19 17:07:36  2016-12-14 16:43:36   \n",
       "194950    201065  2015-12-16 12:38:41  2016-05-01 19:37:18   \n",
       "193666    199717  2015-10-29 13:54:53  2015-11-25 16:02:56   \n",
       "207940    215699  2017-11-23 09:28:52  2017-12-08 16:06:43   \n",
       "200322    207798  2016-12-02 18:27:58  2017-02-20 13:38:02   \n",
       "194928    201043  2015-12-11 08:24:05  2016-04-14 13:17:17   \n",
       "200985    208552  2017-02-09 19:04:25  2017-05-05 23:23:52   \n",
       "195073    201190  2015-12-19 16:43:05  2016-05-06 12:42:39   \n",
       "196735    202956  2016-04-14 10:44:00  2016-05-23 00:00:00   \n",
       "201688    209364  2017-03-28 16:24:32  2017-05-31 10:38:16   \n",
       "210204    217964  2018-02-15 13:21:15  2018-05-05 15:21:18   \n",
       "195010    201126  2015-12-19 15:56:54  2016-04-20 14:01:13   \n",
       "201818    209544  2017-04-06 10:48:33  2017-08-01 11:47:04   \n",
       "169476    171357  2013-12-04 17:12:02  2014-06-18 00:00:00   \n",
       "203286    211043  2017-09-06 08:01:06  2017-12-11 16:58:10   \n",
       "199924    207346  2016-11-14 21:30:51  2017-02-12 10:23:59   \n",
       "184174    189658  2015-01-06 14:16:15  2015-03-12 00:00:00   \n",
       "201025    208593  2017-02-13 14:42:44  2017-05-14 19:06:20   \n",
       "201188    208773  2017-02-22 15:36:21  2017-06-01 13:10:31   \n",
       "208921    216680  2017-12-12 11:56:33  2018-01-01 09:41:10   \n",
       "210199    217959  2018-02-14 18:04:13  2018-04-24 18:12:17   \n",
       "201154    208737  2017-02-21 16:39:28  2017-05-15 18:43:55   \n",
       "200678    208209  2017-01-18 18:47:43  2017-04-17 18:11:21   \n",
       "196525    202732  2016-03-30 15:38:02  2016-05-18 16:22:20   \n",
       "199506    206883  2016-10-21 10:33:33  2017-01-21 19:10:36   \n",
       "204341    212098  2017-09-08 11:22:10  2018-01-26 15:40:08   \n",
       "189148    195093  2015-09-16 08:55:35  2015-12-02 00:00:00   \n",
       "196097    202269  2016-03-09 17:14:27  2016-04-27 15:03:22   \n",
       "\n",
       "              DtFimExecucao Situacao  \n",
       "112310  2009-01-31 00:00:00      E24  \n",
       "111413  2009-02-28 00:00:00      E68  \n",
       "114181  2009-03-01 00:00:00      E19  \n",
       "111313  2009-04-30 00:00:00      G17  \n",
       "111240  2009-06-15 00:00:00      E19  \n",
       "111397  2009-06-29 00:00:00      E19  \n",
       "111298  2009-06-30 00:00:00      D36  \n",
       "111544  2009-07-19 00:00:00      E24  \n",
       "111670  2009-07-26 00:00:00      E19  \n",
       "111169  2009-07-30 00:00:00      D36  \n",
       "112430  2009-07-31 00:00:00      E19  \n",
       "111318  2009-08-02 00:00:00      E19  \n",
       "111336  2009-08-02 00:00:00      E27  \n",
       "111221  2009-08-05 00:00:00      G17  \n",
       "111146  2009-08-09 00:00:00      E24  \n",
       "111361  2009-08-15 00:00:00      E19  \n",
       "112963  2009-08-15 00:00:00      G17  \n",
       "112669  2009-08-17 00:00:00      G17  \n",
       "112066  2009-08-21 00:00:00      G17  \n",
       "113221  2009-08-21 00:00:00      G17  \n",
       "111645  2009-08-23 00:00:00      E27  \n",
       "111296  2009-08-29 00:00:00      E19  \n",
       "111156  2009-08-30 00:00:00      E24  \n",
       "112687  2009-08-30 00:00:00      E19  \n",
       "112861  2009-09-06 00:00:00      G17  \n",
       "113229  2009-09-07 00:00:00      G17  \n",
       "112518  2009-09-08 00:00:00      G17  \n",
       "112175  2009-09-12 00:00:00      E19  \n",
       "113252  2009-09-12 00:00:00      E24  \n",
       "115110  2009-09-13 00:00:00      G17  \n",
       "...                     ...      ...  \n",
       "196111  2018-05-01 00:00:00      E16  \n",
       "200116  2018-05-01 00:00:00      E13  \n",
       "195862  2018-05-01 13:57:31      E12  \n",
       "194950  2018-05-01 19:37:18      D14  \n",
       "193666  2018-05-02 00:00:00      E13  \n",
       "207940  2018-05-03 00:00:00      E12  \n",
       "200322  2018-05-04 00:00:00      E13  \n",
       "194928  2018-05-05 00:00:00      E10  \n",
       "200985  2018-05-05 23:23:52      D14  \n",
       "195073  2018-05-06 00:00:00      E10  \n",
       "196735  2018-05-07 00:00:00      E16  \n",
       "201688  2018-05-07 11:44:10      E10  \n",
       "210204  2018-05-07 15:21:18      E10  \n",
       "195010  2018-05-08 00:00:00      E10  \n",
       "201818  2018-05-08 11:47:04      D14  \n",
       "169476  2018-05-09 00:00:00      E13  \n",
       "203286  2018-05-11 16:58:10      E12  \n",
       "199924  2018-05-12 10:23:59      E16  \n",
       "184174  2018-05-13 00:00:00      E12  \n",
       "201025  2018-05-13 19:06:20      D14  \n",
       "201188  2018-05-14 09:23:58      E12  \n",
       "208921  2018-05-14 09:41:10      E12  \n",
       "210199  2018-05-14 18:12:17      D03  \n",
       "201154  2018-05-16 18:43:55      D14  \n",
       "200678  2018-05-17 18:11:21      B14  \n",
       "196525  2018-05-18 00:00:00      E10  \n",
       "199506  2018-05-18 19:10:36      E16  \n",
       "204341  2018-05-19 15:40:08      E10  \n",
       "189148  2018-05-20 00:00:00      E13  \n",
       "196097  2018-05-25 00:00:00      E10  \n",
       "\n",
       "[17091 rows x 5 columns]"
      ]
     },
     "metadata": {},
     "output_type": "display_data"
    }
   ],
   "source": [
    "df_projects_accountability = df_projects[filter_accountability]\n",
    "\n",
    "display(\"Nº de projetos: {}\".format(len(df_projects_accountability)))\n",
    "\n",
    "display(df_projects_accountability.sort_values('DtFimExecucao'))"
   ]
  },
  {
   "cell_type": "code",
   "execution_count": null,
   "metadata": {},
   "outputs": [],
   "source": []
  }
 ],
 "metadata": {
  "kernelspec": {
   "display_name": "Python 3",
   "language": "python",
   "name": "python3"
  },
  "language_info": {
   "codemirror_mode": {
    "name": "ipython",
    "version": 3
   },
   "file_extension": ".py",
   "mimetype": "text/x-python",
   "name": "python",
   "nbconvert_exporter": "python",
   "pygments_lexer": "ipython3",
   "version": "3.6.5"
  }
 },
 "nbformat": 4,
 "nbformat_minor": 2
}
