{
 "cells": [
  {
   "cell_type": "markdown",
   "metadata": {},
   "source": [
    "**Reload modules when executing code**"
   ]
  },
  {
   "cell_type": "code",
   "execution_count": 13,
   "metadata": {},
   "outputs": [
    {
     "name": "stdout",
     "output_type": "stream",
     "text": [
      "The autoreload extension is already loaded. To reload it, use:\n",
      "  %reload_ext autoreload\n"
     ]
    }
   ],
   "source": [
    "%load_ext autoreload\n",
    "%autoreload 2"
   ]
  },
  {
   "cell_type": "markdown",
   "metadata": {},
   "source": [
    "**Importando dados**"
   ]
  },
  {
   "cell_type": "code",
   "execution_count": 14,
   "metadata": {},
   "outputs": [],
   "source": [
    "import os\n",
    "import sys\n",
    "import time\n",
    "import numpy as np\n",
    "import pandas as pd\n",
    "import matplotlib.pyplot as plt\n",
    "\n",
    "from salicml.utils.dates import Dates\n",
    "from salicml.models.projects import Projects\n",
    "\n",
    "PROJECT_ROOT = os.path.abspath(os.path.join(os.pardir, os.pardir))\n",
    "DATA_FOLDER = os.path.join(PROJECT_ROOT, 'data', 'raw')"
   ]
  },
  {
   "cell_type": "markdown",
   "metadata": {},
   "source": [
    "**Carregar a tabela de Projetos**"
   ]
  },
  {
   "cell_type": "code",
   "execution_count": 15,
   "metadata": {
    "scrolled": true
   },
   "outputs": [
    {
     "data": {
      "text/html": [
       "<div>\n",
       "<style scoped>\n",
       "    .dataframe tbody tr th:only-of-type {\n",
       "        vertical-align: middle;\n",
       "    }\n",
       "\n",
       "    .dataframe tbody tr th {\n",
       "        vertical-align: top;\n",
       "    }\n",
       "\n",
       "    .dataframe thead th {\n",
       "        text-align: right;\n",
       "    }\n",
       "</style>\n",
       "<table border=\"1\" class=\"dataframe\">\n",
       "  <thead>\n",
       "    <tr style=\"text-align: right;\">\n",
       "      <th></th>\n",
       "      <th>IdPRONAC</th>\n",
       "      <th>DtInicioExecucao</th>\n",
       "      <th>DtFimExecucao</th>\n",
       "    </tr>\n",
       "  </thead>\n",
       "  <tbody>\n",
       "    <tr>\n",
       "      <th>0</th>\n",
       "      <td>1</td>\n",
       "      <td>2010-01-01 00:00:00</td>\n",
       "      <td>2010-12-31 00:00:00</td>\n",
       "    </tr>\n",
       "    <tr>\n",
       "      <th>1</th>\n",
       "      <td>2</td>\n",
       "      <td>NaN</td>\n",
       "      <td>NaN</td>\n",
       "    </tr>\n",
       "    <tr>\n",
       "      <th>2</th>\n",
       "      <td>3</td>\n",
       "      <td>NaN</td>\n",
       "      <td>NaN</td>\n",
       "    </tr>\n",
       "    <tr>\n",
       "      <th>3</th>\n",
       "      <td>4</td>\n",
       "      <td>NaN</td>\n",
       "      <td>NaN</td>\n",
       "    </tr>\n",
       "    <tr>\n",
       "      <th>4</th>\n",
       "      <td>5</td>\n",
       "      <td>NaN</td>\n",
       "      <td>NaN</td>\n",
       "    </tr>\n",
       "  </tbody>\n",
       "</table>\n",
       "</div>"
      ],
      "text/plain": [
       "   IdPRONAC     DtInicioExecucao        DtFimExecucao\n",
       "0         1  2010-01-01 00:00:00  2010-12-31 00:00:00\n",
       "1         2                  NaN                  NaN\n",
       "2         3                  NaN                  NaN\n",
       "3         4                  NaN                  NaN\n",
       "4         5                  NaN                  NaN"
      ]
     },
     "metadata": {},
     "output_type": "display_data"
    }
   ],
   "source": [
    "cols = ['IdPRONAC', 'DtInicioExecucao', 'DtFimExecucao']\n",
    "projects_csv = os.path.join(DATA_FOLDER, 'projetos.csv')\n",
    "\n",
    "projects = Projects(projects_csv)\n",
    "\n",
    "df_projects = projects.get_data_frame_columns(cols)\n",
    "display(df_projects.head())"
   ]
  },
  {
   "cell_type": "markdown",
   "metadata": {},
   "source": [
    "**Projetos na etapa de Admissibilidade**"
   ]
  },
  {
   "cell_type": "code",
   "execution_count": 16,
   "metadata": {
    "scrolled": true
   },
   "outputs": [
    {
     "data": {
      "text/plain": [
       "'Projetos na etapa de Admissibilidade: 476'"
      ]
     },
     "metadata": {},
     "output_type": "display_data"
    },
    {
     "data": {
      "text/html": [
       "<div>\n",
       "<style scoped>\n",
       "    .dataframe tbody tr th:only-of-type {\n",
       "        vertical-align: middle;\n",
       "    }\n",
       "\n",
       "    .dataframe tbody tr th {\n",
       "        vertical-align: top;\n",
       "    }\n",
       "\n",
       "    .dataframe thead th {\n",
       "        text-align: right;\n",
       "    }\n",
       "</style>\n",
       "<table border=\"1\" class=\"dataframe\">\n",
       "  <thead>\n",
       "    <tr style=\"text-align: right;\">\n",
       "      <th></th>\n",
       "      <th>IdPRONAC</th>\n",
       "      <th>DtInicioExecucao</th>\n",
       "      <th>DtFimExecucao</th>\n",
       "    </tr>\n",
       "  </thead>\n",
       "  <tbody>\n",
       "    <tr>\n",
       "      <th>53776</th>\n",
       "      <td>53777</td>\n",
       "      <td>4201-04-25 00:00:00</td>\n",
       "      <td>NaN</td>\n",
       "    </tr>\n",
       "    <tr>\n",
       "      <th>63137</th>\n",
       "      <td>63138</td>\n",
       "      <td>4201-04-07 00:00:00</td>\n",
       "      <td>NaN</td>\n",
       "    </tr>\n",
       "    <tr>\n",
       "      <th>158959</th>\n",
       "      <td>160167</td>\n",
       "      <td>2113-03-01 00:00:00</td>\n",
       "      <td>2114-03-01 00:00:00</td>\n",
       "    </tr>\n",
       "    <tr>\n",
       "      <th>197648</th>\n",
       "      <td>203930</td>\n",
       "      <td>2019-04-01 00:00:00</td>\n",
       "      <td>2019-12-31 00:00:00</td>\n",
       "    </tr>\n",
       "    <tr>\n",
       "      <th>197902</th>\n",
       "      <td>205207</td>\n",
       "      <td>2018-06-18 00:00:00</td>\n",
       "      <td>2019-11-18 00:00:00</td>\n",
       "    </tr>\n",
       "  </tbody>\n",
       "</table>\n",
       "</div>"
      ],
      "text/plain": [
       "        IdPRONAC     DtInicioExecucao        DtFimExecucao\n",
       "53776      53777  4201-04-25 00:00:00                  NaN\n",
       "63137      63138  4201-04-07 00:00:00                  NaN\n",
       "158959    160167  2113-03-01 00:00:00  2114-03-01 00:00:00\n",
       "197648    203930  2019-04-01 00:00:00  2019-12-31 00:00:00\n",
       "197902    205207  2018-06-18 00:00:00  2019-11-18 00:00:00"
      ]
     },
     "metadata": {},
     "output_type": "display_data"
    }
   ],
   "source": [
    "filter_with_start_execution = pd.notna(df_projects['DtInicioExecucao'])\n",
    "filter_currentdate_less_than_start_execution = time.strftime(\"%Y-%m-%d %H:%M:%S\") < df_projects['DtInicioExecucao']\n",
    "\n",
    "filter_admissibility = filter_with_start_execution & filter_currentdate_less_than_start_execution\n",
    "\n",
    "df_projects_admissibility = df_projects[filter_admissibility]\n",
    "\n",
    "display(\"Projetos na etapa de Admissibilidade: {}\".format(len(df_projects_admissibility)))\n",
    "display(df_projects_admissibility.head())"
   ]
  },
  {
   "cell_type": "markdown",
   "metadata": {},
   "source": [
    "**Projetos na etapa de Prestação de Contas**"
   ]
  },
  {
   "cell_type": "code",
   "execution_count": 17,
   "metadata": {},
   "outputs": [
    {
     "data": {
      "text/plain": [
       "'Projetos na etapa de Prestação de Contas: 68808'"
      ]
     },
     "metadata": {},
     "output_type": "display_data"
    },
    {
     "data": {
      "text/html": [
       "<div>\n",
       "<style scoped>\n",
       "    .dataframe tbody tr th:only-of-type {\n",
       "        vertical-align: middle;\n",
       "    }\n",
       "\n",
       "    .dataframe tbody tr th {\n",
       "        vertical-align: top;\n",
       "    }\n",
       "\n",
       "    .dataframe thead th {\n",
       "        text-align: right;\n",
       "    }\n",
       "</style>\n",
       "<table border=\"1\" class=\"dataframe\">\n",
       "  <thead>\n",
       "    <tr style=\"text-align: right;\">\n",
       "      <th></th>\n",
       "      <th>IdPRONAC</th>\n",
       "      <th>DtInicioExecucao</th>\n",
       "      <th>DtFimExecucao</th>\n",
       "    </tr>\n",
       "  </thead>\n",
       "  <tbody>\n",
       "    <tr>\n",
       "      <th>0</th>\n",
       "      <td>1</td>\n",
       "      <td>2010-01-01 00:00:00</td>\n",
       "      <td>2010-12-31 00:00:00</td>\n",
       "    </tr>\n",
       "    <tr>\n",
       "      <th>9</th>\n",
       "      <td>10</td>\n",
       "      <td>NaN</td>\n",
       "      <td>2012-01-30 00:00:00</td>\n",
       "    </tr>\n",
       "    <tr>\n",
       "      <th>22</th>\n",
       "      <td>23</td>\n",
       "      <td>2011-05-02 00:00:00</td>\n",
       "      <td>2015-12-31 00:00:00</td>\n",
       "    </tr>\n",
       "    <tr>\n",
       "      <th>28</th>\n",
       "      <td>29</td>\n",
       "      <td>2017-12-08 00:00:00</td>\n",
       "      <td>2018-01-10 00:00:00</td>\n",
       "    </tr>\n",
       "    <tr>\n",
       "      <th>35</th>\n",
       "      <td>36</td>\n",
       "      <td>2003-01-01 00:00:00</td>\n",
       "      <td>2003-09-30 00:00:00</td>\n",
       "    </tr>\n",
       "  </tbody>\n",
       "</table>\n",
       "</div>"
      ],
      "text/plain": [
       "    IdPRONAC     DtInicioExecucao        DtFimExecucao\n",
       "0          1  2010-01-01 00:00:00  2010-12-31 00:00:00\n",
       "9         10                  NaN  2012-01-30 00:00:00\n",
       "22        23  2011-05-02 00:00:00  2015-12-31 00:00:00\n",
       "28        29  2017-12-08 00:00:00  2018-01-10 00:00:00\n",
       "35        36  2003-01-01 00:00:00  2003-09-30 00:00:00"
      ]
     },
     "metadata": {},
     "output_type": "display_data"
    }
   ],
   "source": [
    "filter_with_finish_execution = pd.notna(df_projects['DtFimExecucao'])\n",
    "filter_currentdate_bigger_than_start_execution = time.strftime(\"%Y-%m-%d %H:%M:%S\") > df_projects['DtFimExecucao']\n",
    "\n",
    "filter_accountability = filter_with_finish_execution & filter_currentdate_bigger_than_start_execution\n",
    "\n",
    "df_projects_accountability = df_projects[filter_accountability]\n",
    "\n",
    "display(\"Projetos na etapa de Prestação de Contas: {}\".format(len(df_projects_accountability)))\n",
    "display(df_projects_accountability.head())"
   ]
  }
 ],
 "metadata": {
  "kernelspec": {
   "display_name": "Python 3",
   "language": "python",
   "name": "python3"
  },
  "language_info": {
   "codemirror_mode": {
    "name": "ipython",
    "version": 3
   },
   "file_extension": ".py",
   "mimetype": "text/x-python",
   "name": "python",
   "nbconvert_exporter": "python",
   "pygments_lexer": "ipython3",
   "version": "3.6.5"
  }
 },
 "nbformat": 4,
 "nbformat_minor": 2
}
