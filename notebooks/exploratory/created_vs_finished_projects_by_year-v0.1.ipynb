{
 "cells": [
  {
   "cell_type": "markdown",
   "metadata": {},
   "source": [
    "# Comparação entre a quantidade de projetos criados e a quantidade de projetos finalizados no decorrer do tempo"
   ]
  },
  {
   "cell_type": "markdown",
   "metadata": {},
   "source": [
    "**ISSUE:** [#19](https://github.com/lappis-unb/salic-ml/issues/19)\n",
    "\n",
    "**Objetivo:** Identificar para cada ano quantos projetos são criados no Salic e quantos projetos são finalizados, onde um projeto finalizado pode ser tanto um projeto que foi concluído 100% quanto um projeto que acabou no meio do processo."
   ]
  },
  {
   "cell_type": "markdown",
   "metadata": {},
   "source": [
    "## Prepararando os dados"
   ]
  },
  {
   "cell_type": "markdown",
   "metadata": {},
   "source": [
    "**Recarregar automaticamente os módulos.**"
   ]
  },
  {
   "cell_type": "code",
   "execution_count": 5,
   "metadata": {},
   "outputs": [],
   "source": [
    "%load_ext autoreload\n",
    "%autoreload 2"
   ]
  },
  {
   "cell_type": "markdown",
   "metadata": {},
   "source": [
    "**Importando módulos python.**"
   ]
  },
  {
   "cell_type": "code",
   "execution_count": 6,
   "metadata": {},
   "outputs": [],
   "source": [
    "import os\n",
    "import sys\n",
    "import numpy as np\n",
    "import pandas as pd\n",
    "import matplotlib.pyplot as plt\n",
    "\n",
    "from salicml.utils.dates import Dates\n",
    "from salicml.models.projects import Projects\n",
    "\n",
    "PROJECT_ROOT = os.path.abspath(os.path.join(os.pardir, os.pardir))\n",
    "DATA_FOLDER = os.path.join(PROJECT_ROOT, 'data', 'raw')"
   ]
  },
  {
   "cell_type": "markdown",
   "metadata": {},
   "source": [
    "**Carregando os dados da tabela de Projetos.**"
   ]
  },
  {
   "cell_type": "code",
   "execution_count": 47,
   "metadata": {
    "scrolled": true
   },
   "outputs": [
    {
     "data": {
      "text/html": [
       "<div>\n",
       "<style scoped>\n",
       "    .dataframe tbody tr th:only-of-type {\n",
       "        vertical-align: middle;\n",
       "    }\n",
       "\n",
       "    .dataframe tbody tr th {\n",
       "        vertical-align: top;\n",
       "    }\n",
       "\n",
       "    .dataframe thead th {\n",
       "        text-align: right;\n",
       "    }\n",
       "</style>\n",
       "<table border=\"1\" class=\"dataframe\">\n",
       "  <thead>\n",
       "    <tr style=\"text-align: right;\">\n",
       "      <th></th>\n",
       "      <th>IdPRONAC</th>\n",
       "      <th>DtProtocolo</th>\n",
       "      <th>Situacao</th>\n",
       "      <th>DtSituacao</th>\n",
       "    </tr>\n",
       "  </thead>\n",
       "  <tbody>\n",
       "    <tr>\n",
       "      <th>0</th>\n",
       "      <td>1</td>\n",
       "      <td>2008-09-12 00:00:00</td>\n",
       "      <td>E63</td>\n",
       "      <td>2011-10-25 15:52:33</td>\n",
       "    </tr>\n",
       "    <tr>\n",
       "      <th>1</th>\n",
       "      <td>2</td>\n",
       "      <td>2008-09-12 00:00:00</td>\n",
       "      <td>G43</td>\n",
       "      <td>2008-11-19 00:00:00</td>\n",
       "    </tr>\n",
       "    <tr>\n",
       "      <th>2</th>\n",
       "      <td>3</td>\n",
       "      <td>2008-09-12 00:00:00</td>\n",
       "      <td>K00</td>\n",
       "      <td>2008-10-14 00:00:00</td>\n",
       "    </tr>\n",
       "    <tr>\n",
       "      <th>3</th>\n",
       "      <td>4</td>\n",
       "      <td>2008-09-03 00:00:00</td>\n",
       "      <td>E25</td>\n",
       "      <td>2017-07-27 11:47:56</td>\n",
       "    </tr>\n",
       "    <tr>\n",
       "      <th>4</th>\n",
       "      <td>5</td>\n",
       "      <td>2008-09-12 00:00:00</td>\n",
       "      <td>E36</td>\n",
       "      <td>2010-12-06 13:19:12</td>\n",
       "    </tr>\n",
       "  </tbody>\n",
       "</table>\n",
       "</div>"
      ],
      "text/plain": [
       "   IdPRONAC          DtProtocolo Situacao           DtSituacao\n",
       "0         1  2008-09-12 00:00:00      E63  2011-10-25 15:52:33\n",
       "1         2  2008-09-12 00:00:00      G43  2008-11-19 00:00:00\n",
       "2         3  2008-09-12 00:00:00      K00  2008-10-14 00:00:00\n",
       "3         4  2008-09-03 00:00:00      E25  2017-07-27 11:47:56\n",
       "4         5  2008-09-12 00:00:00      E36  2010-12-06 13:19:12"
      ]
     },
     "metadata": {},
     "output_type": "display_data"
    }
   ],
   "source": [
    "cols = ['IdPRONAC', 'DtProtocolo', 'Situacao', 'DtSituacao']\n",
    "projects_csv = os.path.join(DATA_FOLDER, 'projetos.csv')\n",
    "\n",
    "projects = Projects(projects_csv)\n",
    "\n",
    "df_projects = projects.data_frame.filter(items = cols)\n",
    "display(df_projects.head())"
   ]
  },
  {
   "cell_type": "markdown",
   "metadata": {},
   "source": [
    "## Definindo quais anos estarão na análise"
   ]
  },
  {
   "cell_type": "markdown",
   "metadata": {},
   "source": [
    "A análise desse notebook irá utilizar o período de 2009 até 2017."
   ]
  },
  {
   "cell_type": "code",
   "execution_count": 48,
   "metadata": {},
   "outputs": [],
   "source": [
    "initial_year = 2009\n",
    "final_year   = 2017\n",
    "\n",
    "years = [i for i in range(initial_year, final_year + 1)]"
   ]
  },
  {
   "cell_type": "markdown",
   "metadata": {},
   "source": [
    "## Identificando quantos projetos foram criados em cada ano"
   ]
  },
  {
   "cell_type": "markdown",
   "metadata": {},
   "source": [
    "Analisando o banco de dados do Salic a coluna que mais se enquadrou como uma data de criação de um projeto foi a coluna 'DtProcolo', logo essa será a coluna utilizada para analisar em qual ano o projeto foi criado."
   ]
  },
  {
   "cell_type": "markdown",
   "metadata": {},
   "source": [
    "Identificado quantos projetos foram criados em cada ano no período da análise."
   ]
  },
  {
   "cell_type": "code",
   "execution_count": 49,
   "metadata": {},
   "outputs": [],
   "source": [
    "created_projects = []\n",
    "\n",
    "for year in years:\n",
    "    project_created_after_begin_year = df_projects['DtProtocolo'] >= '{}-01-01'.format(year)\n",
    "    project_created_before_end_year = df_projects['DtProtocolo'] <= '{}-12-31'.format(year)\n",
    "    \n",
    "    created_projects_filter = project_created_after_begin_year & project_created_before_end_year\n",
    "    \n",
    "    created_projects.append(len(df_projects[created_projects_filter]))"
   ]
  },
  {
   "cell_type": "markdown",
   "metadata": {},
   "source": [
    "Tabela apresentando quantos projetos foram criados por ano."
   ]
  },
  {
   "cell_type": "code",
   "execution_count": 50,
   "metadata": {},
   "outputs": [
    {
     "data": {
      "text/html": [
       "<div>\n",
       "<style scoped>\n",
       "    .dataframe tbody tr th:only-of-type {\n",
       "        vertical-align: middle;\n",
       "    }\n",
       "\n",
       "    .dataframe tbody tr th {\n",
       "        vertical-align: top;\n",
       "    }\n",
       "\n",
       "    .dataframe thead th {\n",
       "        text-align: right;\n",
       "    }\n",
       "</style>\n",
       "<table border=\"1\" class=\"dataframe\">\n",
       "  <thead>\n",
       "    <tr style=\"text-align: right;\">\n",
       "      <th></th>\n",
       "      <th>Ano</th>\n",
       "      <th>Projetos Criados</th>\n",
       "    </tr>\n",
       "  </thead>\n",
       "  <tbody>\n",
       "    <tr>\n",
       "      <th>0</th>\n",
       "      <td>2009</td>\n",
       "      <td>9181</td>\n",
       "    </tr>\n",
       "    <tr>\n",
       "      <th>1</th>\n",
       "      <td>2010</td>\n",
       "      <td>13532</td>\n",
       "    </tr>\n",
       "    <tr>\n",
       "      <th>2</th>\n",
       "      <td>2011</td>\n",
       "      <td>14068</td>\n",
       "    </tr>\n",
       "    <tr>\n",
       "      <th>3</th>\n",
       "      <td>2012</td>\n",
       "      <td>10016</td>\n",
       "    </tr>\n",
       "    <tr>\n",
       "      <th>4</th>\n",
       "      <td>2013</td>\n",
       "      <td>11534</td>\n",
       "    </tr>\n",
       "    <tr>\n",
       "      <th>5</th>\n",
       "      <td>2014</td>\n",
       "      <td>14419</td>\n",
       "    </tr>\n",
       "    <tr>\n",
       "      <th>6</th>\n",
       "      <td>2015</td>\n",
       "      <td>11274</td>\n",
       "    </tr>\n",
       "    <tr>\n",
       "      <th>7</th>\n",
       "      <td>2016</td>\n",
       "      <td>5097</td>\n",
       "    </tr>\n",
       "    <tr>\n",
       "      <th>8</th>\n",
       "      <td>2017</td>\n",
       "      <td>9422</td>\n",
       "    </tr>\n",
       "  </tbody>\n",
       "</table>\n",
       "</div>"
      ],
      "text/plain": [
       "    Ano  Projetos Criados\n",
       "0  2009              9181\n",
       "1  2010             13532\n",
       "2  2011             14068\n",
       "3  2012             10016\n",
       "4  2013             11534\n",
       "5  2014             14419\n",
       "6  2015             11274\n",
       "7  2016              5097\n",
       "8  2017              9422"
      ]
     },
     "metadata": {},
     "output_type": "display_data"
    }
   ],
   "source": [
    "data = {'Ano': years, 'Projetos Criados': created_projects}\n",
    "df_created_projects = pd.DataFrame(data = data)\n",
    "display(df_created_projects)"
   ]
  },
  {
   "cell_type": "markdown",
   "metadata": {},
   "source": [
    "Gráfico apresentando quantos projetos foram criados por ano."
   ]
  },
  {
   "cell_type": "code",
   "execution_count": 72,
   "metadata": {},
   "outputs": [
    {
     "data": {
      "image/png": "[encoded data removed]",
      "text/plain": [
       "<Figure size 720x432 with 1 Axes>"
      ]
     },
     "metadata": {},
     "output_type": "display_data"
    }
   ],
   "source": [
    "fig, ax = plt.subplots()\n",
    "fig.set_size_inches(10, 6)\n",
    "\n",
    "plt.plot(years, created_projects)\n",
    "plt.scatter(years, created_projects)\n",
    "\n",
    "plt.legend(['Projetos criados'], loc='best')\n",
    "plt.xlabel('Ano', fontsize = 14)\n",
    "plt.ylabel('Número de projetos', fontsize = 14)\n",
    "plt.title('Projetos criados vs Projetos finalizados', fontsize = 15)\n",
    "plt.show()"
   ]
  },
  {
   "cell_type": "markdown",
   "metadata": {},
   "source": [
    "## Identificando quantos projetos foram finalizados em cada ano"
   ]
  },
  {
   "cell_type": "markdown",
   "metadata": {},
   "source": [
    "Não foi encontrado no banco de dados do Salic a data de finalização de um projeto, porém foi identificado que essa informação pode ser obtida através da situação de um projeto.\n",
    "\n",
    "Cada projeto no banco de dados do Salic possui uma situação, que é uma sigla que indica a situação do projeto, \n",
    "analisando o banco de dados e através de troca de mensagens e e-mails com o pessoal que desenvolve o Salic e\n",
    "o pessoal do ministério, foram identificadas situações que indicam que o projeto foi finalizado, os resultados\n",
    "das mensagens e dos e-mails estão documentados na [issue](https://github.com/lappis-unb/salic-ml/issues/19)."
   ]
  },
  {
   "cell_type": "markdown",
   "metadata": {},
   "source": [
    "As seguintes situações indicam que um projeto foi finalizado"
   ]
  },
  {
   "cell_type": "code",
   "execution_count": 52,
   "metadata": {},
   "outputs": [],
   "source": [
    "end_situations = ['A09', 'A13', 'A14', 'A16', 'A17', 'A18', 'A20', 'A23', 'A24', 'A26', 'A40', 'A41',\n",
    "                  'A42', 'C09', 'D18', 'E04', 'E09', 'E47', 'E49', 'E63', 'E64', 'E65', 'G16', 'G25',\n",
    "                  'G26', 'K00', 'K01', 'K02', 'L01', 'L02', 'L03', 'L04', 'L05', 'L06', 'L08', 'L09', \n",
    "                  'L10', 'L11']"
   ]
  },
  {
   "cell_type": "markdown",
   "metadata": {},
   "source": [
    "Definindo filtro para identificar quais projetos possuem a situação de finalizado."
   ]
  },
  {
   "cell_type": "code",
   "execution_count": 59,
   "metadata": {},
   "outputs": [],
   "source": [
    "filter_end_situation = df_projects['Situacao'].isin(end_situations)"
   ]
  },
  {
   "cell_type": "markdown",
   "metadata": {},
   "source": [
    "Identificado quantos projetos foram finalizados em cada ano no período da análise.\n",
    "\n",
    "Para identificar o ano em que o projeto foi finalizado será utilizado a coluna 'DtSituacao' da tabela 'Projetos', pois já que se possui os projetos com a situação de finalizado a data dessa situação indica quando o projeto foi finalizado."
   ]
  },
  {
   "cell_type": "code",
   "execution_count": 70,
   "metadata": {},
   "outputs": [],
   "source": [
    "finished_projects = []\n",
    "\n",
    "for year in years:\n",
    "    project_finished_after_begin_year = df_projects['DtSituacao'] >= '{}-01-01'.format(year)\n",
    "    project_finished_before_end_year = df_projects['DtSituacao'] <= '{}-12-31'.format(year)\n",
    "    \n",
    "    finished_projects_filter = (filter_end_situation & \n",
    "                                project_finished_after_begin_year & \n",
    "                                project_finished_before_end_year)\n",
    "    \n",
    "    finished_projects.append(len(df_projects[finished_projects_filter]))"
   ]
  },
  {
   "cell_type": "markdown",
   "metadata": {},
   "source": [
    "Tabela apresentando quantos projetos foram finalizados por ano."
   ]
  },
  {
   "cell_type": "code",
   "execution_count": 71,
   "metadata": {
    "scrolled": true
   },
   "outputs": [
    {
     "data": {
      "text/html": [
       "<div>\n",
       "<style scoped>\n",
       "    .dataframe tbody tr th:only-of-type {\n",
       "        vertical-align: middle;\n",
       "    }\n",
       "\n",
       "    .dataframe tbody tr th {\n",
       "        vertical-align: top;\n",
       "    }\n",
       "\n",
       "    .dataframe thead th {\n",
       "        text-align: right;\n",
       "    }\n",
       "</style>\n",
       "<table border=\"1\" class=\"dataframe\">\n",
       "  <thead>\n",
       "    <tr style=\"text-align: right;\">\n",
       "      <th></th>\n",
       "      <th>Ano</th>\n",
       "      <th>Projetos Finalizados</th>\n",
       "    </tr>\n",
       "  </thead>\n",
       "  <tbody>\n",
       "    <tr>\n",
       "      <th>0</th>\n",
       "      <td>2009</td>\n",
       "      <td>5923</td>\n",
       "    </tr>\n",
       "    <tr>\n",
       "      <th>1</th>\n",
       "      <td>2010</td>\n",
       "      <td>2991</td>\n",
       "    </tr>\n",
       "    <tr>\n",
       "      <th>2</th>\n",
       "      <td>2011</td>\n",
       "      <td>5359</td>\n",
       "    </tr>\n",
       "    <tr>\n",
       "      <th>3</th>\n",
       "      <td>2012</td>\n",
       "      <td>5604</td>\n",
       "    </tr>\n",
       "    <tr>\n",
       "      <th>4</th>\n",
       "      <td>2013</td>\n",
       "      <td>4915</td>\n",
       "    </tr>\n",
       "    <tr>\n",
       "      <th>5</th>\n",
       "      <td>2014</td>\n",
       "      <td>4870</td>\n",
       "    </tr>\n",
       "    <tr>\n",
       "      <th>6</th>\n",
       "      <td>2015</td>\n",
       "      <td>6368</td>\n",
       "    </tr>\n",
       "    <tr>\n",
       "      <th>7</th>\n",
       "      <td>2016</td>\n",
       "      <td>2904</td>\n",
       "    </tr>\n",
       "    <tr>\n",
       "      <th>8</th>\n",
       "      <td>2017</td>\n",
       "      <td>6477</td>\n",
       "    </tr>\n",
       "  </tbody>\n",
       "</table>\n",
       "</div>"
      ],
      "text/plain": [
       "    Ano  Projetos Finalizados\n",
       "0  2009                  5923\n",
       "1  2010                  2991\n",
       "2  2011                  5359\n",
       "3  2012                  5604\n",
       "4  2013                  4915\n",
       "5  2014                  4870\n",
       "6  2015                  6368\n",
       "7  2016                  2904\n",
       "8  2017                  6477"
      ]
     },
     "metadata": {},
     "output_type": "display_data"
    }
   ],
   "source": [
    "data = {'Ano': years, 'Projetos Finalizados': finished_projects}\n",
    "df_finished_projects = pd.DataFrame(data = data)\n",
    "display(df_finished_projects)"
   ]
  },
  {
   "cell_type": "markdown",
   "metadata": {},
   "source": [
    "Gráfico apresentando quantos projetos foram finalizados por ano."
   ]
  },
  {
   "cell_type": "code",
   "execution_count": 74,
   "metadata": {},
   "outputs": [
    {
     "data": {
      "image/png": "[encoded data removed]",
      "text/plain": [
       "<Figure size 720x432 with 1 Axes>"
      ]
     },
     "metadata": {},
     "output_type": "display_data"
    }
   ],
   "source": [
    "fig, ax = plt.subplots()\n",
    "fig.set_size_inches(10, 6)\n",
    "\n",
    "plt.plot(years, finished_projects)\n",
    "plt.scatter(years, finished_projects)\n",
    "\n",
    "plt.legend(['Projetos finalizados'], loc='best')\n",
    "plt.xlabel('Ano', fontsize = 14)\n",
    "plt.ylabel('Número de projetos', fontsize = 14)\n",
    "plt.title('Projetos criados vs Projetos finalizados', fontsize = 15)\n",
    "plt.show()"
   ]
  },
  {
   "cell_type": "markdown",
   "metadata": {},
   "source": [
    "**--------------------**"
   ]
  },
  {
   "cell_type": "markdown",
   "metadata": {},
   "source": [
    "**Separar projetos criados e projetos finalizados por ano**"
   ]
  },
  {
   "cell_type": "code",
   "execution_count": 8,
   "metadata": {},
   "outputs": [],
   "source": [
    "years = ['2009', '2010', '2011', '2012', '2013', '2014', '2015', '2016', '2017']\n",
    "end_situations = ['A09', 'A13', 'A14', 'A16', 'A17', 'A18', 'A20', 'A23', 'A24', 'A26', 'A40', 'A41',\n",
    "                  'A42', 'C09', 'D18', 'E04', 'E09', 'E47', 'E49', 'E63', 'E64', 'E65', 'G16', 'G25',\n",
    "                  'G26', 'K00', 'K01', 'K02', 'L01', 'L02', 'L03', 'L04', 'L05', 'L06', 'L08', 'L10',\n",
    "                  'L11']\n",
    "\n",
    "created_projects = []\n",
    "finished_projects = []\n",
    "\n",
    "for year in years:\n",
    "    project_created_after_begin_year = dt_projetos['DtProtocolo'] > '{}-01-01'.format(year)\n",
    "    project_created_before_end_year = dt_projetos['DtProtocolo'] < '{}-12-31'.format(year)\n",
    "    \n",
    "    created_projects_filter = project_created_after_begin_year & project_created_before_end_year\n",
    "    finished_projects_filter = created_projects_filter & dt_projetos['Situacao'].isin(end_situations)\n",
    "    \n",
    "    created_projects.append(len(dt_projetos[created_projects_filter]))\n",
    "    finished_projects.append(len(dt_projetos[finished_projects_filter]))\n",
    "\n",
    "    \n",
    "created_projects_percentage = [0] + [(created_projects[i] - created_projects[i - 1]) * 100 / created_projects[i - 1] for i in range(1, len(created_projects))]\n",
    "finished_projects_percentage = [0] + [(finished_projects[i] - finished_projects[i - 1]) * 100 / finished_projects[i - 1] for i in range(1, len(finished_projects))]"
   ]
  },
  {
   "cell_type": "markdown",
   "metadata": {},
   "source": [
    "**Tabela de crescimento de projetos criados e finalizados**"
   ]
  },
  {
   "cell_type": "code",
   "execution_count": 9,
   "metadata": {},
   "outputs": [
    {
     "data": {
      "text/html": [
       "<style  type=\"text/css\" >\n",
       "    #T_92206862_5e80_11e8_8984_342387761489row0_col2 {\n",
       "            color:  black;\n",
       "        }    #T_92206862_5e80_11e8_8984_342387761489row0_col4 {\n",
       "            color:  black;\n",
       "        }    #T_92206862_5e80_11e8_8984_342387761489row1_col2 {\n",
       "            color:  black;\n",
       "        }    #T_92206862_5e80_11e8_8984_342387761489row1_col4 {\n",
       "            color:  black;\n",
       "        }    #T_92206862_5e80_11e8_8984_342387761489row2_col2 {\n",
       "            color:  black;\n",
       "        }    #T_92206862_5e80_11e8_8984_342387761489row2_col4 {\n",
       "            color:  red;\n",
       "        }    #T_92206862_5e80_11e8_8984_342387761489row3_col2 {\n",
       "            color:  red;\n",
       "        }    #T_92206862_5e80_11e8_8984_342387761489row3_col4 {\n",
       "            color:  red;\n",
       "        }    #T_92206862_5e80_11e8_8984_342387761489row4_col2 {\n",
       "            color:  black;\n",
       "        }    #T_92206862_5e80_11e8_8984_342387761489row4_col4 {\n",
       "            color:  black;\n",
       "        }    #T_92206862_5e80_11e8_8984_342387761489row5_col2 {\n",
       "            color:  black;\n",
       "        }    #T_92206862_5e80_11e8_8984_342387761489row5_col4 {\n",
       "            color:  red;\n",
       "        }    #T_92206862_5e80_11e8_8984_342387761489row6_col2 {\n",
       "            color:  red;\n",
       "        }    #T_92206862_5e80_11e8_8984_342387761489row6_col4 {\n",
       "            color:  red;\n",
       "        }    #T_92206862_5e80_11e8_8984_342387761489row7_col2 {\n",
       "            color:  red;\n",
       "        }    #T_92206862_5e80_11e8_8984_342387761489row7_col4 {\n",
       "            color:  red;\n",
       "        }    #T_92206862_5e80_11e8_8984_342387761489row8_col2 {\n",
       "            color:  black;\n",
       "        }    #T_92206862_5e80_11e8_8984_342387761489row8_col4 {\n",
       "            color:  black;\n",
       "        }</style>  \n",
       "<table id=\"T_92206862_5e80_11e8_8984_342387761489\" > \n",
       "<thead>    <tr> \n",
       "        <th class=\"blank level0\" ></th> \n",
       "        <th class=\"col_heading level0 col0\" >Ano</th> \n",
       "        <th class=\"col_heading level0 col1\" >Projetos Criados</th> \n",
       "        <th class=\"col_heading level0 col2\" >Projetos Criados %</th> \n",
       "        <th class=\"col_heading level0 col3\" >Projetos Fechados</th> \n",
       "        <th class=\"col_heading level0 col4\" >Projetos Fechados %</th> \n",
       "    </tr></thead> \n",
       "<tbody>    <tr> \n",
       "        <th id=\"T_92206862_5e80_11e8_8984_342387761489level0_row0\" class=\"row_heading level0 row0\" >0</th> \n",
       "        <td id=\"T_92206862_5e80_11e8_8984_342387761489row0_col0\" class=\"data row0 col0\" >2009</td> \n",
       "        <td id=\"T_92206862_5e80_11e8_8984_342387761489row0_col1\" class=\"data row0 col1\" >9181</td> \n",
       "        <td id=\"T_92206862_5e80_11e8_8984_342387761489row0_col2\" class=\"data row0 col2\" >0</td> \n",
       "        <td id=\"T_92206862_5e80_11e8_8984_342387761489row0_col3\" class=\"data row0 col3\" >5159</td> \n",
       "        <td id=\"T_92206862_5e80_11e8_8984_342387761489row0_col4\" class=\"data row0 col4\" >0</td> \n",
       "    </tr>    <tr> \n",
       "        <th id=\"T_92206862_5e80_11e8_8984_342387761489level0_row1\" class=\"row_heading level0 row1\" >1</th> \n",
       "        <td id=\"T_92206862_5e80_11e8_8984_342387761489row1_col0\" class=\"data row1 col0\" >2010</td> \n",
       "        <td id=\"T_92206862_5e80_11e8_8984_342387761489row1_col1\" class=\"data row1 col1\" >13532</td> \n",
       "        <td id=\"T_92206862_5e80_11e8_8984_342387761489row1_col2\" class=\"data row1 col2\" >47.3914</td> \n",
       "        <td id=\"T_92206862_5e80_11e8_8984_342387761489row1_col3\" class=\"data row1 col3\" >6863</td> \n",
       "        <td id=\"T_92206862_5e80_11e8_8984_342387761489row1_col4\" class=\"data row1 col4\" >33.0297</td> \n",
       "    </tr>    <tr> \n",
       "        <th id=\"T_92206862_5e80_11e8_8984_342387761489level0_row2\" class=\"row_heading level0 row2\" >2</th> \n",
       "        <td id=\"T_92206862_5e80_11e8_8984_342387761489row2_col0\" class=\"data row2 col0\" >2011</td> \n",
       "        <td id=\"T_92206862_5e80_11e8_8984_342387761489row2_col1\" class=\"data row2 col1\" >14068</td> \n",
       "        <td id=\"T_92206862_5e80_11e8_8984_342387761489row2_col2\" class=\"data row2 col2\" >3.96098</td> \n",
       "        <td id=\"T_92206862_5e80_11e8_8984_342387761489row2_col3\" class=\"data row2 col3\" >5811</td> \n",
       "        <td id=\"T_92206862_5e80_11e8_8984_342387761489row2_col4\" class=\"data row2 col4\" >-15.3286</td> \n",
       "    </tr>    <tr> \n",
       "        <th id=\"T_92206862_5e80_11e8_8984_342387761489level0_row3\" class=\"row_heading level0 row3\" >3</th> \n",
       "        <td id=\"T_92206862_5e80_11e8_8984_342387761489row3_col0\" class=\"data row3 col0\" >2012</td> \n",
       "        <td id=\"T_92206862_5e80_11e8_8984_342387761489row3_col1\" class=\"data row3 col1\" >10016</td> \n",
       "        <td id=\"T_92206862_5e80_11e8_8984_342387761489row3_col2\" class=\"data row3 col2\" >-28.803</td> \n",
       "        <td id=\"T_92206862_5e80_11e8_8984_342387761489row3_col3\" class=\"data row3 col3\" >4759</td> \n",
       "        <td id=\"T_92206862_5e80_11e8_8984_342387761489row3_col4\" class=\"data row3 col4\" >-18.1036</td> \n",
       "    </tr>    <tr> \n",
       "        <th id=\"T_92206862_5e80_11e8_8984_342387761489level0_row4\" class=\"row_heading level0 row4\" >4</th> \n",
       "        <td id=\"T_92206862_5e80_11e8_8984_342387761489row4_col0\" class=\"data row4 col0\" >2013</td> \n",
       "        <td id=\"T_92206862_5e80_11e8_8984_342387761489row4_col1\" class=\"data row4 col1\" >11534</td> \n",
       "        <td id=\"T_92206862_5e80_11e8_8984_342387761489row4_col2\" class=\"data row4 col2\" >15.1558</td> \n",
       "        <td id=\"T_92206862_5e80_11e8_8984_342387761489row4_col3\" class=\"data row4 col3\" >5635</td> \n",
       "        <td id=\"T_92206862_5e80_11e8_8984_342387761489row4_col4\" class=\"data row4 col4\" >18.4072</td> \n",
       "    </tr>    <tr> \n",
       "        <th id=\"T_92206862_5e80_11e8_8984_342387761489level0_row5\" class=\"row_heading level0 row5\" >5</th> \n",
       "        <td id=\"T_92206862_5e80_11e8_8984_342387761489row5_col0\" class=\"data row5 col0\" >2014</td> \n",
       "        <td id=\"T_92206862_5e80_11e8_8984_342387761489row5_col1\" class=\"data row5 col1\" >14419</td> \n",
       "        <td id=\"T_92206862_5e80_11e8_8984_342387761489row5_col2\" class=\"data row5 col2\" >25.013</td> \n",
       "        <td id=\"T_92206862_5e80_11e8_8984_342387761489row5_col3\" class=\"data row5 col3\" >5294</td> \n",
       "        <td id=\"T_92206862_5e80_11e8_8984_342387761489row5_col4\" class=\"data row5 col4\" >-6.05146</td> \n",
       "    </tr>    <tr> \n",
       "        <th id=\"T_92206862_5e80_11e8_8984_342387761489level0_row6\" class=\"row_heading level0 row6\" >6</th> \n",
       "        <td id=\"T_92206862_5e80_11e8_8984_342387761489row6_col0\" class=\"data row6 col0\" >2015</td> \n",
       "        <td id=\"T_92206862_5e80_11e8_8984_342387761489row6_col1\" class=\"data row6 col1\" >11274</td> \n",
       "        <td id=\"T_92206862_5e80_11e8_8984_342387761489row6_col2\" class=\"data row6 col2\" >-21.8115</td> \n",
       "        <td id=\"T_92206862_5e80_11e8_8984_342387761489row6_col3\" class=\"data row6 col3\" >2795</td> \n",
       "        <td id=\"T_92206862_5e80_11e8_8984_342387761489row6_col4\" class=\"data row6 col4\" >-47.2044</td> \n",
       "    </tr>    <tr> \n",
       "        <th id=\"T_92206862_5e80_11e8_8984_342387761489level0_row7\" class=\"row_heading level0 row7\" >7</th> \n",
       "        <td id=\"T_92206862_5e80_11e8_8984_342387761489row7_col0\" class=\"data row7 col0\" >2016</td> \n",
       "        <td id=\"T_92206862_5e80_11e8_8984_342387761489row7_col1\" class=\"data row7 col1\" >5097</td> \n",
       "        <td id=\"T_92206862_5e80_11e8_8984_342387761489row7_col2\" class=\"data row7 col2\" >-54.7898</td> \n",
       "        <td id=\"T_92206862_5e80_11e8_8984_342387761489row7_col3\" class=\"data row7 col3\" >1269</td> \n",
       "        <td id=\"T_92206862_5e80_11e8_8984_342387761489row7_col4\" class=\"data row7 col4\" >-54.5975</td> \n",
       "    </tr>    <tr> \n",
       "        <th id=\"T_92206862_5e80_11e8_8984_342387761489level0_row8\" class=\"row_heading level0 row8\" >8</th> \n",
       "        <td id=\"T_92206862_5e80_11e8_8984_342387761489row8_col0\" class=\"data row8 col0\" >2017</td> \n",
       "        <td id=\"T_92206862_5e80_11e8_8984_342387761489row8_col1\" class=\"data row8 col1\" >9422</td> \n",
       "        <td id=\"T_92206862_5e80_11e8_8984_342387761489row8_col2\" class=\"data row8 col2\" >84.8538</td> \n",
       "        <td id=\"T_92206862_5e80_11e8_8984_342387761489row8_col3\" class=\"data row8 col3\" >3058</td> \n",
       "        <td id=\"T_92206862_5e80_11e8_8984_342387761489row8_col4\" class=\"data row8 col4\" >140.977</td> \n",
       "    </tr></tbody> \n",
       "</table> "
      ],
      "text/plain": [
       "<pandas.io.formats.style.Styler at 0x7fc04ef53fd0>"
      ]
     },
     "metadata": {},
     "output_type": "display_data"
    }
   ],
   "source": [
    "def color_negative_red(val):\n",
    "    color = 'red' if val < 0 else 'black'\n",
    "    return 'color: %s' % color\n",
    "\n",
    "\n",
    "data = {'Ano': years, 'Projetos Criados': created_projects, 'Projetos Criados %': created_projects_percentage,\n",
    "        'Projetos Fechados': finished_projects, 'Projetos Fechados %': finished_projects_percentage}\n",
    "\n",
    "df = pd.DataFrame(data = data)\n",
    "dt = pd.DataFrame(data = data)\n",
    "\n",
    "subset = pd.IndexSlice[:, ['Projetos Criados %', 'Projetos Fechados %']]\n",
    "\n",
    "df = df.style.applymap(color_negative_red, subset = subset)\n",
    "\n",
    "display(df)"
   ]
  },
  {
   "cell_type": "code",
   "execution_count": 10,
   "metadata": {},
   "outputs": [],
   "source": [
    "### Gráfico de projetos iniciados Vs projetos finalizados ao longo do tempo"
   ]
  },
  {
   "cell_type": "code",
   "execution_count": 11,
   "metadata": {
    "scrolled": true
   },
   "outputs": [
    {
     "data": {
      "text/plain": [
       "Index(['Ano', 'Projetos Criados', 'Projetos Criados %', 'Projetos Fechados',\n",
       "       'Projetos Fechados %'],\n",
       "      dtype='object')"
      ]
     },
     "metadata": {},
     "output_type": "display_data"
    },
    {
     "data": {
      "image/png": "[encoded data removed]",
      "text/plain": [
       "<Figure size 720x432 with 1 Axes>"
      ]
     },
     "metadata": {},
     "output_type": "display_data"
    }
   ],
   "source": [
    "from scipy.interpolate import interp1d\n",
    "\n",
    "display(dt.columns)\n",
    "dt['Ano'] = pd.to_numeric(dt['Ano'])\n",
    "\n",
    "years = dt['Ano'].values\n",
    "created = dt['Projetos Criados'].values\n",
    "finished = dt['Projetos Fechados'].values\n",
    "\n",
    "#plt.figure(figsize=(10, 6))\n",
    "fig, ax = plt.subplots()\n",
    "fig.set_size_inches(10, 6)\n",
    "\n",
    "plt.plot(years, created)\n",
    "plt.plot(years, finished)\n",
    "plt.scatter(years, created)\n",
    "plt.scatter(years, finished)\n",
    "\n",
    "plt.legend(['Projetos iniciados', 'Projetos finalizados'], loc='best')\n",
    "plt.xlabel('Ano', fontsize = 14)\n",
    "plt.ylabel('Número de projetos', fontsize = 14)\n",
    "plt.title('Projetos criados vs Projetos finalizados', fontsize = 15)\n",
    "plt.show()"
   ]
  },
  {
   "cell_type": "code",
   "execution_count": 12,
   "metadata": {},
   "outputs": [],
   "source": [
    "def plot_1d_liner_regression(x, y, color = None, alpha = None):\n",
    "    from sklearn import linear_model\n",
    "\n",
    "    x = x.reshape(-1, 1)\n",
    "    \n",
    "    body_reg = linear_model.LinearRegression()\n",
    "    body_reg.fit(x, y)\n",
    "\n",
    "    prediction = body_reg.predict(np.sort(x, axis=0))\n",
    "\n",
    "    plt.plot(np.sort(x, axis=0), prediction, color=color, alpha=alpha)"
   ]
  },
  {
   "cell_type": "code",
   "execution_count": 13,
   "metadata": {},
   "outputs": [
    {
     "data": {
      "image/png": "[encoded data removed]",
      "text/plain": [
       "<Figure size 720x432 with 1 Axes>"
      ]
     },
     "metadata": {},
     "output_type": "display_data"
    }
   ],
   "source": [
    "#plt.figure(figsize=(10, 6))\n",
    "fig, ax = plt.subplots()\n",
    "fig.set_size_inches(10, 6)\n",
    "\n",
    "plt.plot(years, created)\n",
    "plt.plot(years, finished, color='C2')\n",
    "plt.scatter(years, created, color='C0')\n",
    "plt.scatter(years, finished, color='C2')\n",
    "\n",
    "plt.legend(['Projetos iniciados', 'Projetos finalizados'], loc='best')\n",
    "plt.xlabel('Ano', fontsize = 14)\n",
    "plt.ylabel('Número de projetos', fontsize = 14)\n",
    "plt.title('Projetos criados vs Projetos finalizados', fontsize = 15)\n",
    "\n",
    "plot_1d_liner_regression(years, created, color='C0', alpha=0.5)\n",
    "plot_1d_liner_regression(years, finished, color='C2', alpha=0.5)"
   ]
  },
  {
   "cell_type": "markdown",
   "metadata": {},
   "source": [
    "### Calculando a média do número de itens em uma planilha orçamentária aprovada"
   ]
  },
  {
   "cell_type": "markdown",
   "metadata": {},
   "source": [
    "**Carregando a tabela com preços aprovados dos itens de todos os projetos**"
   ]
  },
  {
   "cell_type": "code",
   "execution_count": 14,
   "metadata": {
    "scrolled": true
   },
   "outputs": [
    {
     "data": {
      "text/html": [
       "<div>\n",
       "<style scoped>\n",
       "    .dataframe tbody tr th:only-of-type {\n",
       "        vertical-align: middle;\n",
       "    }\n",
       "\n",
       "    .dataframe tbody tr th {\n",
       "        vertical-align: top;\n",
       "    }\n",
       "\n",
       "    .dataframe thead th {\n",
       "        text-align: right;\n",
       "    }\n",
       "</style>\n",
       "<table border=\"1\" class=\"dataframe\">\n",
       "  <thead>\n",
       "    <tr style=\"text-align: right;\">\n",
       "      <th></th>\n",
       "      <th>Unnamed: 0</th>\n",
       "      <th>idPRONAC</th>\n",
       "      <th>Situacao</th>\n",
       "      <th>DtProtocolo</th>\n",
       "    </tr>\n",
       "  </thead>\n",
       "  <tbody>\n",
       "    <tr>\n",
       "      <th>0</th>\n",
       "      <td>0</td>\n",
       "      <td>111109</td>\n",
       "      <td>E36</td>\n",
       "      <td>2009-01-22 15:29:39</td>\n",
       "    </tr>\n",
       "    <tr>\n",
       "      <th>1</th>\n",
       "      <td>1</td>\n",
       "      <td>111109</td>\n",
       "      <td>E36</td>\n",
       "      <td>2009-01-22 15:29:39</td>\n",
       "    </tr>\n",
       "    <tr>\n",
       "      <th>2</th>\n",
       "      <td>2</td>\n",
       "      <td>111109</td>\n",
       "      <td>E36</td>\n",
       "      <td>2009-01-22 15:29:39</td>\n",
       "    </tr>\n",
       "    <tr>\n",
       "      <th>3</th>\n",
       "      <td>3</td>\n",
       "      <td>111109</td>\n",
       "      <td>E36</td>\n",
       "      <td>2009-01-22 15:29:39</td>\n",
       "    </tr>\n",
       "    <tr>\n",
       "      <th>4</th>\n",
       "      <td>4</td>\n",
       "      <td>111109</td>\n",
       "      <td>E36</td>\n",
       "      <td>2009-01-22 15:29:39</td>\n",
       "    </tr>\n",
       "  </tbody>\n",
       "</table>\n",
       "</div>"
      ],
      "text/plain": [
       "   Unnamed: 0  idPRONAC Situacao          DtProtocolo\n",
       "0           0    111109      E36  2009-01-22 15:29:39\n",
       "1           1    111109      E36  2009-01-22 15:29:39\n",
       "2           2    111109      E36  2009-01-22 15:29:39\n",
       "3           3    111109      E36  2009-01-22 15:29:39\n",
       "4           4    111109      E36  2009-01-22 15:29:39"
      ]
     },
     "execution_count": 14,
     "metadata": {},
     "output_type": "execute_result"
    }
   ],
   "source": [
    "tb_planilha_projeto_csv = os.path.join(DATA_FOLDER, 'dt_tb_planilha_projeto_2013.csv')\n",
    "\n",
    "dt_planilha = pd.read_csv(tb_planilha_projeto_csv, low_memory = False)\n",
    "\n",
    "dt_planilha.head()"
   ]
  },
  {
   "cell_type": "markdown",
   "metadata": {},
   "source": [
    "**Adicionando data do projeto na planilha orçamentária**"
   ]
  },
  {
   "cell_type": "markdown",
   "metadata": {},
   "source": [
    "**Utilizando projetos somente com data de projeto maior ou igual a 2013**"
   ]
  },
  {
   "cell_type": "code",
   "execution_count": 18,
   "metadata": {},
   "outputs": [],
   "source": [
    "from datetime import datetime\n",
    "\n",
    "START_DATE = datetime(day=1, month=1, year=2013)\n",
    "date_column = 'DtProtocolo'\n",
    "dt_planilha[date_column] = pd.to_datetime(dt_planilha[date_column], format = Dates.DATE_INPUT_FORMAT)\n",
    "dt_planilha = dt_planilha[dt_planilha.loc[:, date_column] >= START_DATE]"
   ]
  },
  {
   "cell_type": "markdown",
   "metadata": {},
   "source": [
    "**Projeto de exemplo para testar a data do projeto**"
   ]
  },
  {
   "cell_type": "code",
   "execution_count": 19,
   "metadata": {
    "scrolled": true
   },
   "outputs": [
    {
     "data": {
      "text/html": [
       "<div>\n",
       "<style scoped>\n",
       "    .dataframe tbody tr th:only-of-type {\n",
       "        vertical-align: middle;\n",
       "    }\n",
       "\n",
       "    .dataframe tbody tr th {\n",
       "        vertical-align: top;\n",
       "    }\n",
       "\n",
       "    .dataframe thead th {\n",
       "        text-align: right;\n",
       "    }\n",
       "</style>\n",
       "<table border=\"1\" class=\"dataframe\">\n",
       "  <thead>\n",
       "    <tr style=\"text-align: right;\">\n",
       "      <th></th>\n",
       "      <th>Unnamed: 0</th>\n",
       "      <th>idPRONAC</th>\n",
       "      <th>Situacao</th>\n",
       "      <th>DtProtocolo</th>\n",
       "    </tr>\n",
       "  </thead>\n",
       "  <tbody>\n",
       "    <tr>\n",
       "      <th>2241751</th>\n",
       "      <td>2241751</td>\n",
       "      <td>210310</td>\n",
       "      <td>E12</td>\n",
       "      <td>2017-07-27 11:06:04</td>\n",
       "    </tr>\n",
       "    <tr>\n",
       "      <th>2241752</th>\n",
       "      <td>2241752</td>\n",
       "      <td>210310</td>\n",
       "      <td>E12</td>\n",
       "      <td>2017-07-27 11:06:04</td>\n",
       "    </tr>\n",
       "    <tr>\n",
       "      <th>2241753</th>\n",
       "      <td>2241753</td>\n",
       "      <td>210310</td>\n",
       "      <td>E12</td>\n",
       "      <td>2017-07-27 11:06:04</td>\n",
       "    </tr>\n",
       "    <tr>\n",
       "      <th>2241754</th>\n",
       "      <td>2241754</td>\n",
       "      <td>210310</td>\n",
       "      <td>E12</td>\n",
       "      <td>2017-07-27 11:06:04</td>\n",
       "    </tr>\n",
       "    <tr>\n",
       "      <th>2241755</th>\n",
       "      <td>2241755</td>\n",
       "      <td>210310</td>\n",
       "      <td>E12</td>\n",
       "      <td>2017-07-27 11:06:04</td>\n",
       "    </tr>\n",
       "  </tbody>\n",
       "</table>\n",
       "</div>"
      ],
      "text/plain": [
       "         Unnamed: 0  idPRONAC Situacao         DtProtocolo\n",
       "2241751     2241751    210310      E12 2017-07-27 11:06:04\n",
       "2241752     2241752    210310      E12 2017-07-27 11:06:04\n",
       "2241753     2241753    210310      E12 2017-07-27 11:06:04\n",
       "2241754     2241754    210310      E12 2017-07-27 11:06:04\n",
       "2241755     2241755    210310      E12 2017-07-27 11:06:04"
      ]
     },
     "metadata": {},
     "output_type": "display_data"
    },
    {
     "name": "stdout",
     "output_type": "stream",
     "text": [
      "len(example_project) = 123\n"
     ]
    }
   ],
   "source": [
    "example_project = dt_planilha[dt_planilha.loc[:, 'idPRONAC'] == 210310]\n",
    "display(example_project.head())\n",
    "print('len(example_project) = {}'.format(len(example_project)))"
   ]
  },
  {
   "cell_type": "markdown",
   "metadata": {},
   "source": [
    "### Média do número de itens em uma planilha orçamentária aprovada"
   ]
  },
  {
   "cell_type": "code",
   "execution_count": 20,
   "metadata": {},
   "outputs": [
    {
     "name": "stdout",
     "output_type": "stream",
     "text": [
      "type(counts) = <class 'numpy.ndarray'>\n",
      "210310, 123\n"
     ]
    },
    {
     "data": {
      "text/html": [
       "<div>\n",
       "<style scoped>\n",
       "    .dataframe tbody tr th:only-of-type {\n",
       "        vertical-align: middle;\n",
       "    }\n",
       "\n",
       "    .dataframe tbody tr th {\n",
       "        vertical-align: top;\n",
       "    }\n",
       "\n",
       "    .dataframe thead th {\n",
       "        text-align: right;\n",
       "    }\n",
       "</style>\n",
       "<table border=\"1\" class=\"dataframe\">\n",
       "  <thead>\n",
       "    <tr style=\"text-align: right;\">\n",
       "      <th></th>\n",
       "      <th>0</th>\n",
       "    </tr>\n",
       "  </thead>\n",
       "  <tbody>\n",
       "    <tr>\n",
       "      <th>count</th>\n",
       "      <td>26413.000000</td>\n",
       "    </tr>\n",
       "    <tr>\n",
       "      <th>mean</th>\n",
       "      <td>48.281717</td>\n",
       "    </tr>\n",
       "    <tr>\n",
       "      <th>std</th>\n",
       "      <td>41.889854</td>\n",
       "    </tr>\n",
       "    <tr>\n",
       "      <th>min</th>\n",
       "      <td>2.000000</td>\n",
       "    </tr>\n",
       "    <tr>\n",
       "      <th>25%</th>\n",
       "      <td>26.000000</td>\n",
       "    </tr>\n",
       "    <tr>\n",
       "      <th>50%</th>\n",
       "      <td>39.000000</td>\n",
       "    </tr>\n",
       "    <tr>\n",
       "      <th>75%</th>\n",
       "      <td>57.000000</td>\n",
       "    </tr>\n",
       "    <tr>\n",
       "      <th>max</th>\n",
       "      <td>1286.000000</td>\n",
       "    </tr>\n",
       "  </tbody>\n",
       "</table>\n",
       "</div>"
      ],
      "text/plain": [
       "                  0\n",
       "count  26413.000000\n",
       "mean      48.281717\n",
       "std       41.889854\n",
       "min        2.000000\n",
       "25%       26.000000\n",
       "50%       39.000000\n",
       "75%       57.000000\n",
       "max     1286.000000"
      ]
     },
     "metadata": {},
     "output_type": "display_data"
    }
   ],
   "source": [
    "from scipy import stats\n",
    "\n",
    "unique, counts = np.unique(dt_planilha.idPRONAC.values, return_counts=True)\n",
    "\n",
    "print('type(counts) = {}'.format(type(counts)))\n",
    "\n",
    "for id, count in zip(unique, counts):\n",
    "    if id == 210310:\n",
    "        print('{}, {}'.format(id, count))\n",
    "\n",
    "display(pd.DataFrame(counts).describe())"
   ]
  }
 ],
 "metadata": {
  "kernelspec": {
   "display_name": "Python 3",
   "language": "python",
   "name": "python3"
  },
  "language_info": {
   "codemirror_mode": {
    "name": "ipython",
    "version": 3
   },
   "file_extension": ".py",
   "mimetype": "text/x-python",
   "name": "python",
   "nbconvert_exporter": "python",
   "pygments_lexer": "ipython3",
   "version": "3.6.5"
  }
 },
 "nbformat": 4,
 "nbformat_minor": 2
}
